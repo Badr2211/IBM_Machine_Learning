{
  "cells": [
    {
      "cell_type": "markdown",
      "metadata": {
        "id": "view-in-github",
        "colab_type": "text"
      },
      "source": [
        "<a href=\"https://colab.research.google.com/github/Badr2211/IBM_Machine_Learning/blob/main/Supervised_Machine%20Learning_Regression/02a_LAB_Transforming_Target.ipynb\" target=\"_parent\"><img src=\"https://colab.research.google.com/assets/colab-badge.svg\" alt=\"Open In Colab\"/></a>"
      ]
    },
    {
      "cell_type": "markdown",
      "metadata": {
        "id": "ca00587e-77a9-493a-88b7-a2f348267d88"
      },
      "source": [
        "<center>\n",
        "    <img src=\"https://cf-courses-data.s3.us.cloud-object-storage.appdomain.cloud/IBMDeveloperSkillsNetwork-PY0101EN-SkillsNetwork/IDSNlogo.png\" width=\"300\" alt=\"cognitiveclass.ai logo\">\n",
        "</center>\n",
        "\n",
        "\n",
        "# Machine Learning Foundation\n",
        "\n",
        "## Section 2, Part a: Regression Intro: Transforming Target\n"
      ]
    },
    {
      "cell_type": "markdown",
      "metadata": {
        "id": "ee960d83-5384-422c-9d54-d1840b3e5475"
      },
      "source": [
        "## Learning objectives\n",
        "\n",
        "By the end of this lesson, you will be able to:\n",
        "\n",
        "* Apply transformations to make target variable more normally distributed for Regression\n",
        "* Apply inverse transformations to be able to use these in a Regression context\n"
      ]
    },
    {
      "cell_type": "code",
      "metadata": {
        "id": "ee46c08a-4568-446e-9c9f-12a435550b1f"
      },
      "outputs": [],
      "source": [
        "import numpy as np\n",
        "import pandas as pd\n",
        "import matplotlib.pyplot as plt\n",
        "%matplotlib inline\n",
        "\n",
        "# Surpress warnings:\n",
        "def warn(*args, **kwargs):\n",
        "    pass\n",
        "import warnings\n",
        "warnings.warn = warn"
      ],
      "execution_count": null
    },
    {
      "cell_type": "markdown",
      "metadata": {
        "id": "be68a574-c9ca-442e-b276-5b1b448fe1b4"
      },
      "source": [
        "In the following cells we will load the data and define some useful plotting functions.\n"
      ]
    },
    {
      "cell_type": "code",
      "metadata": {
        "id": "31a54dcc-5307-47c5-9c92-03da2070f84c"
      },
      "outputs": [],
      "source": [
        "np.random.seed(72018)\n",
        "\n",
        "\n",
        "def to_2d(array):\n",
        "    return array.reshape(array.shape[0], -1)\n",
        "\n",
        "def plot_exponential_data():\n",
        "    data = np.exp(np.random.normal(size=1000))\n",
        "    plt.hist(data)\n",
        "    plt.show()\n",
        "    return data\n",
        "\n",
        "def plot_square_normal_data():\n",
        "    data = np.square(np.random.normal(loc=5, size=1000))\n",
        "    plt.hist(data)\n",
        "    plt.show()\n",
        "    return data"
      ],
      "execution_count": null
    },
    {
      "cell_type": "markdown",
      "metadata": {
        "id": "a93790d0-43d2-44ad-903d-d40663db36be"
      },
      "source": [
        "### Loading the Boston Housing Data\n"
      ]
    },
    {
      "cell_type": "code",
      "metadata": {
        "id": "3b4ec1e9-cf06-4067-b929-315c39e8ed82"
      },
      "outputs": [],
      "source": [
        "file_name='https://cf-courses-data.s3.us.cloud-object-storage.appdomain.cloud/IBMDeveloperSkillsNetwork-ST0151EN-SkillsNetwork/labs/boston_housing.csv'\n",
        "boston_data = pd.read_csv(file_name)"
      ],
      "execution_count": null
    },
    {
      "cell_type": "code",
      "metadata": {
        "id": "aa4f862f-b9ee-494f-bd5d-631745ef9d68"
      },
      "outputs": [],
      "source": [
        "boston_data.head(15)"
      ],
      "execution_count": null
    },
    {
      "cell_type": "markdown",
      "metadata": {
        "id": "006e9123-227a-4ff4-8ff9-654efbb56c26"
      },
      "source": [
        "### Determining Normality\n"
      ]
    },
    {
      "cell_type": "markdown",
      "metadata": {
        "id": "a36c7692-1775-466f-86b9-70a0e392585d"
      },
      "source": [
        "Making our target variable normally distributed often will lead to better results\n",
        "\n",
        "If our target is not normally distributed, we can apply a transformation to it and then fit our regression to predict the transformed values.\n",
        "\n",
        "How can we tell if our target is normally distributed? There are two ways:\n",
        "\n",
        "* Using a Visual approach\n",
        "* Using a Statistical Test\n"
      ]
    },
    {
      "cell_type": "markdown",
      "metadata": {
        "id": "478ceae8-a170-487b-b679-50a90dae1620"
      },
      "source": [
        "#### Using a Visual approach\n"
      ]
    },
    {
      "cell_type": "markdown",
      "metadata": {
        "id": "9a6aba1a-6937-4f1c-9811-989fc965829d"
      },
      "source": [
        "#### Plotting a histogram:\n"
      ]
    },
    {
      "cell_type": "code",
      "metadata": {
        "id": "287dabb3-491e-4ee3-819f-469b88519b31"
      },
      "outputs": [],
      "source": [
        "boston_data.MEDV.hist();"
      ],
      "execution_count": null
    },
    {
      "cell_type": "markdown",
      "metadata": {
        "id": "c466561f-5b62-41d0-82cd-c64d6c83257f"
      },
      "source": [
        "The histogram does not look normal due to its right tail.\n"
      ]
    },
    {
      "cell_type": "markdown",
      "metadata": {
        "id": "f9ba046f-036e-4d10-a2ab-8c0acffac281"
      },
      "source": [
        "#### Using a Statistical Test\n"
      ]
    },
    {
      "cell_type": "markdown",
      "metadata": {
        "id": "425e7d8d-cd07-4c35-a49e-3202f0befa7a"
      },
      "source": [
        "Without getting into Bayesian vs. frequentist debates, for the purposes of this lesson, the following will suffice:\n",
        "\n",
        "* This is a statistical test that tests whether a distribution is normally distributed or not. It isn't perfect, but suffice it to say:\n",
        "    * This test outputs a **p-value**. The _higher_ this p-value is the _closer_ the distribution is to normal.\n",
        "    * Frequentist statisticians would say that you accept that the distribution is normal (more specifically: fail to reject the null hypothesis that it is normal) if p > 0.05.\n"
      ]
    },
    {
      "cell_type": "code",
      "metadata": {
        "id": "e0d6aa7c-538e-498f-92e7-fa2818454e80"
      },
      "outputs": [],
      "source": [
        "from scipy.stats.mstats import normaltest # D'Agostino K^2 Test"
      ],
      "execution_count": null
    },
    {
      "cell_type": "code",
      "metadata": {
        "id": "398bf886-1536-4268-8726-58647ec47901"
      },
      "outputs": [],
      "source": [
        "normaltest(boston_data.MEDV.values)"
      ],
      "execution_count": null
    },
    {
      "cell_type": "markdown",
      "metadata": {
        "id": "e9af88bb-95b9-4b51-b02f-8a5ee220e295"
      },
      "source": [
        "p-value is _extremely_ low. Our **y** variable which we have been dealing with this whole time was not normally distributed!\n"
      ]
    },
    {
      "cell_type": "markdown",
      "metadata": {
        "id": "0210734c-d03a-42dd-99d1-5a3f115847f6"
      },
      "source": [
        "### Apply transformations to make target variable more normally distributed for Regression\n"
      ]
    },
    {
      "cell_type": "markdown",
      "metadata": {
        "id": "bcc52380-2c08-4610-8db2-230f03c6f13d"
      },
      "source": [
        "Linear Regression assumes a normally distributed residuals which can be aided by transforming **y** variable which is the target variable. Let's try some common transformations to try and get **y** to be normally distributed:\n",
        "\n",
        "* Log Transformation\n",
        "* Square root Transformation\n",
        "* Box cox Transformation\n"
      ]
    },
    {
      "cell_type": "markdown",
      "metadata": {
        "id": "09e17e31-0d91-49b9-ac21-cde59dd188ed"
      },
      "source": [
        "### Log Transformation\n"
      ]
    },
    {
      "cell_type": "markdown",
      "metadata": {
        "id": "2d8096a2-ae5d-4be1-a86c-ccdae02c5351"
      },
      "source": [
        "The log transformation can transform data that is significantly skewed right to be more normally distributed:\n"
      ]
    },
    {
      "cell_type": "code",
      "metadata": {
        "id": "24143c2b-6dd5-4708-bf91-8b4427df3408"
      },
      "outputs": [],
      "source": [
        "data = plot_exponential_data()"
      ],
      "execution_count": null
    },
    {
      "cell_type": "code",
      "metadata": {
        "id": "c3124bb8-b76b-4577-bc32-355bc84d514e"
      },
      "outputs": [],
      "source": [
        "plt.hist(np.log(data));"
      ],
      "execution_count": null
    },
    {
      "cell_type": "markdown",
      "metadata": {
        "id": "b3e2a144-c387-4431-83cd-240ffd22e193"
      },
      "source": [
        "**Apply transformation to Boston Housing data:**\n"
      ]
    },
    {
      "cell_type": "code",
      "metadata": {
        "id": "a912d78e-74c2-4a49-9139-d6a821f94719"
      },
      "outputs": [],
      "source": [
        "log_medv = np.log(boston_data.MEDV)"
      ],
      "execution_count": null
    },
    {
      "cell_type": "code",
      "metadata": {
        "id": "6ba74ebb-d42e-4ea6-9d88-e87c20c9ef25"
      },
      "outputs": [],
      "source": [
        "log_medv.hist();"
      ],
      "execution_count": null
    },
    {
      "cell_type": "code",
      "metadata": {
        "id": "21770ed0-3a38-4db8-aa87-9c4059447198"
      },
      "outputs": [],
      "source": [
        "normaltest(log_medv)"
      ],
      "execution_count": null
    },
    {
      "cell_type": "markdown",
      "metadata": {
        "id": "869402c7-d88b-4b61-9080-e8ffa96e0cfe"
      },
      "source": [
        "Conclusion: The output is closer to normal distribution, but still not completely normal.\n"
      ]
    },
    {
      "cell_type": "markdown",
      "metadata": {
        "id": "0484dafa-e2be-4687-bccc-eed5fa0d5dc3"
      },
      "source": [
        "### Square root Transformation\n",
        "\n",
        "The square root transformation is another transformation that can transform non-normally distributed data into normally distributed data:\n"
      ]
    },
    {
      "cell_type": "code",
      "metadata": {
        "id": "a8419992-0060-4e31-9b5a-7a9754e03d04"
      },
      "outputs": [],
      "source": [
        "data = plot_square_normal_data()"
      ],
      "execution_count": null
    },
    {
      "cell_type": "markdown",
      "metadata": {
        "id": "8ea174a3-b72c-44d4-96b5-6097ed31c6e3"
      },
      "source": [
        "You may notice that the output still exhibits a slight right skew.\n"
      ]
    },
    {
      "cell_type": "code",
      "metadata": {
        "id": "b5db5a47-e2a0-4c62-847c-2819df4867c4"
      },
      "outputs": [],
      "source": [
        "plt.hist(np.sqrt(data));"
      ],
      "execution_count": null
    },
    {
      "cell_type": "markdown",
      "metadata": {
        "id": "35b9a3d2-a551-4370-a061-a65c4fccffe6"
      },
      "source": [
        "#### Exercise\n"
      ]
    },
    {
      "cell_type": "markdown",
      "metadata": {
        "id": "3fa4ab24-4fff-48b8-a30b-995108daf0d6"
      },
      "source": [
        "Apply the square root transformation to the Boston Housing data target and test whether the result is normally distributed.\n"
      ]
    },
    {
      "cell_type": "code",
      "metadata": {
        "id": "6f438a7d-77fb-4592-8585-6e4d709eb334"
      },
      "outputs": [],
      "source": [
        "## Enter your code here"
      ],
      "execution_count": null
    },
    {
      "cell_type": "markdown",
      "metadata": {
        "id": "a3675972-5197-4316-ae63-a51147a05977"
      },
      "source": [
        "<details><summary>Click here for a sample python solution</summary>\n",
        "\n",
        "```python\n",
        "sqrt_medv = np.sqrt(housing_df.MedVal)\n",
        "plt.hist(sqrt_medv)\n",
        "\n",
        "```\n"
      ]
    },
    {
      "cell_type": "code",
      "metadata": {
        "id": "5e44606d-2f23-4889-a234-d9bd0f547496"
      },
      "outputs": [],
      "source": [
        "normaltest(sqrt_medv)"
      ],
      "execution_count": null
    },
    {
      "cell_type": "markdown",
      "metadata": {
        "id": "ab723e71-8f14-4207-9ac4-aacd69b0f93a"
      },
      "source": [
        "### Box cox Transformation\n"
      ]
    },
    {
      "cell_type": "markdown",
      "metadata": {
        "id": "d2782165-7d90-4413-8192-a5bea81c0a13"
      },
      "source": [
        "The box cox transformation is a parametrized transformation that tries to get distributions \"as close to a normal distribution as possible\".\n",
        "\n",
        "It is defined as:\n",
        "\n",
        "$$ \\text{boxcox}(y_i) = \\frac{y_i^{\\lambda} - 1}{\\lambda} $$\n",
        "\n",
        "You can think of as a generalization of the square root function: the square root function uses the exponent of 0.5, but box cox lets its exponent vary so it can find the best one.\n"
      ]
    },
    {
      "cell_type": "code",
      "metadata": {
        "id": "b9c49b14-c4ea-4dc5-a03e-e74ce873bede"
      },
      "outputs": [],
      "source": [
        "from scipy.stats import boxcox"
      ],
      "execution_count": null
    },
    {
      "cell_type": "code",
      "metadata": {
        "id": "ea2660ab-0fa2-4a56-8a09-d0ec29f18af2"
      },
      "outputs": [],
      "source": [
        "bc_result = boxcox(boston_data.MEDV)\n",
        "boxcox_medv = bc_result[0]\n",
        "lam = bc_result[1]"
      ],
      "execution_count": null
    },
    {
      "cell_type": "code",
      "metadata": {
        "id": "73671cfe-8ffa-4fa0-9691-43025ba07e98"
      },
      "outputs": [],
      "source": [
        "lam"
      ],
      "execution_count": null
    },
    {
      "cell_type": "code",
      "metadata": {
        "id": "13637fb3-8de5-45ab-99f0-6edc3d87601f"
      },
      "outputs": [],
      "source": [
        "boston_data['MEDV'].hist();"
      ],
      "execution_count": null
    },
    {
      "cell_type": "code",
      "metadata": {
        "id": "134fda57-9454-45d5-9f5a-3da4265491bb"
      },
      "outputs": [],
      "source": [
        "plt.hist(boxcox_medv);"
      ],
      "execution_count": null
    },
    {
      "cell_type": "code",
      "metadata": {
        "id": "2e57b4c2-193f-4f7e-be96-643e9ccc5ffb"
      },
      "outputs": [],
      "source": [
        "normaltest(boxcox_medv)"
      ],
      "execution_count": null
    },
    {
      "cell_type": "markdown",
      "metadata": {
        "id": "cdcc1505-8b47-4e35-a827-56aadceef323"
      },
      "source": [
        "We find that the box cox results in a graph which is significantly more normally distributed (according to p value) than the other two distributions.This can be even above 0.05.\n",
        "\n",
        "Now that we have a normally distributed y-variable, let's test Regression using this transformed target variables.\n"
      ]
    },
    {
      "cell_type": "markdown",
      "metadata": {
        "id": "ce937030-e6a9-4515-af59-4375196e4aa1"
      },
      "source": [
        "### Testing regression:\n"
      ]
    },
    {
      "cell_type": "code",
      "metadata": {
        "id": "012484ab-2f5e-4def-85bc-2155e912b0af"
      },
      "outputs": [],
      "source": [
        "from sklearn.linear_model import LinearRegression\n",
        "from sklearn.metrics import r2_score\n",
        "from sklearn.model_selection import train_test_split\n",
        "from sklearn.preprocessing import (StandardScaler,\n",
        "                                   PolynomialFeatures)"
      ],
      "execution_count": null
    },
    {
      "cell_type": "code",
      "metadata": {
        "id": "fa8b2e86-c1e0-405b-9467-531ca62b8e27"
      },
      "outputs": [],
      "source": [
        "lr = LinearRegression()"
      ],
      "execution_count": null
    },
    {
      "cell_type": "markdown",
      "metadata": {
        "id": "a6ca65e0-3c7d-42a6-be4f-395b391c1ee0"
      },
      "source": [
        "**Define and load the predictor (X) and Target(y) variables**\n"
      ]
    },
    {
      "cell_type": "code",
      "metadata": {
        "id": "af1e90ae-6a83-4324-85f0-d595e98a20d2"
      },
      "outputs": [],
      "source": [
        "y_col = \"MEDV\"\n",
        "\n",
        "X = boston_data.drop(y_col, axis=1)\n",
        "y = boston_data[y_col]\n"
      ],
      "execution_count": null
    },
    {
      "cell_type": "markdown",
      "metadata": {
        "id": "9fa8253a-6cc4-43bb-a00c-288229cc021b"
      },
      "source": [
        "**Create Polynomial Features**\n"
      ]
    },
    {
      "cell_type": "code",
      "metadata": {
        "id": "6b4297e5-93cc-43e2-b4cb-377b596e6819"
      },
      "outputs": [],
      "source": [
        "pf = PolynomialFeatures(degree=2, include_bias=False)\n",
        "X_pf = pf.fit_transform(X)"
      ],
      "execution_count": null
    },
    {
      "cell_type": "markdown",
      "metadata": {
        "id": "6e0ed101-0df5-472d-beca-100263c4a754"
      },
      "source": [
        "**Split the data into Training and Test Sets**   \n",
        "\n",
        "The split ratio here is 0.7 and 0.3 which means we will assign **70%** data for training and **30%** data for testing\n"
      ]
    },
    {
      "cell_type": "code",
      "metadata": {
        "id": "bf895b52-a6ab-4c23-9815-59b20c0485ca"
      },
      "outputs": [],
      "source": [
        "X_train, X_test, y_train, y_test = train_test_split(X_pf, y, test_size=0.3,\n",
        "                                                    random_state=72018)"
      ],
      "execution_count": null
    },
    {
      "cell_type": "markdown",
      "metadata": {
        "id": "56903572-e673-44c3-a5b1-5917c99fb038"
      },
      "source": [
        "**Normalize the training data using `StandardScaler` on `X_train`. Use fit_transform() function**\n"
      ]
    },
    {
      "cell_type": "code",
      "metadata": {
        "id": "765246c5-2d95-4f60-8ff8-802c26d43440"
      },
      "outputs": [],
      "source": [
        "s = StandardScaler()\n",
        "X_train_s = s.fit_transform(X_train)"
      ],
      "execution_count": null
    },
    {
      "cell_type": "markdown",
      "metadata": {
        "id": "e5b50893-793e-4cb0-86fb-532438fad5e3"
      },
      "source": [
        "**Discuss: what transformation do we need to apply next?**\n",
        "\n",
        "Apply the appropriate transformation.\n"
      ]
    },
    {
      "cell_type": "code",
      "metadata": {
        "id": "611a8c2f-9a36-48bc-8839-93f2c991aaf1"
      },
      "outputs": [],
      "source": [
        "# Enter your code here"
      ],
      "execution_count": null
    },
    {
      "cell_type": "markdown",
      "metadata": {
        "id": "3f1eb72b-3f4c-4a43-b12c-59ebd1f2c92f"
      },
      "source": [
        "<details><summary>Click here for a sample python solution</summary>\n",
        "\n",
        "```python\n",
        "    \n",
        "bc_result2 = boxcox(y_train)\n",
        "y_train_bc = bc_result2[0]\n",
        "lam2 = bc_result2[1]\n",
        "\n",
        "```\n"
      ]
    },
    {
      "cell_type": "markdown",
      "metadata": {
        "id": "20df5a2a-8fdf-4c6b-89fb-ad6e15cb6bb3"
      },
      "source": [
        "As before, we'll now:\n",
        "\n",
        "1. Fit regression\n",
        "1. Transform testing data\n",
        "1. Predict on testing data\n"
      ]
    },
    {
      "cell_type": "code",
      "metadata": {
        "id": "76d74487-46b1-4cd3-9878-693a7ac1c2f9"
      },
      "outputs": [],
      "source": [
        "y_train_bc.shape"
      ],
      "execution_count": null
    },
    {
      "cell_type": "code",
      "metadata": {
        "id": "d5c20a6b-e5f2-4adc-8315-be109f1c9e09"
      },
      "outputs": [],
      "source": [
        "lr.fit(X_train_s, y_train_bc)\n",
        "X_test_s = s.transform(X_test)\n",
        "y_pred_bc = lr.predict(X_test_s)"
      ],
      "execution_count": null
    },
    {
      "cell_type": "markdown",
      "metadata": {
        "id": "08f40c35-2ef0-4694-8e2a-ea5d3357e0d7"
      },
      "source": [
        "### Discussion\n",
        "\n",
        "* Are we done?\n",
        "* What did we predict?\n",
        "* How would you interpret these predictions?\n"
      ]
    },
    {
      "cell_type": "markdown",
      "metadata": {
        "id": "81946db7-9b5b-4a58-95ea-0f35ef72a7dc"
      },
      "source": [
        "#### Apply inverse transformations to be able to use these in a Regression context\n"
      ]
    },
    {
      "cell_type": "markdown",
      "metadata": {
        "id": "31b55134-4f95-45cd-bc57-3089789c17d8"
      },
      "source": [
        "Every transformation has an inverse transformation. The inverse transformation of $f(x) = \\sqrt{x}$ is $f^{-1}(x) = x^2$, for example. Box cox has an inverse transformation as well: notice that we have to pass in the lambda value that we found from before:\n"
      ]
    },
    {
      "cell_type": "code",
      "metadata": {
        "id": "ddf39fa8-bead-473f-ae0c-ab955c9c2f4c"
      },
      "outputs": [],
      "source": [
        "from scipy.special import inv_boxcox"
      ],
      "execution_count": null
    },
    {
      "cell_type": "code",
      "metadata": {
        "id": "c5aa9d9b-86cc-4c5a-ae38-f584d955dc11"
      },
      "outputs": [],
      "source": [
        "# code from above"
      ],
      "execution_count": null
    },
    {
      "cell_type": "code",
      "metadata": {
        "id": "f9002a92-801d-49c1-83b3-50b8ada8c023"
      },
      "outputs": [],
      "source": [
        "inv_boxcox(boxcox_medv, lam)[:10]"
      ],
      "execution_count": null
    },
    {
      "cell_type": "code",
      "metadata": {
        "id": "475d72d1-e703-4a67-b32d-376b13f50879"
      },
      "outputs": [],
      "source": [
        "boston_data['MEDV'].values[:10]"
      ],
      "execution_count": null
    },
    {
      "cell_type": "markdown",
      "metadata": {
        "id": "d680544e-702a-4f23-b0f2-67fa54b16a4b"
      },
      "source": [
        "Exactly the same, as we would hope!\n"
      ]
    },
    {
      "cell_type": "markdown",
      "metadata": {
        "id": "a83dbf4f-f477-41d4-ad43-bea168749ec8"
      },
      "source": [
        "### Exercise:\n",
        "\n",
        "1. Apply the appropriate inverse transformation to `y_pred_bc`.\n",
        "2. Calculate the $R^2$ using the result of this inverse transformation and `y_test`.  \n",
        "\n",
        "**Hint:** Use the **inv_boxcox()** function to get the transformed predicted values\n"
      ]
    },
    {
      "cell_type": "code",
      "metadata": {
        "id": "7a115de5-db55-4a07-8c99-4d3e548d33bc"
      },
      "outputs": [],
      "source": [
        "#Enter your code here"
      ],
      "execution_count": null
    },
    {
      "cell_type": "markdown",
      "metadata": {
        "id": "ec4cd12a-069b-47d7-8a1d-a404861a4437"
      },
      "source": [
        "<details><summary>Click here for a sample python solution</summary>\n",
        "\n",
        "```python\n",
        "y_pred_tran = inv_boxcox(y_pred_bc,lam2)\n",
        "r2_score(y_pred_tran,y_test)\n",
        "\n",
        "```\n"
      ]
    },
    {
      "cell_type": "markdown",
      "metadata": {
        "id": "18a281ab-1dd2-4cb6-9cb9-3905abe16bf3"
      },
      "source": [
        "## Practice Exercise:\n",
        "\n",
        "### Determine the R^2 of a LinearRegression without the box cox transformation.\n"
      ]
    },
    {
      "cell_type": "code",
      "metadata": {
        "id": "7d841831-c1db-4776-b725-e701dd628f5f"
      },
      "outputs": [],
      "source": [
        "# Enter your code here"
      ],
      "execution_count": null
    },
    {
      "cell_type": "markdown",
      "metadata": {
        "id": "d686aaba-c8d5-4fa7-919c-71a14bee1a21"
      },
      "source": [
        "<details><summary>Click here for a sample python solution</summary>\n",
        "\n",
        "```python\n",
        "lr = LinearRegression()\n",
        "lr.fit(X_train_s,y_train)\n",
        "lr_pred = lr.predict(X_test_s)\n",
        "r2_score(lr_pred,y_test)\n",
        "\n",
        "```\n"
      ]
    },
    {
      "cell_type": "markdown",
      "metadata": {
        "id": "5d0aa2f9-db81-4ba9-aad4-ccf33f9422c2"
      },
      "source": [
        "---\n",
        "## Authors:\n",
        "\n",
        "Niveditha\n",
        "\n",
        "\n",
        "## Change Log\n",
        "\n",
        "|  Date (YYYY-MM-DD) |  Version | Changed By  |  Change Description |\n",
        "|---|---|---|---|\n",
        "| 2023-10-11 | 1.0 |Niveditha | Updated the notebook |\n",
        "\n",
        "\n",
        "\n",
        "\n",
        "<hr/>\n",
        "\n",
        "## <h3 align=\"center\"> © IBM Corporation 2023. All rights reserved. <h3/>\n"
      ]
    }
  ],
  "metadata": {
    "kernelspec": {
      "display_name": "Python",
      "language": "python",
      "name": "conda-env-python-py"
    },
    "language_info": {
      "name": ""
    },
    "colab": {
      "provenance": [],
      "include_colab_link": true
    }
  },
  "nbformat": 4,
  "nbformat_minor": 0
}