{
  "cells": [
    {
      "cell_type": "markdown",
      "metadata": {
        "id": "view-in-github",
        "colab_type": "text"
      },
      "source": [
        "<a href=\"https://colab.research.google.com/github/Badr2211/IBM_Machine_Learning/blob/main/Supervised_Machine_Learning_Regression/02e_LAB_Regularization.ipynb\" target=\"_parent\"><img src=\"https://colab.research.google.com/assets/colab-badge.svg\" alt=\"Open In Colab\"/></a>"
      ]
    },
    {
      "cell_type": "markdown",
      "metadata": {
        "id": "1jTbQu2Wo-L2"
      },
      "source": [
        "# Machine Learning Foundation\n",
        "\n",
        "## Section 2, Part e: Regularization LAB\n"
      ]
    },
    {
      "cell_type": "markdown",
      "metadata": {
        "id": "W3LcVIM9o-MS"
      },
      "source": [
        "## Learning objectives\n",
        "\n",
        "By the end of this lesson, you will be able to:\n",
        "\n",
        "*   Implement data standardization\n",
        "*   Implement variants of regularized regression\n",
        "*   Combine data standardization with the train-test split procedure\n",
        "*   Implement regularization to prevent overfitting in regression problems\n"
      ]
    },
    {
      "cell_type": "code",
      "execution_count": null,
      "metadata": {
        "id": "j3U7O_Njo-MZ"
      },
      "outputs": [],
      "source": [
        "import numpy as np\n",
        "import pandas as pd\n",
        "import matplotlib.pyplot as plt\n",
        "%matplotlib inline\n",
        "\n",
        "# Surpress warnings:\n",
        "def warn(*args, **kwargs):\n",
        "    pass\n",
        "import warnings\n",
        "warnings.warn = warn\n",
        "\n",
        "np.set_printoptions(precision=3, suppress=True)"
      ]
    },
    {
      "cell_type": "markdown",
      "metadata": {
        "id": "QX5nforEo-Mm"
      },
      "source": [
        "In the following cell we load the data and define some useful plotting functions.\n"
      ]
    },
    {
      "cell_type": "code",
      "execution_count": null,
      "metadata": {
        "id": "hZMzT3uqo-Mp"
      },
      "outputs": [],
      "source": [
        "np.random.seed(72018)\n",
        "\n",
        "from sklearn.datasets import load_boston\n",
        "\n",
        "def to_2d(array):\n",
        "    return array.reshape(array.shape[0], -1)\n",
        "\n",
        "def boston_dataframe(description=False):\n",
        "    boston = load_boston()\n",
        "\n",
        "    data = boston.data\n",
        "    target = boston.target\n",
        "    names = boston.feature_names\n",
        "\n",
        "    target = to_2d(target)\n",
        "\n",
        "    data_all = np.concatenate([data, target], axis=1)\n",
        "    names_all = np.concatenate([names, np.array(['MEDV'])], axis=0)\n",
        "\n",
        "    if description:\n",
        "\n",
        "        return pd.DataFrame(data=data_all, columns=names_all), boston.DESCR\n",
        "\n",
        "    else:\n",
        "\n",
        "        return pd.DataFrame(data=data_all, columns=names_all)\n",
        "\n",
        "def plot_exponential_data():\n",
        "    data = np.exp(np.random.normal(size=1000))\n",
        "    plt.hist(data)\n",
        "    plt.show()\n",
        "    return data\n",
        "\n",
        "def plot_square_normal_data():\n",
        "    data = np.square(np.random.normal(loc=5, size=1000))\n",
        "    plt.hist(data)\n",
        "    plt.show()\n",
        "    return data"
      ]
    },
    {
      "cell_type": "markdown",
      "metadata": {
        "id": "i-_Ke1pIo-Mv"
      },
      "source": [
        "### Loading in Boston Data\n"
      ]
    },
    {
      "cell_type": "code",
      "execution_count": null,
      "metadata": {
        "id": "RNWNRKZ6o-Mz"
      },
      "outputs": [],
      "source": [
        "boston = boston_dataframe(description=True)\n",
        "boston_data = boston[0]\n",
        "boston_description = boston[1]"
      ]
    },
    {
      "cell_type": "markdown",
      "metadata": {
        "id": "ni4XQ09To-M5"
      },
      "source": [
        "## Data standardization\n"
      ]
    },
    {
      "cell_type": "markdown",
      "metadata": {
        "id": "yTH54DD_o-M8"
      },
      "source": [
        "**Standardizing** data refers to transforming each variable so that it more closely follows a **standard** normal distribution, with mean 0 and standard deviation 1.\n",
        "\n",
        "The [`StandardScaler`](http://scikit-learn.org/dev/modules/generated/sklearn.preprocessing.StandardScaler.html?utm_medium=Exinfluencer&utm_source=Exinfluencer&utm_content=000026UJ&utm_term=10006555&utm_id=NA-SkillsNetwork-Channel-SkillsNetworkCoursesIBMML240ENSkillsNetwork34171862-2022-01-01#sklearn.preprocessing.StandardScaler) object in SciKit Learn can do this.\n"
      ]
    },
    {
      "cell_type": "markdown",
      "metadata": {
        "id": "gMYtx4Ito-M_"
      },
      "source": [
        "**Generate X and y**:\n"
      ]
    },
    {
      "cell_type": "code",
      "execution_count": null,
      "metadata": {
        "id": "CDLUJ7hvo-NC"
      },
      "outputs": [],
      "source": [
        "y_col = \"MEDV\"\n",
        "\n",
        "X = boston_data.drop(y_col, axis=1)\n",
        "y = boston_data[y_col]"
      ]
    },
    {
      "cell_type": "markdown",
      "metadata": {
        "id": "n3e2YX31o-NF"
      },
      "source": [
        "**Import, fit, and transform using `StandardScaler`**\n"
      ]
    },
    {
      "cell_type": "code",
      "execution_count": null,
      "metadata": {
        "id": "9wJhl3uTo-NH"
      },
      "outputs": [],
      "source": [
        "from sklearn.preprocessing import StandardScaler\n",
        "\n",
        "s = StandardScaler()\n",
        "X_ss = s.fit_transform(X)"
      ]
    },
    {
      "cell_type": "code",
      "source": [
        "from sklearn .preprocessing import StandardScaler\n",
        "s=StandardScaler()\n",
        "X_ss=s.fit_transform(X)\n",
        "X,X_ss"
      ],
      "metadata": {
        "colab": {
          "base_uri": "https://localhost:8080/"
        },
        "id": "7aEC7yPFpkSY",
        "outputId": "f56bb433-3c65-4034-83a8-48e22a68573d"
      },
      "execution_count": null,
      "outputs": [
        {
          "output_type": "execute_result",
          "data": {
            "text/plain": [
              "(        CRIM    ZN  INDUS  CHAS    NOX     RM   AGE     DIS  RAD    TAX  \\\n",
              " 0    0.00632  18.0   2.31   0.0  0.538  6.575  65.2  4.0900  1.0  296.0   \n",
              " 1    0.02731   0.0   7.07   0.0  0.469  6.421  78.9  4.9671  2.0  242.0   \n",
              " 2    0.02729   0.0   7.07   0.0  0.469  7.185  61.1  4.9671  2.0  242.0   \n",
              " 3    0.03237   0.0   2.18   0.0  0.458  6.998  45.8  6.0622  3.0  222.0   \n",
              " 4    0.06905   0.0   2.18   0.0  0.458  7.147  54.2  6.0622  3.0  222.0   \n",
              " ..       ...   ...    ...   ...    ...    ...   ...     ...  ...    ...   \n",
              " 501  0.06263   0.0  11.93   0.0  0.573  6.593  69.1  2.4786  1.0  273.0   \n",
              " 502  0.04527   0.0  11.93   0.0  0.573  6.120  76.7  2.2875  1.0  273.0   \n",
              " 503  0.06076   0.0  11.93   0.0  0.573  6.976  91.0  2.1675  1.0  273.0   \n",
              " 504  0.10959   0.0  11.93   0.0  0.573  6.794  89.3  2.3889  1.0  273.0   \n",
              " 505  0.04741   0.0  11.93   0.0  0.573  6.030  80.8  2.5050  1.0  273.0   \n",
              " \n",
              "      PTRATIO       B  LSTAT  \n",
              " 0       15.3  396.90   4.98  \n",
              " 1       17.8  396.90   9.14  \n",
              " 2       17.8  392.83   4.03  \n",
              " 3       18.7  394.63   2.94  \n",
              " 4       18.7  396.90   5.33  \n",
              " ..       ...     ...    ...  \n",
              " 501     21.0  391.99   9.67  \n",
              " 502     21.0  396.90   9.08  \n",
              " 503     21.0  396.90   5.64  \n",
              " 504     21.0  393.45   6.48  \n",
              " 505     21.0  396.90   7.88  \n",
              " \n",
              " [506 rows x 13 columns],\n",
              " array([[-0.42 ,  0.285, -1.288, ..., -1.459,  0.441, -1.076],\n",
              "        [-0.417, -0.488, -0.593, ..., -0.303,  0.441, -0.492],\n",
              "        [-0.417, -0.488, -0.593, ..., -0.303,  0.396, -1.209],\n",
              "        ...,\n",
              "        [-0.413, -0.488,  0.116, ...,  1.176,  0.441, -0.983],\n",
              "        [-0.408, -0.488,  0.116, ...,  1.176,  0.403, -0.865],\n",
              "        [-0.415, -0.488,  0.116, ...,  1.176,  0.441, -0.669]]))"
            ]
          },
          "metadata": {},
          "execution_count": 45
        }
      ]
    },
    {
      "cell_type": "markdown",
      "metadata": {
        "id": "M4F9RnEeo-NK"
      },
      "source": [
        "### Exercise:\n",
        "\n",
        "Confirm standard scaling\n"
      ]
    },
    {
      "cell_type": "markdown",
      "metadata": {
        "id": "b085Yigso-NM"
      },
      "source": [
        "Hint:\n"
      ]
    },
    {
      "cell_type": "code",
      "execution_count": null,
      "metadata": {
        "colab": {
          "base_uri": "https://localhost:8080/"
        },
        "id": "jwb1cC3Zo-NO",
        "outputId": "c9fd6b48-690b-45fb-c282-d9c3c3379ebc"
      },
      "outputs": [
        {
          "output_type": "stream",
          "name": "stdout",
          "text": [
            "[[1 2 3]\n",
            " [4 5 6]]\n"
          ]
        }
      ],
      "source": [
        "a = np.array([[1, 2, 3],\n",
        "              [4, 5, 6]])\n",
        "print(a) # 2 rows, 3 columns"
      ]
    },
    {
      "cell_type": "code",
      "execution_count": null,
      "metadata": {
        "colab": {
          "base_uri": "https://localhost:8080/"
        },
        "id": "CtTawNSio-NQ",
        "outputId": "f56ad08c-0716-41e2-d2eb-9ad5b3a1b178"
      },
      "outputs": [
        {
          "output_type": "execute_result",
          "data": {
            "text/plain": [
              "array([2.5, 3.5, 4.5])"
            ]
          },
          "metadata": {},
          "execution_count": 7
        }
      ],
      "source": [
        "a.mean(axis=0) # mean along the *columns*"
      ]
    },
    {
      "cell_type": "code",
      "execution_count": null,
      "metadata": {
        "colab": {
          "base_uri": "https://localhost:8080/"
        },
        "id": "zBUpw73Po-NS",
        "outputId": "1fa47bde-9562-40e2-c052-b7b103ca9686"
      },
      "outputs": [
        {
          "output_type": "execute_result",
          "data": {
            "text/plain": [
              "array([2., 5.])"
            ]
          },
          "metadata": {},
          "execution_count": 8
        }
      ],
      "source": [
        "a.mean(axis=1) # mean along the *rows*"
      ]
    },
    {
      "cell_type": "code",
      "execution_count": null,
      "metadata": {
        "colab": {
          "base_uri": "https://localhost:8080/"
        },
        "id": "Fta1s7yUo-NU",
        "outputId": "2f409558-c3c9-427a-dec7-340849e536fc"
      },
      "outputs": [
        {
          "output_type": "execute_result",
          "data": {
            "text/plain": [
              "True"
            ]
          },
          "metadata": {},
          "execution_count": 9
        }
      ],
      "source": [
        "### BEGIN SOLUTION\n",
        "X2 = np.array(X)\n",
        "man_transform = (X2-X2.mean(axis=0))/X2.std(axis=0)\n",
        "np.allclose(man_transform, X_ss)\n",
        "### END SOLUTION"
      ]
    },
    {
      "cell_type": "markdown",
      "metadata": {
        "id": "We8ToTwDo-NX"
      },
      "source": [
        "### Coefficients with and without scaling\n"
      ]
    },
    {
      "cell_type": "code",
      "execution_count": null,
      "metadata": {
        "id": "oUsLOtgDo-NZ"
      },
      "outputs": [],
      "source": [
        "from sklearn.linear_model import LinearRegression"
      ]
    },
    {
      "cell_type": "code",
      "execution_count": null,
      "metadata": {
        "id": "jjeZQc6Bo-Nb"
      },
      "outputs": [],
      "source": [
        "lr = LinearRegression()\n",
        "\n",
        "y_col = \"MEDV\"\n",
        "\n",
        "X = boston_data.drop(y_col, axis=1)\n",
        "y = boston_data[y_col]"
      ]
    },
    {
      "cell_type": "code",
      "execution_count": null,
      "metadata": {
        "colab": {
          "base_uri": "https://localhost:8080/"
        },
        "id": "zGqS-bmno-Nd",
        "outputId": "033969c9-20f4-44fe-fa83-69ca0ae60fa5"
      },
      "outputs": [
        {
          "output_type": "stream",
          "name": "stdout",
          "text": [
            "[ -0.108   0.046   0.021   2.687 -17.767   3.81    0.001  -1.476   0.306\n",
            "  -0.012  -0.953   0.009  -0.525]\n"
          ]
        }
      ],
      "source": [
        "lr.fit(X, y)\n",
        "print(lr.coef_) # min = -18"
      ]
    },
    {
      "cell_type": "markdown",
      "metadata": {
        "id": "LtnMPT7Fo-Nf"
      },
      "source": [
        "#### Discussion (together):\n",
        "\n",
        "The coefficients are on widely different scales. Is this \"bad\"?\n"
      ]
    },
    {
      "cell_type": "code",
      "execution_count": null,
      "metadata": {
        "id": "p2EwP76eo-Nh"
      },
      "outputs": [],
      "source": [
        "from sklearn.preprocessing import StandardScaler"
      ]
    },
    {
      "cell_type": "code",
      "execution_count": null,
      "metadata": {
        "id": "OtlQZeCGo-Nj"
      },
      "outputs": [],
      "source": [
        "s = StandardScaler()\n",
        "X_ss = s.fit_transform(X)"
      ]
    },
    {
      "cell_type": "code",
      "execution_count": null,
      "metadata": {
        "colab": {
          "base_uri": "https://localhost:8080/"
        },
        "id": "4Uoz8Wuqo-Nl",
        "outputId": "fef93d2e-ef1c-4c84-a041-6cf6ec6acd85"
      },
      "outputs": [
        {
          "output_type": "stream",
          "name": "stdout",
          "text": [
            "[-0.928  1.082  0.141  0.682 -2.057  2.674  0.019 -3.104  2.662 -2.077\n",
            " -2.061  0.849 -3.744]\n"
          ]
        }
      ],
      "source": [
        "lr2 = LinearRegression()\n",
        "lr2.fit(X_ss, y)\n",
        "print(lr2.coef_) # coefficients now \"on the same scale\""
      ]
    },
    {
      "cell_type": "markdown",
      "metadata": {
        "id": "tdZYaLKuo-Nm"
      },
      "source": [
        "### Exercise:\n",
        "\n",
        "Based on these results, what is the most \"impactful\" feature (this is intended to be slightly ambiguous)? \"In what direction\" does it affect \"y\"?\n",
        "\n",
        "**Hint:** Recall from last week that we can \"zip up\" the names of the features of a DataFrame `df` with a model `model` fitted on that DataFrame using:\n",
        "\n",
        "```python\n",
        "dict(zip(df.columns.values, model.coef_))\n",
        "```\n"
      ]
    },
    {
      "cell_type": "code",
      "execution_count": null,
      "metadata": {
        "colab": {
          "base_uri": "https://localhost:8080/",
          "height": 457
        },
        "id": "tY-nKzlpo-Np",
        "outputId": "3cf77567-ea4f-417d-ffcf-30be6531a08a"
      },
      "outputs": [
        {
          "output_type": "execute_result",
          "data": {
            "text/plain": [
              "          0         1\n",
              "12    LSTAT -3.743627\n",
              "7       DIS -3.104044\n",
              "9       TAX -2.076782\n",
              "10  PTRATIO -2.060607\n",
              "4       NOX -2.056718\n",
              "0      CRIM -0.928146\n",
              "6       AGE  0.019466\n",
              "2     INDUS  0.140900\n",
              "3      CHAS  0.681740\n",
              "11        B  0.849268\n",
              "1        ZN  1.081569\n",
              "8       RAD  2.662218\n",
              "5        RM  2.674230"
            ],
            "text/html": [
              "\n",
              "  <div id=\"df-451f0a41-448e-4c8a-8ed2-b49ada900bec\">\n",
              "    <div class=\"colab-df-container\">\n",
              "      <div>\n",
              "<style scoped>\n",
              "    .dataframe tbody tr th:only-of-type {\n",
              "        vertical-align: middle;\n",
              "    }\n",
              "\n",
              "    .dataframe tbody tr th {\n",
              "        vertical-align: top;\n",
              "    }\n",
              "\n",
              "    .dataframe thead th {\n",
              "        text-align: right;\n",
              "    }\n",
              "</style>\n",
              "<table border=\"1\" class=\"dataframe\">\n",
              "  <thead>\n",
              "    <tr style=\"text-align: right;\">\n",
              "      <th></th>\n",
              "      <th>0</th>\n",
              "      <th>1</th>\n",
              "    </tr>\n",
              "  </thead>\n",
              "  <tbody>\n",
              "    <tr>\n",
              "      <th>12</th>\n",
              "      <td>LSTAT</td>\n",
              "      <td>-3.743627</td>\n",
              "    </tr>\n",
              "    <tr>\n",
              "      <th>7</th>\n",
              "      <td>DIS</td>\n",
              "      <td>-3.104044</td>\n",
              "    </tr>\n",
              "    <tr>\n",
              "      <th>9</th>\n",
              "      <td>TAX</td>\n",
              "      <td>-2.076782</td>\n",
              "    </tr>\n",
              "    <tr>\n",
              "      <th>10</th>\n",
              "      <td>PTRATIO</td>\n",
              "      <td>-2.060607</td>\n",
              "    </tr>\n",
              "    <tr>\n",
              "      <th>4</th>\n",
              "      <td>NOX</td>\n",
              "      <td>-2.056718</td>\n",
              "    </tr>\n",
              "    <tr>\n",
              "      <th>0</th>\n",
              "      <td>CRIM</td>\n",
              "      <td>-0.928146</td>\n",
              "    </tr>\n",
              "    <tr>\n",
              "      <th>6</th>\n",
              "      <td>AGE</td>\n",
              "      <td>0.019466</td>\n",
              "    </tr>\n",
              "    <tr>\n",
              "      <th>2</th>\n",
              "      <td>INDUS</td>\n",
              "      <td>0.140900</td>\n",
              "    </tr>\n",
              "    <tr>\n",
              "      <th>3</th>\n",
              "      <td>CHAS</td>\n",
              "      <td>0.681740</td>\n",
              "    </tr>\n",
              "    <tr>\n",
              "      <th>11</th>\n",
              "      <td>B</td>\n",
              "      <td>0.849268</td>\n",
              "    </tr>\n",
              "    <tr>\n",
              "      <th>1</th>\n",
              "      <td>ZN</td>\n",
              "      <td>1.081569</td>\n",
              "    </tr>\n",
              "    <tr>\n",
              "      <th>8</th>\n",
              "      <td>RAD</td>\n",
              "      <td>2.662218</td>\n",
              "    </tr>\n",
              "    <tr>\n",
              "      <th>5</th>\n",
              "      <td>RM</td>\n",
              "      <td>2.674230</td>\n",
              "    </tr>\n",
              "  </tbody>\n",
              "</table>\n",
              "</div>\n",
              "      <button class=\"colab-df-convert\" onclick=\"convertToInteractive('df-451f0a41-448e-4c8a-8ed2-b49ada900bec')\"\n",
              "              title=\"Convert this dataframe to an interactive table.\"\n",
              "              style=\"display:none;\">\n",
              "        \n",
              "  <svg xmlns=\"http://www.w3.org/2000/svg\" height=\"24px\"viewBox=\"0 0 24 24\"\n",
              "       width=\"24px\">\n",
              "    <path d=\"M0 0h24v24H0V0z\" fill=\"none\"/>\n",
              "    <path d=\"M18.56 5.44l.94 2.06.94-2.06 2.06-.94-2.06-.94-.94-2.06-.94 2.06-2.06.94zm-11 1L8.5 8.5l.94-2.06 2.06-.94-2.06-.94L8.5 2.5l-.94 2.06-2.06.94zm10 10l.94 2.06.94-2.06 2.06-.94-2.06-.94-.94-2.06-.94 2.06-2.06.94z\"/><path d=\"M17.41 7.96l-1.37-1.37c-.4-.4-.92-.59-1.43-.59-.52 0-1.04.2-1.43.59L10.3 9.45l-7.72 7.72c-.78.78-.78 2.05 0 2.83L4 21.41c.39.39.9.59 1.41.59.51 0 1.02-.2 1.41-.59l7.78-7.78 2.81-2.81c.8-.78.8-2.07 0-2.86zM5.41 20L4 18.59l7.72-7.72 1.47 1.35L5.41 20z\"/>\n",
              "  </svg>\n",
              "      </button>\n",
              "      \n",
              "  <style>\n",
              "    .colab-df-container {\n",
              "      display:flex;\n",
              "      flex-wrap:wrap;\n",
              "      gap: 12px;\n",
              "    }\n",
              "\n",
              "    .colab-df-convert {\n",
              "      background-color: #E8F0FE;\n",
              "      border: none;\n",
              "      border-radius: 50%;\n",
              "      cursor: pointer;\n",
              "      display: none;\n",
              "      fill: #1967D2;\n",
              "      height: 32px;\n",
              "      padding: 0 0 0 0;\n",
              "      width: 32px;\n",
              "    }\n",
              "\n",
              "    .colab-df-convert:hover {\n",
              "      background-color: #E2EBFA;\n",
              "      box-shadow: 0px 1px 2px rgba(60, 64, 67, 0.3), 0px 1px 3px 1px rgba(60, 64, 67, 0.15);\n",
              "      fill: #174EA6;\n",
              "    }\n",
              "\n",
              "    [theme=dark] .colab-df-convert {\n",
              "      background-color: #3B4455;\n",
              "      fill: #D2E3FC;\n",
              "    }\n",
              "\n",
              "    [theme=dark] .colab-df-convert:hover {\n",
              "      background-color: #434B5C;\n",
              "      box-shadow: 0px 1px 3px 1px rgba(0, 0, 0, 0.15);\n",
              "      filter: drop-shadow(0px 1px 2px rgba(0, 0, 0, 0.3));\n",
              "      fill: #FFFFFF;\n",
              "    }\n",
              "  </style>\n",
              "\n",
              "      <script>\n",
              "        const buttonEl =\n",
              "          document.querySelector('#df-451f0a41-448e-4c8a-8ed2-b49ada900bec button.colab-df-convert');\n",
              "        buttonEl.style.display =\n",
              "          google.colab.kernel.accessAllowed ? 'block' : 'none';\n",
              "\n",
              "        async function convertToInteractive(key) {\n",
              "          const element = document.querySelector('#df-451f0a41-448e-4c8a-8ed2-b49ada900bec');\n",
              "          const dataTable =\n",
              "            await google.colab.kernel.invokeFunction('convertToInteractive',\n",
              "                                                     [key], {});\n",
              "          if (!dataTable) return;\n",
              "\n",
              "          const docLinkHtml = 'Like what you see? Visit the ' +\n",
              "            '<a target=\"_blank\" href=https://colab.research.google.com/notebooks/data_table.ipynb>data table notebook</a>'\n",
              "            + ' to learn more about interactive tables.';\n",
              "          element.innerHTML = '';\n",
              "          dataTable['output_type'] = 'display_data';\n",
              "          await google.colab.output.renderOutput(dataTable, element);\n",
              "          const docLink = document.createElement('div');\n",
              "          docLink.innerHTML = docLinkHtml;\n",
              "          element.appendChild(docLink);\n",
              "        }\n",
              "      </script>\n",
              "    </div>\n",
              "  </div>\n",
              "  "
            ]
          },
          "metadata": {},
          "execution_count": 16
        }
      ],
      "source": [
        "### BEGIN SOLUTION\n",
        "pd.DataFrame(zip(X.columns, lr2.coef_)).sort_values(by=1)\n",
        "### END SOLUTION"
      ]
    },
    {
      "cell_type": "markdown",
      "metadata": {
        "id": "765k2knzo-Nq"
      },
      "source": [
        "Looking just at the strength of the standardized coefficients LSTAT, DIS, RM and RAD are all the 'most impactful'. Sklearn does not have built in statistical significance of each of these variables which would aid in making this claim stronger/weaker\n"
      ]
    },
    {
      "cell_type": "markdown",
      "metadata": {
        "id": "wNiy9yomo-Ns"
      },
      "source": [
        "### Lasso with and without scaling\n"
      ]
    },
    {
      "cell_type": "markdown",
      "metadata": {
        "id": "QXqwThF1o-Nu"
      },
      "source": [
        "We discussed Lasso in lecture.\n",
        "\n",
        "Let's review together:\n",
        "\n",
        "1.  What is different about Lasso vs. regular Linear Regression?\n",
        "2.  Is standardization more or less important with Lasso vs. Linear Regression? Why?\n"
      ]
    },
    {
      "cell_type": "code",
      "execution_count": null,
      "metadata": {
        "id": "WI8hcNvjo-Nv"
      },
      "outputs": [],
      "source": [
        "from sklearn.linear_model import Lasso\n",
        "from sklearn.preprocessing import PolynomialFeatures"
      ]
    },
    {
      "cell_type": "markdown",
      "metadata": {
        "id": "bHZEqSvZo-Nx"
      },
      "source": [
        "#### Create polynomial features\n"
      ]
    },
    {
      "cell_type": "markdown",
      "metadata": {
        "id": "RSg4QVkPo-Nz"
      },
      "source": [
        "[`PolynomialFeatures`](http://scikit-learn.org/stable/modules/generated/sklearn.preprocessing.PolynomialFeatures.html?utm_medium=Exinfluencer&utm_source=Exinfluencer&utm_content=000026UJ&utm_term=10006555&utm_id=NA-SkillsNetwork-Channel-SkillsNetworkCoursesIBMML240ENSkillsNetwork34171862-2022-01-01)\n"
      ]
    },
    {
      "cell_type": "code",
      "execution_count": null,
      "metadata": {
        "id": "Kd9IfmTyo-N1"
      },
      "outputs": [],
      "source": [
        "pf = PolynomialFeatures(degree=2, include_bias=False,)\n",
        "X_pf = pf.fit_transform(X)"
      ]
    },
    {
      "cell_type": "markdown",
      "metadata": {
        "id": "m-QJ0bE4o-N3"
      },
      "source": [
        "**Note:** We use `include_bias=False` since `Lasso` includes a bias by default.\n"
      ]
    },
    {
      "cell_type": "code",
      "execution_count": null,
      "metadata": {
        "id": "-PJuxyCMo-N4"
      },
      "outputs": [],
      "source": [
        "X_pf_ss = s.fit_transform(X_pf)"
      ]
    },
    {
      "cell_type": "markdown",
      "metadata": {
        "id": "URGhKxP1o-N6"
      },
      "source": [
        "### Lasso\n"
      ]
    },
    {
      "cell_type": "markdown",
      "metadata": {
        "id": "aDK8f_rEo-N8"
      },
      "source": [
        "[`Lasso` documentation](http://scikit-learn.org/stable/modules/generated/sklearn.linear_model.Lasso.html?utm_medium=Exinfluencer&utm_source=Exinfluencer&utm_content=000026UJ&utm_term=10006555&utm_id=NA-SkillsNetwork-Channel-SkillsNetworkCoursesIBMML240ENSkillsNetwork34171862-2022-01-01)\n"
      ]
    },
    {
      "cell_type": "code",
      "execution_count": null,
      "metadata": {
        "colab": {
          "base_uri": "https://localhost:8080/"
        },
        "id": "GVs08vdyo-N-",
        "outputId": "502786f9-5076-474b-c54f-bbf3b872f095"
      },
      "outputs": [
        {
          "output_type": "execute_result",
          "data": {
            "text/plain": [
              "array([-0.   ,  0.   , -0.   ,  0.   , -0.   ,  0.   , -0.   , -0.   ,\n",
              "       -0.   , -0.   , -0.991,  0.   , -0.   , -0.   ,  0.   , -0.   ,\n",
              "        0.068, -0.   , -0.   , -0.   , -0.   , -0.   , -0.   , -0.   ,\n",
              "       -0.   , -0.   ,  0.   ,  0.   ,  0.   ,  0.   ,  0.   ,  0.   ,\n",
              "        0.   ,  0.   ,  0.   ,  0.   ,  0.   ,  0.   , -0.   ,  0.   ,\n",
              "       -0.   , -0.   , -0.   , -0.05 , -0.   , -0.   , -0.   , -0.   ,\n",
              "       -0.   ,  0.   ,  0.   ,  0.   ,  0.   ,  0.   ,  0.   ,  0.   ,\n",
              "        0.   ,  0.   ,  0.   , -0.   , -0.   , -0.   , -0.   , -0.   ,\n",
              "       -0.   , -0.   ,  0.   , -0.   ,  3.3  , -0.   , -0.   , -0.   ,\n",
              "       -0.   , -0.   ,  0.42 , -3.498, -0.   , -0.   , -0.   , -0.   ,\n",
              "       -0.   ,  0.   , -0.   , -0.   , -0.   , -0.146, -0.   , -0.   ,\n",
              "       -0.   , -0.   , -0.   , -0.   , -0.   , -0.   , -0.   , -0.   ,\n",
              "       -0.   , -0.   , -0.   ,  0.   , -0.   ,  0.   , -0.   , -0.   ])"
            ]
          },
          "metadata": {},
          "execution_count": 20
        }
      ],
      "source": [
        "las = Lasso()\n",
        "las.fit(X_pf_ss, y)\n",
        "las.coef_"
      ]
    },
    {
      "cell_type": "markdown",
      "metadata": {
        "id": "AZNZisZKo-OA"
      },
      "source": [
        "### Exercise\n",
        "\n",
        "Compare\n",
        "\n",
        "*   Sum of magnitudes of the coefficients\n",
        "*   Number of coefficients that are zero\n",
        "\n",
        "for Lasso with alpha 0.1 vs. 1.\n",
        "\n",
        "Before doing the exercise, answer the following questions in one sentence each:\n",
        "\n",
        "*   Which do you expect to have greater magnitude?\n",
        "*   Which do you expect to have more zeros?\n"
      ]
    },
    {
      "cell_type": "code",
      "execution_count": null,
      "metadata": {
        "colab": {
          "base_uri": "https://localhost:8080/"
        },
        "id": "g-NI7M8Bo-OC",
        "outputId": "94980313-3f47-4a1a-fdfd-0aab5365ebb3"
      },
      "outputs": [
        {
          "output_type": "stream",
          "name": "stdout",
          "text": [
            "sum of coefficients: 26.138682362877965\n",
            "number of coefficients not equal to 0: 23\n"
          ]
        }
      ],
      "source": [
        "### BEGIN SOLUTION\n",
        "las01 = Lasso(alpha = 0.1)\n",
        "las01.fit(X_pf_ss, y)\n",
        "print('sum of coefficients:', abs(las01.coef_).sum() )\n",
        "print('number of coefficients not equal to 0:', (las01.coef_!=0).sum())"
      ]
    },
    {
      "cell_type": "code",
      "execution_count": null,
      "metadata": {
        "colab": {
          "base_uri": "https://localhost:8080/"
        },
        "id": "ehQe16ITo-OE",
        "outputId": "615d65d0-ce9e-46a7-b16e-115c6ebbb460"
      },
      "outputs": [
        {
          "output_type": "stream",
          "name": "stdout",
          "text": [
            "sum of coefficients: 8.47240504455307\n",
            "number of coefficients not equal to 0: 7\n"
          ]
        }
      ],
      "source": [
        "las1 = Lasso(alpha = 1)\n",
        "las1.fit(X_pf_ss, y)\n",
        "print('sum of coefficients:',abs(las1.coef_).sum() )\n",
        "print('number of coefficients not equal to 0:',(las1.coef_!=0).sum())\n",
        "### END SOLUTION"
      ]
    },
    {
      "cell_type": "markdown",
      "metadata": {
        "id": "V7ioFRX1o-OG"
      },
      "source": [
        "With more regularization (higher alpha) we will expect the penalty for higher weights to be greater and thus the coefficients to be pushed down. Thus a higher alpha means lower magnitude with more coefficients pushed down to 0.\n"
      ]
    },
    {
      "cell_type": "markdown",
      "metadata": {
        "id": "m8skzvC8o-OI"
      },
      "source": [
        "### Exercise: $R^2$\n"
      ]
    },
    {
      "cell_type": "markdown",
      "metadata": {
        "id": "CyEl3tyco-OJ"
      },
      "source": [
        "Calculate the $R^2$ of each model without train/test split.\n",
        "\n",
        "Recall that we import $R^2$ using:\n",
        "\n",
        "```python\n",
        "from sklearn.metrics import r2_score\n",
        "```\n"
      ]
    },
    {
      "cell_type": "code",
      "execution_count": null,
      "metadata": {
        "colab": {
          "base_uri": "https://localhost:8080/"
        },
        "id": "6pCl96Sco-OL",
        "outputId": "123e1b90-3c7f-462d-b5c9-a360dc5f6a8b"
      },
      "outputs": [
        {
          "output_type": "execute_result",
          "data": {
            "text/plain": [
              "0.7207000417838496"
            ]
          },
          "metadata": {},
          "execution_count": 23
        }
      ],
      "source": [
        "### BEGIN SOLUTION\n",
        "from sklearn.metrics import r2_score\n",
        "r2_score(y,las.predict(X_pf_ss))\n",
        "### END SOLUTION"
      ]
    },
    {
      "cell_type": "markdown",
      "metadata": {
        "id": "lnFCC6Leo-ON"
      },
      "source": [
        "#### Discuss:\n",
        "\n",
        "Will regularization ever increase model performance if we evaluate on the same dataset that we trained on?\n"
      ]
    },
    {
      "cell_type": "markdown",
      "metadata": {
        "id": "Zy_5iJFFo-OP"
      },
      "source": [
        "## With train/test split\n"
      ]
    },
    {
      "cell_type": "markdown",
      "metadata": {
        "id": "gIp0wf4Uo-OQ"
      },
      "source": [
        "#### Discuss\n",
        "\n",
        "Are there any issues with what we've done so far?\n",
        "\n",
        "**Hint:** Think about the way we have done feature scaling.\n",
        "\n",
        "Discuss in groups of two or three.\n"
      ]
    },
    {
      "cell_type": "code",
      "execution_count": null,
      "metadata": {
        "id": "Fxldba1wo-OS"
      },
      "outputs": [],
      "source": [
        "from sklearn.model_selection import train_test_split"
      ]
    },
    {
      "cell_type": "code",
      "execution_count": null,
      "metadata": {
        "id": "kiLMTgSWo-OU"
      },
      "outputs": [],
      "source": [
        "X_train, X_test, y_train, y_test = train_test_split(X_pf, y, test_size=0.3,\n",
        "                                                    random_state=72018)"
      ]
    },
    {
      "cell_type": "code",
      "execution_count": null,
      "metadata": {
        "colab": {
          "base_uri": "https://localhost:8080/"
        },
        "id": "YvLSmR-Ao-OW",
        "outputId": "10c4c60e-dff5-4c4d-e8c2-2dfc95936943"
      },
      "outputs": [
        {
          "output_type": "execute_result",
          "data": {
            "text/plain": [
              "0.33177406838134416"
            ]
          },
          "metadata": {},
          "execution_count": 26
        }
      ],
      "source": [
        "X_train_s = s.fit_transform(X_train)\n",
        "las.fit(X_train_s, y_train)\n",
        "X_test_s = s.transform(X_test)\n",
        "y_pred = las.predict(X_test_s)\n",
        "r2_score(y_pred, y_test)"
      ]
    },
    {
      "cell_type": "code",
      "execution_count": null,
      "metadata": {
        "colab": {
          "base_uri": "https://localhost:8080/"
        },
        "id": "4Irjmd4Do-OX",
        "outputId": "0e7fcf05-b171-4e2d-f88f-c1933380ec2e"
      },
      "outputs": [
        {
          "output_type": "execute_result",
          "data": {
            "text/plain": [
              "0.7102444090776476"
            ]
          },
          "metadata": {},
          "execution_count": 27
        }
      ],
      "source": [
        "X_train_s = s.fit_transform(X_train)\n",
        "las01.fit(X_train_s, y_train)\n",
        "X_test_s = s.transform(X_test)\n",
        "y_pred = las01.predict(X_test_s)\n",
        "r2_score(y_pred, y_test)"
      ]
    },
    {
      "cell_type": "markdown",
      "metadata": {
        "id": "BZEUcsmKo-OZ"
      },
      "source": [
        "### Exercise\n",
        "\n",
        "#### Part 1:\n",
        "\n",
        "Do the same thing with Lasso of:\n",
        "\n",
        "*   `alpha` of 0.001\n",
        "*   Increase `max_iter` to 100000 to ensure convergence.\n",
        "\n",
        "Calculate the $R^2$ of the model.\n",
        "\n",
        "Feel free to copy-paste code from above, but write a one sentence comment above each line of code explaining why you're doing what you're doing.\n",
        "\n",
        "#### Part 2:\n",
        "\n",
        "Do the same procedure as before, but with Linear Regression.\n",
        "\n",
        "Calculate the $R^2$ of this model.\n",
        "\n",
        "#### Part 3:\n",
        "\n",
        "Compare the sums of the absolute values of the coefficients for both models, as well as the number of coefficients that are zero. Based on these measures, which model is a \"simpler\" description of the relationship between the features and the target?\n"
      ]
    },
    {
      "cell_type": "code",
      "execution_count": null,
      "metadata": {
        "colab": {
          "base_uri": "https://localhost:8080/"
        },
        "id": "0VSy1nNuo-Ob",
        "outputId": "e3460969-df97-45b2-a767-3232b795cb1d"
      },
      "outputs": [
        {
          "output_type": "stream",
          "name": "stdout",
          "text": [
            "r2 score for alpha = 0.001: 0.8686454101886707\n",
            "r2 score for Linear Regression: 0.8555202098064172\n",
            "Magnitude of Lasso coefficients: 436.26164263065647\n",
            "Number of coeffients not equal to 0 for Lasso: 89\n",
            "Magnitude of Linear Regression coefficients: 1185.2858254468122\n",
            "Number of coeffients not equal to 0 for Linear Regression: 104\n"
          ]
        }
      ],
      "source": [
        "### BEGIN SOLUTION\n",
        "\n",
        "# Part 1\n",
        "\n",
        "# Decreasing regularization and ensuring convergence\n",
        "las001 = Lasso(alpha = 0.001, max_iter=100000)\n",
        "\n",
        "# Transforming training set to get standardized units\n",
        "X_train_s = s.fit_transform(X_train)\n",
        "\n",
        "# Fitting model to training set\n",
        "las001.fit(X_train_s, y_train)\n",
        "\n",
        "# Transforming test set using the parameters defined from training set\n",
        "X_test_s = s.transform(X_test)\n",
        "\n",
        "# Finding prediction on test set\n",
        "y_pred = las001.predict(X_test_s)\n",
        "\n",
        "# Calculating r2 score\n",
        "print(\"r2 score for alpha = 0.001:\", r2_score(y_pred, y_test))\n",
        "\n",
        "\n",
        "# Part 2\n",
        "\n",
        "# Using vanilla Linear Regression\n",
        "lr = LinearRegression()\n",
        "\n",
        "# Fitting model to training set\n",
        "lr.fit(X_train_s, y_train)\n",
        "\n",
        "# predicting on test set\n",
        "y_pred_lr = lr.predict(X_test_s)\n",
        "\n",
        "# Calculating r2 score\n",
        "print(\"r2 score for Linear Regression:\", r2_score(y_pred_lr, y_test))\n",
        "\n",
        "\n",
        "# Part 3\n",
        "print('Magnitude of Lasso coefficients:', abs(las001.coef_).sum())\n",
        "print('Number of coeffients not equal to 0 for Lasso:', (las001.coef_!=0).sum())\n",
        "\n",
        "print('Magnitude of Linear Regression coefficients:', abs(lr.coef_).sum())\n",
        "print('Number of coeffients not equal to 0 for Linear Regression:', (lr.coef_!=0).sum())\n",
        "### END SOLUTION"
      ]
    },
    {
      "cell_type": "markdown",
      "metadata": {
        "id": "6xNncAkFo-Oe"
      },
      "source": [
        "## L1 vs. L2 Regularization\n"
      ]
    },
    {
      "cell_type": "markdown",
      "metadata": {
        "id": "Yiqa2sSio-Og"
      },
      "source": [
        "As mentioned in the deck: `Lasso` and `Ridge` regression have the same syntax in SciKit Learn.\n",
        "\n",
        "Now we're going to compare the results from Ridge vs. Lasso regression:\n"
      ]
    },
    {
      "cell_type": "markdown",
      "metadata": {
        "id": "6qfTMsmMo-Oi"
      },
      "source": [
        "[`Ridge`](http://scikit-learn.org/stable/modules/generated/sklearn.linear_model.Ridge.html?utm_medium=Exinfluencer&utm_source=Exinfluencer&utm_content=000026UJ&utm_term=10006555&utm_id=NA-SkillsNetwork-Channel-SkillsNetworkCoursesIBMML240ENSkillsNetwork34171862-2022-01-01)\n"
      ]
    },
    {
      "cell_type": "code",
      "execution_count": null,
      "metadata": {
        "id": "LG6OGxg5o-Oj"
      },
      "outputs": [],
      "source": [
        "from sklearn.linear_model import Ridge"
      ]
    },
    {
      "cell_type": "markdown",
      "metadata": {
        "id": "Gd5tG3pyo-Ok"
      },
      "source": [
        "### Exercise\n",
        "\n",
        "Following the Ridge documentation from above:\n",
        "\n",
        "1.  Define a Ridge object `r` with the same `alpha` as `las001`.\n",
        "2.  Fit that object on `X` and `y` and print out the resulting coefficients.\n"
      ]
    },
    {
      "cell_type": "code",
      "execution_count": null,
      "metadata": {
        "colab": {
          "base_uri": "https://localhost:8080/"
        },
        "id": "EVZYEd-To-Om",
        "outputId": "a8f4d726-3b00-41fb-d2e6-07cd0e70bfff"
      },
      "outputs": [
        {
          "output_type": "execute_result",
          "data": {
            "text/plain": [
              "array([  8.727,  10.354, -24.683,   5.299,  -3.13 ,  14.781,  22.301,\n",
              "       -23.483,  27.356,  -1.512,  16.949,  22.531,  11.444,   1.055,\n",
              "         0.437,  14.259,   1.83 ,  -8.737,   4.726,  -3.748,  -3.557,\n",
              "       -16.521,  -6.918,   6.064,  -1.363,   4.604,  -1.303,  -0.057,\n",
              "        -0.301, -12.828,   2.016,   1.084,  -0.655,  -1.092,   4.458,\n",
              "        -4.247,   4.156,  -1.282,   8.71 ,  -0.285,  -8.595,  11.595,\n",
              "         6.544,   1.271,   1.827,   1.007,   1.554,   5.173,  -4.685,\n",
              "         5.299,  -3.199,  -8.715,   0.983,   1.119,   0.284,  -1.683,\n",
              "        -2.884,   2.985,  -0.756,  12.297,   0.931,  -7.594,  18.292,\n",
              "       -22.124,  35.725, -21.894,  -7.789,   1.774,   4.101, -12.263,\n",
              "        -3.741,  -5.525, -16.111,  -5.706,  -4.666,  -9.884,   0.989,\n",
              "        -0.092,  17.145, -14.214,  -2.955,  -2.785,  -5.404,  11.825,\n",
              "         0.085,  -4.352,  -5.616,  -2.843,   0.826, -29.129,  49.636,\n",
              "       -21.571,  -1.263,  -8.811, -15.822,  11.975,  -1.023,   2.911,\n",
              "        -0.656,  -4.955,   2.817,  -2.463,  -2.381,   1.686])"
            ]
          },
          "metadata": {},
          "execution_count": 30
        }
      ],
      "source": [
        "### BEGIN SOLUTION\n",
        "# Decreasing regularization and ensuring convergence\n",
        "r = Ridge(alpha = 0.001)\n",
        "X_train_s = s.fit_transform(X_train)\n",
        "r.fit(X_train_s, y_train)\n",
        "X_test_s = s.transform(X_test)\n",
        "y_pred_r = r.predict(X_test_s)\n",
        "\n",
        "# Calculating r2 score\n",
        "r.coef_\n",
        "### END SOLUTION"
      ]
    },
    {
      "cell_type": "code",
      "execution_count": null,
      "metadata": {
        "scrolled": true,
        "colab": {
          "base_uri": "https://localhost:8080/"
        },
        "id": "0wKfMT8Xo-Oo",
        "outputId": "1b53ffea-a79c-4c7b-c6fc-4a0308c10969"
      },
      "outputs": [
        {
          "output_type": "execute_result",
          "data": {
            "text/plain": [
              "Lasso(alpha=0.001, max_iter=100000)"
            ]
          },
          "metadata": {},
          "execution_count": 31
        }
      ],
      "source": [
        "las001 # same alpha as Ridge above"
      ]
    },
    {
      "cell_type": "code",
      "execution_count": null,
      "metadata": {
        "colab": {
          "base_uri": "https://localhost:8080/"
        },
        "id": "PekiByANo-Oq",
        "outputId": "1429db28-1c69-452f-dd82-02b182b54a8d"
      },
      "outputs": [
        {
          "output_type": "execute_result",
          "data": {
            "text/plain": [
              "array([  0.   ,   0.   , -16.945,   2.562,   0.   ,  13.392,   9.907,\n",
              "       -19.96 ,   9.039,   0.   ,   6.138,  17.628,  11.446,   1.21 ,\n",
              "         0.226,  11.578,   2.197,  -7.397,   4.117,  -1.589,  -2.157,\n",
              "        -9.837,   0.   ,   0.   ,  -1.089,   3.793,   0.389,   0.2  ,\n",
              "        -0.297,  -3.352,   0.396,   0.719,  -0.756,  -0.753,   2.388,\n",
              "        -0.845,   2.524,  -0.973,   3.882,  -0.983,   6.609,   6.138,\n",
              "         4.201,   0.858,   1.96 ,   2.661,  -4.148,   2.937,  -4.556,\n",
              "         2.112,  -1.983,  -7.439,   1.607,   1.668,  -1.262,  -0.   ,\n",
              "        -0.   ,   2.622,  -0.861,   3.353,  -0.   ,  -2.451,   9.171,\n",
              "        -6.917,   0.   ,  -5.618,  -5.716,   0.521,   3.354,  -7.528,\n",
              "        -0.   ,  -6.646, -10.212,  -6.346,  -2.95 ,  -9.559,   0.327,\n",
              "         0.56 ,  11.006,  -6.666,  -1.158,  -2.25 ,  -3.53 ,   9.035,\n",
              "        -0.   ,  -2.316,  -2.   ,  -1.124,   0.804, -20.861,  27.166,\n",
              "         0.   ,  -1.51 ,  -6.745,  -5.098,  15.455,   0.   ,   0.   ,\n",
              "         0.629,  -3.959,   2.502,  -2.499,  -2.23 ,   2.201])"
            ]
          },
          "metadata": {},
          "execution_count": 32
        }
      ],
      "source": [
        "las001.coef_"
      ]
    },
    {
      "cell_type": "code",
      "execution_count": null,
      "metadata": {
        "colab": {
          "base_uri": "https://localhost:8080/"
        },
        "id": "ly9c_K8oo-Or",
        "outputId": "73fc8c7e-010d-4de8-c343-ab97a5c363b1"
      },
      "outputs": [
        {
          "output_type": "stream",
          "name": "stdout",
          "text": [
            "795.6521694295291\n",
            "436.26164263065647\n",
            "104\n",
            "89\n"
          ]
        }
      ],
      "source": [
        "print(np.sum(np.abs(r.coef_)))\n",
        "print(np.sum(np.abs(las001.coef_)))\n",
        "\n",
        "print(np.sum(r.coef_ != 0))\n",
        "print(np.sum(las001.coef_ != 0))"
      ]
    },
    {
      "cell_type": "markdown",
      "metadata": {
        "id": "sIRcDujoo-Ot"
      },
      "source": [
        "**Conclusion:** Ridge does not make any coefficients 0. In addition, on this particular dataset, Lasso provides stronger overall regularization than Ridge for this value of `alpha` (not necessarily true in general).\n"
      ]
    },
    {
      "cell_type": "code",
      "execution_count": null,
      "metadata": {
        "colab": {
          "base_uri": "https://localhost:8080/"
        },
        "id": "8EN56RVeo-Ow",
        "outputId": "5c1a308c-5e40-4495-f60d-d7b02c78294c"
      },
      "outputs": [
        {
          "output_type": "stream",
          "name": "stdout",
          "text": [
            "0.9075278340575085\n",
            "0.9102933722688235\n"
          ]
        }
      ],
      "source": [
        "y_pred = r.predict(X_pf_ss)\n",
        "print(r2_score(y, y_pred))\n",
        "\n",
        "y_pred = las001.predict(X_pf_ss)\n",
        "print(r2_score(y, y_pred))"
      ]
    },
    {
      "cell_type": "markdown",
      "metadata": {
        "id": "GF0q7SRBo-Oy"
      },
      "source": [
        "**Conclusion**: Ignoring issues of overfitting, Ridge does slightly better than Lasso when `alpha` is set to 0.001 for each (not necessarily true in general).\n"
      ]
    },
    {
      "cell_type": "markdown",
      "metadata": {
        "id": "rC1YsC5co-Oz"
      },
      "source": [
        "# Example: Does it matter when you scale?\n"
      ]
    },
    {
      "cell_type": "code",
      "execution_count": null,
      "metadata": {
        "id": "uGKrnVPuo-O1"
      },
      "outputs": [],
      "source": [
        "X_train, X_test, y_train, y_test = train_test_split(X_ss, y, test_size=0.3,\n",
        "                                                    random_state=72018)"
      ]
    },
    {
      "cell_type": "code",
      "execution_count": null,
      "metadata": {
        "colab": {
          "base_uri": "https://localhost:8080/"
        },
        "id": "8b7dL0Yqo-O2",
        "outputId": "32847c47-73c1-4953-b217-72a4556421d6"
      },
      "outputs": [
        {
          "output_type": "execute_result",
          "data": {
            "text/plain": [
              "0.5832942094971806"
            ]
          },
          "metadata": {},
          "execution_count": 36
        }
      ],
      "source": [
        "lr = LinearRegression()\n",
        "lr.fit(X_train, y_train)\n",
        "y_pred = lr.predict(X_test)\n",
        "r2_score(y_pred, y_test)"
      ]
    },
    {
      "cell_type": "code",
      "execution_count": null,
      "metadata": {
        "id": "cX57PUjPo-O4"
      },
      "outputs": [],
      "source": [
        "X_train, X_test, y_train, y_test = train_test_split(X, y, test_size=0.3,\n",
        "                                                    random_state=72018)"
      ]
    },
    {
      "cell_type": "code",
      "execution_count": null,
      "metadata": {
        "colab": {
          "base_uri": "https://localhost:8080/"
        },
        "id": "sioFo9C3o-O6",
        "outputId": "f20f61f3-0ef1-4399-ab4e-8c9a0a1d9815"
      },
      "outputs": [
        {
          "output_type": "execute_result",
          "data": {
            "text/plain": [
              "0.58329420949718"
            ]
          },
          "metadata": {},
          "execution_count": 38
        }
      ],
      "source": [
        "s = StandardScaler()\n",
        "lr_s = LinearRegression()\n",
        "X_train_s = s.fit_transform(X_train)\n",
        "lr_s.fit(X_train_s, y_train)\n",
        "X_test_s = s.transform(X_test)\n",
        "y_pred_s = lr_s.predict(X_test_s)\n",
        "r2_score(y_pred_s, y_test)"
      ]
    },
    {
      "cell_type": "markdown",
      "metadata": {
        "id": "W8OzqIJ8o-O8"
      },
      "source": [
        "**Conclusion:** It doesn't matter whether you scale before or afterwards, in terms of the raw predictions, for Linear Regression. However, it matters for other algorithms. Plus, as we'll see later, we can make scaling part of a `Pipeline`.\n"
      ]
    },
    {
      "cell_type": "markdown",
      "metadata": {
        "id": "nFa4N_AJo-O9"
      },
      "source": [
        "***\n",
        "\n",
        "### Machine Learning Foundation (C) 2020 IBM Corporation\n"
      ]
    }
  ],
  "metadata": {
    "kernelspec": {
      "display_name": "Python",
      "language": "python",
      "name": "conda-env-python-py"
    },
    "language_info": {
      "codemirror_mode": {
        "name": "ipython",
        "version": 3
      },
      "file_extension": ".py",
      "mimetype": "text/x-python",
      "name": "python",
      "nbconvert_exporter": "python",
      "pygments_lexer": "ipython3",
      "version": "3.7.12"
    },
    "colab": {
      "provenance": [],
      "include_colab_link": true
    }
  },
  "nbformat": 4,
  "nbformat_minor": 0
}