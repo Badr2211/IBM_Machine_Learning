{
  "cells": [
    {
      "cell_type": "markdown",
      "metadata": {
        "id": "view-in-github",
        "colab_type": "text"
      },
      "source": [
        "<a href=\"https://colab.research.google.com/github/Badr2211/IBM_Machine_Learning/blob/main/Supervised_Machine_Learning_Regression/Cross_Validation.ipynb\" target=\"_parent\"><img src=\"https://colab.research.google.com/assets/colab-badge.svg\" alt=\"Open In Colab\"/></a>"
      ]
    },
    {
      "cell_type": "markdown",
      "metadata": {
        "id": "CW1XU7WyFJIF"
      },
      "source": [
        "<p style=\"text-align:center\">\n",
        "    <a href=\"https://skills.network/?utm_medium=Exinfluencer&utm_source=Exinfluencer&utm_content=000026UJ&utm_term=10006555&utm_id=NA-SkillsNetwork-Channel-SkillsNetworkCoursesIBMML240ENSkillsNetwork783-2023-01-01\">\n",
        "    <img src=\"https://cf-courses-data.s3.us.cloud-object-storage.appdomain.cloud/assets/logos/SN_web_lightmode.png\" width=\"200\" alt=\"Skills Network Logo\"  />\n",
        "    </a>\n",
        "</p>\n"
      ]
    },
    {
      "cell_type": "markdown",
      "metadata": {
        "id": "7nVuxZATFJIo"
      },
      "source": [
        "# Cross Validation\n",
        "\n",
        "Estimated time needed: **45** minutes\n",
        "\n",
        "When performing supervised machine learning analysis, it is common to withhold a portion of the data to test the final model's performance. This model testing is performed on the 'unseen' data, which the model was not trained on. This withholding of a portion of the dataset for testing is called Cross-Validation. Cross-Validation can also be used to select hyper-parameters and test the final model. In this section, we will will focus on the test data only.\n",
        "\n",
        "Cross-Validation also helps avoid over-fitting; a complex model could repeat the labels of the samples that it has just seen and, therefore, would have a perfect score but would fail to predict anything useful on the 'unseen' data. Furthermore, a complex model could just be modeling noise.\n"
      ]
    },
    {
      "cell_type": "markdown",
      "metadata": {
        "id": "WTW8wnTLFJIu"
      },
      "source": [
        "Cross validation method involves dividing the dataset into 3 parts:\n",
        "\n",
        "*   training set - is portion of the data used to fit the model\n",
        "*   validation set - is portion of the data to optimize the hyper-parameters of the model, this will be illustrated in the next lab\n",
        "*   test set - is the portion of the data used for evaluation of a final model fit on the training dataset\n"
      ]
    },
    {
      "cell_type": "markdown",
      "metadata": {
        "id": "IVmFCjnIFJIz"
      },
      "source": [
        "`Scikit Learn` library contains many methods that can perform the splitting of the data into training, testing and validation sets. The most popular methods that we will cover in this Jupyter Notebook are:\n",
        "\n",
        "*   train_test_split - creates a single split into train and test sets\n",
        "*   K-fold - creates number of k-fold splits, allowing cross validation\n",
        "*   cross_val_score - evaluates model's score through cross validation\n"
      ]
    },
    {
      "cell_type": "markdown",
      "metadata": {
        "id": "JoeC-2bPFJI3"
      },
      "source": [
        "## Objectives\n",
        "\n",
        "After completing this lab you will be able to:\n",
        "\n",
        "*   Understand how to split the data into a training and testing sets\n",
        "*   Understand and perform K-fold cross validation method\n",
        "*   Calculate Cross Validation Scores\n"
      ]
    },
    {
      "cell_type": "markdown",
      "metadata": {
        "id": "560leEFkFJI7"
      },
      "source": [
        "***\n"
      ]
    },
    {
      "cell_type": "markdown",
      "metadata": {
        "id": "kiXCO0q-FJI-"
      },
      "source": [
        "## **Setup**\n"
      ]
    },
    {
      "cell_type": "markdown",
      "metadata": {
        "id": "4jj2VUgCFJJB"
      },
      "source": [
        "For this lab, we will be using the following libraries:\n",
        "\n",
        "*   [`pandas`](https://pandas.pydata.org/?utm_medium=Exinfluencer&utm_source=Exinfluencer&utm_content=000026UJ&utm_term=10006555&utm_id=NA-SkillsNetwork-Channel-SkillsNetworkCoursesIBMML240ENSkillsNetwork34171862-2022-01-01) for managing the data.\n",
        "*   [`numpy`](https://numpy.org/?utm_medium=Exinfluencer&utm_source=Exinfluencer&utm_content=000026UJ&utm_term=10006555&utm_id=NA-SkillsNetwork-Channel-SkillsNetworkCoursesIBMML240ENSkillsNetwork34171862-2022-01-01) for mathematical operations.\n",
        "*   [`seaborn`](https://seaborn.pydata.org/?utm_medium=Exinfluencer&utm_source=Exinfluencer&utm_content=000026UJ&utm_term=10006555&utm_id=NA-SkillsNetwork-Channel-SkillsNetworkCoursesIBMML240ENSkillsNetwork34171862-2022-01-01) for visualizing the data.\n",
        "*   [`matplotlib`](https://matplotlib.org/?utm_medium=Exinfluencer&utm_source=Exinfluencer&utm_content=000026UJ&utm_term=10006555&utm_id=NA-SkillsNetwork-Channel-SkillsNetworkCoursesIBMML240ENSkillsNetwork34171862-2022-01-01) for visualizing the data.\n",
        "*   [`sklearn`](https://scikit-learn.org/stable/?utm_medium=Exinfluencer&utm_source=Exinfluencer&utm_content=000026UJ&utm_term=10006555&utm_id=NA-SkillsNetwork-Channel-SkillsNetworkCoursesIBMML240ENSkillsNetwork34171862-2022-01-01) for machine learning and machine-learning-pipeline related functions.\n"
      ]
    },
    {
      "cell_type": "markdown",
      "metadata": {
        "id": "AdT493lBFJJG"
      },
      "source": [
        "## **Import the required libraries**\n"
      ]
    },
    {
      "cell_type": "markdown",
      "metadata": {
        "id": "nUCz2T9wFJJK"
      },
      "source": [
        "The following required modules are pre-installed in the Skills Network Labs environment. However, if you run this notebook commands in a different Jupyter environment (e.g. Watson Studio or Ananconda) you will need to install these libraries by removing the `#` sign before `!mamba` in the code cell below.\n"
      ]
    },
    {
      "cell_type": "code",
      "execution_count": null,
      "metadata": {
        "id": "7r6dd_7vFJJO"
      },
      "outputs": [],
      "source": [
        "# All Libraries required for this lab are listed below. The libraries pre-installed on Skills Network Labs are commented.\n",
        "# !mamba install -qy pandas==1.3.4 numpy==1.21.4 seaborn==0.9.0 matplotlib==3.5.0 scikit-learn==0.20.1\n",
        "# Note: If your environment doesn't support \"!mamba install\", use \"!pip install\"\n"
      ]
    },
    {
      "cell_type": "code",
      "execution_count": null,
      "metadata": {
        "id": "UyHuPbmFFJJX"
      },
      "outputs": [],
      "source": [
        "#!pip install -U scikit-learn"
      ]
    },
    {
      "cell_type": "code",
      "execution_count": null,
      "metadata": {
        "id": "AUzCL9sYFJJZ"
      },
      "outputs": [],
      "source": [
        "# Surpress warnings:\n",
        "def warn(*args, **kwargs):\n",
        "    pass\n",
        "import warnings\n",
        "warnings.warn = warn"
      ]
    },
    {
      "cell_type": "code",
      "execution_count": null,
      "metadata": {
        "id": "uid9O68SFJJd"
      },
      "outputs": [],
      "source": [
        "import pandas as pd\n",
        "import numpy as np\n",
        "\n",
        "import seaborn as sns\n",
        "import matplotlib.pylab as plt\n",
        "%matplotlib inline\n",
        "\n",
        "from sklearn.model_selection import train_test_split\n",
        "from sklearn.metrics import r2_score\n",
        "from sklearn.metrics import mean_squared_error\n",
        "from sklearn.preprocessing import StandardScaler\n",
        "from sklearn.feature_selection import RFE\n",
        "from sklearn.linear_model import LinearRegression\n",
        "from sklearn.pipeline import Pipeline\n",
        "from sklearn.model_selection import cross_val_score\n",
        "from sklearn.model_selection import KFold\n",
        "from sklearn.model_selection import GridSearchCV\n",
        "from sklearn.preprocessing import Normalizer"
      ]
    },
    {
      "cell_type": "markdown",
      "metadata": {
        "id": "sQ7HAU7qFJJg"
      },
      "source": [
        "## **Reading our data**\n"
      ]
    },
    {
      "cell_type": "markdown",
      "metadata": {
        "id": "r0SzSSChFJJj"
      },
      "source": [
        "For this lab, we will be using the car sales dataset, hosted on IBM Cloud object storage. This dataset can also be found and downloaded from [kaggle.com](https://www.kaggle.com/datasets/goyalshalini93/car-data?utm_medium=Exinfluencer&utm_source=Exinfluencer&utm_content=000026UJ&utm_term=10006555&utm_id=NA-SkillsNetwork-Channel-SkillsNetworkCoursesIBMML240ENSkillsNetwork34171862-2022-01-01), an open public data source.\n",
        "The dataset contains all the information about cars, a name of a manufacturer, all car's technical parameters and a sale price of a car.\n",
        "\n",
        "This dataset has already been pre-cleaned and encoded (using one-hot and label encoders) in the Linear Regression Notebook.\n"
      ]
    },
    {
      "cell_type": "markdown",
      "metadata": {
        "id": "-vjSngHIFJJl"
      },
      "source": [
        "Let's read the data into *pandas* data frame and look at the first 5 rows using the `head()` method.\n"
      ]
    },
    {
      "cell_type": "code",
      "execution_count": null,
      "metadata": {
        "colab": {
          "base_uri": "https://localhost:8080/",
          "height": 255
        },
        "id": "whU8I9gUFJJo",
        "outputId": "31627581-0591-4fc9-a23a-4ae0b8ee9159"
      },
      "outputs": [
        {
          "output_type": "execute_result",
          "data": {
            "text/plain": [
              "   diesel  gas  std  turbo  convertible  hardtop  hatchback  sedan  wagon  \\\n",
              "0     0.0  1.0  1.0    0.0          1.0      0.0        0.0    0.0    0.0   \n",
              "1     0.0  1.0  1.0    0.0          1.0      0.0        0.0    0.0    0.0   \n",
              "2     0.0  1.0  1.0    0.0          0.0      0.0        1.0    0.0    0.0   \n",
              "3     0.0  1.0  1.0    0.0          0.0      0.0        0.0    1.0    0.0   \n",
              "4     0.0  1.0  1.0    0.0          0.0      0.0        0.0    1.0    0.0   \n",
              "\n",
              "   4wd  ...  wheelbase  curbweight  enginesize  boreratio  horsepower  \\\n",
              "0  0.0  ...       88.6      2548.0       130.0       3.47       111.0   \n",
              "1  0.0  ...       88.6      2548.0       130.0       3.47       111.0   \n",
              "2  0.0  ...       94.5      2823.0       152.0       2.68       154.0   \n",
              "3  0.0  ...       99.8      2337.0       109.0       3.19       102.0   \n",
              "4  1.0  ...       99.4      2824.0       136.0       3.19       115.0   \n",
              "\n",
              "   carlength  carwidth  citympg  highwaympg    price  \n",
              "0      168.8      64.1     21.0        27.0  13495.0  \n",
              "1      168.8      64.1     21.0        27.0  16500.0  \n",
              "2      171.2      65.5     19.0        26.0  16500.0  \n",
              "3      176.6      66.2     24.0        30.0  13950.0  \n",
              "4      176.6      66.4     18.0        22.0  17450.0  \n",
              "\n",
              "[5 rows x 36 columns]"
            ],
            "text/html": [
              "\n",
              "  <div id=\"df-649b6283-e020-4319-b54f-4e4b028d9c98\" class=\"colab-df-container\">\n",
              "    <div>\n",
              "<style scoped>\n",
              "    .dataframe tbody tr th:only-of-type {\n",
              "        vertical-align: middle;\n",
              "    }\n",
              "\n",
              "    .dataframe tbody tr th {\n",
              "        vertical-align: top;\n",
              "    }\n",
              "\n",
              "    .dataframe thead th {\n",
              "        text-align: right;\n",
              "    }\n",
              "</style>\n",
              "<table border=\"1\" class=\"dataframe\">\n",
              "  <thead>\n",
              "    <tr style=\"text-align: right;\">\n",
              "      <th></th>\n",
              "      <th>diesel</th>\n",
              "      <th>gas</th>\n",
              "      <th>std</th>\n",
              "      <th>turbo</th>\n",
              "      <th>convertible</th>\n",
              "      <th>hardtop</th>\n",
              "      <th>hatchback</th>\n",
              "      <th>sedan</th>\n",
              "      <th>wagon</th>\n",
              "      <th>4wd</th>\n",
              "      <th>...</th>\n",
              "      <th>wheelbase</th>\n",
              "      <th>curbweight</th>\n",
              "      <th>enginesize</th>\n",
              "      <th>boreratio</th>\n",
              "      <th>horsepower</th>\n",
              "      <th>carlength</th>\n",
              "      <th>carwidth</th>\n",
              "      <th>citympg</th>\n",
              "      <th>highwaympg</th>\n",
              "      <th>price</th>\n",
              "    </tr>\n",
              "  </thead>\n",
              "  <tbody>\n",
              "    <tr>\n",
              "      <th>0</th>\n",
              "      <td>0.0</td>\n",
              "      <td>1.0</td>\n",
              "      <td>1.0</td>\n",
              "      <td>0.0</td>\n",
              "      <td>1.0</td>\n",
              "      <td>0.0</td>\n",
              "      <td>0.0</td>\n",
              "      <td>0.0</td>\n",
              "      <td>0.0</td>\n",
              "      <td>0.0</td>\n",
              "      <td>...</td>\n",
              "      <td>88.6</td>\n",
              "      <td>2548.0</td>\n",
              "      <td>130.0</td>\n",
              "      <td>3.47</td>\n",
              "      <td>111.0</td>\n",
              "      <td>168.8</td>\n",
              "      <td>64.1</td>\n",
              "      <td>21.0</td>\n",
              "      <td>27.0</td>\n",
              "      <td>13495.0</td>\n",
              "    </tr>\n",
              "    <tr>\n",
              "      <th>1</th>\n",
              "      <td>0.0</td>\n",
              "      <td>1.0</td>\n",
              "      <td>1.0</td>\n",
              "      <td>0.0</td>\n",
              "      <td>1.0</td>\n",
              "      <td>0.0</td>\n",
              "      <td>0.0</td>\n",
              "      <td>0.0</td>\n",
              "      <td>0.0</td>\n",
              "      <td>0.0</td>\n",
              "      <td>...</td>\n",
              "      <td>88.6</td>\n",
              "      <td>2548.0</td>\n",
              "      <td>130.0</td>\n",
              "      <td>3.47</td>\n",
              "      <td>111.0</td>\n",
              "      <td>168.8</td>\n",
              "      <td>64.1</td>\n",
              "      <td>21.0</td>\n",
              "      <td>27.0</td>\n",
              "      <td>16500.0</td>\n",
              "    </tr>\n",
              "    <tr>\n",
              "      <th>2</th>\n",
              "      <td>0.0</td>\n",
              "      <td>1.0</td>\n",
              "      <td>1.0</td>\n",
              "      <td>0.0</td>\n",
              "      <td>0.0</td>\n",
              "      <td>0.0</td>\n",
              "      <td>1.0</td>\n",
              "      <td>0.0</td>\n",
              "      <td>0.0</td>\n",
              "      <td>0.0</td>\n",
              "      <td>...</td>\n",
              "      <td>94.5</td>\n",
              "      <td>2823.0</td>\n",
              "      <td>152.0</td>\n",
              "      <td>2.68</td>\n",
              "      <td>154.0</td>\n",
              "      <td>171.2</td>\n",
              "      <td>65.5</td>\n",
              "      <td>19.0</td>\n",
              "      <td>26.0</td>\n",
              "      <td>16500.0</td>\n",
              "    </tr>\n",
              "    <tr>\n",
              "      <th>3</th>\n",
              "      <td>0.0</td>\n",
              "      <td>1.0</td>\n",
              "      <td>1.0</td>\n",
              "      <td>0.0</td>\n",
              "      <td>0.0</td>\n",
              "      <td>0.0</td>\n",
              "      <td>0.0</td>\n",
              "      <td>1.0</td>\n",
              "      <td>0.0</td>\n",
              "      <td>0.0</td>\n",
              "      <td>...</td>\n",
              "      <td>99.8</td>\n",
              "      <td>2337.0</td>\n",
              "      <td>109.0</td>\n",
              "      <td>3.19</td>\n",
              "      <td>102.0</td>\n",
              "      <td>176.6</td>\n",
              "      <td>66.2</td>\n",
              "      <td>24.0</td>\n",
              "      <td>30.0</td>\n",
              "      <td>13950.0</td>\n",
              "    </tr>\n",
              "    <tr>\n",
              "      <th>4</th>\n",
              "      <td>0.0</td>\n",
              "      <td>1.0</td>\n",
              "      <td>1.0</td>\n",
              "      <td>0.0</td>\n",
              "      <td>0.0</td>\n",
              "      <td>0.0</td>\n",
              "      <td>0.0</td>\n",
              "      <td>1.0</td>\n",
              "      <td>0.0</td>\n",
              "      <td>1.0</td>\n",
              "      <td>...</td>\n",
              "      <td>99.4</td>\n",
              "      <td>2824.0</td>\n",
              "      <td>136.0</td>\n",
              "      <td>3.19</td>\n",
              "      <td>115.0</td>\n",
              "      <td>176.6</td>\n",
              "      <td>66.4</td>\n",
              "      <td>18.0</td>\n",
              "      <td>22.0</td>\n",
              "      <td>17450.0</td>\n",
              "    </tr>\n",
              "  </tbody>\n",
              "</table>\n",
              "<p>5 rows × 36 columns</p>\n",
              "</div>\n",
              "    <div class=\"colab-df-buttons\">\n",
              "\n",
              "  <div class=\"colab-df-container\">\n",
              "    <button class=\"colab-df-convert\" onclick=\"convertToInteractive('df-649b6283-e020-4319-b54f-4e4b028d9c98')\"\n",
              "            title=\"Convert this dataframe to an interactive table.\"\n",
              "            style=\"display:none;\">\n",
              "\n",
              "  <svg xmlns=\"http://www.w3.org/2000/svg\" height=\"24px\" viewBox=\"0 -960 960 960\">\n",
              "    <path d=\"M120-120v-720h720v720H120Zm60-500h600v-160H180v160Zm220 220h160v-160H400v160Zm0 220h160v-160H400v160ZM180-400h160v-160H180v160Zm440 0h160v-160H620v160ZM180-180h160v-160H180v160Zm440 0h160v-160H620v160Z\"/>\n",
              "  </svg>\n",
              "    </button>\n",
              "\n",
              "  <style>\n",
              "    .colab-df-container {\n",
              "      display:flex;\n",
              "      gap: 12px;\n",
              "    }\n",
              "\n",
              "    .colab-df-convert {\n",
              "      background-color: #E8F0FE;\n",
              "      border: none;\n",
              "      border-radius: 50%;\n",
              "      cursor: pointer;\n",
              "      display: none;\n",
              "      fill: #1967D2;\n",
              "      height: 32px;\n",
              "      padding: 0 0 0 0;\n",
              "      width: 32px;\n",
              "    }\n",
              "\n",
              "    .colab-df-convert:hover {\n",
              "      background-color: #E2EBFA;\n",
              "      box-shadow: 0px 1px 2px rgba(60, 64, 67, 0.3), 0px 1px 3px 1px rgba(60, 64, 67, 0.15);\n",
              "      fill: #174EA6;\n",
              "    }\n",
              "\n",
              "    .colab-df-buttons div {\n",
              "      margin-bottom: 4px;\n",
              "    }\n",
              "\n",
              "    [theme=dark] .colab-df-convert {\n",
              "      background-color: #3B4455;\n",
              "      fill: #D2E3FC;\n",
              "    }\n",
              "\n",
              "    [theme=dark] .colab-df-convert:hover {\n",
              "      background-color: #434B5C;\n",
              "      box-shadow: 0px 1px 3px 1px rgba(0, 0, 0, 0.15);\n",
              "      filter: drop-shadow(0px 1px 2px rgba(0, 0, 0, 0.3));\n",
              "      fill: #FFFFFF;\n",
              "    }\n",
              "  </style>\n",
              "\n",
              "    <script>\n",
              "      const buttonEl =\n",
              "        document.querySelector('#df-649b6283-e020-4319-b54f-4e4b028d9c98 button.colab-df-convert');\n",
              "      buttonEl.style.display =\n",
              "        google.colab.kernel.accessAllowed ? 'block' : 'none';\n",
              "\n",
              "      async function convertToInteractive(key) {\n",
              "        const element = document.querySelector('#df-649b6283-e020-4319-b54f-4e4b028d9c98');\n",
              "        const dataTable =\n",
              "          await google.colab.kernel.invokeFunction('convertToInteractive',\n",
              "                                                    [key], {});\n",
              "        if (!dataTable) return;\n",
              "\n",
              "        const docLinkHtml = 'Like what you see? Visit the ' +\n",
              "          '<a target=\"_blank\" href=https://colab.research.google.com/notebooks/data_table.ipynb>data table notebook</a>'\n",
              "          + ' to learn more about interactive tables.';\n",
              "        element.innerHTML = '';\n",
              "        dataTable['output_type'] = 'display_data';\n",
              "        await google.colab.output.renderOutput(dataTable, element);\n",
              "        const docLink = document.createElement('div');\n",
              "        docLink.innerHTML = docLinkHtml;\n",
              "        element.appendChild(docLink);\n",
              "      }\n",
              "    </script>\n",
              "  </div>\n",
              "\n",
              "\n",
              "<div id=\"df-af4c1089-c655-48a9-b604-ed67009f894f\">\n",
              "  <button class=\"colab-df-quickchart\" onclick=\"quickchart('df-af4c1089-c655-48a9-b604-ed67009f894f')\"\n",
              "            title=\"Suggest charts.\"\n",
              "            style=\"display:none;\">\n",
              "\n",
              "<svg xmlns=\"http://www.w3.org/2000/svg\" height=\"24px\"viewBox=\"0 0 24 24\"\n",
              "     width=\"24px\">\n",
              "    <g>\n",
              "        <path d=\"M19 3H5c-1.1 0-2 .9-2 2v14c0 1.1.9 2 2 2h14c1.1 0 2-.9 2-2V5c0-1.1-.9-2-2-2zM9 17H7v-7h2v7zm4 0h-2V7h2v10zm4 0h-2v-4h2v4z\"/>\n",
              "    </g>\n",
              "</svg>\n",
              "  </button>\n",
              "\n",
              "<style>\n",
              "  .colab-df-quickchart {\n",
              "      --bg-color: #E8F0FE;\n",
              "      --fill-color: #1967D2;\n",
              "      --hover-bg-color: #E2EBFA;\n",
              "      --hover-fill-color: #174EA6;\n",
              "      --disabled-fill-color: #AAA;\n",
              "      --disabled-bg-color: #DDD;\n",
              "  }\n",
              "\n",
              "  [theme=dark] .colab-df-quickchart {\n",
              "      --bg-color: #3B4455;\n",
              "      --fill-color: #D2E3FC;\n",
              "      --hover-bg-color: #434B5C;\n",
              "      --hover-fill-color: #FFFFFF;\n",
              "      --disabled-bg-color: #3B4455;\n",
              "      --disabled-fill-color: #666;\n",
              "  }\n",
              "\n",
              "  .colab-df-quickchart {\n",
              "    background-color: var(--bg-color);\n",
              "    border: none;\n",
              "    border-radius: 50%;\n",
              "    cursor: pointer;\n",
              "    display: none;\n",
              "    fill: var(--fill-color);\n",
              "    height: 32px;\n",
              "    padding: 0;\n",
              "    width: 32px;\n",
              "  }\n",
              "\n",
              "  .colab-df-quickchart:hover {\n",
              "    background-color: var(--hover-bg-color);\n",
              "    box-shadow: 0 1px 2px rgba(60, 64, 67, 0.3), 0 1px 3px 1px rgba(60, 64, 67, 0.15);\n",
              "    fill: var(--button-hover-fill-color);\n",
              "  }\n",
              "\n",
              "  .colab-df-quickchart-complete:disabled,\n",
              "  .colab-df-quickchart-complete:disabled:hover {\n",
              "    background-color: var(--disabled-bg-color);\n",
              "    fill: var(--disabled-fill-color);\n",
              "    box-shadow: none;\n",
              "  }\n",
              "\n",
              "  .colab-df-spinner {\n",
              "    border: 2px solid var(--fill-color);\n",
              "    border-color: transparent;\n",
              "    border-bottom-color: var(--fill-color);\n",
              "    animation:\n",
              "      spin 1s steps(1) infinite;\n",
              "  }\n",
              "\n",
              "  @keyframes spin {\n",
              "    0% {\n",
              "      border-color: transparent;\n",
              "      border-bottom-color: var(--fill-color);\n",
              "      border-left-color: var(--fill-color);\n",
              "    }\n",
              "    20% {\n",
              "      border-color: transparent;\n",
              "      border-left-color: var(--fill-color);\n",
              "      border-top-color: var(--fill-color);\n",
              "    }\n",
              "    30% {\n",
              "      border-color: transparent;\n",
              "      border-left-color: var(--fill-color);\n",
              "      border-top-color: var(--fill-color);\n",
              "      border-right-color: var(--fill-color);\n",
              "    }\n",
              "    40% {\n",
              "      border-color: transparent;\n",
              "      border-right-color: var(--fill-color);\n",
              "      border-top-color: var(--fill-color);\n",
              "    }\n",
              "    60% {\n",
              "      border-color: transparent;\n",
              "      border-right-color: var(--fill-color);\n",
              "    }\n",
              "    80% {\n",
              "      border-color: transparent;\n",
              "      border-right-color: var(--fill-color);\n",
              "      border-bottom-color: var(--fill-color);\n",
              "    }\n",
              "    90% {\n",
              "      border-color: transparent;\n",
              "      border-bottom-color: var(--fill-color);\n",
              "    }\n",
              "  }\n",
              "</style>\n",
              "\n",
              "  <script>\n",
              "    async function quickchart(key) {\n",
              "      const quickchartButtonEl =\n",
              "        document.querySelector('#' + key + ' button');\n",
              "      quickchartButtonEl.disabled = true;  // To prevent multiple clicks.\n",
              "      quickchartButtonEl.classList.add('colab-df-spinner');\n",
              "      try {\n",
              "        const charts = await google.colab.kernel.invokeFunction(\n",
              "            'suggestCharts', [key], {});\n",
              "      } catch (error) {\n",
              "        console.error('Error during call to suggestCharts:', error);\n",
              "      }\n",
              "      quickchartButtonEl.classList.remove('colab-df-spinner');\n",
              "      quickchartButtonEl.classList.add('colab-df-quickchart-complete');\n",
              "    }\n",
              "    (() => {\n",
              "      let quickchartButtonEl =\n",
              "        document.querySelector('#df-af4c1089-c655-48a9-b604-ed67009f894f button');\n",
              "      quickchartButtonEl.style.display =\n",
              "        google.colab.kernel.accessAllowed ? 'block' : 'none';\n",
              "    })();\n",
              "  </script>\n",
              "</div>\n",
              "    </div>\n",
              "  </div>\n"
            ]
          },
          "metadata": {},
          "execution_count": 3
        }
      ],
      "source": [
        "data = pd.read_csv('https://cf-courses-data.s3.us.cloud-object-storage.appdomain.cloud/IBM-ML240EN-SkillsNetwork/labs/encoded_car_data.csv')\n",
        "data.head()"
      ]
    },
    {
      "cell_type": "markdown",
      "metadata": {
        "id": "QFqAVfmaFJJq"
      },
      "source": [
        "We apply `dtypes.value_counts()` to see what types of data we have.\n"
      ]
    },
    {
      "cell_type": "code",
      "execution_count": null,
      "metadata": {
        "colab": {
          "base_uri": "https://localhost:8080/"
        },
        "id": "Yn_jGyMfFJJs",
        "outputId": "34a00682-beca-47d9-dca4-ee54eed3c0ea"
      },
      "outputs": [
        {
          "output_type": "execute_result",
          "data": {
            "text/plain": [
              "float64    36\n",
              "dtype: int64"
            ]
          },
          "metadata": {},
          "execution_count": 4
        }
      ],
      "source": [
        "data.dtypes.value_counts()"
      ]
    },
    {
      "cell_type": "markdown",
      "metadata": {
        "id": "uWPmeaOCFJJv"
      },
      "source": [
        "We can verify the data type using the method `info()`.\n"
      ]
    },
    {
      "cell_type": "code",
      "execution_count": null,
      "metadata": {
        "colab": {
          "base_uri": "https://localhost:8080/"
        },
        "id": "GJwI7BQHFJJx",
        "outputId": "13c48e7c-b6c7-4355-9fa0-33b8c711fc55"
      },
      "outputs": [
        {
          "output_type": "stream",
          "name": "stdout",
          "text": [
            "<class 'pandas.core.frame.DataFrame'>\n",
            "RangeIndex: 205 entries, 0 to 204\n",
            "Data columns (total 36 columns):\n",
            " #   Column       Non-Null Count  Dtype  \n",
            "---  ------       --------------  -----  \n",
            " 0   diesel       205 non-null    float64\n",
            " 1   gas          205 non-null    float64\n",
            " 2   std          205 non-null    float64\n",
            " 3   turbo        205 non-null    float64\n",
            " 4   convertible  205 non-null    float64\n",
            " 5   hardtop      205 non-null    float64\n",
            " 6   hatchback    205 non-null    float64\n",
            " 7   sedan        205 non-null    float64\n",
            " 8   wagon        205 non-null    float64\n",
            " 9   4wd          205 non-null    float64\n",
            " 10  fwd          205 non-null    float64\n",
            " 11  rwd          205 non-null    float64\n",
            " 12  dohc         205 non-null    float64\n",
            " 13  dohcv        205 non-null    float64\n",
            " 14  l            205 non-null    float64\n",
            " 15  ohc          205 non-null    float64\n",
            " 16  ohcf         205 non-null    float64\n",
            " 17  ohcv         205 non-null    float64\n",
            " 18  rotor        205 non-null    float64\n",
            " 19  eight        205 non-null    float64\n",
            " 20  five         205 non-null    float64\n",
            " 21  four         205 non-null    float64\n",
            " 22  six          205 non-null    float64\n",
            " 23  three        205 non-null    float64\n",
            " 24  twelve       205 non-null    float64\n",
            " 25  two          205 non-null    float64\n",
            " 26  wheelbase    205 non-null    float64\n",
            " 27  curbweight   205 non-null    float64\n",
            " 28  enginesize   205 non-null    float64\n",
            " 29  boreratio    205 non-null    float64\n",
            " 30  horsepower   205 non-null    float64\n",
            " 31  carlength    205 non-null    float64\n",
            " 32  carwidth     205 non-null    float64\n",
            " 33  citympg      205 non-null    float64\n",
            " 34  highwaympg   205 non-null    float64\n",
            " 35  price        205 non-null    float64\n",
            "dtypes: float64(36)\n",
            "memory usage: 57.8 KB\n"
          ]
        }
      ],
      "source": [
        "data.info()"
      ]
    },
    {
      "cell_type": "markdown",
      "metadata": {
        "id": "x4dvnlb7FJJz"
      },
      "source": [
        "As we see from above, we now have only numeric parameters.\n"
      ]
    },
    {
      "cell_type": "markdown",
      "metadata": {
        "id": "1SZjg-54FJJ2"
      },
      "source": [
        "### Data Preparation\n",
        "\n",
        "Let's first split our data into `X` features and `y` target.\n"
      ]
    },
    {
      "cell_type": "code",
      "execution_count": null,
      "metadata": {
        "id": "t03wqPPzFJJ4"
      },
      "outputs": [],
      "source": [
        "X = data.drop(columns=['price'])\n",
        "y = data['price'].copy()"
      ]
    },
    {
      "cell_type": "markdown",
      "metadata": {
        "id": "ydDRztLmFJJ6"
      },
      "source": [
        "# Train Test Split\n"
      ]
    },
    {
      "cell_type": "markdown",
      "metadata": {
        "id": "5MT805_XFJJ8"
      },
      "source": [
        "Now, we split our data into training and testing sets. Training data is used for our model to recognize patterns using some criteria, the test data is used for model evaluation, as shown in the image below.\n"
      ]
    },
    {
      "cell_type": "markdown",
      "metadata": {
        "id": "f0d2LhbjFJJ-"
      },
      "source": [
        "<center>\n",
        "    <img src=\"https://cf-courses-data.s3.us.cloud-object-storage.appdomain.cloud/IBM-ML240EN-SkillsNetwork/images/trin-test.png\">\n",
        "</center>\n",
        "source scikit-learn.org\n"
      ]
    },
    {
      "cell_type": "markdown",
      "metadata": {
        "id": "AX6IE4xBFJKB"
      },
      "source": [
        "We use the function `train_test_split` that  splits arrays or matrices into random train and test subsets. The parameters of the `train_test_split` are:\n"
      ]
    },
    {
      "cell_type": "markdown",
      "metadata": {
        "id": "0Y-RjOu8FJKD"
      },
      "source": [
        "`X,y`: the allowed inputs are lists, numpy arrays, scipy-sparse matrices or pandas data frames.\n",
        "\n",
        "`test_size`:  If float, it should be between 0.0 and 1.0 and represents the proportion of the dataset to include in the test split. If int (integer), it represents the absolute number of test samples. If None, the value is set to the complement of the train size. If train_size is also None, it will be set to 0.25.\n",
        "\n",
        "In our example, we will use 30% of the data for testing and 70% for training.\n",
        "\n",
        "`random_state:` Controls the shuffling applied to the data before applying the split. Pass an int for reproducible output across multiple function calls. in our case, we set it to \"42\".\n"
      ]
    },
    {
      "cell_type": "code",
      "execution_count": null,
      "metadata": {
        "id": "JER2l1bxFJKF"
      },
      "outputs": [],
      "source": [
        "X_train, X_test, y_train, y_test = train_test_split(X,y, test_size=0.3, random_state=42)"
      ]
    },
    {
      "cell_type": "markdown",
      "metadata": {
        "id": "AD4SzbsvFJKI"
      },
      "source": [
        "### Model Building and Evaluation\n",
        "\n",
        "Let's perform linear regression using traditional `train_test_split`, which will split the data into train and test set, so that each target value appears in both training and testing sets. We will start by creating a `LinearRegression()` object, lr.\n"
      ]
    },
    {
      "cell_type": "code",
      "execution_count": null,
      "metadata": {
        "id": "OMVN1ciCFJKL"
      },
      "outputs": [],
      "source": [
        "lr = LinearRegression()"
      ]
    },
    {
      "cell_type": "markdown",
      "metadata": {
        "id": "YcVq32NXFJKN"
      },
      "source": [
        "We apply the `LinearRegression()` model, m, and `fit()` our `X_train` and `  y_train `  training data.\n"
      ]
    },
    {
      "cell_type": "code",
      "execution_count": null,
      "metadata": {
        "colab": {
          "base_uri": "https://localhost:8080/",
          "height": 74
        },
        "id": "aX1UYySLFJKP",
        "outputId": "3de53041-d651-4a0c-fb51-8f663471a8a5"
      },
      "outputs": [
        {
          "output_type": "execute_result",
          "data": {
            "text/plain": [
              "LinearRegression()"
            ],
            "text/html": [
              "<style>#sk-container-id-1 {color: black;background-color: white;}#sk-container-id-1 pre{padding: 0;}#sk-container-id-1 div.sk-toggleable {background-color: white;}#sk-container-id-1 label.sk-toggleable__label {cursor: pointer;display: block;width: 100%;margin-bottom: 0;padding: 0.3em;box-sizing: border-box;text-align: center;}#sk-container-id-1 label.sk-toggleable__label-arrow:before {content: \"▸\";float: left;margin-right: 0.25em;color: #696969;}#sk-container-id-1 label.sk-toggleable__label-arrow:hover:before {color: black;}#sk-container-id-1 div.sk-estimator:hover label.sk-toggleable__label-arrow:before {color: black;}#sk-container-id-1 div.sk-toggleable__content {max-height: 0;max-width: 0;overflow: hidden;text-align: left;background-color: #f0f8ff;}#sk-container-id-1 div.sk-toggleable__content pre {margin: 0.2em;color: black;border-radius: 0.25em;background-color: #f0f8ff;}#sk-container-id-1 input.sk-toggleable__control:checked~div.sk-toggleable__content {max-height: 200px;max-width: 100%;overflow: auto;}#sk-container-id-1 input.sk-toggleable__control:checked~label.sk-toggleable__label-arrow:before {content: \"▾\";}#sk-container-id-1 div.sk-estimator input.sk-toggleable__control:checked~label.sk-toggleable__label {background-color: #d4ebff;}#sk-container-id-1 div.sk-label input.sk-toggleable__control:checked~label.sk-toggleable__label {background-color: #d4ebff;}#sk-container-id-1 input.sk-hidden--visually {border: 0;clip: rect(1px 1px 1px 1px);clip: rect(1px, 1px, 1px, 1px);height: 1px;margin: -1px;overflow: hidden;padding: 0;position: absolute;width: 1px;}#sk-container-id-1 div.sk-estimator {font-family: monospace;background-color: #f0f8ff;border: 1px dotted black;border-radius: 0.25em;box-sizing: border-box;margin-bottom: 0.5em;}#sk-container-id-1 div.sk-estimator:hover {background-color: #d4ebff;}#sk-container-id-1 div.sk-parallel-item::after {content: \"\";width: 100%;border-bottom: 1px solid gray;flex-grow: 1;}#sk-container-id-1 div.sk-label:hover label.sk-toggleable__label {background-color: #d4ebff;}#sk-container-id-1 div.sk-serial::before {content: \"\";position: absolute;border-left: 1px solid gray;box-sizing: border-box;top: 0;bottom: 0;left: 50%;z-index: 0;}#sk-container-id-1 div.sk-serial {display: flex;flex-direction: column;align-items: center;background-color: white;padding-right: 0.2em;padding-left: 0.2em;position: relative;}#sk-container-id-1 div.sk-item {position: relative;z-index: 1;}#sk-container-id-1 div.sk-parallel {display: flex;align-items: stretch;justify-content: center;background-color: white;position: relative;}#sk-container-id-1 div.sk-item::before, #sk-container-id-1 div.sk-parallel-item::before {content: \"\";position: absolute;border-left: 1px solid gray;box-sizing: border-box;top: 0;bottom: 0;left: 50%;z-index: -1;}#sk-container-id-1 div.sk-parallel-item {display: flex;flex-direction: column;z-index: 1;position: relative;background-color: white;}#sk-container-id-1 div.sk-parallel-item:first-child::after {align-self: flex-end;width: 50%;}#sk-container-id-1 div.sk-parallel-item:last-child::after {align-self: flex-start;width: 50%;}#sk-container-id-1 div.sk-parallel-item:only-child::after {width: 0;}#sk-container-id-1 div.sk-dashed-wrapped {border: 1px dashed gray;margin: 0 0.4em 0.5em 0.4em;box-sizing: border-box;padding-bottom: 0.4em;background-color: white;}#sk-container-id-1 div.sk-label label {font-family: monospace;font-weight: bold;display: inline-block;line-height: 1.2em;}#sk-container-id-1 div.sk-label-container {text-align: center;}#sk-container-id-1 div.sk-container {/* jupyter's `normalize.less` sets `[hidden] { display: none; }` but bootstrap.min.css set `[hidden] { display: none !important; }` so we also need the `!important` here to be able to override the default hidden behavior on the sphinx rendered scikit-learn.org. See: https://github.com/scikit-learn/scikit-learn/issues/21755 */display: inline-block !important;position: relative;}#sk-container-id-1 div.sk-text-repr-fallback {display: none;}</style><div id=\"sk-container-id-1\" class=\"sk-top-container\"><div class=\"sk-text-repr-fallback\"><pre>LinearRegression()</pre><b>In a Jupyter environment, please rerun this cell to show the HTML representation or trust the notebook. <br />On GitHub, the HTML representation is unable to render, please try loading this page with nbviewer.org.</b></div><div class=\"sk-container\" hidden><div class=\"sk-item\"><div class=\"sk-estimator sk-toggleable\"><input class=\"sk-toggleable__control sk-hidden--visually\" id=\"sk-estimator-id-1\" type=\"checkbox\" checked><label for=\"sk-estimator-id-1\" class=\"sk-toggleable__label sk-toggleable__label-arrow\">LinearRegression</label><div class=\"sk-toggleable__content\"><pre>LinearRegression()</pre></div></div></div></div></div>"
            ]
          },
          "metadata": {},
          "execution_count": 9
        }
      ],
      "source": [
        "lr.fit(X_train, y_train)"
      ]
    },
    {
      "cell_type": "markdown",
      "metadata": {
        "id": "QyOSf3m8FJKR"
      },
      "source": [
        "To make our predictions, we need to use our test data set. We apply `predict()` function on the testing data set.\n"
      ]
    },
    {
      "cell_type": "code",
      "execution_count": null,
      "metadata": {
        "id": "Ybyv0FfRFJKT"
      },
      "outputs": [],
      "source": [
        "predicted =lr.predict(X_test)"
      ]
    },
    {
      "cell_type": "markdown",
      "metadata": {
        "id": "eB8afC_TFJKV"
      },
      "source": [
        "Now, let's check some evaluation statistics, such as the coefficient of determination, $R^{2}$, using the built-in method `score` or  `r2_score`, and the Root Mean Square Error, RMSE, for which we can use the `mean_squared_error` method, MSE.\n",
        "\n",
        "The $R^{2}$ statistic indicates the percentage of the variance in the dependent variable that the independent variables explain collectively.\n",
        "\n",
        "Root Mean Square Error (RMSE) is the standard deviation of the residuals (prediction errors). Residuals are a measure of how far from the regression line data points are; RMSE is a measure of how spread out these residuals are. In other words, it tells you how concentrated the data is around the line of best fit.\n",
        "\n",
        "For more information on [R-squared](https://en.wikipedia.org/wiki/Coefficient_of_determination?utm_medium=Exinfluencer&utm_source=Exinfluencer&utm_content=000026UJ&utm_term=10006555&utm_id=NA-SkillsNetwork-Channel-SkillsNetworkCoursesIBMML240ENSkillsNetwork34171862-2022-01-01) and [RMSE](https://en.wikipedia.org/wiki/Root-mean-square_deviation?utm_medium=Exinfluencer&utm_source=Exinfluencer&utm_content=000026UJ&utm_term=10006555&utm_id=NA-SkillsNetwork-Channel-SkillsNetworkCoursesIBMML240ENSkillsNetwork34171862-2022-01-01), please visit their corresponding documentations.\n"
      ]
    },
    {
      "cell_type": "code",
      "execution_count": null,
      "metadata": {
        "colab": {
          "base_uri": "https://localhost:8080/"
        },
        "id": "OIsDWjbIFJKY",
        "outputId": "1d78b650-4a74-4b9f-af3e-9af258861690"
      },
      "outputs": [
        {
          "output_type": "execute_result",
          "data": {
            "text/plain": [
              "0.9261967354144148"
            ]
          },
          "metadata": {},
          "execution_count": 11
        }
      ],
      "source": [
        "lr.score(X_train,y_train)"
      ]
    },
    {
      "cell_type": "markdown",
      "metadata": {
        "id": "wvuPi29iFJKh"
      },
      "source": [
        "Using the training data only, the $R^{2}$ is ~ 0.93. So, almost 93% of variability in the training data is explained by our model.\n"
      ]
    },
    {
      "cell_type": "markdown",
      "metadata": {
        "id": "R5FiddKTFJKj"
      },
      "source": [
        "Using the test data  $R^{2}$, we get ~0.85, not as good as the previous score.\n"
      ]
    },
    {
      "cell_type": "code",
      "execution_count": null,
      "metadata": {
        "colab": {
          "base_uri": "https://localhost:8080/"
        },
        "id": "6t3KiV44FJKl",
        "outputId": "ca7fbb6f-1cda-45f4-b7e5-61e0e24bae57"
      },
      "outputs": [
        {
          "output_type": "execute_result",
          "data": {
            "text/plain": [
              "0.8480024456798384"
            ]
          },
          "metadata": {},
          "execution_count": 12
        }
      ],
      "source": [
        "lr.score(X_test,y_test)"
      ]
    },
    {
      "cell_type": "markdown",
      "metadata": {
        "id": "2VcV4peVFJKo"
      },
      "source": [
        "We can also use  `r2_score()` method to calculate the $R^2$. It will provide the same result.\n"
      ]
    },
    {
      "cell_type": "code",
      "execution_count": null,
      "metadata": {
        "colab": {
          "base_uri": "https://localhost:8080/"
        },
        "id": "-NAEI5WyFJKq",
        "outputId": "ce1d5aba-86f8-464f-9e75-63c6fb06a616"
      },
      "outputs": [
        {
          "output_type": "stream",
          "name": "stdout",
          "text": [
            "0.8480024456798384\n"
          ]
        }
      ],
      "source": [
        "print(r2_score(y_true=y_test, y_pred=predicted))"
      ]
    },
    {
      "cell_type": "markdown",
      "metadata": {
        "id": "MzngO4_uFJKt"
      },
      "source": [
        "Now, let's calculate the RMSE. The smaller the RMSE number the better our model is.\n",
        "We apply `mean_squared_error` to our `y_test`and our predicted data. Then, we take a square root of our MSE, using `np.sqrt()` function.\n"
      ]
    },
    {
      "cell_type": "code",
      "execution_count": null,
      "metadata": {
        "colab": {
          "base_uri": "https://localhost:8080/"
        },
        "id": "Phy-jW5QFJKw",
        "outputId": "ef5dc3a1-e632-4794-a0f5-7ed02831e045"
      },
      "outputs": [
        {
          "output_type": "execute_result",
          "data": {
            "text/plain": [
              "3245.15887153561"
            ]
          },
          "metadata": {},
          "execution_count": 14
        }
      ],
      "source": [
        "mse = mean_squared_error(y_true=y_test, y_pred=predicted)\n",
        "rmse = np.sqrt(mse)\n",
        "rmse"
      ]
    },
    {
      "cell_type": "markdown",
      "metadata": {
        "id": "mW2H-e4fFJKz"
      },
      "source": [
        "### Prediction Example\n",
        "\n",
        "Let's select some random data, using `iloc` and see some predicted versus actual values for the car prices.\n"
      ]
    },
    {
      "cell_type": "code",
      "execution_count": null,
      "metadata": {
        "id": "NteXENAqFJK2"
      },
      "outputs": [],
      "source": [
        "some_data = X.iloc[:3]\n",
        "some_labels = y.iloc[:3]"
      ]
    },
    {
      "cell_type": "code",
      "execution_count": null,
      "metadata": {
        "colab": {
          "base_uri": "https://localhost:8080/"
        },
        "id": "WHmFN0FKFJK5",
        "outputId": "a19d4e60-b0f7-467d-893b-697b63ae796d"
      },
      "outputs": [
        {
          "output_type": "stream",
          "name": "stdout",
          "text": [
            "Predictions: [13089.375 13089.375 15117.125]\n"
          ]
        }
      ],
      "source": [
        "print(\"Predictions:\", lr.predict(some_data))"
      ]
    },
    {
      "cell_type": "code",
      "execution_count": null,
      "metadata": {
        "colab": {
          "base_uri": "https://localhost:8080/"
        },
        "id": "8H4HzPB1FJK7",
        "outputId": "8c4ecc0c-ecdb-4fd4-e2df-ea39b78ab39a"
      },
      "outputs": [
        {
          "output_type": "stream",
          "name": "stdout",
          "text": [
            "Labels: [13495.0, 16500.0, 16500.0]\n"
          ]
        }
      ],
      "source": [
        "print(\"Labels:\", list(some_labels))"
      ]
    },
    {
      "cell_type": "code",
      "execution_count": null,
      "metadata": {
        "colab": {
          "base_uri": "https://localhost:8080/"
        },
        "id": "QKf0ipLrFJK9",
        "outputId": "b0c3920a-29ce-497a-eaa7-6315e43f805e"
      },
      "outputs": [
        {
          "output_type": "execute_result",
          "data": {
            "text/plain": [
              "array([27628.625, 21288.875, 10785.375, 12085.75 , 25886.5  ,  5457.625,\n",
              "        8044.75 ,  7588.25 , 10102.   ,  9447.   , 17224.125,  7370.   ,\n",
              "       16548.625, 10807.625, 39590.625,  5577.375,  2505.75 , 15584.375,\n",
              "       10781.625, 11464.625, 10849.375, 15699.75 , 10527.625,  3679.5  ,\n",
              "        7067.625, 28601.375, 18405.375, 15212.875,  4511.   , 16442.125,\n",
              "       26587.125,  5857.375,  4974.875, 16713.75 ,  8377.5  , 30155.25 ,\n",
              "       12405.125, 13104.   ,  6373.375, 16001.5  ,  8168.125, 15135.   ,\n",
              "       14737.   ,  5271.   ,  6317.75 ,  9113.125,  5857.375,  7243.125,\n",
              "       16599.125, 15445.75 ,  5102.25 , 21856.25 ,  7106.625, 11469.75 ,\n",
              "        4450.125, 16424.5  , 18424.125, 13104.   , 29599.   ,  5487.25 ,\n",
              "        9876.125, 16973.125])"
            ]
          },
          "metadata": {},
          "execution_count": 18
        }
      ],
      "source": [
        "predicted =lr.predict(X_test)\n",
        "predicted"
      ]
    },
    {
      "cell_type": "markdown",
      "metadata": {
        "id": "fM4EbXIdFJLA"
      },
      "source": [
        "We can also use the pipeline to run operations on our data. For example we can standardize our data then perform linear regression by applying the method <code>fit</code>.\n"
      ]
    },
    {
      "cell_type": "code",
      "execution_count": null,
      "metadata": {
        "colab": {
          "base_uri": "https://localhost:8080/",
          "height": 124
        },
        "id": "qV1FRN73FJLC",
        "outputId": "69dbacb4-721a-4e05-c7f3-f71831cf8966"
      },
      "outputs": [
        {
          "output_type": "execute_result",
          "data": {
            "text/plain": [
              "Pipeline(steps=[('ss', StandardScaler()), ('lr', LinearRegression())])"
            ],
            "text/html": [
              "<style>#sk-container-id-2 {color: black;background-color: white;}#sk-container-id-2 pre{padding: 0;}#sk-container-id-2 div.sk-toggleable {background-color: white;}#sk-container-id-2 label.sk-toggleable__label {cursor: pointer;display: block;width: 100%;margin-bottom: 0;padding: 0.3em;box-sizing: border-box;text-align: center;}#sk-container-id-2 label.sk-toggleable__label-arrow:before {content: \"▸\";float: left;margin-right: 0.25em;color: #696969;}#sk-container-id-2 label.sk-toggleable__label-arrow:hover:before {color: black;}#sk-container-id-2 div.sk-estimator:hover label.sk-toggleable__label-arrow:before {color: black;}#sk-container-id-2 div.sk-toggleable__content {max-height: 0;max-width: 0;overflow: hidden;text-align: left;background-color: #f0f8ff;}#sk-container-id-2 div.sk-toggleable__content pre {margin: 0.2em;color: black;border-radius: 0.25em;background-color: #f0f8ff;}#sk-container-id-2 input.sk-toggleable__control:checked~div.sk-toggleable__content {max-height: 200px;max-width: 100%;overflow: auto;}#sk-container-id-2 input.sk-toggleable__control:checked~label.sk-toggleable__label-arrow:before {content: \"▾\";}#sk-container-id-2 div.sk-estimator input.sk-toggleable__control:checked~label.sk-toggleable__label {background-color: #d4ebff;}#sk-container-id-2 div.sk-label input.sk-toggleable__control:checked~label.sk-toggleable__label {background-color: #d4ebff;}#sk-container-id-2 input.sk-hidden--visually {border: 0;clip: rect(1px 1px 1px 1px);clip: rect(1px, 1px, 1px, 1px);height: 1px;margin: -1px;overflow: hidden;padding: 0;position: absolute;width: 1px;}#sk-container-id-2 div.sk-estimator {font-family: monospace;background-color: #f0f8ff;border: 1px dotted black;border-radius: 0.25em;box-sizing: border-box;margin-bottom: 0.5em;}#sk-container-id-2 div.sk-estimator:hover {background-color: #d4ebff;}#sk-container-id-2 div.sk-parallel-item::after {content: \"\";width: 100%;border-bottom: 1px solid gray;flex-grow: 1;}#sk-container-id-2 div.sk-label:hover label.sk-toggleable__label {background-color: #d4ebff;}#sk-container-id-2 div.sk-serial::before {content: \"\";position: absolute;border-left: 1px solid gray;box-sizing: border-box;top: 0;bottom: 0;left: 50%;z-index: 0;}#sk-container-id-2 div.sk-serial {display: flex;flex-direction: column;align-items: center;background-color: white;padding-right: 0.2em;padding-left: 0.2em;position: relative;}#sk-container-id-2 div.sk-item {position: relative;z-index: 1;}#sk-container-id-2 div.sk-parallel {display: flex;align-items: stretch;justify-content: center;background-color: white;position: relative;}#sk-container-id-2 div.sk-item::before, #sk-container-id-2 div.sk-parallel-item::before {content: \"\";position: absolute;border-left: 1px solid gray;box-sizing: border-box;top: 0;bottom: 0;left: 50%;z-index: -1;}#sk-container-id-2 div.sk-parallel-item {display: flex;flex-direction: column;z-index: 1;position: relative;background-color: white;}#sk-container-id-2 div.sk-parallel-item:first-child::after {align-self: flex-end;width: 50%;}#sk-container-id-2 div.sk-parallel-item:last-child::after {align-self: flex-start;width: 50%;}#sk-container-id-2 div.sk-parallel-item:only-child::after {width: 0;}#sk-container-id-2 div.sk-dashed-wrapped {border: 1px dashed gray;margin: 0 0.4em 0.5em 0.4em;box-sizing: border-box;padding-bottom: 0.4em;background-color: white;}#sk-container-id-2 div.sk-label label {font-family: monospace;font-weight: bold;display: inline-block;line-height: 1.2em;}#sk-container-id-2 div.sk-label-container {text-align: center;}#sk-container-id-2 div.sk-container {/* jupyter's `normalize.less` sets `[hidden] { display: none; }` but bootstrap.min.css set `[hidden] { display: none !important; }` so we also need the `!important` here to be able to override the default hidden behavior on the sphinx rendered scikit-learn.org. See: https://github.com/scikit-learn/scikit-learn/issues/21755 */display: inline-block !important;position: relative;}#sk-container-id-2 div.sk-text-repr-fallback {display: none;}</style><div id=\"sk-container-id-2\" class=\"sk-top-container\"><div class=\"sk-text-repr-fallback\"><pre>Pipeline(steps=[(&#x27;ss&#x27;, StandardScaler()), (&#x27;lr&#x27;, LinearRegression())])</pre><b>In a Jupyter environment, please rerun this cell to show the HTML representation or trust the notebook. <br />On GitHub, the HTML representation is unable to render, please try loading this page with nbviewer.org.</b></div><div class=\"sk-container\" hidden><div class=\"sk-item sk-dashed-wrapped\"><div class=\"sk-label-container\"><div class=\"sk-label sk-toggleable\"><input class=\"sk-toggleable__control sk-hidden--visually\" id=\"sk-estimator-id-2\" type=\"checkbox\" ><label for=\"sk-estimator-id-2\" class=\"sk-toggleable__label sk-toggleable__label-arrow\">Pipeline</label><div class=\"sk-toggleable__content\"><pre>Pipeline(steps=[(&#x27;ss&#x27;, StandardScaler()), (&#x27;lr&#x27;, LinearRegression())])</pre></div></div></div><div class=\"sk-serial\"><div class=\"sk-item\"><div class=\"sk-estimator sk-toggleable\"><input class=\"sk-toggleable__control sk-hidden--visually\" id=\"sk-estimator-id-3\" type=\"checkbox\" ><label for=\"sk-estimator-id-3\" class=\"sk-toggleable__label sk-toggleable__label-arrow\">StandardScaler</label><div class=\"sk-toggleable__content\"><pre>StandardScaler()</pre></div></div></div><div class=\"sk-item\"><div class=\"sk-estimator sk-toggleable\"><input class=\"sk-toggleable__control sk-hidden--visually\" id=\"sk-estimator-id-4\" type=\"checkbox\" ><label for=\"sk-estimator-id-4\" class=\"sk-toggleable__label sk-toggleable__label-arrow\">LinearRegression</label><div class=\"sk-toggleable__content\"><pre>LinearRegression()</pre></div></div></div></div></div></div></div>"
            ]
          },
          "metadata": {},
          "execution_count": 19
        }
      ],
      "source": [
        "pipe = Pipeline([('ss',StandardScaler() ),('lr', LinearRegression())])\n",
        "pipe.fit(X_train,y_train)\n",
        "pipe"
      ]
    },
    {
      "cell_type": "markdown",
      "metadata": {
        "id": "ACH-PqnPFJLE"
      },
      "source": [
        "Let's calculate the R squared.\n"
      ]
    },
    {
      "cell_type": "code",
      "execution_count": null,
      "metadata": {
        "colab": {
          "base_uri": "https://localhost:8080/"
        },
        "id": "5rwotf0dFJLF",
        "outputId": "e4fcf818-7d76-4d13-c3b7-9bac7516e8a1"
      },
      "outputs": [
        {
          "output_type": "execute_result",
          "data": {
            "text/plain": [
              "0.9262722224294516"
            ]
          },
          "metadata": {},
          "execution_count": 21
        }
      ],
      "source": [
        "pipe.score(X_train,y_train)"
      ]
    },
    {
      "cell_type": "markdown",
      "metadata": {
        "id": "RpU-dPAqFJLH"
      },
      "source": [
        "Using the training data only, the R squared is ~ 0.93.\n",
        "Now, let's check the R squared on the test set.\n"
      ]
    },
    {
      "cell_type": "code",
      "execution_count": null,
      "metadata": {
        "colab": {
          "base_uri": "https://localhost:8080/"
        },
        "id": "J4WwqTUiFJLJ",
        "outputId": "abfa8548-9179-478a-c55a-495cb36ce5e3"
      },
      "outputs": [
        {
          "output_type": "execute_result",
          "data": {
            "text/plain": [
              "0.8419174509630336"
            ]
          },
          "metadata": {},
          "execution_count": 20
        }
      ],
      "source": [
        "pipe.score(X_test,y_test)"
      ]
    },
    {
      "cell_type": "markdown",
      "metadata": {
        "id": "2hAOtp0RFJLL"
      },
      "source": [
        "The R squared is much lower. This value provides more accurate evaluation of our model since we test our model on the 'unseen' data set. In case if the R squared is negative, it is because the model is too complex and the data is overfitting. For more information, please, visit this [documentation](https://en.wikipedia.org/wiki/Overfitting?utm_medium=Exinfluencer&utm_source=Exinfluencer&utm_content=000026UJ&utm_term=10006555&utm_id=NA-SkillsNetwork-Channel-SkillsNetworkCoursesIBMML240ENSkillsNetwork34171862-2022-01-01) on overfitting.\n",
        "\n",
        "This will make more sense when we explore polynomial regression.\n"
      ]
    },
    {
      "cell_type": "markdown",
      "metadata": {
        "id": "9NFLni2jFJLN"
      },
      "source": [
        "## Exercise 1\n",
        "\n",
        "Create a pipeline object called pipe1, replace standardization with normalization. Calculate the $R^{2}$ using the built-in method `score` and for RMSE, using `mean_squared_error` method.\n"
      ]
    },
    {
      "cell_type": "code",
      "execution_count": null,
      "metadata": {
        "id": "feCv4JcTFJLP",
        "colab": {
          "base_uri": "https://localhost:8080/"
        },
        "outputId": "0c9736ed-e23f-4b65-f11b-0b33a5df42d0"
      },
      "outputs": [
        {
          "output_type": "stream",
          "name": "stdout",
          "text": [
            "0.9264596259632848\n",
            "-9.122364402008622e+16\n"
          ]
        },
        {
          "output_type": "execute_result",
          "data": {
            "text/plain": [
              "2514035300187.339"
            ]
          },
          "metadata": {},
          "execution_count": 37
        }
      ],
      "source": [
        "# Enter your code and run the cell\n",
        "pipe_1 = Pipeline([('nn',Normalizer() ),('lr', LinearRegression())])\n",
        "pipe_1.fit(X_train, y_train)\n",
        "\n",
        "print(pipe_1.score(X_train,y_train))\n",
        "print(pipe_1.score(X_test,y_test))\n",
        "\n",
        "pred =pipe_1.predict(X_test)\n",
        "\n",
        "mse = mean_squared_error(y_true=y_test, y_pred=pred)\n",
        "rmse = np.sqrt(mse)\n",
        "rmse"
      ]
    },
    {
      "cell_type": "markdown",
      "metadata": {
        "id": "PjDKforzFJLR"
      },
      "source": [
        "<details>\n",
        "<summary><strong>Solution</strong> (Click Here)</summary>\n",
        "```python\n",
        "\n",
        "pipe_1 = Pipeline([('nn',Normalizer() ),('lr', LinearRegression())])\n",
        "pipe_1.fit(X_train, y_train)\n",
        "\n",
        "pipe_1.score(X_train,y_train)\n",
        "pipe_1.score(X_test,y_test)\n",
        "\n",
        "pred =pipe_1.predict(X_test)\n",
        "\n",
        "mse = mean_squared_error(y_true=y_test, y_pred=pred)\n",
        "rmse = np.sqrt(mse)\n",
        "rmse\n",
        "\n",
        "```\n",
        "</details>\n"
      ]
    },
    {
      "cell_type": "markdown",
      "metadata": {
        "id": "HTkjiBxZFJLU"
      },
      "source": [
        "Note, you can also use `normalize` by setting the `LinearRegression(normalize=True)`.\n"
      ]
    },
    {
      "cell_type": "markdown",
      "metadata": {
        "id": "sD9OPL6zFJLW"
      },
      "source": [
        "## One feature\n"
      ]
    },
    {
      "cell_type": "markdown",
      "metadata": {
        "id": "jrKmdthLFJLX"
      },
      "source": [
        "We can use the test data to select a feature with the best performance. We have a list of features:\n"
      ]
    },
    {
      "cell_type": "code",
      "execution_count": null,
      "metadata": {
        "id": "QHQJvgcZFJLZ",
        "colab": {
          "base_uri": "https://localhost:8080/"
        },
        "outputId": "d67a4588-7ad1-463d-c84d-a76fc2874e6e"
      },
      "outputs": [
        {
          "output_type": "execute_result",
          "data": {
            "text/plain": [
              "['diesel',\n",
              " 'gas',\n",
              " 'std',\n",
              " 'turbo',\n",
              " 'convertible',\n",
              " 'hardtop',\n",
              " 'hatchback',\n",
              " 'sedan',\n",
              " 'wagon',\n",
              " '4wd',\n",
              " 'fwd',\n",
              " 'rwd',\n",
              " 'dohc',\n",
              " 'dohcv',\n",
              " 'l',\n",
              " 'ohc',\n",
              " 'ohcf',\n",
              " 'ohcv',\n",
              " 'rotor',\n",
              " 'eight',\n",
              " 'five',\n",
              " 'four',\n",
              " 'six',\n",
              " 'three',\n",
              " 'twelve',\n",
              " 'two',\n",
              " 'wheelbase',\n",
              " 'curbweight',\n",
              " 'enginesize',\n",
              " 'boreratio',\n",
              " 'horsepower',\n",
              " 'carlength',\n",
              " 'carwidth',\n",
              " 'citympg',\n",
              " 'highwaympg']"
            ]
          },
          "metadata": {},
          "execution_count": 28
        }
      ],
      "source": [
        "features=list(X)\n",
        "features"
      ]
    },
    {
      "cell_type": "markdown",
      "metadata": {
        "id": "t4nhqQBtFJLb"
      },
      "source": [
        "We can train a linear regression model using each feature and use the test data to obtain the best feature.\n"
      ]
    },
    {
      "cell_type": "code",
      "execution_count": null,
      "metadata": {
        "id": "zSq5gfM3FJLe"
      },
      "outputs": [],
      "source": [
        "R_2=[]\n",
        "pipe = Pipeline([('ss',StandardScaler() ),('lr', LinearRegression())])\n",
        "\n",
        "for feature in features:\n",
        "    pipe.fit(X_train[[feature]],y_train)\n",
        "    R_2.append(pipe.score(X_train[[feature]],y_train))"
      ]
    },
    {
      "cell_type": "markdown",
      "metadata": {
        "id": "TAuNNdb-FJLg"
      },
      "source": [
        "We can plot the $R^{2}$ for each feature.\n"
      ]
    },
    {
      "cell_type": "code",
      "execution_count": null,
      "metadata": {
        "id": "l3triweQFJLi",
        "colab": {
          "base_uri": "https://localhost:8080/",
          "height": 272
        },
        "outputId": "f8d6f842-92e0-4cbc-aa29-a3983fa82ce9"
      },
      "outputs": [
        {
          "output_type": "display_data",
          "data": {
            "text/plain": [
              "<Figure size 640x480 with 1 Axes>"
            ],
            "image/png": "[encoded data removed]"
          },
          "metadata": {}
        }
      ],
      "source": [
        "plt.bar(features,R_2)\n",
        "plt.xticks(rotation=90)\n",
        "plt.ylabel(\"$R^2$\")\n",
        "plt.show()"
      ]
    },
    {
      "cell_type": "markdown",
      "metadata": {
        "id": "h_LSsZMxFJLk"
      },
      "source": [
        "Now, we select the feature that works best, using `argmax()` function.\n"
      ]
    },
    {
      "cell_type": "code",
      "execution_count": null,
      "metadata": {
        "id": "Qg-cPaOcFJLm",
        "colab": {
          "base_uri": "https://localhost:8080/",
          "height": 36
        },
        "outputId": "fe7506ca-1815-45d0-a88c-9dc26918919d"
      },
      "outputs": [
        {
          "output_type": "execute_result",
          "data": {
            "text/plain": [
              "'enginesize'"
            ],
            "application/vnd.google.colaboratory.intrinsic+json": {
              "type": "string"
            }
          },
          "metadata": {},
          "execution_count": 31
        }
      ],
      "source": [
        "best=features[np.argmax(R_2)]\n",
        "best"
      ]
    },
    {
      "cell_type": "markdown",
      "metadata": {
        "id": "t5reixX_FJLo"
      },
      "source": [
        "So, 'enginesize' is the feature that produces the highest $R^{2}$. We then train the feature that works best using all the data.\n"
      ]
    },
    {
      "cell_type": "code",
      "execution_count": null,
      "metadata": {
        "id": "lkUy_7u6FJLq",
        "colab": {
          "base_uri": "https://localhost:8080/",
          "height": 124
        },
        "outputId": "033877cf-2db4-44c9-bd90-9f9e807fd6af"
      },
      "outputs": [
        {
          "output_type": "execute_result",
          "data": {
            "text/plain": [
              "Pipeline(steps=[('ss', StandardScaler()), ('lr', LinearRegression())])"
            ],
            "text/html": [
              "<style>#sk-container-id-3 {color: black;background-color: white;}#sk-container-id-3 pre{padding: 0;}#sk-container-id-3 div.sk-toggleable {background-color: white;}#sk-container-id-3 label.sk-toggleable__label {cursor: pointer;display: block;width: 100%;margin-bottom: 0;padding: 0.3em;box-sizing: border-box;text-align: center;}#sk-container-id-3 label.sk-toggleable__label-arrow:before {content: \"▸\";float: left;margin-right: 0.25em;color: #696969;}#sk-container-id-3 label.sk-toggleable__label-arrow:hover:before {color: black;}#sk-container-id-3 div.sk-estimator:hover label.sk-toggleable__label-arrow:before {color: black;}#sk-container-id-3 div.sk-toggleable__content {max-height: 0;max-width: 0;overflow: hidden;text-align: left;background-color: #f0f8ff;}#sk-container-id-3 div.sk-toggleable__content pre {margin: 0.2em;color: black;border-radius: 0.25em;background-color: #f0f8ff;}#sk-container-id-3 input.sk-toggleable__control:checked~div.sk-toggleable__content {max-height: 200px;max-width: 100%;overflow: auto;}#sk-container-id-3 input.sk-toggleable__control:checked~label.sk-toggleable__label-arrow:before {content: \"▾\";}#sk-container-id-3 div.sk-estimator input.sk-toggleable__control:checked~label.sk-toggleable__label {background-color: #d4ebff;}#sk-container-id-3 div.sk-label input.sk-toggleable__control:checked~label.sk-toggleable__label {background-color: #d4ebff;}#sk-container-id-3 input.sk-hidden--visually {border: 0;clip: rect(1px 1px 1px 1px);clip: rect(1px, 1px, 1px, 1px);height: 1px;margin: -1px;overflow: hidden;padding: 0;position: absolute;width: 1px;}#sk-container-id-3 div.sk-estimator {font-family: monospace;background-color: #f0f8ff;border: 1px dotted black;border-radius: 0.25em;box-sizing: border-box;margin-bottom: 0.5em;}#sk-container-id-3 div.sk-estimator:hover {background-color: #d4ebff;}#sk-container-id-3 div.sk-parallel-item::after {content: \"\";width: 100%;border-bottom: 1px solid gray;flex-grow: 1;}#sk-container-id-3 div.sk-label:hover label.sk-toggleable__label {background-color: #d4ebff;}#sk-container-id-3 div.sk-serial::before {content: \"\";position: absolute;border-left: 1px solid gray;box-sizing: border-box;top: 0;bottom: 0;left: 50%;z-index: 0;}#sk-container-id-3 div.sk-serial {display: flex;flex-direction: column;align-items: center;background-color: white;padding-right: 0.2em;padding-left: 0.2em;position: relative;}#sk-container-id-3 div.sk-item {position: relative;z-index: 1;}#sk-container-id-3 div.sk-parallel {display: flex;align-items: stretch;justify-content: center;background-color: white;position: relative;}#sk-container-id-3 div.sk-item::before, #sk-container-id-3 div.sk-parallel-item::before {content: \"\";position: absolute;border-left: 1px solid gray;box-sizing: border-box;top: 0;bottom: 0;left: 50%;z-index: -1;}#sk-container-id-3 div.sk-parallel-item {display: flex;flex-direction: column;z-index: 1;position: relative;background-color: white;}#sk-container-id-3 div.sk-parallel-item:first-child::after {align-self: flex-end;width: 50%;}#sk-container-id-3 div.sk-parallel-item:last-child::after {align-self: flex-start;width: 50%;}#sk-container-id-3 div.sk-parallel-item:only-child::after {width: 0;}#sk-container-id-3 div.sk-dashed-wrapped {border: 1px dashed gray;margin: 0 0.4em 0.5em 0.4em;box-sizing: border-box;padding-bottom: 0.4em;background-color: white;}#sk-container-id-3 div.sk-label label {font-family: monospace;font-weight: bold;display: inline-block;line-height: 1.2em;}#sk-container-id-3 div.sk-label-container {text-align: center;}#sk-container-id-3 div.sk-container {/* jupyter's `normalize.less` sets `[hidden] { display: none; }` but bootstrap.min.css set `[hidden] { display: none !important; }` so we also need the `!important` here to be able to override the default hidden behavior on the sphinx rendered scikit-learn.org. See: https://github.com/scikit-learn/scikit-learn/issues/21755 */display: inline-block !important;position: relative;}#sk-container-id-3 div.sk-text-repr-fallback {display: none;}</style><div id=\"sk-container-id-3\" class=\"sk-top-container\"><div class=\"sk-text-repr-fallback\"><pre>Pipeline(steps=[(&#x27;ss&#x27;, StandardScaler()), (&#x27;lr&#x27;, LinearRegression())])</pre><b>In a Jupyter environment, please rerun this cell to show the HTML representation or trust the notebook. <br />On GitHub, the HTML representation is unable to render, please try loading this page with nbviewer.org.</b></div><div class=\"sk-container\" hidden><div class=\"sk-item sk-dashed-wrapped\"><div class=\"sk-label-container\"><div class=\"sk-label sk-toggleable\"><input class=\"sk-toggleable__control sk-hidden--visually\" id=\"sk-estimator-id-5\" type=\"checkbox\" ><label for=\"sk-estimator-id-5\" class=\"sk-toggleable__label sk-toggleable__label-arrow\">Pipeline</label><div class=\"sk-toggleable__content\"><pre>Pipeline(steps=[(&#x27;ss&#x27;, StandardScaler()), (&#x27;lr&#x27;, LinearRegression())])</pre></div></div></div><div class=\"sk-serial\"><div class=\"sk-item\"><div class=\"sk-estimator sk-toggleable\"><input class=\"sk-toggleable__control sk-hidden--visually\" id=\"sk-estimator-id-6\" type=\"checkbox\" ><label for=\"sk-estimator-id-6\" class=\"sk-toggleable__label sk-toggleable__label-arrow\">StandardScaler</label><div class=\"sk-toggleable__content\"><pre>StandardScaler()</pre></div></div></div><div class=\"sk-item\"><div class=\"sk-estimator sk-toggleable\"><input class=\"sk-toggleable__control sk-hidden--visually\" id=\"sk-estimator-id-7\" type=\"checkbox\" ><label for=\"sk-estimator-id-7\" class=\"sk-toggleable__label sk-toggleable__label-arrow\">LinearRegression</label><div class=\"sk-toggleable__content\"><pre>LinearRegression()</pre></div></div></div></div></div></div></div>"
            ]
          },
          "metadata": {},
          "execution_count": 32
        }
      ],
      "source": [
        "pipe.fit(X[[best]],y)"
      ]
    },
    {
      "cell_type": "markdown",
      "metadata": {
        "id": "Hw3ujv-uFJLs"
      },
      "source": [
        "## Exercise 2\n",
        "\n",
        "In this Exercise, find the best feature using the test data, without standardization.\n"
      ]
    },
    {
      "cell_type": "code",
      "execution_count": null,
      "metadata": {
        "id": "3sq2df4pFJLu"
      },
      "outputs": [],
      "source": [
        "# Enter your code and run the cell\n",
        "lr.fit(X_train[[feature]], y_train)\n",
        "R_2.append(lr.score(X_test[[feature]],y_test))"
      ]
    },
    {
      "cell_type": "markdown",
      "metadata": {
        "id": "wIlxKXd3FJLw"
      },
      "source": [
        "<details>\n",
        "<summary><strong>Solution</strong> (Click Here)</summary>\n",
        "```python\n",
        "R_2=[]\n",
        "\n",
        "for feature in features:\n",
        "\n",
        "    lr.fit(X_train[[feature]], y_train)\n",
        "    R_2.append(lr.score(X_test[[feature]],y_test))\n",
        "\n",
        "\n",
        "best=features[np.argmax(R_2)]\n",
        "\n",
        "plt.bar(features,R_2)\n",
        "plt.xticks(rotation=90)\n",
        "plt.ylabel(\"$R^2$\")\n",
        "\n",
        "plt.show()\n",
        "best=features[np.argmax(R_2)]\n",
        "print(best)\n",
        "\n",
        "```\n",
        "</details>\n"
      ]
    },
    {
      "cell_type": "markdown",
      "metadata": {
        "id": "dxOpRybUFJLz"
      },
      "source": [
        "# K Fold Cross Validation\n"
      ]
    },
    {
      "cell_type": "markdown",
      "metadata": {
        "id": "rDaRRSoWFJL1"
      },
      "source": [
        "Cross-validation is a resampling procedure used to evaluate machine learning models on a limited data sample.\n",
        "\n",
        "The procedure has a single parameter called k that refers to the number of groups that a given data sample is to be split into. As such, the procedure is often called k-fold cross-validation. When a specific value for k is chosen, it may be used in place of k in the reference to the model, such as k=5 becoming 5-fold cross-validation, as shown in the Diagram below. In this case, we would use K-1 (or 4 folds) for testing a 1 fold for training. K-fold is also used for hyper-parameters selection that we will discuss later.\n"
      ]
    },
    {
      "cell_type": "markdown",
      "metadata": {
        "id": "-KQFbsxoFJL3"
      },
      "source": [
        "<center>\n",
        "    <img src=\"https://cf-courses-data.s3.us.cloud-object-storage.appdomain.cloud/IBM-ML240EN-SkillsNetwork/images/k-fold.png\">\n",
        "</center>\n",
        "<center>source scikit-learn.org</center>\n"
      ]
    },
    {
      "cell_type": "markdown",
      "metadata": {
        "id": "ELk3uw0_FJL6"
      },
      "source": [
        "## Cross Validation Score\n"
      ]
    },
    {
      "cell_type": "markdown",
      "metadata": {
        "id": "Tz15rwfzFJL8"
      },
      "source": [
        "Now, let's use *Scikit-Learn's* *K-fold cross-validation* method to see whether we can assess the performance of our model. The *K-fold cross-validation* method splits the training set into the number of folds (n_splits), as now in the Diagram above, if we have K folds, K-1 is used for training and one fold is used for testing. The input parameters are as follows:\n"
      ]
    },
    {
      "cell_type": "markdown",
      "metadata": {
        "id": "9aFuUreDFJL_"
      },
      "source": [
        "<b>estimatorestimator</b>: The object to use to `fit` the data.\n",
        "\n",
        "<b>X</b>: array-like of shape (n_samples, n_features). The data to fit. Can be for example a list, or an array.\n",
        "\n",
        "<b>y</b>: array-like of shape (n_samples,) or (n_samples, n_outputs), default=None. The target variable to try to predict in the case of supervised learning.\n",
        "\n",
        "<b>scoring</b>: A str or a scorer callable object/ function with signature scorer (estimator, X, y) which should return only a single value.  See model evaluation [documentation](https://scikit-learn.org/stable/modules/model_evaluation.html?utm_medium=Exinfluencer&utm_source=Exinfluencer&utm_content=000026UJ&utm_term=10006555&utm_id=NA-SkillsNetwork-Channel-SkillsNetworkCoursesIBMML240ENSkillsNetwork34171862-2022-01-01#scoring-parameter) for more information.\n"
      ]
    },
    {
      "cell_type": "code",
      "execution_count": null,
      "metadata": {
        "id": "b5kd6EzvFJMB",
        "colab": {
          "base_uri": "https://localhost:8080/"
        },
        "outputId": "d70909ea-c9cc-4b90-b1a6-77ed71a89b0b"
      },
      "outputs": [
        {
          "output_type": "execute_result",
          "data": {
            "text/plain": [
              "205"
            ]
          },
          "metadata": {},
          "execution_count": 38
        }
      ],
      "source": [
        "N=len(X)\n",
        "N"
      ]
    },
    {
      "cell_type": "code",
      "source": [
        "205/3"
      ],
      "metadata": {
        "colab": {
          "base_uri": "https://localhost:8080/"
        },
        "id": "6SV7XcxpNmzH",
        "outputId": "8cc26b91-c320-4048-9de0-0c38507cd6a2"
      },
      "execution_count": null,
      "outputs": [
        {
          "output_type": "execute_result",
          "data": {
            "text/plain": [
              "68.33333333333333"
            ]
          },
          "metadata": {},
          "execution_count": 44
        }
      ]
    },
    {
      "cell_type": "markdown",
      "metadata": {
        "id": "GmO6SOPVFJMD"
      },
      "source": [
        "Now, let's create a Linear Regression object.\n"
      ]
    },
    {
      "cell_type": "code",
      "execution_count": null,
      "metadata": {
        "id": "B5rW7HjtFJMF"
      },
      "outputs": [],
      "source": [
        "lr = LinearRegression()"
      ]
    },
    {
      "cell_type": "markdown",
      "metadata": {
        "id": "atQR4xu0FJMH"
      },
      "source": [
        "Then, calculate cross validation scores based on our testing sets.\n"
      ]
    },
    {
      "cell_type": "code",
      "execution_count": null,
      "metadata": {
        "id": "Q30EVD8FFJMJ"
      },
      "outputs": [],
      "source": [
        "scores = cross_val_score(lr, X, y, scoring =\"r2\", cv=3)"
      ]
    },
    {
      "cell_type": "markdown",
      "metadata": {
        "id": "07GBKArWFJMM"
      },
      "source": [
        "Now, we have the $R^{2}$ for each fold not used to train the model.\n"
      ]
    },
    {
      "cell_type": "code",
      "execution_count": null,
      "metadata": {
        "id": "yw1ilEXgFJMN",
        "colab": {
          "base_uri": "https://localhost:8080/"
        },
        "outputId": "0e0004e9-28d2-4d92-9f25-b5a1a667f1e6"
      },
      "outputs": [
        {
          "output_type": "execute_result",
          "data": {
            "text/plain": [
              "array([ 0.81475615,  0.72650689, -0.0839346 ])"
            ]
          },
          "metadata": {},
          "execution_count": 55
        }
      ],
      "source": [
        "scores"
      ]
    },
    {
      "cell_type": "markdown",
      "metadata": {
        "id": "a7ny4WgZFJMQ"
      },
      "source": [
        "We can calculate mean and standard deviation using the following function of the `scores`:\n"
      ]
    },
    {
      "cell_type": "code",
      "execution_count": null,
      "metadata": {
        "id": "ykfi-JUnFJMS"
      },
      "outputs": [],
      "source": [
        "def display_scores(scores, print_=False):\n",
        "\n",
        "    print(\"Scores:\", scores)\n",
        "    print(\"Mean:\", scores.mean())\n",
        "    print(\"Standard deviation:\", scores.std())"
      ]
    },
    {
      "cell_type": "code",
      "execution_count": null,
      "metadata": {
        "id": "tSJnG_psFJMV",
        "colab": {
          "base_uri": "https://localhost:8080/"
        },
        "outputId": "3f51398d-4e64-427e-e8cb-3a8668876a51"
      },
      "outputs": [
        {
          "output_type": "stream",
          "name": "stdout",
          "text": [
            "Scores: [ 0.81475615  0.72650689 -0.0839346 ]\n",
            "Mean: 0.4857761453441245\n",
            "Standard deviation: 0.40445414462238005\n"
          ]
        }
      ],
      "source": [
        "display_scores(scores)"
      ]
    },
    {
      "cell_type": "markdown",
      "metadata": {
        "id": "8aOrf-u_FJMX"
      },
      "source": [
        "The larger the fold, the better the model performance is, as we are using more samples for training; the variance also decreases.\n"
      ]
    },
    {
      "cell_type": "markdown",
      "metadata": {
        "id": "CwWqDg3kFJMZ"
      },
      "source": [
        "Cross Validation Scores are RMSE values for training the data on each of our folds, in our case cv = 3, so we get 3 scores, 1 for each fold.\n"
      ]
    },
    {
      "cell_type": "markdown",
      "metadata": {
        "id": "GDAc1OC2FJMa"
      },
      "source": [
        "## Exercise 3\n",
        "\n",
        "In this Exercise, compute the cross validation scores for 5 folds, using the linear regression object `lr` and `neg_mean_squared_error` method for scoring.\n"
      ]
    },
    {
      "cell_type": "code",
      "execution_count": null,
      "metadata": {
        "id": "pfeXbQk_FJMc",
        "colab": {
          "base_uri": "https://localhost:8080/"
        },
        "outputId": "d5799459-221f-4db9-b4cc-304fd4b3e8af"
      },
      "outputs": [
        {
          "output_type": "stream",
          "name": "stdout",
          "text": [
            "Scores: [ 3155.3045326  11315.74487079  3033.72130886  5674.69064269\n",
            "  5570.73412494]\n",
            "Mean: 5750.039095975544\n",
            "Standard deviation: 3004.195007281397\n"
          ]
        }
      ],
      "source": [
        "# Enter your code and run the cell\n",
        "scores = cross_val_score(lr, X ,y, scoring =\"neg_mean_squared_error\", cv=5)\n",
        "lr_scores = np.sqrt(-scores)\n",
        "display_scores(lr_scores)"
      ]
    },
    {
      "cell_type": "markdown",
      "metadata": {
        "id": "pxohsUcZFJMe"
      },
      "source": [
        "<details>\n",
        "<summary><strong>Solution</strong> (Click Here)</summary>\n",
        "```python\n",
        "\n",
        "scores = cross_val_score(lr, X ,y, scoring =\"neg_mean_squared_error\", cv=5)\n",
        "lr_scores = np.sqrt(-scores)\n",
        "display_scores(lr_scores)\n",
        "\n",
        "```\n",
        "</details>\n"
      ]
    },
    {
      "cell_type": "markdown",
      "metadata": {
        "id": "BIsA9hZiFJMg"
      },
      "source": [
        "### K Fold\n"
      ]
    },
    {
      "cell_type": "markdown",
      "metadata": {
        "id": "ELzPCu64FJMi"
      },
      "source": [
        "In many cases, we would like to train models that are not available in Scikit-learn or are too large to fit in the memory. We can create a `KFold` object that  Provides train/test indices to split data into train/test sets in an iterative manner.\n",
        "\n",
        "`n_splitsint`:  A number of folds. Must be at least 2. Changed in version 0.22: n_splits default value changed from 3 to 5.\n",
        "\n",
        "`shuffle`: Indicates whether to shuffle the data before splitting into batches. Note, the samples within each split will not be shuffled.\n",
        "\n",
        "`random_state`: the random state.\n"
      ]
    },
    {
      "cell_type": "markdown",
      "metadata": {
        "id": "NrdRDXvuFJMk"
      },
      "source": [
        "We create the  `KFold` object `kf`, setting the number of splits to 2.\n"
      ]
    },
    {
      "cell_type": "code",
      "execution_count": null,
      "metadata": {
        "id": "9rwcq5A_FJMl"
      },
      "outputs": [],
      "source": [
        "n_splits=2\n",
        "kf = KFold(n_splits = n_splits)"
      ]
    },
    {
      "cell_type": "code",
      "source": [
        "dir(kf)"
      ],
      "metadata": {
        "colab": {
          "base_uri": "https://localhost:8080/"
        },
        "id": "kRNPSLGrSj4_",
        "outputId": "6c181486-1871-4777-975f-6bd0a5a32041"
      },
      "execution_count": 67,
      "outputs": [
        {
          "output_type": "execute_result",
          "data": {
            "text/plain": [
              "['__abstractmethods__',\n",
              " '__class__',\n",
              " '__delattr__',\n",
              " '__dict__',\n",
              " '__dir__',\n",
              " '__doc__',\n",
              " '__eq__',\n",
              " '__format__',\n",
              " '__ge__',\n",
              " '__getattribute__',\n",
              " '__gt__',\n",
              " '__hash__',\n",
              " '__init__',\n",
              " '__init_subclass__',\n",
              " '__le__',\n",
              " '__lt__',\n",
              " '__module__',\n",
              " '__ne__',\n",
              " '__new__',\n",
              " '__reduce__',\n",
              " '__reduce_ex__',\n",
              " '__repr__',\n",
              " '__setattr__',\n",
              " '__sizeof__',\n",
              " '__str__',\n",
              " '__subclasshook__',\n",
              " '__weakref__',\n",
              " '_abc_impl',\n",
              " '_iter_test_indices',\n",
              " '_iter_test_masks',\n",
              " 'get_n_splits',\n",
              " 'n_splits',\n",
              " 'random_state',\n",
              " 'shuffle',\n",
              " 'split']"
            ]
          },
          "metadata": {},
          "execution_count": 67
        }
      ]
    },
    {
      "cell_type": "code",
      "source": [
        "k"
      ],
      "metadata": {
        "colab": {
          "base_uri": "https://localhost:8080/"
        },
        "id": "dbEMLvhFS3Uh",
        "outputId": "4e7dd840-f70a-48a1-9792-ca83508174c9"
      },
      "execution_count": 68,
      "outputs": [
        {
          "output_type": "execute_result",
          "data": {
            "text/plain": [
              "2"
            ]
          },
          "metadata": {},
          "execution_count": 68
        }
      ]
    },
    {
      "cell_type": "markdown",
      "metadata": {
        "id": "eUNOJBOpFJMo"
      },
      "source": [
        "We train the model using the `split(X,y)` method. It provides the train/test indices for `X` and `y`. Half the data is used for training in the first iteration, and the rest is used for testing and displaying the indexes for each set.  For the second iteration, the data used for training is used for testing, and the testing data is used for training. We store the $R^2$ for each iteration in the array  `R_2`. The `np.zeros()` function returns a new array of given shape and type, filled with zeros. Then, we calculate the $R^2$ for each of the X_train and X_test splits.\n"
      ]
    },
    {
      "cell_type": "code",
      "execution_count": 69,
      "metadata": {
        "id": "XOT7CajnFJMq",
        "colab": {
          "base_uri": "https://localhost:8080/"
        },
        "outputId": "c6cddeae-1ad6-4148-a5e4-014eee459c38"
      },
      "outputs": [
        {
          "output_type": "stream",
          "name": "stdout",
          "text": [
            "TRAIN: [  0   2   5   6   7   9  10  11  13  14  18  19  22  23  24  25  27  28\n",
            "  30  32  33  34  35  36  37  38  39  40  41  42  44  45  46  47  50  51\n",
            "  52  53  57  59  60  61  62  63  64  66  69  72  73  75  77  78  79  82\n",
            "  83  84  86  87  88  89  90  91  92  94  95  96  97  98  99 100 101 102\n",
            " 103 104 105 108 109 110 116 117 118 119 120 121 122 125 126 128 129 130\n",
            " 131 133 134 138 140 141 142 144 146 147 149 151 152 154 155 156 157 158\n",
            " 159 161 163 164 165 166 167 168 169 171 172 175 176 177 179 182 183 184\n",
            " 187 189 190 193 195 198 199 201 202 204]\n",
            "TEST: [  1   3   4   8  12  15  16  17  20  21  26  29  31  43  48  49  54  55\n",
            "  56  58  65  67  68  70  71  74  76  80  81  85  93 106 107 111 112 113\n",
            " 114 115 123 124 127 132 135 136 137 139 143 145 148 150 153 160 162 170\n",
            " 173 174 178 180 181 185 186 188 191 192 194 196 197 200 203]\n",
            "TRAIN: [  1   2   3   4   5   6   8  11  12  13  15  16  17  20  21  26  29  31\n",
            "  32  33  34  35  39  40  43  44  46  47  48  49  54  55  56  57  58  64\n",
            "  65  66  67  68  70  71  72  74  75  76  79  80  81  85  86  87  89  90\n",
            "  92  93  94  96  98 100 101 103 104 105 106 107 109 111 112 113 114 115\n",
            " 117 118 119 121 122 123 124 125 127 129 130 131 132 133 135 136 137 138\n",
            " 139 140 142 143 145 148 150 152 153 155 156 157 159 160 162 163 166 169\n",
            " 170 173 174 176 178 179 180 181 182 183 184 185 186 187 188 189 191 192\n",
            " 193 194 195 196 197 199 200 201 202 203 204]\n",
            "TEST: [  0   7   9  10  14  18  19  22  23  24  25  27  28  30  36  37  38  41\n",
            "  42  45  50  51  52  53  59  60  61  62  63  69  73  77  78  82  83  84\n",
            "  88  91  95  97  99 102 108 110 116 120 126 128 134 141 144 146 147 149\n",
            " 151 154 158 161 164 165 167 168 171 172 175 177 190 198]\n",
            "TRAIN: [  0   1   3   4   7   8   9  10  12  14  15  16  17  18  19  20  21  22\n",
            "  23  24  25  26  27  28  29  30  31  36  37  38  41  42  43  45  48  49\n",
            "  50  51  52  53  54  55  56  58  59  60  61  62  63  65  67  68  69  70\n",
            "  71  73  74  76  77  78  80  81  82  83  84  85  88  91  93  95  97  99\n",
            " 102 106 107 108 110 111 112 113 114 115 116 120 123 124 126 127 128 132\n",
            " 134 135 136 137 139 141 143 144 145 146 147 148 149 150 151 153 154 158\n",
            " 160 161 162 164 165 167 168 170 171 172 173 174 175 177 178 180 181 185\n",
            " 186 188 190 191 192 194 196 197 198 200 203]\n",
            "TEST: [  2   5   6  11  13  32  33  34  35  39  40  44  46  47  57  64  66  72\n",
            "  75  79  86  87  89  90  92  94  96  98 100 101 103 104 105 109 117 118\n",
            " 119 121 122 125 129 130 131 133 138 140 142 152 155 156 157 159 163 166\n",
            " 169 176 179 182 183 184 187 189 193 195 199 201 202 204]\n"
          ]
        }
      ],
      "source": [
        "y = data['price'].copy()\n",
        "X = data.drop(columns=['price'])\n",
        "R_2 = np.zeros((n_splits,1))\n",
        "pipe = Pipeline([('ss',StandardScaler() ),('lr', LinearRegression())])\n",
        "n=0\n",
        "for k,(train_index, test_index) in enumerate(kf.split(X,y)):\n",
        "    print(\"TRAIN:\", train_index)\n",
        "    print(\"TEST:\", test_index)\n",
        "    X_train, X_test =X.iloc[train_index],X.iloc[test_index]\n",
        "\n",
        "    y_train, y_test=y[train_index],y[test_index]\n",
        "    pipe.fit(X_train,y_train)\n",
        "    n=+1\n",
        "    R_2[k]=pipe.score(X_test, y_test)"
      ]
    },
    {
      "cell_type": "markdown",
      "metadata": {
        "id": "Mu5Vr3ysFJMs"
      },
      "source": [
        "We can calculate the average $R^2$.\n"
      ]
    },
    {
      "cell_type": "code",
      "execution_count": 70,
      "metadata": {
        "id": "GIcFDObIFJMu",
        "colab": {
          "base_uri": "https://localhost:8080/"
        },
        "outputId": "aa8f17d7-fc3c-4e7d-e88b-eacdd9d37690"
      },
      "outputs": [
        {
          "output_type": "execute_result",
          "data": {
            "text/plain": [
              "0.7666828299160241"
            ]
          },
          "metadata": {},
          "execution_count": 70
        }
      ],
      "source": [
        "R_2.mean()"
      ]
    },
    {
      "cell_type": "markdown",
      "metadata": {
        "id": "-2aPoZLuFJMx"
      },
      "source": [
        "If we set the number of splits to three, we see 2/3's of the data is used for training.\n"
      ]
    },
    {
      "cell_type": "code",
      "execution_count": 71,
      "metadata": {
        "id": "0M4JcKyaFJMz",
        "colab": {
          "base_uri": "https://localhost:8080/"
        },
        "outputId": "41318eee-ed13-4035-e532-bf048ab8cadd"
      },
      "outputs": [
        {
          "output_type": "stream",
          "name": "stdout",
          "text": [
            "TRAIN: [ 69  70  71  72  73  74  75  76  77  78  79  80  81  82  83  84  85  86\n",
            "  87  88  89  90  91  92  93  94  95  96  97  98  99 100 101 102 103 104\n",
            " 105 106 107 108 109 110 111 112 113 114 115 116 117 118 119 120 121 122\n",
            " 123 124 125 126 127 128 129 130 131 132 133 134 135 136 137 138 139 140\n",
            " 141 142 143 144 145 146 147 148 149 150 151 152 153 154 155 156 157 158\n",
            " 159 160 161 162 163 164 165 166 167 168 169 170 171 172 173 174 175 176\n",
            " 177 178 179 180 181 182 183 184 185 186 187 188 189 190 191 192 193 194\n",
            " 195 196 197 198 199 200 201 202 203 204]\n",
            "TEST: [ 0  1  2  3  4  5  6  7  8  9 10 11 12 13 14 15 16 17 18 19 20 21 22 23\n",
            " 24 25 26 27 28 29 30 31 32 33 34 35 36 37 38 39 40 41 42 43 44 45 46 47\n",
            " 48 49 50 51 52 53 54 55 56 57 58 59 60 61 62 63 64 65 66 67 68]\n",
            "TRAIN: [  0   1   2   3   4   5   6   7   8   9  10  11  12  13  14  15  16  17\n",
            "  18  19  20  21  22  23  24  25  26  27  28  29  30  31  32  33  34  35\n",
            "  36  37  38  39  40  41  42  43  44  45  46  47  48  49  50  51  52  53\n",
            "  54  55  56  57  58  59  60  61  62  63  64  65  66  67  68 137 138 139\n",
            " 140 141 142 143 144 145 146 147 148 149 150 151 152 153 154 155 156 157\n",
            " 158 159 160 161 162 163 164 165 166 167 168 169 170 171 172 173 174 175\n",
            " 176 177 178 179 180 181 182 183 184 185 186 187 188 189 190 191 192 193\n",
            " 194 195 196 197 198 199 200 201 202 203 204]\n",
            "TEST: [ 69  70  71  72  73  74  75  76  77  78  79  80  81  82  83  84  85  86\n",
            "  87  88  89  90  91  92  93  94  95  96  97  98  99 100 101 102 103 104\n",
            " 105 106 107 108 109 110 111 112 113 114 115 116 117 118 119 120 121 122\n",
            " 123 124 125 126 127 128 129 130 131 132 133 134 135 136]\n",
            "TRAIN: [  0   1   2   3   4   5   6   7   8   9  10  11  12  13  14  15  16  17\n",
            "  18  19  20  21  22  23  24  25  26  27  28  29  30  31  32  33  34  35\n",
            "  36  37  38  39  40  41  42  43  44  45  46  47  48  49  50  51  52  53\n",
            "  54  55  56  57  58  59  60  61  62  63  64  65  66  67  68  69  70  71\n",
            "  72  73  74  75  76  77  78  79  80  81  82  83  84  85  86  87  88  89\n",
            "  90  91  92  93  94  95  96  97  98  99 100 101 102 103 104 105 106 107\n",
            " 108 109 110 111 112 113 114 115 116 117 118 119 120 121 122 123 124 125\n",
            " 126 127 128 129 130 131 132 133 134 135 136]\n",
            "TEST: [137 138 139 140 141 142 143 144 145 146 147 148 149 150 151 152 153 154\n",
            " 155 156 157 158 159 160 161 162 163 164 165 166 167 168 169 170 171 172\n",
            " 173 174 175 176 177 178 179 180 181 182 183 184 185 186 187 188 189 190\n",
            " 191 192 193 194 195 196 197 198 199 200 201 202 203 204]\n"
          ]
        },
        {
          "output_type": "execute_result",
          "data": {
            "text/plain": [
              "0.4771934145169328"
            ]
          },
          "metadata": {},
          "execution_count": 71
        }
      ],
      "source": [
        "n_splits=3\n",
        "kf = KFold(n_splits = n_splits)\n",
        "y = data['price'].copy()\n",
        "X = data.drop(columns=['price'])\n",
        "R_2=np.zeros((n_splits,1))\n",
        "pipe = Pipeline([('ss',StandardScaler() ),('lr', LinearRegression())])\n",
        "n=0\n",
        "for k,(train_index, test_index) in enumerate(kf.split(X,y)):\n",
        "    print(\"TRAIN:\", train_index)\n",
        "    print(\"TEST:\", test_index)\n",
        "\n",
        "    X_train, X_test =X.iloc[train_index],X.iloc[test_index]\n",
        "\n",
        "    y_train, y_test=y[train_index],y[test_index]\n",
        "    pipe.fit(X_train,y_train)\n",
        "    n=+1\n",
        "    R_2[k]=pipe.score(X_test, y_test)\n",
        "\n",
        "\n",
        "R_2.mean()"
      ]
    },
    {
      "cell_type": "markdown",
      "metadata": {
        "id": "2Xudt3w2FJM1"
      },
      "source": [
        "## Exercise 4\n",
        "\n",
        "It many applications, it is useful to randomly select samples for K fold cross validation. In this Exercise, randomly select samples by setting `shuffle` to `True` in the `KFold` constructor. Use all the parameters, as above.\n"
      ]
    },
    {
      "cell_type": "code",
      "execution_count": 72,
      "metadata": {
        "id": "KDn1tqWGFJM4",
        "colab": {
          "base_uri": "https://localhost:8080/"
        },
        "outputId": "86bf9910-cf8d-4ec3-eb04-bb9993d77029"
      },
      "outputs": [
        {
          "output_type": "stream",
          "name": "stdout",
          "text": [
            "TRAIN: [  0   3   4   5   6   7   8   9  10  11  15  19  20  21  22  23  24  27\n",
            "  28  29  31  32  34  38  41  42  43  48  50  52  53  54  56  57  58  59\n",
            "  60  61  62  63  64  65  66  68  69  72  73  74  75  77  78  80  84  85\n",
            "  87  88  90  91  92  93  94  95  96  97  98 102 103 104 105 106 107 109\n",
            " 111 113 115 116 117 118 119 120 122 125 126 127 128 130 131 133 135 137\n",
            " 139 140 142 143 146 147 149 150 152 153 155 157 160 161 163 164 165 167\n",
            " 169 170 171 172 174 175 176 178 179 180 181 182 183 184 186 187 188 190\n",
            " 191 192 193 196 197 198 199 201 202 204]\n",
            "TEST: [  1   2  12  13  14  16  17  18  25  26  30  33  35  36  37  39  40  44\n",
            "  45  46  47  49  51  55  67  70  71  76  79  81  82  83  86  89  99 100\n",
            " 101 108 110 112 114 121 123 124 129 132 134 136 138 141 144 145 148 151\n",
            " 154 156 158 159 162 166 168 173 177 185 189 194 195 200 203]\n",
            "TRAIN: [  1   2   3  11  12  13  14  16  17  18  19  20  24  25  26  27  28  30\n",
            "  31  32  33  35  36  37  39  40  44  45  46  47  48  49  51  52  53  54\n",
            "  55  57  58  59  60  61  62  67  70  71  72  73  76  77  78  79  80  81\n",
            "  82  83  84  86  87  88  89  90  91  97  98  99 100 101 102 103 105 107\n",
            " 108 109 110 112 113 114 115 116 117 121 122 123 124 126 127 129 130 131\n",
            " 132 134 136 137 138 141 144 145 147 148 149 150 151 152 153 154 155 156\n",
            " 158 159 160 161 162 166 168 170 171 172 173 174 175 177 180 181 182 185\n",
            " 186 189 190 193 194 195 196 197 200 202 203]\n",
            "TEST: [  0   4   5   6   7   8   9  10  15  21  22  23  29  34  38  41  42  43\n",
            "  50  56  63  64  65  66  68  69  74  75  85  92  93  94  95  96 104 106\n",
            " 111 118 119 120 125 128 133 135 139 140 142 143 146 157 163 164 165 167\n",
            " 169 176 178 179 183 184 187 188 191 192 198 199 201 204]\n",
            "TRAIN: [  0   1   2   4   5   6   7   8   9  10  12  13  14  15  16  17  18  21\n",
            "  22  23  25  26  29  30  33  34  35  36  37  38  39  40  41  42  43  44\n",
            "  45  46  47  49  50  51  55  56  63  64  65  66  67  68  69  70  71  74\n",
            "  75  76  79  81  82  83  85  86  89  92  93  94  95  96  99 100 101 104\n",
            " 106 108 110 111 112 114 118 119 120 121 123 124 125 128 129 132 133 134\n",
            " 135 136 138 139 140 141 142 143 144 145 146 148 151 154 156 157 158 159\n",
            " 162 163 164 165 166 167 168 169 173 176 177 178 179 183 184 185 187 188\n",
            " 189 191 192 194 195 198 199 200 201 203 204]\n",
            "TEST: [  3  11  19  20  24  27  28  31  32  48  52  53  54  57  58  59  60  61\n",
            "  62  72  73  77  78  80  84  87  88  90  91  97  98 102 103 105 107 109\n",
            " 113 115 116 117 122 126 127 130 131 137 147 149 150 152 153 155 160 161\n",
            " 170 171 172 174 175 180 181 182 186 190 193 196 197 202]\n"
          ]
        },
        {
          "output_type": "execute_result",
          "data": {
            "text/plain": [
              "0.8273867201950159"
            ]
          },
          "metadata": {},
          "execution_count": 72
        }
      ],
      "source": [
        "# Enter your code and run the cell\n",
        "n_splits=3\n",
        "kf = KFold(n_splits = n_splits,shuffle=True)\n",
        "y = data['price'].copy()\n",
        "\n",
        "X = data.drop(columns=['price'])\n",
        "R_2=np.zeros((n_splits,1))\n",
        "pipe = Pipeline([('ss',StandardScaler() ),('lr', LinearRegression())])\n",
        "n=0\n",
        "for k,(train_index, test_index) in enumerate(kf.split(X,y)):\n",
        "  print(\"TRAIN:\", train_index)\n",
        "  print(\"TEST:\", test_index)\n",
        "  X_train, X_test =X.iloc[train_index],X.iloc[test_index]\n",
        "  y_train, y_test=y[train_index],y[test_index]\n",
        "  pipe.fit(X_train,y_train)\n",
        "  n=+1\n",
        "  R_2[k]=pipe.score(X_test, y_test)\n",
        "R_2.mean()"
      ]
    },
    {
      "cell_type": "markdown",
      "metadata": {
        "id": "0gqpQoiWFJM6"
      },
      "source": [
        "<details>\n",
        "<summary><strong>Solution</strong> (Click Here)</summary>\n",
        "```python\n",
        "\n",
        "n_splits=3\n",
        "kf = KFold(n_splits = n_splits,shuffle=True)\n",
        "y = data['price'].copy()\n",
        "X = data.drop(columns=['price'])\n",
        "R_2=np.zeros((n_splits,1))\n",
        "pipe = Pipeline([('ss',StandardScaler() ),('lr', LinearRegression())])\n",
        "n=0\n",
        "for k,(train_index, test_index) in enumerate(kf.split(X,y)):\n",
        "    print(\"TRAIN:\", train_index)\n",
        "    print(\"TEST:\", test_index)\n",
        "\n",
        "X_train, X_test =X.iloc[train_index],X.iloc[test_index]\n",
        "\n",
        "\n",
        "y_train, y_test=y[train_index],y[test_index]\n",
        "pipe.fit(X_train,y_train)\n",
        "n=+1\n",
        "R_2[k]=pipe.score(X_test, y_test)\n",
        "\n",
        "\n",
        "R_2.mean()\n",
        "\n",
        "```\n",
        "</details>\n"
      ]
    },
    {
      "cell_type": "markdown",
      "metadata": {
        "id": "TtqBALMIFJM8"
      },
      "source": [
        "In the Regularization lab, we will learn how to use cross validation to select hyper-parameters.\n"
      ]
    },
    {
      "cell_type": "markdown",
      "metadata": {
        "id": "vrYb4RpqFJM-"
      },
      "source": [
        "# Congratulations! - You have completed the lab\n"
      ]
    },
    {
      "cell_type": "markdown",
      "metadata": {
        "id": "2_xTa7TSFJNA"
      },
      "source": [
        "## Authors\n"
      ]
    },
    {
      "cell_type": "markdown",
      "metadata": {
        "id": "zDsgyGeAFJNC"
      },
      "source": [
        "<a href=\"https://www.linkedin.com/in/joseph-s-50398b136/?utm_medium=Exinfluencer&utm_source=Exinfluencer&utm_content=000026UJ&utm_term=10006555&utm_id=NA-SkillsNetwork-Channel-SkillsNetworkCoursesIBMDeveloperSkillsNetworkML0101ENSkillsNetwork20718538-2021-01-01\">Joseph Santarcangelo</a>\n",
        "\n",
        "[Svitlana Kramar](https://www.linkedin.com/in/svitlana-kramar?utm_medium=Exinfluencer&utm_source=Exinfluencer&utm_content=000026UJ&utm_term=10006555&utm_id=NA-SkillsNetwork-Channel-SkillsNetworkCoursesIBMML240ENSkillsNetwork34171862-2022-01-01)\n"
      ]
    },
    {
      "cell_type": "markdown",
      "metadata": {
        "id": "v5FeqTnCFJNE"
      },
      "source": [
        "## Change Log\n"
      ]
    },
    {
      "cell_type": "markdown",
      "metadata": {
        "id": "PsUPmXy7FJNG"
      },
      "source": [
        "| Date (YYYY-MM-DD) | Version | Changed By  | Change Description             |\n",
        "| ----------------- | ------- | ----------- | ------------------------------ |\n",
        "| 2022-03-25        | 0.1     | Joseph S.   | Updated all content            |\n",
        "| 2022-04-26        | 0.1     | Svitlana K. | Corrected minor grammar errors |\n"
      ]
    }
  ],
  "metadata": {
    "kernelspec": {
      "display_name": "Python 3",
      "name": "python3"
    },
    "language_info": {
      "name": "python"
    },
    "colab": {
      "provenance": [],
      "include_colab_link": true
    }
  },
  "nbformat": 4,
  "nbformat_minor": 0
}