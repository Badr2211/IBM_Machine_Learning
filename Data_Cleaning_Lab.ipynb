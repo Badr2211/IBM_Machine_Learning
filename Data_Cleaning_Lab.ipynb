{
  "cells": [
    {
      "cell_type": "markdown",
      "metadata": {
        "id": "view-in-github",
        "colab_type": "text"
      },
      "source": [
        "<a href=\"https://colab.research.google.com/github/Badr2211/IBM_Machine_Learning/blob/Eda_course/Data_Cleaning_Lab.ipynb\" target=\"_parent\"><img src=\"https://colab.research.google.com/assets/colab-badge.svg\" alt=\"Open In Colab\"/></a>"
      ]
    },
    {
      "cell_type": "markdown",
      "metadata": {
        "id": "McPgdL_UKsaD"
      },
      "source": [
        "<p style=\"text-align:center\">\n",
        "    <a href=\"https://skills.network/?utm_medium=Exinfluencer&utm_source=Exinfluencer&utm_content=000026UJ&utm_term=10006555&utm_id=NA-SkillsNetwork-Channel-SkillsNetworkCoursesIBMML0232ENSkillsNetwork30654641-2022-01-01\" target=\"_blank\">\n",
        "    <img src=\"https://cf-courses-data.s3.us.cloud-object-storage.appdomain.cloud/assets/logos/SN_web_lightmode.png\" width=\"200\" alt=\"Skills Network Logo\"  />\n",
        "    </a>\n",
        "</p>\n"
      ]
    },
    {
      "cell_type": "markdown",
      "metadata": {
        "id": "Tq56fY5TKsaW"
      },
      "source": [
        "# Data Cleaning\n",
        "\n",
        "Estimated time needed: **45** minutes\n",
        "\n",
        "Most of the real-world data, that the data scientist work with, are raw data, meaning that it can contain repeated, missing, and irrelevant entries of information. Hence, if this data is used in any machine learning analysis, it will result in low accuracy or incorrect prediction. For this reason, data cleaning, also known as data cleansing, is an important technique that comes prior to any model building.\n",
        "\n",
        "In this notebook, we will take a look at some of the common data cleaning techniques that data scientists may use to prepare their data for analysis.\n",
        "\n",
        "## Objectives\n",
        "\n",
        "After completing this lab you will be able to:\n",
        "\n",
        "*   Use Log function to transform the data\n",
        "*   Handle the duplicates\n",
        "*   Handle the missing values\n",
        "*   Standardize and normalize the data\n",
        "*   Handle the outliers\n"
      ]
    },
    {
      "cell_type": "markdown",
      "metadata": {
        "id": "9q5e8IJ7Ksab"
      },
      "source": [
        "***\n"
      ]
    },
    {
      "cell_type": "markdown",
      "metadata": {
        "id": "WM0yEjGiKsad"
      },
      "source": [
        "## **Setup**\n"
      ]
    },
    {
      "cell_type": "markdown",
      "metadata": {
        "id": "1en2dqRoKsag"
      },
      "source": [
        "For this lab, we will be using the following libraries:\n",
        "\n",
        "*   [`pandas`](https://pandas.pydata.org/?utm_medium=Exinfluencer&utm_source=Exinfluencer&utm_content=000026UJ&utm_term=10006555&utm_id=NA-SkillsNetwork-Channel-SkillsNetworkCoursesIBMML0232ENSkillsNetwork30654641-2022-01-01) for managing the data.\n",
        "*   [`numpy`](https://numpy.org/?utm_medium=Exinfluencer&utm_source=Exinfluencer&utm_content=000026UJ&utm_term=10006555&utm_id=NA-SkillsNetwork-Channel-SkillsNetworkCoursesIBMML0232ENSkillsNetwork30654641-2022-01-01) for mathematical operations.\n",
        "*   [`seaborn`](https://seaborn.pydata.org/?utm_medium=Exinfluencer&utm_source=Exinfluencer&utm_content=000026UJ&utm_term=10006555&utm_id=NA-SkillsNetwork-Channel-SkillsNetworkCoursesIBMML0232ENSkillsNetwork30654641-2022-01-01) for visualizing the data.\n",
        "*   [`matplotlib`](https://matplotlib.org/?utm_medium=Exinfluencer&utm_source=Exinfluencer&utm_content=000026UJ&utm_term=10006555&utm_id=NA-SkillsNetwork-Channel-SkillsNetworkCoursesIBMML0232ENSkillsNetwork30654641-2022-01-01) for visualizing the data.\n",
        "*   [`sklearn`](https://scikit-learn.org/stable/?utm_medium=Exinfluencer&utm_source=Exinfluencer&utm_content=000026UJ&utm_term=10006555&utm_id=NA-SkillsNetwork-Channel-SkillsNetworkCoursesIBMML0232ENSkillsNetwork30654641-2022-01-01) for machine learning and machine-learning-pipeline related functions.\n",
        "*   [`scipy`](https://docs.scipy.org/doc/scipy/tutorial/stats.html/?utm_medium=Exinfluencer&utm_source=Exinfluencer&utm_content=000026UJ&utm_term=10006555&utm_id=NA-SkillsNetwork-Channel-SkillsNetworkCoursesIBMML0232ENSkillsNetwork30654641-2022-01-01) for statistical computations.\n"
      ]
    },
    {
      "cell_type": "markdown",
      "metadata": {
        "id": "KrZkmtUTKsam"
      },
      "source": [
        "## **Import the required libraries**\n"
      ]
    },
    {
      "cell_type": "markdown",
      "metadata": {
        "id": "V2_FZqf2Ksao"
      },
      "source": [
        "The following required modules are pre-installed in the Skills Network Labs environment. However if you run this notebook commands in a different Jupyter environment (e.g. Watson Studio or Ananconda) you will need to install these libraries by removing the `#` sign before `!mamba` in the code cell below.\n"
      ]
    },
    {
      "cell_type": "code",
      "execution_count": null,
      "metadata": {
        "colab": {
          "base_uri": "https://localhost:8080/",
          "height": 218
        },
        "id": "a2Bnd67UKsas",
        "outputId": "3bbd31fa-9b0d-4d29-a0e9-54dc73f96c5b"
      },
      "outputs": [
        {
          "ename": "IndentationError",
          "evalue": "ignored",
          "output_type": "error",
          "traceback": [
            "\u001b[0;36m  File \u001b[0;32m\"<ipython-input-1-6971e5197343>\"\u001b[0;36m, line \u001b[0;32m2\u001b[0m\n\u001b[0;31m    get_ipython().system(' pip install -qy pandas==1.3.4 numpy==1.21.4 seaborn==0.9.0 matplotlib==3.5.0 scikit-learn==0.20.1')\u001b[0m\n\u001b[0m    ^\u001b[0m\n\u001b[0;31mIndentationError\u001b[0m\u001b[0;31m:\u001b[0m unexpected indent\n"
          ]
        }
      ],
      "source": [
        "# All Libraries required for this lab are listed below. The libraries pre-installed on Skills Network Labs are commented.\n",
        " ! pip install -qy pandas==1.3.4 numpy==1.21.4 seaborn==0.9.0 matplotlib==3.5.0 scikit-learn==0.20.1\n",
        "# Note: If your environment doesn't support \"!mamba install\", use \"!pip install\""
      ]
    },
    {
      "cell_type": "code",
      "execution_count": null,
      "metadata": {
        "id": "rHA03NnmKsa0"
      },
      "outputs": [],
      "source": [
        "import warnings\n",
        "warnings.filterwarnings('ignore')"
      ]
    },
    {
      "cell_type": "code",
      "execution_count": null,
      "metadata": {
        "id": "CxQ3gToJKsa2"
      },
      "outputs": [],
      "source": [
        "import pandas as pd\n",
        "import numpy as np\n",
        "\n",
        "import seaborn as sns\n",
        "import matplotlib.pylab as plt\n",
        "%matplotlib inline\n",
        "\n",
        "from sklearn.preprocessing import StandardScaler\n",
        "from sklearn.preprocessing import MinMaxScaler\n",
        "\n",
        "from scipy.stats import norm\n",
        "from scipy import stats"
      ]
    },
    {
      "cell_type": "markdown",
      "metadata": {
        "id": "7ay9GJzRKsa5"
      },
      "source": [
        "## **Reading and understanding our data**\n"
      ]
    },
    {
      "cell_type": "markdown",
      "metadata": {
        "id": "dDOTaG2VKsa7"
      },
      "source": [
        "For this lab, we will be using the Ames_Housing_Data.tsv file, hosted on IBM Cloud object storage. The Ames housing dataset examines features of houses sold in Ames (a small city in the state of Iowa in the United States) during the 2006–2010 timeframe.\n"
      ]
    },
    {
      "cell_type": "markdown",
      "metadata": {
        "id": "ugtRIngEKsa-"
      },
      "source": [
        "Let's read the data into *pandas* data frame and look at the first 5 rows using the `head()` method.\n"
      ]
    },
    {
      "cell_type": "code",
      "execution_count": null,
      "metadata": {
        "colab": {
          "base_uri": "https://localhost:8080/",
          "height": 473
        },
        "id": "XG_ufQmeKsbA",
        "outputId": "53605473-9189-468f-84d1-504f871ebd31"
      },
      "outputs": [
        {
          "data": {
            "text/html": [
              "\n",
              "  <div id=\"df-a34a1515-815b-4b19-9e38-0f10192a002e\">\n",
              "    <div class=\"colab-df-container\">\n",
              "      <div>\n",
              "<style scoped>\n",
              "    .dataframe tbody tr th:only-of-type {\n",
              "        vertical-align: middle;\n",
              "    }\n",
              "\n",
              "    .dataframe tbody tr th {\n",
              "        vertical-align: top;\n",
              "    }\n",
              "\n",
              "    .dataframe thead th {\n",
              "        text-align: right;\n",
              "    }\n",
              "</style>\n",
              "<table border=\"1\" class=\"dataframe\">\n",
              "  <thead>\n",
              "    <tr style=\"text-align: right;\">\n",
              "      <th></th>\n",
              "      <th>Order</th>\n",
              "      <th>PID</th>\n",
              "      <th>MS SubClass</th>\n",
              "      <th>MS Zoning</th>\n",
              "      <th>Lot Frontage</th>\n",
              "      <th>Lot Area</th>\n",
              "      <th>Street</th>\n",
              "      <th>Alley</th>\n",
              "      <th>Lot Shape</th>\n",
              "      <th>Land Contour</th>\n",
              "      <th>...</th>\n",
              "      <th>Pool Area</th>\n",
              "      <th>Pool QC</th>\n",
              "      <th>Fence</th>\n",
              "      <th>Misc Feature</th>\n",
              "      <th>Misc Val</th>\n",
              "      <th>Mo Sold</th>\n",
              "      <th>Yr Sold</th>\n",
              "      <th>Sale Type</th>\n",
              "      <th>Sale Condition</th>\n",
              "      <th>SalePrice</th>\n",
              "    </tr>\n",
              "  </thead>\n",
              "  <tbody>\n",
              "    <tr>\n",
              "      <th>0</th>\n",
              "      <td>1</td>\n",
              "      <td>526301100</td>\n",
              "      <td>20</td>\n",
              "      <td>RL</td>\n",
              "      <td>141.0</td>\n",
              "      <td>31770</td>\n",
              "      <td>Pave</td>\n",
              "      <td>NaN</td>\n",
              "      <td>IR1</td>\n",
              "      <td>Lvl</td>\n",
              "      <td>...</td>\n",
              "      <td>0</td>\n",
              "      <td>NaN</td>\n",
              "      <td>NaN</td>\n",
              "      <td>NaN</td>\n",
              "      <td>0</td>\n",
              "      <td>5</td>\n",
              "      <td>2010</td>\n",
              "      <td>WD</td>\n",
              "      <td>Normal</td>\n",
              "      <td>215000</td>\n",
              "    </tr>\n",
              "    <tr>\n",
              "      <th>1</th>\n",
              "      <td>1</td>\n",
              "      <td>526301100</td>\n",
              "      <td>20</td>\n",
              "      <td>RL</td>\n",
              "      <td>141.0</td>\n",
              "      <td>31770</td>\n",
              "      <td>Pave</td>\n",
              "      <td>NaN</td>\n",
              "      <td>IR1</td>\n",
              "      <td>Lvl</td>\n",
              "      <td>...</td>\n",
              "      <td>0</td>\n",
              "      <td>NaN</td>\n",
              "      <td>NaN</td>\n",
              "      <td>NaN</td>\n",
              "      <td>0</td>\n",
              "      <td>5</td>\n",
              "      <td>2010</td>\n",
              "      <td>WD</td>\n",
              "      <td>Normal</td>\n",
              "      <td>215000</td>\n",
              "    </tr>\n",
              "    <tr>\n",
              "      <th>2</th>\n",
              "      <td>2</td>\n",
              "      <td>526350040</td>\n",
              "      <td>20</td>\n",
              "      <td>RH</td>\n",
              "      <td>80.0</td>\n",
              "      <td>11622</td>\n",
              "      <td>Pave</td>\n",
              "      <td>NaN</td>\n",
              "      <td>Reg</td>\n",
              "      <td>Lvl</td>\n",
              "      <td>...</td>\n",
              "      <td>0</td>\n",
              "      <td>NaN</td>\n",
              "      <td>MnPrv</td>\n",
              "      <td>NaN</td>\n",
              "      <td>0</td>\n",
              "      <td>6</td>\n",
              "      <td>2010</td>\n",
              "      <td>WD</td>\n",
              "      <td>Normal</td>\n",
              "      <td>105000</td>\n",
              "    </tr>\n",
              "    <tr>\n",
              "      <th>3</th>\n",
              "      <td>3</td>\n",
              "      <td>526351010</td>\n",
              "      <td>20</td>\n",
              "      <td>RL</td>\n",
              "      <td>81.0</td>\n",
              "      <td>14267</td>\n",
              "      <td>Pave</td>\n",
              "      <td>NaN</td>\n",
              "      <td>IR1</td>\n",
              "      <td>Lvl</td>\n",
              "      <td>...</td>\n",
              "      <td>0</td>\n",
              "      <td>NaN</td>\n",
              "      <td>NaN</td>\n",
              "      <td>Gar2</td>\n",
              "      <td>12500</td>\n",
              "      <td>6</td>\n",
              "      <td>2010</td>\n",
              "      <td>WD</td>\n",
              "      <td>Normal</td>\n",
              "      <td>172000</td>\n",
              "    </tr>\n",
              "    <tr>\n",
              "      <th>4</th>\n",
              "      <td>4</td>\n",
              "      <td>526353030</td>\n",
              "      <td>20</td>\n",
              "      <td>RL</td>\n",
              "      <td>93.0</td>\n",
              "      <td>11160</td>\n",
              "      <td>Pave</td>\n",
              "      <td>NaN</td>\n",
              "      <td>Reg</td>\n",
              "      <td>Lvl</td>\n",
              "      <td>...</td>\n",
              "      <td>0</td>\n",
              "      <td>NaN</td>\n",
              "      <td>NaN</td>\n",
              "      <td>NaN</td>\n",
              "      <td>0</td>\n",
              "      <td>4</td>\n",
              "      <td>2010</td>\n",
              "      <td>WD</td>\n",
              "      <td>Normal</td>\n",
              "      <td>244000</td>\n",
              "    </tr>\n",
              "    <tr>\n",
              "      <th>5</th>\n",
              "      <td>5</td>\n",
              "      <td>527105010</td>\n",
              "      <td>60</td>\n",
              "      <td>RL</td>\n",
              "      <td>74.0</td>\n",
              "      <td>13830</td>\n",
              "      <td>Pave</td>\n",
              "      <td>NaN</td>\n",
              "      <td>IR1</td>\n",
              "      <td>Lvl</td>\n",
              "      <td>...</td>\n",
              "      <td>0</td>\n",
              "      <td>NaN</td>\n",
              "      <td>MnPrv</td>\n",
              "      <td>NaN</td>\n",
              "      <td>0</td>\n",
              "      <td>3</td>\n",
              "      <td>2010</td>\n",
              "      <td>WD</td>\n",
              "      <td>Normal</td>\n",
              "      <td>189900</td>\n",
              "    </tr>\n",
              "    <tr>\n",
              "      <th>6</th>\n",
              "      <td>6</td>\n",
              "      <td>527105030</td>\n",
              "      <td>60</td>\n",
              "      <td>RL</td>\n",
              "      <td>78.0</td>\n",
              "      <td>9978</td>\n",
              "      <td>Pave</td>\n",
              "      <td>NaN</td>\n",
              "      <td>IR1</td>\n",
              "      <td>Lvl</td>\n",
              "      <td>...</td>\n",
              "      <td>0</td>\n",
              "      <td>NaN</td>\n",
              "      <td>NaN</td>\n",
              "      <td>NaN</td>\n",
              "      <td>0</td>\n",
              "      <td>6</td>\n",
              "      <td>2010</td>\n",
              "      <td>WD</td>\n",
              "      <td>Normal</td>\n",
              "      <td>195500</td>\n",
              "    </tr>\n",
              "    <tr>\n",
              "      <th>7</th>\n",
              "      <td>7</td>\n",
              "      <td>527127150</td>\n",
              "      <td>120</td>\n",
              "      <td>RL</td>\n",
              "      <td>41.0</td>\n",
              "      <td>4920</td>\n",
              "      <td>Pave</td>\n",
              "      <td>NaN</td>\n",
              "      <td>Reg</td>\n",
              "      <td>Lvl</td>\n",
              "      <td>...</td>\n",
              "      <td>0</td>\n",
              "      <td>NaN</td>\n",
              "      <td>NaN</td>\n",
              "      <td>NaN</td>\n",
              "      <td>0</td>\n",
              "      <td>4</td>\n",
              "      <td>2010</td>\n",
              "      <td>WD</td>\n",
              "      <td>Normal</td>\n",
              "      <td>213500</td>\n",
              "    </tr>\n",
              "    <tr>\n",
              "      <th>8</th>\n",
              "      <td>8</td>\n",
              "      <td>527145080</td>\n",
              "      <td>120</td>\n",
              "      <td>RL</td>\n",
              "      <td>43.0</td>\n",
              "      <td>5005</td>\n",
              "      <td>Pave</td>\n",
              "      <td>NaN</td>\n",
              "      <td>IR1</td>\n",
              "      <td>HLS</td>\n",
              "      <td>...</td>\n",
              "      <td>0</td>\n",
              "      <td>NaN</td>\n",
              "      <td>NaN</td>\n",
              "      <td>NaN</td>\n",
              "      <td>0</td>\n",
              "      <td>1</td>\n",
              "      <td>2010</td>\n",
              "      <td>WD</td>\n",
              "      <td>Normal</td>\n",
              "      <td>191500</td>\n",
              "    </tr>\n",
              "    <tr>\n",
              "      <th>9</th>\n",
              "      <td>9</td>\n",
              "      <td>527146030</td>\n",
              "      <td>120</td>\n",
              "      <td>RL</td>\n",
              "      <td>39.0</td>\n",
              "      <td>5389</td>\n",
              "      <td>Pave</td>\n",
              "      <td>NaN</td>\n",
              "      <td>IR1</td>\n",
              "      <td>Lvl</td>\n",
              "      <td>...</td>\n",
              "      <td>0</td>\n",
              "      <td>NaN</td>\n",
              "      <td>NaN</td>\n",
              "      <td>NaN</td>\n",
              "      <td>0</td>\n",
              "      <td>3</td>\n",
              "      <td>2010</td>\n",
              "      <td>WD</td>\n",
              "      <td>Normal</td>\n",
              "      <td>236500</td>\n",
              "    </tr>\n",
              "  </tbody>\n",
              "</table>\n",
              "<p>10 rows × 82 columns</p>\n",
              "</div>\n",
              "      <button class=\"colab-df-convert\" onclick=\"convertToInteractive('df-a34a1515-815b-4b19-9e38-0f10192a002e')\"\n",
              "              title=\"Convert this dataframe to an interactive table.\"\n",
              "              style=\"display:none;\">\n",
              "        \n",
              "  <svg xmlns=\"http://www.w3.org/2000/svg\" height=\"24px\"viewBox=\"0 0 24 24\"\n",
              "       width=\"24px\">\n",
              "    <path d=\"M0 0h24v24H0V0z\" fill=\"none\"/>\n",
              "    <path d=\"M18.56 5.44l.94 2.06.94-2.06 2.06-.94-2.06-.94-.94-2.06-.94 2.06-2.06.94zm-11 1L8.5 8.5l.94-2.06 2.06-.94-2.06-.94L8.5 2.5l-.94 2.06-2.06.94zm10 10l.94 2.06.94-2.06 2.06-.94-2.06-.94-.94-2.06-.94 2.06-2.06.94z\"/><path d=\"M17.41 7.96l-1.37-1.37c-.4-.4-.92-.59-1.43-.59-.52 0-1.04.2-1.43.59L10.3 9.45l-7.72 7.72c-.78.78-.78 2.05 0 2.83L4 21.41c.39.39.9.59 1.41.59.51 0 1.02-.2 1.41-.59l7.78-7.78 2.81-2.81c.8-.78.8-2.07 0-2.86zM5.41 20L4 18.59l7.72-7.72 1.47 1.35L5.41 20z\"/>\n",
              "  </svg>\n",
              "      </button>\n",
              "      \n",
              "  <style>\n",
              "    .colab-df-container {\n",
              "      display:flex;\n",
              "      flex-wrap:wrap;\n",
              "      gap: 12px;\n",
              "    }\n",
              "\n",
              "    .colab-df-convert {\n",
              "      background-color: #E8F0FE;\n",
              "      border: none;\n",
              "      border-radius: 50%;\n",
              "      cursor: pointer;\n",
              "      display: none;\n",
              "      fill: #1967D2;\n",
              "      height: 32px;\n",
              "      padding: 0 0 0 0;\n",
              "      width: 32px;\n",
              "    }\n",
              "\n",
              "    .colab-df-convert:hover {\n",
              "      background-color: #E2EBFA;\n",
              "      box-shadow: 0px 1px 2px rgba(60, 64, 67, 0.3), 0px 1px 3px 1px rgba(60, 64, 67, 0.15);\n",
              "      fill: #174EA6;\n",
              "    }\n",
              "\n",
              "    [theme=dark] .colab-df-convert {\n",
              "      background-color: #3B4455;\n",
              "      fill: #D2E3FC;\n",
              "    }\n",
              "\n",
              "    [theme=dark] .colab-df-convert:hover {\n",
              "      background-color: #434B5C;\n",
              "      box-shadow: 0px 1px 3px 1px rgba(0, 0, 0, 0.15);\n",
              "      filter: drop-shadow(0px 1px 2px rgba(0, 0, 0, 0.3));\n",
              "      fill: #FFFFFF;\n",
              "    }\n",
              "  </style>\n",
              "\n",
              "      <script>\n",
              "        const buttonEl =\n",
              "          document.querySelector('#df-a34a1515-815b-4b19-9e38-0f10192a002e button.colab-df-convert');\n",
              "        buttonEl.style.display =\n",
              "          google.colab.kernel.accessAllowed ? 'block' : 'none';\n",
              "\n",
              "        async function convertToInteractive(key) {\n",
              "          const element = document.querySelector('#df-a34a1515-815b-4b19-9e38-0f10192a002e');\n",
              "          const dataTable =\n",
              "            await google.colab.kernel.invokeFunction('convertToInteractive',\n",
              "                                                     [key], {});\n",
              "          if (!dataTable) return;\n",
              "\n",
              "          const docLinkHtml = 'Like what you see? Visit the ' +\n",
              "            '<a target=\"_blank\" href=https://colab.research.google.com/notebooks/data_table.ipynb>data table notebook</a>'\n",
              "            + ' to learn more about interactive tables.';\n",
              "          element.innerHTML = '';\n",
              "          dataTable['output_type'] = 'display_data';\n",
              "          await google.colab.output.renderOutput(dataTable, element);\n",
              "          const docLink = document.createElement('div');\n",
              "          docLink.innerHTML = docLinkHtml;\n",
              "          element.appendChild(docLink);\n",
              "        }\n",
              "      </script>\n",
              "    </div>\n",
              "  </div>\n",
              "  "
            ],
            "text/plain": [
              "   Order        PID  MS SubClass MS Zoning  Lot Frontage  Lot Area Street  \\\n",
              "0      1  526301100           20        RL         141.0     31770   Pave   \n",
              "1      1  526301100           20        RL         141.0     31770   Pave   \n",
              "2      2  526350040           20        RH          80.0     11622   Pave   \n",
              "3      3  526351010           20        RL          81.0     14267   Pave   \n",
              "4      4  526353030           20        RL          93.0     11160   Pave   \n",
              "5      5  527105010           60        RL          74.0     13830   Pave   \n",
              "6      6  527105030           60        RL          78.0      9978   Pave   \n",
              "7      7  527127150          120        RL          41.0      4920   Pave   \n",
              "8      8  527145080          120        RL          43.0      5005   Pave   \n",
              "9      9  527146030          120        RL          39.0      5389   Pave   \n",
              "\n",
              "  Alley Lot Shape Land Contour  ... Pool Area Pool QC  Fence Misc Feature  \\\n",
              "0   NaN       IR1          Lvl  ...         0     NaN    NaN          NaN   \n",
              "1   NaN       IR1          Lvl  ...         0     NaN    NaN          NaN   \n",
              "2   NaN       Reg          Lvl  ...         0     NaN  MnPrv          NaN   \n",
              "3   NaN       IR1          Lvl  ...         0     NaN    NaN         Gar2   \n",
              "4   NaN       Reg          Lvl  ...         0     NaN    NaN          NaN   \n",
              "5   NaN       IR1          Lvl  ...         0     NaN  MnPrv          NaN   \n",
              "6   NaN       IR1          Lvl  ...         0     NaN    NaN          NaN   \n",
              "7   NaN       Reg          Lvl  ...         0     NaN    NaN          NaN   \n",
              "8   NaN       IR1          HLS  ...         0     NaN    NaN          NaN   \n",
              "9   NaN       IR1          Lvl  ...         0     NaN    NaN          NaN   \n",
              "\n",
              "  Misc Val Mo Sold Yr Sold Sale Type  Sale Condition  SalePrice  \n",
              "0        0       5    2010       WD           Normal     215000  \n",
              "1        0       5    2010       WD           Normal     215000  \n",
              "2        0       6    2010       WD           Normal     105000  \n",
              "3    12500       6    2010       WD           Normal     172000  \n",
              "4        0       4    2010       WD           Normal     244000  \n",
              "5        0       3    2010       WD           Normal     189900  \n",
              "6        0       6    2010       WD           Normal     195500  \n",
              "7        0       4    2010       WD           Normal     213500  \n",
              "8        0       1    2010       WD           Normal     191500  \n",
              "9        0       3    2010       WD           Normal     236500  \n",
              "\n",
              "[10 rows x 82 columns]"
            ]
          },
          "execution_count": 3,
          "metadata": {},
          "output_type": "execute_result"
        }
      ],
      "source": [
        "housing = pd.read_csv(\"https://cf-courses-data.s3.us.cloud-object-storage.appdomain.cloud/IBM-ML0232EN-SkillsNetwork/asset/Ames_Housing_Data1.tsv\", sep='\\t')\n",
        "housing.head(10)"
      ]
    },
    {
      "cell_type": "markdown",
      "metadata": {
        "id": "VWPudffBKsbC"
      },
      "source": [
        "We can find more information about the features and types using the `info()`  method.\n"
      ]
    },
    {
      "cell_type": "code",
      "execution_count": null,
      "metadata": {
        "colab": {
          "base_uri": "https://localhost:8080/"
        },
        "id": "KEQGvIfvKsbD",
        "outputId": "c192dae6-f2b0-4bfc-e83f-56b9d200b940"
      },
      "outputs": [
        {
          "name": "stdout",
          "output_type": "stream",
          "text": [
            "<class 'pandas.core.frame.DataFrame'>\n",
            "RangeIndex: 2931 entries, 0 to 2930\n",
            "Data columns (total 82 columns):\n",
            " #   Column           Non-Null Count  Dtype  \n",
            "---  ------           --------------  -----  \n",
            " 0   Order            2931 non-null   int64  \n",
            " 1   PID              2931 non-null   int64  \n",
            " 2   MS SubClass      2931 non-null   int64  \n",
            " 3   MS Zoning        2931 non-null   object \n",
            " 4   Lot Frontage     2441 non-null   float64\n",
            " 5   Lot Area         2931 non-null   int64  \n",
            " 6   Street           2931 non-null   object \n",
            " 7   Alley            198 non-null    object \n",
            " 8   Lot Shape        2931 non-null   object \n",
            " 9   Land Contour     2931 non-null   object \n",
            " 10  Utilities        2931 non-null   object \n",
            " 11  Lot Config       2931 non-null   object \n",
            " 12  Land Slope       2931 non-null   object \n",
            " 13  Neighborhood     2931 non-null   object \n",
            " 14  Condition 1      2931 non-null   object \n",
            " 15  Condition 2      2931 non-null   object \n",
            " 16  Bldg Type        2931 non-null   object \n",
            " 17  House Style      2931 non-null   object \n",
            " 18  Overall Qual     2931 non-null   int64  \n",
            " 19  Overall Cond     2931 non-null   int64  \n",
            " 20  Year Built       2931 non-null   int64  \n",
            " 21  Year Remod/Add   2931 non-null   int64  \n",
            " 22  Roof Style       2931 non-null   object \n",
            " 23  Roof Matl        2931 non-null   object \n",
            " 24  Exterior 1st     2931 non-null   object \n",
            " 25  Exterior 2nd     2931 non-null   object \n",
            " 26  Mas Vnr Type     2908 non-null   object \n",
            " 27  Mas Vnr Area     2908 non-null   float64\n",
            " 28  Exter Qual       2931 non-null   object \n",
            " 29  Exter Cond       2931 non-null   object \n",
            " 30  Foundation       2931 non-null   object \n",
            " 31  Bsmt Qual        2851 non-null   object \n",
            " 32  Bsmt Cond        2851 non-null   object \n",
            " 33  Bsmt Exposure    2848 non-null   object \n",
            " 34  BsmtFin Type 1   2851 non-null   object \n",
            " 35  BsmtFin SF 1     2930 non-null   float64\n",
            " 36  BsmtFin Type 2   2850 non-null   object \n",
            " 37  BsmtFin SF 2     2930 non-null   float64\n",
            " 38  Bsmt Unf SF      2930 non-null   float64\n",
            " 39  Total Bsmt SF    2930 non-null   float64\n",
            " 40  Heating          2931 non-null   object \n",
            " 41  Heating QC       2931 non-null   object \n",
            " 42  Central Air      2931 non-null   object \n",
            " 43  Electrical       2930 non-null   object \n",
            " 44  1st Flr SF       2931 non-null   int64  \n",
            " 45  2nd Flr SF       2931 non-null   int64  \n",
            " 46  Low Qual Fin SF  2931 non-null   int64  \n",
            " 47  Gr Liv Area      2931 non-null   int64  \n",
            " 48  Bsmt Full Bath   2929 non-null   float64\n",
            " 49  Bsmt Half Bath   2929 non-null   float64\n",
            " 50  Full Bath        2931 non-null   int64  \n",
            " 51  Half Bath        2931 non-null   int64  \n",
            " 52  Bedroom AbvGr    2931 non-null   int64  \n",
            " 53  Kitchen AbvGr    2931 non-null   int64  \n",
            " 54  Kitchen Qual     2931 non-null   object \n",
            " 55  TotRms AbvGrd    2931 non-null   int64  \n",
            " 56  Functional       2931 non-null   object \n",
            " 57  Fireplaces       2931 non-null   int64  \n",
            " 58  Fireplace Qu     1509 non-null   object \n",
            " 59  Garage Type      2774 non-null   object \n",
            " 60  Garage Yr Blt    2772 non-null   float64\n",
            " 61  Garage Finish    2772 non-null   object \n",
            " 62  Garage Cars      2930 non-null   float64\n",
            " 63  Garage Area      2930 non-null   float64\n",
            " 64  Garage Qual      2772 non-null   object \n",
            " 65  Garage Cond      2772 non-null   object \n",
            " 66  Paved Drive      2931 non-null   object \n",
            " 67  Wood Deck SF     2931 non-null   int64  \n",
            " 68  Open Porch SF    2931 non-null   int64  \n",
            " 69  Enclosed Porch   2931 non-null   int64  \n",
            " 70  3Ssn Porch       2931 non-null   int64  \n",
            " 71  Screen Porch     2931 non-null   int64  \n",
            " 72  Pool Area        2931 non-null   int64  \n",
            " 73  Pool QC          13 non-null     object \n",
            " 74  Fence            572 non-null    object \n",
            " 75  Misc Feature     106 non-null    object \n",
            " 76  Misc Val         2931 non-null   int64  \n",
            " 77  Mo Sold          2931 non-null   int64  \n",
            " 78  Yr Sold          2931 non-null   int64  \n",
            " 79  Sale Type        2931 non-null   object \n",
            " 80  Sale Condition   2931 non-null   object \n",
            " 81  SalePrice        2931 non-null   int64  \n",
            "dtypes: float64(11), int64(28), object(43)\n",
            "memory usage: 1.8+ MB\n"
          ]
        }
      ],
      "source": [
        "housing.info()"
      ]
    },
    {
      "cell_type": "markdown",
      "metadata": {
        "id": "YE8IFBaFKsbF"
      },
      "source": [
        "According to the output above, we have 2930 entries, 0 to 2929, as well as 81 features. The \"Non-Null Count\" column shows the number of non-null entries.  If the count is 2930 then there is no missing values for that particular feature. 'SalePrice' is our target or response variable and the rest of the features are our predictor variables.\n",
        "\n",
        "We also have a mix of numerical (28 int64 and 11 float64) and object data types.\n"
      ]
    },
    {
      "cell_type": "markdown",
      "metadata": {
        "id": "LveNEQLkKsbH"
      },
      "source": [
        "Next, let's use the `describe()` function to show the count, mean, min, max of the sale price attribute.\n"
      ]
    },
    {
      "cell_type": "code",
      "execution_count": null,
      "metadata": {
        "colab": {
          "base_uri": "https://localhost:8080/",
          "height": 410
        },
        "id": "zh_xlrCpKsbI",
        "outputId": "79a002fb-b9f5-4f1e-a926-cb6325283fe5"
      },
      "outputs": [
        {
          "data": {
            "text/html": [
              "\n",
              "  <div id=\"df-62a07292-709b-4477-bc0d-3323dee6a543\">\n",
              "    <div class=\"colab-df-container\">\n",
              "      <div>\n",
              "<style scoped>\n",
              "    .dataframe tbody tr th:only-of-type {\n",
              "        vertical-align: middle;\n",
              "    }\n",
              "\n",
              "    .dataframe tbody tr th {\n",
              "        vertical-align: top;\n",
              "    }\n",
              "\n",
              "    .dataframe thead th {\n",
              "        text-align: right;\n",
              "    }\n",
              "</style>\n",
              "<table border=\"1\" class=\"dataframe\">\n",
              "  <thead>\n",
              "    <tr style=\"text-align: right;\">\n",
              "      <th></th>\n",
              "      <th>Order</th>\n",
              "      <th>PID</th>\n",
              "      <th>MS SubClass</th>\n",
              "      <th>Lot Frontage</th>\n",
              "      <th>Lot Area</th>\n",
              "      <th>Overall Qual</th>\n",
              "      <th>Overall Cond</th>\n",
              "      <th>Year Built</th>\n",
              "      <th>Year Remod/Add</th>\n",
              "      <th>Mas Vnr Area</th>\n",
              "      <th>...</th>\n",
              "      <th>Wood Deck SF</th>\n",
              "      <th>Open Porch SF</th>\n",
              "      <th>Enclosed Porch</th>\n",
              "      <th>3Ssn Porch</th>\n",
              "      <th>Screen Porch</th>\n",
              "      <th>Pool Area</th>\n",
              "      <th>Misc Val</th>\n",
              "      <th>Mo Sold</th>\n",
              "      <th>Yr Sold</th>\n",
              "      <th>SalePrice</th>\n",
              "    </tr>\n",
              "  </thead>\n",
              "  <tbody>\n",
              "    <tr>\n",
              "      <th>count</th>\n",
              "      <td>2931.000000</td>\n",
              "      <td>2.931000e+03</td>\n",
              "      <td>2931.000000</td>\n",
              "      <td>2441.000000</td>\n",
              "      <td>2931.000000</td>\n",
              "      <td>2931.000000</td>\n",
              "      <td>2931.000000</td>\n",
              "      <td>2931.000000</td>\n",
              "      <td>2931.000000</td>\n",
              "      <td>2908.000000</td>\n",
              "      <td>...</td>\n",
              "      <td>2931.000000</td>\n",
              "      <td>2931.000000</td>\n",
              "      <td>2931.000000</td>\n",
              "      <td>2931.000000</td>\n",
              "      <td>2931.000000</td>\n",
              "      <td>2931.000000</td>\n",
              "      <td>2931.000000</td>\n",
              "      <td>2931.000000</td>\n",
              "      <td>2931.000000</td>\n",
              "      <td>2931.000000</td>\n",
              "    </tr>\n",
              "    <tr>\n",
              "      <th>mean</th>\n",
              "      <td>1465.000341</td>\n",
              "      <td>7.144003e+08</td>\n",
              "      <td>57.374616</td>\n",
              "      <td>69.253994</td>\n",
              "      <td>10155.298874</td>\n",
              "      <td>6.094848</td>\n",
              "      <td>5.562948</td>\n",
              "      <td>1971.352439</td>\n",
              "      <td>1984.258274</td>\n",
              "      <td>101.900275</td>\n",
              "      <td>...</td>\n",
              "      <td>93.791539</td>\n",
              "      <td>47.538383</td>\n",
              "      <td>23.003753</td>\n",
              "      <td>2.591607</td>\n",
              "      <td>15.996588</td>\n",
              "      <td>2.242579</td>\n",
              "      <td>50.617878</td>\n",
              "      <td>6.215626</td>\n",
              "      <td>2007.791198</td>\n",
              "      <td>180807.729785</td>\n",
              "    </tr>\n",
              "    <tr>\n",
              "      <th>std</th>\n",
              "      <td>846.250554</td>\n",
              "      <td>1.887306e+08</td>\n",
              "      <td>42.636341</td>\n",
              "      <td>23.405675</td>\n",
              "      <td>7888.789128</td>\n",
              "      <td>1.410786</td>\n",
              "      <td>1.111396</td>\n",
              "      <td>30.240926</td>\n",
              "      <td>20.861542</td>\n",
              "      <td>179.081899</td>\n",
              "      <td>...</td>\n",
              "      <td>126.358242</td>\n",
              "      <td>67.472412</td>\n",
              "      <td>64.129522</td>\n",
              "      <td>25.137086</td>\n",
              "      <td>56.078577</td>\n",
              "      <td>35.591130</td>\n",
              "      <td>566.248407</td>\n",
              "      <td>2.714122</td>\n",
              "      <td>1.317021</td>\n",
              "      <td>79875.557267</td>\n",
              "    </tr>\n",
              "    <tr>\n",
              "      <th>min</th>\n",
              "      <td>1.000000</td>\n",
              "      <td>5.263011e+08</td>\n",
              "      <td>20.000000</td>\n",
              "      <td>21.000000</td>\n",
              "      <td>1300.000000</td>\n",
              "      <td>1.000000</td>\n",
              "      <td>1.000000</td>\n",
              "      <td>1872.000000</td>\n",
              "      <td>1950.000000</td>\n",
              "      <td>0.000000</td>\n",
              "      <td>...</td>\n",
              "      <td>0.000000</td>\n",
              "      <td>0.000000</td>\n",
              "      <td>0.000000</td>\n",
              "      <td>0.000000</td>\n",
              "      <td>0.000000</td>\n",
              "      <td>0.000000</td>\n",
              "      <td>0.000000</td>\n",
              "      <td>1.000000</td>\n",
              "      <td>2006.000000</td>\n",
              "      <td>12789.000000</td>\n",
              "    </tr>\n",
              "    <tr>\n",
              "      <th>25%</th>\n",
              "      <td>732.500000</td>\n",
              "      <td>5.284770e+08</td>\n",
              "      <td>20.000000</td>\n",
              "      <td>58.000000</td>\n",
              "      <td>7440.500000</td>\n",
              "      <td>5.000000</td>\n",
              "      <td>5.000000</td>\n",
              "      <td>1954.000000</td>\n",
              "      <td>1965.000000</td>\n",
              "      <td>0.000000</td>\n",
              "      <td>...</td>\n",
              "      <td>0.000000</td>\n",
              "      <td>0.000000</td>\n",
              "      <td>0.000000</td>\n",
              "      <td>0.000000</td>\n",
              "      <td>0.000000</td>\n",
              "      <td>0.000000</td>\n",
              "      <td>0.000000</td>\n",
              "      <td>4.000000</td>\n",
              "      <td>2007.000000</td>\n",
              "      <td>129500.000000</td>\n",
              "    </tr>\n",
              "    <tr>\n",
              "      <th>50%</th>\n",
              "      <td>1465.000000</td>\n",
              "      <td>5.354532e+08</td>\n",
              "      <td>50.000000</td>\n",
              "      <td>68.000000</td>\n",
              "      <td>9439.000000</td>\n",
              "      <td>6.000000</td>\n",
              "      <td>5.000000</td>\n",
              "      <td>1973.000000</td>\n",
              "      <td>1993.000000</td>\n",
              "      <td>0.000000</td>\n",
              "      <td>...</td>\n",
              "      <td>0.000000</td>\n",
              "      <td>27.000000</td>\n",
              "      <td>0.000000</td>\n",
              "      <td>0.000000</td>\n",
              "      <td>0.000000</td>\n",
              "      <td>0.000000</td>\n",
              "      <td>0.000000</td>\n",
              "      <td>6.000000</td>\n",
              "      <td>2008.000000</td>\n",
              "      <td>160000.000000</td>\n",
              "    </tr>\n",
              "    <tr>\n",
              "      <th>75%</th>\n",
              "      <td>2197.500000</td>\n",
              "      <td>9.071811e+08</td>\n",
              "      <td>70.000000</td>\n",
              "      <td>80.000000</td>\n",
              "      <td>11556.000000</td>\n",
              "      <td>7.000000</td>\n",
              "      <td>6.000000</td>\n",
              "      <td>2001.000000</td>\n",
              "      <td>2004.000000</td>\n",
              "      <td>164.000000</td>\n",
              "      <td>...</td>\n",
              "      <td>168.000000</td>\n",
              "      <td>70.000000</td>\n",
              "      <td>0.000000</td>\n",
              "      <td>0.000000</td>\n",
              "      <td>0.000000</td>\n",
              "      <td>0.000000</td>\n",
              "      <td>0.000000</td>\n",
              "      <td>8.000000</td>\n",
              "      <td>2009.000000</td>\n",
              "      <td>213500.000000</td>\n",
              "    </tr>\n",
              "    <tr>\n",
              "      <th>max</th>\n",
              "      <td>2930.000000</td>\n",
              "      <td>1.007100e+09</td>\n",
              "      <td>190.000000</td>\n",
              "      <td>313.000000</td>\n",
              "      <td>215245.000000</td>\n",
              "      <td>10.000000</td>\n",
              "      <td>9.000000</td>\n",
              "      <td>2010.000000</td>\n",
              "      <td>2010.000000</td>\n",
              "      <td>1600.000000</td>\n",
              "      <td>...</td>\n",
              "      <td>1424.000000</td>\n",
              "      <td>742.000000</td>\n",
              "      <td>1012.000000</td>\n",
              "      <td>508.000000</td>\n",
              "      <td>576.000000</td>\n",
              "      <td>800.000000</td>\n",
              "      <td>17000.000000</td>\n",
              "      <td>12.000000</td>\n",
              "      <td>2010.000000</td>\n",
              "      <td>755000.000000</td>\n",
              "    </tr>\n",
              "  </tbody>\n",
              "</table>\n",
              "<p>8 rows × 39 columns</p>\n",
              "</div>\n",
              "      <button class=\"colab-df-convert\" onclick=\"convertToInteractive('df-62a07292-709b-4477-bc0d-3323dee6a543')\"\n",
              "              title=\"Convert this dataframe to an interactive table.\"\n",
              "              style=\"display:none;\">\n",
              "        \n",
              "  <svg xmlns=\"http://www.w3.org/2000/svg\" height=\"24px\"viewBox=\"0 0 24 24\"\n",
              "       width=\"24px\">\n",
              "    <path d=\"M0 0h24v24H0V0z\" fill=\"none\"/>\n",
              "    <path d=\"M18.56 5.44l.94 2.06.94-2.06 2.06-.94-2.06-.94-.94-2.06-.94 2.06-2.06.94zm-11 1L8.5 8.5l.94-2.06 2.06-.94-2.06-.94L8.5 2.5l-.94 2.06-2.06.94zm10 10l.94 2.06.94-2.06 2.06-.94-2.06-.94-.94-2.06-.94 2.06-2.06.94z\"/><path d=\"M17.41 7.96l-1.37-1.37c-.4-.4-.92-.59-1.43-.59-.52 0-1.04.2-1.43.59L10.3 9.45l-7.72 7.72c-.78.78-.78 2.05 0 2.83L4 21.41c.39.39.9.59 1.41.59.51 0 1.02-.2 1.41-.59l7.78-7.78 2.81-2.81c.8-.78.8-2.07 0-2.86zM5.41 20L4 18.59l7.72-7.72 1.47 1.35L5.41 20z\"/>\n",
              "  </svg>\n",
              "      </button>\n",
              "      \n",
              "  <style>\n",
              "    .colab-df-container {\n",
              "      display:flex;\n",
              "      flex-wrap:wrap;\n",
              "      gap: 12px;\n",
              "    }\n",
              "\n",
              "    .colab-df-convert {\n",
              "      background-color: #E8F0FE;\n",
              "      border: none;\n",
              "      border-radius: 50%;\n",
              "      cursor: pointer;\n",
              "      display: none;\n",
              "      fill: #1967D2;\n",
              "      height: 32px;\n",
              "      padding: 0 0 0 0;\n",
              "      width: 32px;\n",
              "    }\n",
              "\n",
              "    .colab-df-convert:hover {\n",
              "      background-color: #E2EBFA;\n",
              "      box-shadow: 0px 1px 2px rgba(60, 64, 67, 0.3), 0px 1px 3px 1px rgba(60, 64, 67, 0.15);\n",
              "      fill: #174EA6;\n",
              "    }\n",
              "\n",
              "    [theme=dark] .colab-df-convert {\n",
              "      background-color: #3B4455;\n",
              "      fill: #D2E3FC;\n",
              "    }\n",
              "\n",
              "    [theme=dark] .colab-df-convert:hover {\n",
              "      background-color: #434B5C;\n",
              "      box-shadow: 0px 1px 3px 1px rgba(0, 0, 0, 0.15);\n",
              "      filter: drop-shadow(0px 1px 2px rgba(0, 0, 0, 0.3));\n",
              "      fill: #FFFFFF;\n",
              "    }\n",
              "  </style>\n",
              "\n",
              "      <script>\n",
              "        const buttonEl =\n",
              "          document.querySelector('#df-62a07292-709b-4477-bc0d-3323dee6a543 button.colab-df-convert');\n",
              "        buttonEl.style.display =\n",
              "          google.colab.kernel.accessAllowed ? 'block' : 'none';\n",
              "\n",
              "        async function convertToInteractive(key) {\n",
              "          const element = document.querySelector('#df-62a07292-709b-4477-bc0d-3323dee6a543');\n",
              "          const dataTable =\n",
              "            await google.colab.kernel.invokeFunction('convertToInteractive',\n",
              "                                                     [key], {});\n",
              "          if (!dataTable) return;\n",
              "\n",
              "          const docLinkHtml = 'Like what you see? Visit the ' +\n",
              "            '<a target=\"_blank\" href=https://colab.research.google.com/notebooks/data_table.ipynb>data table notebook</a>'\n",
              "            + ' to learn more about interactive tables.';\n",
              "          element.innerHTML = '';\n",
              "          dataTable['output_type'] = 'display_data';\n",
              "          await google.colab.output.renderOutput(dataTable, element);\n",
              "          const docLink = document.createElement('div');\n",
              "          docLink.innerHTML = docLinkHtml;\n",
              "          element.appendChild(docLink);\n",
              "        }\n",
              "      </script>\n",
              "    </div>\n",
              "  </div>\n",
              "  "
            ],
            "text/plain": [
              "             Order           PID  MS SubClass  Lot Frontage       Lot Area  \\\n",
              "count  2931.000000  2.931000e+03  2931.000000   2441.000000    2931.000000   \n",
              "mean   1465.000341  7.144003e+08    57.374616     69.253994   10155.298874   \n",
              "std     846.250554  1.887306e+08    42.636341     23.405675    7888.789128   \n",
              "min       1.000000  5.263011e+08    20.000000     21.000000    1300.000000   \n",
              "25%     732.500000  5.284770e+08    20.000000     58.000000    7440.500000   \n",
              "50%    1465.000000  5.354532e+08    50.000000     68.000000    9439.000000   \n",
              "75%    2197.500000  9.071811e+08    70.000000     80.000000   11556.000000   \n",
              "max    2930.000000  1.007100e+09   190.000000    313.000000  215245.000000   \n",
              "\n",
              "       Overall Qual  Overall Cond   Year Built  Year Remod/Add  Mas Vnr Area  \\\n",
              "count   2931.000000   2931.000000  2931.000000     2931.000000   2908.000000   \n",
              "mean       6.094848      5.562948  1971.352439     1984.258274    101.900275   \n",
              "std        1.410786      1.111396    30.240926       20.861542    179.081899   \n",
              "min        1.000000      1.000000  1872.000000     1950.000000      0.000000   \n",
              "25%        5.000000      5.000000  1954.000000     1965.000000      0.000000   \n",
              "50%        6.000000      5.000000  1973.000000     1993.000000      0.000000   \n",
              "75%        7.000000      6.000000  2001.000000     2004.000000    164.000000   \n",
              "max       10.000000      9.000000  2010.000000     2010.000000   1600.000000   \n",
              "\n",
              "       ...  Wood Deck SF  Open Porch SF  Enclosed Porch   3Ssn Porch  \\\n",
              "count  ...   2931.000000    2931.000000     2931.000000  2931.000000   \n",
              "mean   ...     93.791539      47.538383       23.003753     2.591607   \n",
              "std    ...    126.358242      67.472412       64.129522    25.137086   \n",
              "min    ...      0.000000       0.000000        0.000000     0.000000   \n",
              "25%    ...      0.000000       0.000000        0.000000     0.000000   \n",
              "50%    ...      0.000000      27.000000        0.000000     0.000000   \n",
              "75%    ...    168.000000      70.000000        0.000000     0.000000   \n",
              "max    ...   1424.000000     742.000000     1012.000000   508.000000   \n",
              "\n",
              "       Screen Porch    Pool Area      Misc Val      Mo Sold      Yr Sold  \\\n",
              "count   2931.000000  2931.000000   2931.000000  2931.000000  2931.000000   \n",
              "mean      15.996588     2.242579     50.617878     6.215626  2007.791198   \n",
              "std       56.078577    35.591130    566.248407     2.714122     1.317021   \n",
              "min        0.000000     0.000000      0.000000     1.000000  2006.000000   \n",
              "25%        0.000000     0.000000      0.000000     4.000000  2007.000000   \n",
              "50%        0.000000     0.000000      0.000000     6.000000  2008.000000   \n",
              "75%        0.000000     0.000000      0.000000     8.000000  2009.000000   \n",
              "max      576.000000   800.000000  17000.000000    12.000000  2010.000000   \n",
              "\n",
              "           SalePrice  \n",
              "count    2931.000000  \n",
              "mean   180807.729785  \n",
              "std     79875.557267  \n",
              "min     12789.000000  \n",
              "25%    129500.000000  \n",
              "50%    160000.000000  \n",
              "75%    213500.000000  \n",
              "max    755000.000000  \n",
              "\n",
              "[8 rows x 39 columns]"
            ]
          },
          "execution_count": 6,
          "metadata": {},
          "output_type": "execute_result"
        }
      ],
      "source": [
        "housing.describe()\n",
        "#housing.columns"
      ]
    },
    {
      "cell_type": "markdown",
      "metadata": {
        "id": "tPVfM2C9KsbK"
      },
      "source": [
        "From the above analysis, it is important to note that the minimum value is greater than 0. Also, there is a big difference between the minimum value and the 25th percentile. It is bigger than the 75th percentile and the maximum value. This means that our data might not be normally distributed (an important assumption for linear regression analysis), so will check for normality in the Log Transform section.\n"
      ]
    },
    {
      "cell_type": "markdown",
      "metadata": {
        "id": "HXICkZMbKsbL"
      },
      "source": [
        "## Exercise 1\n"
      ]
    },
    {
      "cell_type": "markdown",
      "metadata": {
        "id": "TDGR2Wh5KsbN"
      },
      "source": [
        "The `describe()` function reveals the statistical information about the numeric attributes. To reveal some information about our categorical (object) attributes, we can use `value_counts()` function. In this exercise, describe all categories of the 'Sale Condition' attribute.\n"
      ]
    },
    {
      "cell_type": "code",
      "execution_count": null,
      "metadata": {
        "colab": {
          "background_save": true
        },
        "id": "RXotWyetKsbO",
        "outputId": "bf9bf5f6-527f-46f8-ecc1-8103cc9a5602"
      },
      "outputs": [
        {
          "data": {
            "text/plain": [
              "Sale Condition\n",
              "Normal            2414\n",
              "Partial            245\n",
              "Abnorml            190\n",
              "Family              46\n",
              "Alloca              24\n",
              "AdjLand             12\n",
              "dtype: int64"
            ]
          },
          "execution_count": 12,
          "metadata": {},
          "output_type": "execute_result"
        }
      ],
      "source": [
        "# Enter your code and run the cell\n",
        "housing[\"Sale Condition\"].value_counts()\n",
        "housing [\"Sale Condition\"]"
      ]
    },
    {
      "cell_type": "markdown",
      "metadata": {
        "id": "sTifQXDnKsbP"
      },
      "source": [
        "<details>\n",
        "<summary><strong>Solution</strong> (Click Here)</summary>\n",
        "    &emsp; &emsp; <code>\n",
        " housing[\"Sale Condition\"].value_counts()\n",
        "</code>\n",
        "</details>\n"
      ]
    },
    {
      "cell_type": "markdown",
      "metadata": {
        "id": "6F02UbVbKsbR"
      },
      "source": [
        "## **Looking for Correlations**\n"
      ]
    },
    {
      "cell_type": "markdown",
      "metadata": {
        "id": "u4l2hx1FKsbT"
      },
      "source": [
        "Before proceeding with the data cleaning, it is useful to establish a correlation between the response variable (in our case the sale price) and other predictor variables, as some of them might not have any major impact in determining the price of the house and will not be used in the analysis.  There are many ways to discover correlation between the target variable and the rest of the features. Building pair plots, scatter plots, heat maps, and a correlation matrixes are the most common ones. Below, we will use the `corr()` function to list the top features based on the [pearson correlation coefficient](https://en.wikipedia.org/wiki/Pearson_correlation_coefficient?utm_medium=Exinfluencer&utm_source=Exinfluencer&utm_content=000026UJ&utm_term=10006555&utm_id=NA-SkillsNetwork-Channel-SkillsNetworkCoursesIBMML0232ENSkillsNetwork30654641-2022-01-01) (measures how closely two sequences of numbers are correlated). Correlation coefficient can only be calculated on the numerical attributes (floats and integers), therefore, only the numeric attributes will be selected.\n"
      ]
    },
    {
      "cell_type": "code",
      "execution_count": null,
      "metadata": {
        "colab": {
          "base_uri": "https://localhost:8080/"
        },
        "id": "N9oAGhjgKsbU",
        "outputId": "6c67d97a-2be6-4de3-8d38-6a172e6f2072"
      },
      "outputs": [
        {
          "name": "stdout",
          "output_type": "stream",
          "text": [
            "There is 12 strongly correlated values with SalePrice:\n",
            "SalePrice         1.000000\n",
            "Overall Qual      0.799226\n",
            "Gr Liv Area       0.706791\n",
            "Garage Cars       0.647891\n",
            "Garage Area       0.640411\n",
            "Total Bsmt SF     0.632270\n",
            "1st Flr SF        0.621672\n",
            "Year Built        0.558340\n",
            "Full Bath         0.545339\n",
            "Year Remod/Add    0.532664\n",
            "Garage Yr Blt     0.526808\n",
            "Mas Vnr Area      0.508277\n",
            "Name: SalePrice, dtype: float64\n"
          ]
        }
      ],
      "source": [
        "hous_num = housing.select_dtypes(include = ['float64', 'int64'])\n",
        "#print('=================\\n',hous_num)\n",
        "#print (hous_num.shape)\n",
        "hous_num_corr = hous_num.corr()['SalePrice'] # -1 means that the latest row is SalePrice\n",
        "#print('==================\\n',hous_num_corr)\n",
        "top_features = hous_num_corr[hous_num_corr > 0.5].sort_values(ascending=False) #displays pearsons correlation coefficient greater than 0.5\n",
        "print(\"There is {} strongly correlated values with SalePrice:\\n{}\".format(len(top_features), top_features))"
      ]
    },
    {
      "cell_type": "code",
      "execution_count": null,
      "metadata": {
        "colab": {
          "base_uri": "https://localhost:8080/"
        },
        "id": "WFriG2AEGXvf",
        "outputId": "bded6b0e-c326-48b3-ec28-14b89b183358"
      },
      "outputs": [
        {
          "name": "stdout",
          "output_type": "stream",
          "text": [
            "                    Order       PID  MS SubClass  Lot Frontage  Lot Area  \\\n",
            "Order            1.000000  0.174064     0.012307     -0.009185  0.029680   \n",
            "PID              0.174064  1.000000    -0.000983     -0.097977  0.033885   \n",
            "MS SubClass      0.012307 -0.000983     1.000000     -0.420349 -0.205144   \n",
            "Lot Frontage    -0.009185 -0.097977    -0.420349      1.000000  0.493490   \n",
            "Lot Area         0.029680  0.033885    -0.205144      0.493490  1.000000   \n",
            "Overall Qual    -0.048436 -0.263079     0.039434      0.211549  0.097001   \n",
            "Overall Cond    -0.010749  0.104601    -0.067186     -0.074949 -0.035187   \n",
            "Year Built      -0.052070 -0.343194     0.036686      0.120906  0.022877   \n",
            "Year Remod/Add  -0.074823 -0.156652     0.043729      0.090074  0.020562   \n",
            "Mas Vnr Area    -0.030924 -0.229263     0.002713      0.222060  0.126719   \n",
            "BsmtFin SF 1    -0.032559 -0.098502    -0.060195      0.215734  0.191707   \n",
            "BsmtFin SF 2    -0.002598 -0.001045    -0.070847      0.045547  0.082767   \n",
            "Bsmt Unf SF      0.005936 -0.087599    -0.130322      0.116129  0.023376   \n",
            "Total Bsmt SF   -0.028743 -0.189631    -0.219435      0.353171  0.253323   \n",
            "1st Flr SF      -0.013939 -0.142270    -0.248107      0.457949  0.332903   \n",
            "2nd Flr SF       0.000046 -0.003022     0.304399      0.028142  0.032218   \n",
            "Low Qual Fin SF  0.013641  0.056965     0.025792      0.005107  0.000717   \n",
            "Gr Liv Area     -0.009520 -0.107664     0.067958      0.383488  0.285518   \n",
            "Bsmt Full Bath  -0.043149 -0.038114     0.013372      0.110077  0.126707   \n",
            "Bsmt Half Bath   0.025113  0.004412    -0.003254     -0.024981  0.026634   \n",
            "Full Bath       -0.044349 -0.171023     0.134896      0.182845  0.126289   \n",
            "Half Bath       -0.039279 -0.166335     0.176065      0.040873  0.034742   \n",
            "Bedroom AbvGr    0.015312  0.006284    -0.019258      0.240218  0.136558   \n",
            "Kitchen AbvGr   -0.017554  0.076527     0.257725      0.005128 -0.020468   \n",
            "TotRms AbvGrd    0.002402 -0.069088     0.031788      0.352894  0.216645   \n",
            "Fireplaces      -0.020406 -0.108686    -0.050555      0.259331  0.258475   \n",
            "Garage Yr Blt   -0.050684 -0.256516     0.088959      0.075252 -0.009624   \n",
            "Garage Cars     -0.036347 -0.237544    -0.045968      0.308508  0.179566   \n",
            "Garage Area     -0.035568 -0.210655    -0.103301      0.358141  0.212786   \n",
            "Wood Deck SF    -0.011828 -0.051432    -0.017580      0.121088  0.157848   \n",
            "Open Porch SF    0.016220 -0.071371    -0.014885      0.162998  0.103826   \n",
            "Enclosed Porch   0.028105  0.162610    -0.022755      0.012272  0.021504   \n",
            "3Ssn Porch      -0.024902 -0.024855    -0.037920      0.028386  0.016126   \n",
            "Screen Porch     0.004473 -0.025633    -0.050521      0.076158  0.054706   \n",
            "Pool Area        0.052528 -0.002823    -0.003415      0.173528  0.093596   \n",
            "Misc Val        -0.006027 -0.008228    -0.029224      0.044279  0.069016   \n",
            "Mo Sold          0.133557 -0.050292     0.000484      0.010496  0.003435   \n",
            "Yr Sold         -0.976016  0.009002    -0.018396     -0.005426 -0.021476   \n",
            "SalePrice       -0.031644 -0.246617    -0.085206      0.357141  0.266600   \n",
            "\n",
            "                 Overall Qual  Overall Cond  Year Built  Year Remod/Add  \\\n",
            "Order               -0.048436     -0.010749   -0.052070       -0.074823   \n",
            "PID                 -0.263079      0.104601   -0.343194       -0.156652   \n",
            "MS SubClass          0.039434     -0.067186    0.036686        0.043729   \n",
            "Lot Frontage         0.211549     -0.074949    0.120906        0.090074   \n",
            "Lot Area             0.097001     -0.035187    0.022877        0.020562   \n",
            "Overall Qual         1.000000     -0.094796    0.597021        0.569504   \n",
            "Overall Cond        -0.094796      1.000000   -0.368683        0.047868   \n",
            "Year Built           0.597021     -0.368683    1.000000        0.612088   \n",
            "Year Remod/Add       0.569504      0.047868    0.612088        1.000000   \n",
            "Mas Vnr Area         0.429416     -0.135344    0.313278        0.196860   \n",
            "BsmtFin SF 1         0.284099     -0.051006    0.279799        0.151579   \n",
            "BsmtFin SF 2        -0.041280      0.041182   -0.027377       -0.061997   \n",
            "Bsmt Unf SF          0.270061     -0.136764    0.129028        0.164872   \n",
            "Total Bsmt SF        0.547292     -0.173348    0.407508        0.297386   \n",
            "1st Flr SF           0.477677     -0.157221    0.310208        0.241483   \n",
            "2nd Flr SF           0.241394      0.006353    0.016926        0.159196   \n",
            "Low Qual Fin SF     -0.048677      0.009192   -0.144266       -0.060311   \n",
            "Gr Liv Area          0.570539     -0.115689    0.241676        0.316654   \n",
            "Bsmt Full Bath       0.167799     -0.042943    0.211663        0.133899   \n",
            "Bsmt Half Bath      -0.041640      0.084494   -0.030593       -0.046182   \n",
            "Full Bath            0.522192     -0.214091    0.469442        0.457485   \n",
            "Half Bath            0.268844     -0.087984    0.269332        0.212001   \n",
            "Bedroom AbvGr        0.063287     -0.006168   -0.055114       -0.021601   \n",
            "Kitchen AbvGr       -0.159738     -0.086346   -0.137821       -0.142288   \n",
            "TotRms AbvGrd        0.380676     -0.089871    0.111868        0.197338   \n",
            "Fireplaces           0.392644     -0.032049    0.170255        0.132328   \n",
            "Garage Yr Blt        0.570549     -0.325833    0.834857        0.652389   \n",
            "Garage Cars          0.599528     -0.181599    0.537383        0.425177   \n",
            "Garage Area          0.563490     -0.153790    0.480081        0.376245   \n",
            "Wood Deck SF         0.255604      0.020181    0.228807        0.217410   \n",
            "Open Porch SF        0.298405     -0.068968    0.198331        0.241605   \n",
            "Enclosed Porch      -0.140321      0.071516   -0.374301       -0.220185   \n",
            "3Ssn Porch           0.018243      0.043868    0.015816        0.037445   \n",
            "Screen Porch         0.041621      0.044102   -0.041398       -0.046763   \n",
            "Pool Area            0.030401     -0.016775    0.002221       -0.011383   \n",
            "Misc Val             0.005181      0.034070   -0.010999       -0.003096   \n",
            "Mo Sold              0.031113     -0.007217    0.014634        0.018221   \n",
            "Yr Sold             -0.020748      0.030901   -0.013405        0.031963   \n",
            "SalePrice            0.799226     -0.101763    0.558340        0.532664   \n",
            "\n",
            "                 Mas Vnr Area  ...  Wood Deck SF  Open Porch SF  \\\n",
            "Order               -0.030924  ...     -0.011828       0.016220   \n",
            "PID                 -0.229263  ...     -0.051432      -0.071371   \n",
            "MS SubClass          0.002713  ...     -0.017580      -0.014885   \n",
            "Lot Frontage         0.222060  ...      0.121088       0.162998   \n",
            "Lot Area             0.126719  ...      0.157848       0.103826   \n",
            "Overall Qual         0.429416  ...      0.255604       0.298405   \n",
            "Overall Cond        -0.135344  ...      0.020181      -0.068968   \n",
            "Year Built           0.313278  ...      0.228807       0.198331   \n",
            "Year Remod/Add       0.196860  ...      0.217410       0.241605   \n",
            "Mas Vnr Area         1.000000  ...      0.165461       0.143751   \n",
            "BsmtFin SF 1         0.301870  ...      0.224106       0.124974   \n",
            "BsmtFin SF 2        -0.016025  ...      0.098420      -0.005608   \n",
            "Bsmt Unf SF          0.091661  ...     -0.039700       0.118858   \n",
            "Total Bsmt SF        0.397041  ...      0.229918       0.245629   \n",
            "1st Flr SF           0.395651  ...      0.227434       0.238067   \n",
            "2nd Flr SF           0.121777  ...      0.088829       0.184460   \n",
            "Low Qual Fin SF     -0.057702  ...     -0.015676      -0.000769   \n",
            "Gr Liv Area          0.403611  ...      0.250210       0.340871   \n",
            "Bsmt Full Bath       0.140105  ...      0.187221       0.082331   \n",
            "Bsmt Half Bath       0.015416  ...      0.051344      -0.035086   \n",
            "Full Bath            0.260087  ...      0.179194       0.258551   \n",
            "Half Bath            0.192931  ...      0.114947       0.180630   \n",
            "Bedroom AbvGr        0.080549  ...      0.029762       0.083661   \n",
            "Kitchen AbvGr       -0.051002  ...     -0.087462      -0.068298   \n",
            "TotRms AbvGrd        0.279564  ...      0.154821       0.235703   \n",
            "Fireplaces           0.271891  ...      0.228528       0.159667   \n",
            "Garage Yr Blt        0.254753  ...      0.221713       0.231163   \n",
            "Garage Cars          0.360159  ...      0.241284       0.204200   \n",
            "Garage Area          0.373459  ...      0.238414       0.232926   \n",
            "Wood Deck SF         0.165461  ...      1.000000       0.039304   \n",
            "Open Porch SF        0.143751  ...      0.039304       1.000000   \n",
            "Enclosed Porch      -0.110791  ...     -0.119229      -0.059899   \n",
            "3Ssn Porch           0.013776  ...     -0.003999      -0.009466   \n",
            "Screen Porch         0.065637  ...     -0.052272       0.047526   \n",
            "Pool Area            0.004616  ...      0.094122       0.064130   \n",
            "Misc Val             0.044932  ...      0.056784       0.077247   \n",
            "Mo Sold             -0.000285  ...      0.016830       0.033617   \n",
            "Yr Sold             -0.017674  ...      0.001408      -0.037326   \n",
            "SalePrice            0.508277  ...      0.327220       0.312970   \n",
            "\n",
            "                 Enclosed Porch  3Ssn Porch  Screen Porch  Pool Area  \\\n",
            "Order                  0.028105   -0.024902      0.004473   0.052528   \n",
            "PID                    0.162610   -0.024855     -0.025633  -0.002823   \n",
            "MS SubClass           -0.022755   -0.037920     -0.050521  -0.003415   \n",
            "Lot Frontage           0.012272    0.028386      0.076158   0.173528   \n",
            "Lot Area               0.021504    0.016126      0.054706   0.093596   \n",
            "Overall Qual          -0.140321    0.018243      0.041621   0.030401   \n",
            "Overall Cond           0.071516    0.043868      0.044102  -0.016775   \n",
            "Year Built            -0.374301    0.015816     -0.041398   0.002221   \n",
            "Year Remod/Add        -0.220185    0.037445     -0.046763  -0.011383   \n",
            "Mas Vnr Area          -0.110791    0.013776      0.065637   0.004616   \n",
            "BsmtFin SF 1          -0.100503    0.050524      0.095828   0.084128   \n",
            "BsmtFin SF 2           0.032415   -0.023314      0.062978   0.044403   \n",
            "Bsmt Unf SF            0.006262   -0.005436     -0.048056  -0.031993   \n",
            "Total Bsmt SF         -0.085231    0.037869      0.075334   0.072126   \n",
            "1st Flr SF            -0.065849    0.044005      0.098165   0.121760   \n",
            "2nd Flr SF             0.055518   -0.032141      0.011815   0.044615   \n",
            "Low Qual Fin SF        0.087336   -0.004502      0.006953   0.035202   \n",
            "Gr Liv Area            0.003992    0.006470      0.086772   0.135455   \n",
            "Bsmt Full Bath        -0.069352    0.026991      0.052092   0.043673   \n",
            "Bsmt Half Bath        -0.009303    0.026962      0.042349   0.066906   \n",
            "Full Bath             -0.117646    0.015468     -0.015028   0.028222   \n",
            "Half Bath             -0.081210   -0.023202      0.036059   0.001531   \n",
            "Bedroom AbvGr          0.052092   -0.047157      0.009233   0.036703   \n",
            "Kitchen AbvGr          0.027935   -0.021371     -0.056315  -0.013061   \n",
            "TotRms AbvGrd          0.017177   -0.025109      0.033695   0.072094   \n",
            "Fireplaces            -0.000514    0.018324      0.167657   0.098324   \n",
            "Garage Yr Blt         -0.300756    0.020642     -0.062434  -0.014495   \n",
            "Garage Cars           -0.132873    0.023334      0.042980   0.030386   \n",
            "Garage Area           -0.106300    0.029448      0.062410   0.053045   \n",
            "Wood Deck SF          -0.119229   -0.003999     -0.052272   0.094122   \n",
            "Open Porch SF         -0.059899   -0.009466      0.047526   0.064130   \n",
            "Enclosed Porch         1.000000   -0.032661     -0.063928   0.092602   \n",
            "3Ssn Porch            -0.032661    1.000000     -0.029419  -0.006498   \n",
            "Screen Porch          -0.063928   -0.029419      1.000000   0.026388   \n",
            "Pool Area              0.092602   -0.006498      0.026388   1.000000   \n",
            "Misc Val               0.008783   -0.000750      0.007171   0.011944   \n",
            "Mo Sold               -0.021268    0.027244      0.028212  -0.042212   \n",
            "Yr Sold               -0.000710    0.022598     -0.006276  -0.052552   \n",
            "SalePrice             -0.128833    0.032209      0.112104   0.068392   \n",
            "\n",
            "                 Misc Val   Mo Sold   Yr Sold  SalePrice  \n",
            "Order           -0.006027  0.133557 -0.976016  -0.031644  \n",
            "PID             -0.008228 -0.050292  0.009002  -0.246617  \n",
            "MS SubClass     -0.029224  0.000484 -0.018396  -0.085206  \n",
            "Lot Frontage     0.044279  0.010496 -0.005426   0.357141  \n",
            "Lot Area         0.069016  0.003435 -0.021476   0.266600  \n",
            "Overall Qual     0.005181  0.031113 -0.020748   0.799226  \n",
            "Overall Cond     0.034070 -0.007217  0.030901  -0.101763  \n",
            "Year Built      -0.010999  0.014634 -0.013405   0.558340  \n",
            "Year Remod/Add  -0.003096  0.018221  0.031963   0.532664  \n",
            "Mas Vnr Area     0.044932 -0.000285 -0.017674   0.508277  \n",
            "BsmtFin SF 1     0.092870 -0.001221  0.022633   0.432950  \n",
            "BsmtFin SF 2    -0.005195 -0.009439  0.006934   0.005848  \n",
            "Bsmt Unf SF     -0.010158  0.021609 -0.036520   0.182808  \n",
            "Total Bsmt SF    0.083902  0.016668 -0.010363   0.632270  \n",
            "1st Flr SF       0.092938  0.040290 -0.012932   0.621672  \n",
            "2nd Flr SF      -0.005054  0.013365 -0.018968   0.269222  \n",
            "Low Qual Fin SF -0.005936  0.011413 -0.002131  -0.037673  \n",
            "Gr Liv Area      0.067241  0.043615 -0.026299   0.706791  \n",
            "Bsmt Full Bath  -0.004900 -0.003636  0.045494   0.276144  \n",
            "Bsmt Half Bath   0.036989  0.022736 -0.019662  -0.035870  \n",
            "Full Bath       -0.009738  0.046179 -0.005337   0.545339  \n",
            "Half Bath        0.026669 -0.001195  0.001128   0.284909  \n",
            "Bedroom AbvGr    0.000882  0.053647 -0.017898   0.143934  \n",
            "Kitchen AbvGr    0.025151  0.035231  0.035285  -0.119839  \n",
            "TotRms AbvGrd    0.061122  0.043728 -0.030280   0.495500  \n",
            "Fireplaces       0.008120  0.031796 -0.006366   0.474481  \n",
            "Garage Yr Blt   -0.009242  0.024611 -0.005587   0.526808  \n",
            "Garage Cars     -0.016957  0.049798 -0.022301   0.647891  \n",
            "Garage Area      0.008458  0.039503 -0.012865   0.640411  \n",
            "Wood Deck SF     0.056784  0.016830  0.001408   0.327220  \n",
            "Open Porch SF    0.077247  0.033617 -0.037326   0.312970  \n",
            "Enclosed Porch   0.008783 -0.021268 -0.000710  -0.128833  \n",
            "3Ssn Porch      -0.000750  0.027244  0.022598   0.032209  \n",
            "Screen Porch     0.007171  0.028212 -0.006276   0.112104  \n",
            "Pool Area        0.011944 -0.042212 -0.052552   0.068392  \n",
            "Misc Val         1.000000  0.007346  0.008519  -0.015704  \n",
            "Mo Sold          0.007346  1.000000 -0.155731   0.035191  \n",
            "Yr Sold          0.008519 -0.155731  1.000000  -0.030308  \n",
            "SalePrice       -0.015704  0.035191 -0.030308   1.000000  \n",
            "\n",
            "[39 rows x 39 columns]\n"
          ]
        }
      ],
      "source": [
        "\n",
        "\n",
        "(housing.corr()['SalePrice']>=0.5)\n",
        "print(housing.corr())"
      ]
    },
    {
      "cell_type": "markdown",
      "metadata": {
        "id": "r5WrW0E8KsbW"
      },
      "source": [
        "Above, there are 11 features, with coefficients greater than 0.5, that are strongly correlated with the sale price.\n"
      ]
    },
    {
      "cell_type": "markdown",
      "metadata": {
        "id": "dZ_0CoVfKsbY"
      },
      "source": [
        "Next, let's generate some par plots to visually inspect the correlation between some of these features and the target variable. We will use seaborns `sns.pairplot()` function for this analysis. Also, building pair plots is one of the possible ways to spot the outliers that might be present in the data.\n"
      ]
    },
    {
      "cell_type": "code",
      "execution_count": null,
      "metadata": {
        "colab": {
          "base_uri": "https://localhost:8080/",
          "height": 1000
        },
        "id": "QeNftjDhKsbZ",
        "outputId": "647e28b5-426a-46d1-9e22-4ecb84a3eafc"
      },
      "outputs": [
        {
          "data": {
            "image/png": "[encoded data removed]",
            "text/plain": [
              "<Figure size 180x180 with 1 Axes>"
            ]
          },
          "metadata": {},
          "output_type": "display_data"
        },
        {
          "data": {
            "image/png": "[encoded data removed]",
            "text/plain": [
              "<Figure size 180x180 with 1 Axes>"
            ]
          },
          "metadata": {},
          "output_type": "display_data"
        },
        {
          "data": {
            "image/png": "[encoded data removed]",
            "text/plain": [
              "<Figure size 180x180 with 1 Axes>"
            ]
          },
          "metadata": {},
          "output_type": "display_data"
        },
        {
          "data": {
            "image/png": "[encoded data removed]",
            "text/plain": [
              "<Figure size 180x180 with 1 Axes>"
            ]
          },
          "metadata": {},
          "output_type": "display_data"
        },
        {
          "data": {
            "image/png": "[encoded data removed]",
            "text/plain": [
              "<Figure size 180x180 with 1 Axes>"
            ]
          },
          "metadata": {},
          "output_type": "display_data"
        },
        {
          "data": {
            "image/png": "[encoded data removed]",
            "text/plain": [
              "<Figure size 180x180 with 1 Axes>"
            ]
          },
          "metadata": {},
          "output_type": "display_data"
        },
        {
          "data": {
            "image/png": "[encoded data removed]",
            "text/plain": [
              "<Figure size 180x180 with 1 Axes>"
            ]
          },
          "metadata": {},
          "output_type": "display_data"
        },
        {
          "data": {
            "image/png": "[encoded data removed]",
            "text/plain": [
              "<Figure size 180x180 with 1 Axes>"
            ]
          },
          "metadata": {},
          "output_type": "display_data"
        },
        {
          "data": {
            "image/png": "[encoded data removed]",
            "text/plain": [
              "<Figure size 180x180 with 1 Axes>"
            ]
          },
          "metadata": {},
          "output_type": "display_data"
        },
        {
          "data": {
            "image/png": "[encoded data removed]",
            "text/plain": [
              "<Figure size 180x180 with 1 Axes>"
            ]
          },
          "metadata": {},
          "output_type": "display_data"
        },
        {
          "data": {
            "image/png": "[encoded data removed]",
            "text/plain": [
              "<Figure size 180x180 with 1 Axes>"
            ]
          },
          "metadata": {},
          "output_type": "display_data"
        },
        {
          "data": {
            "image/png": "[encoded data removed]",
            "text/plain": [
              "<Figure size 180x180 with 1 Axes>"
            ]
          },
          "metadata": {},
          "output_type": "display_data"
        },
        {
          "data": {
            "image/png": "[encoded data removed]",
            "text/plain": [
              "<Figure size 180x180 with 1 Axes>"
            ]
          },
          "metadata": {},
          "output_type": "display_data"
        },
        {
          "data": {
            "image/png": "[encoded data removed]",
            "text/plain": [
              "<Figure size 180x180 with 1 Axes>"
            ]
          },
          "metadata": {},
          "output_type": "display_data"
        },
        {
          "data": {
            "image/png": "[encoded data removed]",
            "text/plain": [
              "<Figure size 180x180 with 1 Axes>"
            ]
          },
          "metadata": {},
          "output_type": "display_data"
        },
        {
          "data": {
            "image/png": "[encoded data removed]",
            "text/plain": [
              "<Figure size 180x180 with 1 Axes>"
            ]
          },
          "metadata": {},
          "output_type": "display_data"
        },
        {
          "data": {
            "image/png": "[encoded data removed]",
            "text/plain": [
              "<Figure size 180x180 with 1 Axes>"
            ]
          },
          "metadata": {},
          "output_type": "display_data"
        },
        {
          "data": {
            "image/png": "[encoded data removed]",
            "text/plain": [
              "<Figure size 180x180 with 1 Axes>"
            ]
          },
          "metadata": {},
          "output_type": "display_data"
        },
        {
          "data": {
            "image/png": "[encoded data removed]",
            "text/plain": [
              "<Figure size 180x180 with 1 Axes>"
            ]
          },
          "metadata": {},
          "output_type": "display_data"
        },
        {
          "data": {
            "image/png": "[encoded data removed]",
            "text/plain": [
              "<Figure size 180x180 with 1 Axes>"
            ]
          },
          "metadata": {},
          "output_type": "display_data"
        },
        {
          "data": {
            "image/png": "[encoded data removed]",
            "text/plain": [
              "<Figure size 180x180 with 1 Axes>"
            ]
          },
          "metadata": {},
          "output_type": "display_data"
        },
        {
          "data": {
            "image/png": "[encoded data removed]",
            "text/plain": [
              "<Figure size 180x180 with 1 Axes>"
            ]
          },
          "metadata": {},
          "output_type": "display_data"
        },
        {
          "data": {
            "image/png": "[encoded data removed]",
            "text/plain": [
              "<Figure size 180x180 with 1 Axes>"
            ]
          },
          "metadata": {},
          "output_type": "display_data"
        },
        {
          "data": {
            "image/png": "[encoded data removed]",
            "text/plain": [
              "<Figure size 180x180 with 1 Axes>"
            ]
          },
          "metadata": {},
          "output_type": "display_data"
        },
        {
          "data": {
            "image/png": "[encoded data removed]",
            "text/plain": [
              "<Figure size 180x180 with 1 Axes>"
            ]
          },
          "metadata": {},
          "output_type": "display_data"
        },
        {
          "data": {
            "image/png": "[encoded data removed]",
            "text/plain": [
              "<Figure size 180x180 with 1 Axes>"
            ]
          },
          "metadata": {},
          "output_type": "display_data"
        },
        {
          "data": {
            "image/png": "[encoded data removed]",
            "text/plain": [
              "<Figure size 180x180 with 1 Axes>"
            ]
          },
          "metadata": {},
          "output_type": "display_data"
        },
        {
          "data": {
            "image/png": "[encoded data removed]",
            "text/plain": [
              "<Figure size 180x180 with 1 Axes>"
            ]
          },
          "metadata": {},
          "output_type": "display_data"
        },
        {
          "data": {
            "image/png": "[encoded data removed]",
            "text/plain": [
              "<Figure size 180x180 with 1 Axes>"
            ]
          },
          "metadata": {},
          "output_type": "display_data"
        },
        {
          "data": {
            "image/png": "[encoded data removed]",
            "text/plain": [
              "<Figure size 180x180 with 1 Axes>"
            ]
          },
          "metadata": {},
          "output_type": "display_data"
        },
        {
          "data": {
            "image/png": "[encoded data removed]",
            "text/plain": [
              "<Figure size 180x180 with 1 Axes>"
            ]
          },
          "metadata": {},
          "output_type": "display_data"
        },
        {
          "data": {
            "image/png": "[encoded data removed]",
            "text/plain": [
              "<Figure size 180x180 with 1 Axes>"
            ]
          },
          "metadata": {},
          "output_type": "display_data"
        },
        {
          "data": {
            "image/png": "[encoded data removed]",
            "text/plain": [
              "<Figure size 180x180 with 1 Axes>"
            ]
          },
          "metadata": {},
          "output_type": "display_data"
        },
        {
          "data": {
            "image/png": "[encoded data removed]",
            "text/plain": [
              "<Figure size 180x180 with 1 Axes>"
            ]
          },
          "metadata": {},
          "output_type": "display_data"
        },
        {
          "data": {
            "image/png": "[encoded data removed]",
            "text/plain": [
              "<Figure size 180x180 with 1 Axes>"
            ]
          },
          "metadata": {},
          "output_type": "display_data"
        },
        {
          "data": {
            "image/png": "[encoded data removed]",
            "text/plain": [
              "<Figure size 180x180 with 1 Axes>"
            ]
          },
          "metadata": {},
          "output_type": "display_data"
        },
        {
          "data": {
            "image/png": "[encoded data removed]",
            "text/plain": [
              "<Figure size 180x180 with 1 Axes>"
            ]
          },
          "metadata": {},
          "output_type": "display_data"
        },
        {
          "data": {
            "image/png": "[encoded data removed]",
            "text/plain": [
              "<Figure size 180x180 with 1 Axes>"
            ]
          },
          "metadata": {},
          "output_type": "display_data"
        },
        {
          "data": {
            "image/png": "[encoded data removed]",
            "text/plain": [
              "<Figure size 180x180 with 2 Axes>"
            ]
          },
          "metadata": {},
          "output_type": "display_data"
        }
      ],
      "source": [
        "for i in range(0, len(hous_num.columns)):\n",
        "    sns.pairplot(data=hous_num,\n",
        "                x_vars=hous_num.columns[i:i+1],\n",
        "                y_vars=['SalePrice'])"
      ]
    },
    {
      "cell_type": "code",
      "execution_count": null,
      "metadata": {
        "id": "uYMhb_ZGAH1K"
      },
      "outputs": [],
      "source": []
    },
    {
      "cell_type": "markdown",
      "metadata": {
        "id": "NPEYiRitKsbb"
      },
      "source": [
        "From Pearsons Correlation Coefficients and pair plots, we can draw some conclusions about the features that are most strongly correlated to the 'SalePrice'. They are: 'Overall Qual', 'Gr Liv Area', 'Garage Cars', 'Garage Area', and others.\n"
      ]
    },
    {
      "cell_type": "markdown",
      "metadata": {
        "id": "gddyxyesKsbc"
      },
      "source": [
        "## **Log Transformation**\n"
      ]
    },
    {
      "cell_type": "markdown",
      "metadata": {
        "id": "D5sptsDnKsbd"
      },
      "source": [
        "In this section, we are going to inspect whether our 'SalePrice' data are normally distributed. The assumption of the normal distribution must be met in order to perform any type of regression analysis. There are several ways to check for this assumption, however here, we will use the visual method, by plotting the 'SalePrice' distribution using the `distplot()` function from the `seaborn` library.\n"
      ]
    },
    {
      "cell_type": "code",
      "execution_count": null,
      "metadata": {
        "colab": {
          "base_uri": "https://localhost:8080/",
          "height": 250
        },
        "id": "eYxkML7hKsbf",
        "outputId": "3fa6f6af-0b24-4b79-8934-f88f1bf5219e"
      },
      "outputs": [
        {
          "data": {
            "image/png": "[encoded data removed]",
            "text/plain": [
              "<Figure size 432x288 with 1 Axes>"
            ]
          },
          "metadata": {},
          "output_type": "display_data"
        }
      ],
      "source": [
        "sp_untransformed = sns.distplot(housing['SalePrice'])\n",
        "#(housing['SalePrice'])"
      ]
    },
    {
      "cell_type": "markdown",
      "metadata": {
        "id": "Wp65WaYdKsbg"
      },
      "source": [
        "As the plot shows, our 'SalePrice' deviates from the normal distribution. It has a longer tail to the right, so we call it a positive skew. In statistics *skewness* is a measure of asymmetry of the distribution. In addition to skewness, there is also a kurtosis, parameter which refers to the pointedness of a peak in the distribution curve. Both skewness and kurtosis are frequently used together to characterize the distribution of data.\n"
      ]
    },
    {
      "cell_type": "markdown",
      "metadata": {
        "id": "N_dwjIMVKsbi"
      },
      "source": [
        "Here, we can simply use the `skew()` function to calculate our skewness level of the `SalePrice`.\n"
      ]
    },
    {
      "cell_type": "code",
      "execution_count": null,
      "metadata": {
        "colab": {
          "base_uri": "https://localhost:8080/"
        },
        "id": "hTeK-XmlKsbj",
        "outputId": "832dd4e9-ee8d-447d-e5ac-8d969c959b5a"
      },
      "outputs": [
        {
          "name": "stdout",
          "output_type": "stream",
          "text": [
            "Skewness: 1.743222\n"
          ]
        }
      ],
      "source": [
        "print(\"Skewness: %f\" % housing['SalePrice'].skew())"
      ]
    },
    {
      "cell_type": "markdown",
      "metadata": {
        "id": "wpPlIDmRKsbl"
      },
      "source": [
        "The range of skewness for a fairly symmetrical bell curve distribution is between -0.5 and 0.5; moderate skewness is -0.5 to -1.0 and 0.5 to 1.0; and highly skewed distribution is < -1.0 and > 1.0. In our case, we have \\~1.7, so it is considered  highly skewed data.\n",
        "\n",
        "Now, we can try to transform our data, so it looks more normally distributed. We can use the `np.log()` function from the `numpy` library to perform log transform. This [documentation](https://numpy.org/doc/stable/reference/generated/numpy.log.html?utm_medium=Exinfluencer&utm_source=Exinfluencer&utm_content=000026UJ&utm_term=10006555&utm_id=NA-SkillsNetwork-Channel-SkillsNetworkCoursesIBMML0232ENSkillsNetwork30654641-2022-01-01) contains more information about the numpy log transform.\n"
      ]
    },
    {
      "cell_type": "code",
      "execution_count": null,
      "metadata": {
        "id": "W05SpAsqKsbn"
      },
      "outputs": [],
      "source": [
        "log_transformed = np.log(housing['SalePrice'])"
      ]
    },
    {
      "cell_type": "code",
      "execution_count": null,
      "metadata": {
        "colab": {
          "base_uri": "https://localhost:8080/",
          "height": 199
        },
        "id": "AR39tQd8Ksbo",
        "outputId": "3f10c821-96e3-43c1-eeb4-ee8d59271dec"
      },
      "outputs": [
        {
          "data": {
            "image/png": "[encoded data removed]",
            "text/plain": [
              "<Figure size 432x288 with 1 Axes>"
            ]
          },
          "metadata": {},
          "output_type": "display_data"
        }
      ],
      "source": [
        "sp_transformed = sns.distplot(log_transformed)"
      ]
    },
    {
      "cell_type": "code",
      "execution_count": null,
      "metadata": {
        "colab": {
          "base_uri": "https://localhost:8080/"
        },
        "id": "UmcabeNFKsbq",
        "outputId": "51a54e13-1a57-4983-aa7c-15b9bfc81c1a"
      },
      "outputs": [
        {
          "name": "stdout",
          "output_type": "stream",
          "text": [
            "Skewness: -0.015354\n"
          ]
        }
      ],
      "source": [
        "print(\"Skewness: %f\" % (log_transformed).skew())"
      ]
    },
    {
      "cell_type": "markdown",
      "metadata": {
        "id": "vvjDbzpDKsbr"
      },
      "source": [
        "As we can see, the log method transformed the 'SalePrice' distribution into a more symmetrical bell curve and the skewness level now is -0.01, well within the range.\n",
        "\n",
        "There are other ways to correct for skewness of the data. For example, Square Root Transform (`np.sqrt`) and the Box-Cox Transform (`stats.boxcox` from the `scipy stats` library). To learn more about these two methods, please check out this [article](https://towardsdatascience.com/top-3-methods-for-handling-skewed-data-1334e0debf45?utm_medium=Exinfluencer&utm_source=Exinfluencer&utm_content=000026UJ&utm_term=10006555&utm_id=NA-SkillsNetwork-Channel-SkillsNetworkCoursesIBMML0232ENSkillsNetwork30654641-2022-01-01).\n"
      ]
    },
    {
      "cell_type": "markdown",
      "metadata": {
        "id": "p9CCKXolKsbt"
      },
      "source": [
        "## Exercise 2\n"
      ]
    },
    {
      "cell_type": "markdown",
      "metadata": {
        "id": "-1RA9H3vKsbu"
      },
      "source": [
        "In this exercise, visually inspect the 'Lot Area' feature. If there is any skewness present, apply log transform to make it more normally distributed.\n"
      ]
    },
    {
      "cell_type": "code",
      "execution_count": null,
      "metadata": {
        "colab": {
          "base_uri": "https://localhost:8080/",
          "height": 594
        },
        "id": "0lxQtKzvKsbw",
        "outputId": "f932de14-07e9-427d-aa06-72dbf92bed8b"
      },
      "outputs": [
        {
          "name": "stdout",
          "output_type": "stream",
          "text": [
            "skew :12.778041\n",
            "skewnss after log :-0.494639\n"
          ]
        },
        {
          "data": {
            "image/png": "[encoded data removed]",
            "text/plain": [
              "<Figure size 360x360 with 1 Axes>"
            ]
          },
          "metadata": {},
          "output_type": "display_data"
        },
        {
          "data": {
            "image/png": "[encoded data removed]",
            "text/plain": [
              "<Figure size 360x360 with 1 Axes>"
            ]
          },
          "metadata": {},
          "output_type": "display_data"
        }
      ],
      "source": [
        "# Enter your code and run the cel\n",
        "dis_lot_area=sns.displot(housing['Lot Area'])\n",
        "print(\"skew :%f\"%housing ['Lot Area'].skew())\n",
        "log_lotarea=np.log(housing['Lot Area'])\n",
        "print(\"skewnss after log :%f\"%log_lotarea.skew())\n",
        "dis_afterlog=sns.displot(log_lotarea)"
      ]
    },
    {
      "cell_type": "markdown",
      "metadata": {
        "id": "OXn2Bk_6Ksbx"
      },
      "source": [
        "<details>\n",
        "<summary><strong>Solution</strong> (Click Here)</summary>\n",
        "    &emsp; &emsp; <code>\n",
        "la_plot = sns.distplot(housing['Lot Area'])\n",
        "print(\"Skewness: %f\" % housing['Lot Area'].skew())\n",
        "la_log = np.log(housing['Lot Area'])\n",
        "print(\"Skewness: %f\" % la_log.skew())\n",
        "\n",
        "</code>\n",
        "</details>\n"
      ]
    },
    {
      "cell_type": "markdown",
      "metadata": {
        "id": "lv41GIyDKsbz"
      },
      "source": [
        "## **Handling the Duplicates**\n"
      ]
    },
    {
      "cell_type": "markdown",
      "metadata": {
        "id": "e0me-PplKsb0"
      },
      "source": [
        "As mentioned in the video, having duplicate values can effect our analysis, so it is good to check whether there are any duplicates in our data. We will use pandas `duplicated()` function and search by the 'PID' column, which contains a unique index number for each entry.\n"
      ]
    },
    {
      "cell_type": "code",
      "source": [
        "housing['PID'].is_unique"
      ],
      "metadata": {
        "colab": {
          "base_uri": "https://localhost:8080/"
        },
        "id": "HZtqBT6x25v3",
        "outputId": "ba25ccc4-e221-41a7-fd4b-4aafb195fb7f"
      },
      "execution_count": null,
      "outputs": [
        {
          "output_type": "execute_result",
          "data": {
            "text/plain": [
              "False"
            ]
          },
          "metadata": {},
          "execution_count": 49
        }
      ]
    },
    {
      "cell_type": "code",
      "execution_count": null,
      "metadata": {
        "colab": {
          "base_uri": "https://localhost:8080/",
          "height": 226
        },
        "id": "zmIVtjScKsb1",
        "outputId": "fb8a7a97-40a5-4201-ea75-f4c319a22038"
      },
      "outputs": [
        {
          "output_type": "stream",
          "name": "stdout",
          "text": [
            "True\n",
            "(2931, 82)\n"
          ]
        },
        {
          "output_type": "execute_result",
          "data": {
            "text/plain": [
              "   Order        PID  MS SubClass MS Zoning  Lot Frontage  Lot Area Street  \\\n",
              "1      1  526301100           20        RL         141.0     31770   Pave   \n",
              "\n",
              "  Alley Lot Shape Land Contour  ... Pool Area Pool QC Fence Misc Feature  \\\n",
              "1   NaN       IR1          Lvl  ...         0     NaN   NaN          NaN   \n",
              "\n",
              "  Misc Val Mo Sold Yr Sold Sale Type  Sale Condition  SalePrice  \n",
              "1        0       5    2010       WD           Normal     215000  \n",
              "\n",
              "[1 rows x 82 columns]"
            ],
            "text/html": [
              "\n",
              "  <div id=\"df-6ecce802-090b-45b3-b9c3-729eb2c3cb54\">\n",
              "    <div class=\"colab-df-container\">\n",
              "      <div>\n",
              "<style scoped>\n",
              "    .dataframe tbody tr th:only-of-type {\n",
              "        vertical-align: middle;\n",
              "    }\n",
              "\n",
              "    .dataframe tbody tr th {\n",
              "        vertical-align: top;\n",
              "    }\n",
              "\n",
              "    .dataframe thead th {\n",
              "        text-align: right;\n",
              "    }\n",
              "</style>\n",
              "<table border=\"1\" class=\"dataframe\">\n",
              "  <thead>\n",
              "    <tr style=\"text-align: right;\">\n",
              "      <th></th>\n",
              "      <th>Order</th>\n",
              "      <th>PID</th>\n",
              "      <th>MS SubClass</th>\n",
              "      <th>MS Zoning</th>\n",
              "      <th>Lot Frontage</th>\n",
              "      <th>Lot Area</th>\n",
              "      <th>Street</th>\n",
              "      <th>Alley</th>\n",
              "      <th>Lot Shape</th>\n",
              "      <th>Land Contour</th>\n",
              "      <th>...</th>\n",
              "      <th>Pool Area</th>\n",
              "      <th>Pool QC</th>\n",
              "      <th>Fence</th>\n",
              "      <th>Misc Feature</th>\n",
              "      <th>Misc Val</th>\n",
              "      <th>Mo Sold</th>\n",
              "      <th>Yr Sold</th>\n",
              "      <th>Sale Type</th>\n",
              "      <th>Sale Condition</th>\n",
              "      <th>SalePrice</th>\n",
              "    </tr>\n",
              "  </thead>\n",
              "  <tbody>\n",
              "    <tr>\n",
              "      <th>1</th>\n",
              "      <td>1</td>\n",
              "      <td>526301100</td>\n",
              "      <td>20</td>\n",
              "      <td>RL</td>\n",
              "      <td>141.0</td>\n",
              "      <td>31770</td>\n",
              "      <td>Pave</td>\n",
              "      <td>NaN</td>\n",
              "      <td>IR1</td>\n",
              "      <td>Lvl</td>\n",
              "      <td>...</td>\n",
              "      <td>0</td>\n",
              "      <td>NaN</td>\n",
              "      <td>NaN</td>\n",
              "      <td>NaN</td>\n",
              "      <td>0</td>\n",
              "      <td>5</td>\n",
              "      <td>2010</td>\n",
              "      <td>WD</td>\n",
              "      <td>Normal</td>\n",
              "      <td>215000</td>\n",
              "    </tr>\n",
              "  </tbody>\n",
              "</table>\n",
              "<p>1 rows × 82 columns</p>\n",
              "</div>\n",
              "      <button class=\"colab-df-convert\" onclick=\"convertToInteractive('df-6ecce802-090b-45b3-b9c3-729eb2c3cb54')\"\n",
              "              title=\"Convert this dataframe to an interactive table.\"\n",
              "              style=\"display:none;\">\n",
              "        \n",
              "  <svg xmlns=\"http://www.w3.org/2000/svg\" height=\"24px\"viewBox=\"0 0 24 24\"\n",
              "       width=\"24px\">\n",
              "    <path d=\"M0 0h24v24H0V0z\" fill=\"none\"/>\n",
              "    <path d=\"M18.56 5.44l.94 2.06.94-2.06 2.06-.94-2.06-.94-.94-2.06-.94 2.06-2.06.94zm-11 1L8.5 8.5l.94-2.06 2.06-.94-2.06-.94L8.5 2.5l-.94 2.06-2.06.94zm10 10l.94 2.06.94-2.06 2.06-.94-2.06-.94-.94-2.06-.94 2.06-2.06.94z\"/><path d=\"M17.41 7.96l-1.37-1.37c-.4-.4-.92-.59-1.43-.59-.52 0-1.04.2-1.43.59L10.3 9.45l-7.72 7.72c-.78.78-.78 2.05 0 2.83L4 21.41c.39.39.9.59 1.41.59.51 0 1.02-.2 1.41-.59l7.78-7.78 2.81-2.81c.8-.78.8-2.07 0-2.86zM5.41 20L4 18.59l7.72-7.72 1.47 1.35L5.41 20z\"/>\n",
              "  </svg>\n",
              "      </button>\n",
              "      \n",
              "  <style>\n",
              "    .colab-df-container {\n",
              "      display:flex;\n",
              "      flex-wrap:wrap;\n",
              "      gap: 12px;\n",
              "    }\n",
              "\n",
              "    .colab-df-convert {\n",
              "      background-color: #E8F0FE;\n",
              "      border: none;\n",
              "      border-radius: 50%;\n",
              "      cursor: pointer;\n",
              "      display: none;\n",
              "      fill: #1967D2;\n",
              "      height: 32px;\n",
              "      padding: 0 0 0 0;\n",
              "      width: 32px;\n",
              "    }\n",
              "\n",
              "    .colab-df-convert:hover {\n",
              "      background-color: #E2EBFA;\n",
              "      box-shadow: 0px 1px 2px rgba(60, 64, 67, 0.3), 0px 1px 3px 1px rgba(60, 64, 67, 0.15);\n",
              "      fill: #174EA6;\n",
              "    }\n",
              "\n",
              "    [theme=dark] .colab-df-convert {\n",
              "      background-color: #3B4455;\n",
              "      fill: #D2E3FC;\n",
              "    }\n",
              "\n",
              "    [theme=dark] .colab-df-convert:hover {\n",
              "      background-color: #434B5C;\n",
              "      box-shadow: 0px 1px 3px 1px rgba(0, 0, 0, 0.15);\n",
              "      filter: drop-shadow(0px 1px 2px rgba(0, 0, 0, 0.3));\n",
              "      fill: #FFFFFF;\n",
              "    }\n",
              "  </style>\n",
              "\n",
              "      <script>\n",
              "        const buttonEl =\n",
              "          document.querySelector('#df-6ecce802-090b-45b3-b9c3-729eb2c3cb54 button.colab-df-convert');\n",
              "        buttonEl.style.display =\n",
              "          google.colab.kernel.accessAllowed ? 'block' : 'none';\n",
              "\n",
              "        async function convertToInteractive(key) {\n",
              "          const element = document.querySelector('#df-6ecce802-090b-45b3-b9c3-729eb2c3cb54');\n",
              "          const dataTable =\n",
              "            await google.colab.kernel.invokeFunction('convertToInteractive',\n",
              "                                                     [key], {});\n",
              "          if (!dataTable) return;\n",
              "\n",
              "          const docLinkHtml = 'Like what you see? Visit the ' +\n",
              "            '<a target=\"_blank\" href=https://colab.research.google.com/notebooks/data_table.ipynb>data table notebook</a>'\n",
              "            + ' to learn more about interactive tables.';\n",
              "          element.innerHTML = '';\n",
              "          dataTable['output_type'] = 'display_data';\n",
              "          await google.colab.output.renderOutput(dataTable, element);\n",
              "          const docLink = document.createElement('div');\n",
              "          docLink.innerHTML = docLinkHtml;\n",
              "          element.appendChild(docLink);\n",
              "        }\n",
              "      </script>\n",
              "    </div>\n",
              "  </div>\n",
              "  "
            ]
          },
          "metadata": {},
          "execution_count": 50
        }
      ],
      "source": [
        "print(housing.index.is_unique)\n",
        "print(housing.shape)\n",
        "duplicate = housing[housing.duplicated(['PID'])]\n",
        "duplicate"
      ]
    },
    {
      "cell_type": "markdown",
      "metadata": {
        "id": "1R3MHkMgKsb2"
      },
      "source": [
        "As we can see, there is one duplicate row in this dataset. To remove it, we can use pandas `drop_duplicates()` function. By default, it removes all duplicate rows based on all the columns.\n"
      ]
    },
    {
      "cell_type": "code",
      "execution_count": null,
      "metadata": {
        "colab": {
          "base_uri": "https://localhost:8080/"
        },
        "id": "3fZ1vjOFKsb4",
        "outputId": "fbe44254-74c9-4000-e925-35100e32f204"
      },
      "outputs": [
        {
          "output_type": "stream",
          "name": "stdout",
          "text": [
            "(2930, 82)\n"
          ]
        }
      ],
      "source": [
        "dup_removed = housing.drop_duplicates()\n",
        "print(dup_removed.shape)"
      ]
    },
    {
      "cell_type": "code",
      "source": [
        "\n",
        "housing['PID'].drop_duplicates()\n",
        "housing['PID'].is_unique #it steal false but i donk what is the reason until now\n",
        "dup_removed['PID'].is_unique # i think i solve it . how i cant catch it :/"
      ],
      "metadata": {
        "colab": {
          "base_uri": "https://localhost:8080/"
        },
        "id": "eAoNzrTE3Liz",
        "outputId": "ba03948c-ddb9-4c1f-8caa-ca8ef26ab408"
      },
      "execution_count": null,
      "outputs": [
        {
          "output_type": "execute_result",
          "data": {
            "text/plain": [
              "True"
            ]
          },
          "metadata": {},
          "execution_count": 56
        }
      ]
    },
    {
      "cell_type": "markdown",
      "metadata": {
        "id": "8mLFJyaPKsb5"
      },
      "source": [
        "An alternative way to check if there are any duplicated Indexes in our dataset is using `index.is_unique` function.\n"
      ]
    },
    {
      "cell_type": "code",
      "execution_count": null,
      "metadata": {
        "colab": {
          "base_uri": "https://localhost:8080/"
        },
        "id": "uUzX8jbUKsb7",
        "outputId": "ef489df2-ce5a-4771-9d08-64c9bc539c88"
      },
      "outputs": [
        {
          "output_type": "stream",
          "name": "stdout",
          "text": [
            "True\n",
            "(2931, 82)\n"
          ]
        }
      ],
      "source": [
        "print(housing.index.is_unique)\n",
        "print (housing.shape)"
      ]
    },
    {
      "cell_type": "markdown",
      "metadata": {
        "id": "CfhNBj2DKsb8"
      },
      "source": [
        "## Exercise 3\n"
      ]
    },
    {
      "cell_type": "markdown",
      "metadata": {
        "id": "AssX39wHKsb9"
      },
      "source": [
        "In this exercise try to remove duplicates on a specific column by setting the subset equal to the column that contains the duplicate, such as 'Order'.\n"
      ]
    },
    {
      "cell_type": "code",
      "execution_count": null,
      "metadata": {
        "colab": {
          "base_uri": "https://localhost:8080/"
        },
        "id": "F2lPuMPfKsb-",
        "outputId": "4561eb3f-70a6-4145-a381-7e05f50952d8"
      },
      "outputs": [
        {
          "output_type": "stream",
          "name": "stdout",
          "text": [
            "(2931, 82) (2930, 82)\n"
          ]
        }
      ],
      "source": [
        "# Enter your code and run the cell\n",
        "removed_sub=housing.drop_duplicates(subset=['Order'])\n",
        "print (housing.shape,removed_sub.shape)"
      ]
    },
    {
      "cell_type": "markdown",
      "metadata": {
        "id": "dgD_Kq3sKscA"
      },
      "source": [
        "<details>\n",
        "<summary><strong>Solution</strong> (Click Here)</summary>\n",
        "    &emsp; &emsp; <code>\n",
        "removed_sub = housing.drop_duplicates(subset=['Order'])\n",
        "</code>\n",
        "</details>\n"
      ]
    },
    {
      "cell_type": "markdown",
      "metadata": {
        "id": "WsO6kecsKscB"
      },
      "source": [
        "## **Handling the Missing Values**\n"
      ]
    },
    {
      "cell_type": "markdown",
      "metadata": {
        "id": "1StU7fD-KscC"
      },
      "source": [
        "### Finding the Missing Values\n"
      ]
    },
    {
      "cell_type": "markdown",
      "metadata": {
        "id": "rznsXhDsKscE"
      },
      "source": [
        "For easier detection of missing values, pandas provides the `isna()`, `isnull()`, and `notna()` functions. For more information on pandas missing values please check out this [documentation](https://pandas.pydata.org/pandas-docs/stable/user_guide/missing_data.html?utm_medium=Exinfluencer&utm_source=Exinfluencer&utm_content=000026UJ&utm_term=10006555&utm_id=NA-SkillsNetwork-Channel-SkillsNetworkCoursesIBMML0232ENSkillsNetwork30654641-2022-01-01).\n"
      ]
    },
    {
      "cell_type": "markdown",
      "metadata": {
        "id": "YIxTzwRuKscF"
      },
      "source": [
        "To summarize all the missing values in our dataset, we will use `isnull()` function. Then, we will add them all up, by using `sum()` function, sort them with `sort_values()` function, and plot the first 20 columns (as the majority of our missing values fall within first 20 columns), using the `bar plot` function from the `matplotlib` library.\n"
      ]
    },
    {
      "cell_type": "code",
      "execution_count": null,
      "metadata": {
        "colab": {
          "base_uri": "https://localhost:8080/",
          "height": 326
        },
        "id": "Fg5V2T62KscG",
        "outputId": "1bdcb48b-5518-4a86-ec6d-efafa5b75030"
      },
      "outputs": [
        {
          "data": {
            "text/plain": [
              "Text(0.5, 1.0, 'Total Missing Values')"
            ]
          },
          "execution_count": 36,
          "metadata": {},
          "output_type": "execute_result"
        },
        {
          "data": {
            "image/png": "[encoded data removed]",
            "text/plain": [
              "<Figure size 576x432 with 1 Axes>"
            ]
          },
          "metadata": {},
          "output_type": "display_data"
        }
      ],
      "source": [
        "total = housing.isnull().sum().sort_values(ascending=False)\n",
        "total_select = total.head(20)\n",
        "total_select.plot(kind=\"bar\", figsize = (8,6), fontsize = 10)\n",
        "\n",
        "plt.xlabel(\"Columns\", fontsize = 20)\n",
        "plt.ylabel(\"Count\", fontsize = 20)\n",
        "plt.title(\"Total Missing Values\", fontsize = 20)"
      ]
    },
    {
      "cell_type": "markdown",
      "metadata": {
        "id": "0I5CZg6FKscI"
      },
      "source": [
        "There are several options for dealing with missing values. We will use 'Lot Frontage' feature to analyze for missing values.\n"
      ]
    },
    {
      "cell_type": "markdown",
      "metadata": {
        "id": "0YbviMspKscJ"
      },
      "source": [
        "1.  We can drop the missing values, using `dropna()` method.\n"
      ]
    },
    {
      "cell_type": "code",
      "execution_count": null,
      "metadata": {
        "colab": {
          "base_uri": "https://localhost:8080/"
        },
        "id": "7hnzsy3rKscK",
        "outputId": "34a97897-5f72-4e2a-ced5-fa3394a83faa"
      },
      "outputs": [
        {
          "name": "stdout",
          "output_type": "stream",
          "text": [
            "(2931, 82)\n",
            "<class 'pandas.core.frame.DataFrame'>\n",
            "RangeIndex: 2931 entries, 0 to 2930\n",
            "Data columns (total 82 columns):\n",
            " #   Column           Non-Null Count  Dtype  \n",
            "---  ------           --------------  -----  \n",
            " 0   Order            2931 non-null   int64  \n",
            " 1   PID              2931 non-null   int64  \n",
            " 2   MS SubClass      2931 non-null   int64  \n",
            " 3   MS Zoning        2931 non-null   object \n",
            " 4   Lot Frontage     2441 non-null   float64\n",
            " 5   Lot Area         2931 non-null   int64  \n",
            " 6   Street           2931 non-null   object \n",
            " 7   Alley            198 non-null    object \n",
            " 8   Lot Shape        2931 non-null   object \n",
            " 9   Land Contour     2931 non-null   object \n",
            " 10  Utilities        2931 non-null   object \n",
            " 11  Lot Config       2931 non-null   object \n",
            " 12  Land Slope       2931 non-null   object \n",
            " 13  Neighborhood     2931 non-null   object \n",
            " 14  Condition 1      2931 non-null   object \n",
            " 15  Condition 2      2931 non-null   object \n",
            " 16  Bldg Type        2931 non-null   object \n",
            " 17  House Style      2931 non-null   object \n",
            " 18  Overall Qual     2931 non-null   int64  \n",
            " 19  Overall Cond     2931 non-null   int64  \n",
            " 20  Year Built       2931 non-null   int64  \n",
            " 21  Year Remod/Add   2931 non-null   int64  \n",
            " 22  Roof Style       2931 non-null   object \n",
            " 23  Roof Matl        2931 non-null   object \n",
            " 24  Exterior 1st     2931 non-null   object \n",
            " 25  Exterior 2nd     2931 non-null   object \n",
            " 26  Mas Vnr Type     2908 non-null   object \n",
            " 27  Mas Vnr Area     2931 non-null   object \n",
            " 28  Exter Qual       2931 non-null   object \n",
            " 29  Exter Cond       2931 non-null   object \n",
            " 30  Foundation       2931 non-null   object \n",
            " 31  Bsmt Qual        2851 non-null   object \n",
            " 32  Bsmt Cond        2851 non-null   object \n",
            " 33  Bsmt Exposure    2848 non-null   object \n",
            " 34  BsmtFin Type 1   2851 non-null   object \n",
            " 35  BsmtFin SF 1     2930 non-null   float64\n",
            " 36  BsmtFin Type 2   2850 non-null   object \n",
            " 37  BsmtFin SF 2     2930 non-null   float64\n",
            " 38  Bsmt Unf SF      2930 non-null   float64\n",
            " 39  Total Bsmt SF    2930 non-null   float64\n",
            " 40  Heating          2931 non-null   object \n",
            " 41  Heating QC       2931 non-null   object \n",
            " 42  Central Air      2931 non-null   object \n",
            " 43  Electrical       2930 non-null   object \n",
            " 44  1st Flr SF       2931 non-null   int64  \n",
            " 45  2nd Flr SF       2931 non-null   int64  \n",
            " 46  Low Qual Fin SF  2931 non-null   int64  \n",
            " 47  Gr Liv Area      2931 non-null   int64  \n",
            " 48  Bsmt Full Bath   2929 non-null   float64\n",
            " 49  Bsmt Half Bath   2929 non-null   float64\n",
            " 50  Full Bath        2931 non-null   int64  \n",
            " 51  Half Bath        2931 non-null   int64  \n",
            " 52  Bedroom AbvGr    2931 non-null   int64  \n",
            " 53  Kitchen AbvGr    2931 non-null   int64  \n",
            " 54  Kitchen Qual     2931 non-null   object \n",
            " 55  TotRms AbvGrd    2931 non-null   int64  \n",
            " 56  Functional       2931 non-null   object \n",
            " 57  Fireplaces       2931 non-null   int64  \n",
            " 58  Fireplace Qu     1509 non-null   object \n",
            " 59  Garage Type      2774 non-null   object \n",
            " 60  Garage Yr Blt    2772 non-null   float64\n",
            " 61  Garage Finish    2772 non-null   object \n",
            " 62  Garage Cars      2930 non-null   float64\n",
            " 63  Garage Area      2930 non-null   float64\n",
            " 64  Garage Qual      2772 non-null   object \n",
            " 65  Garage Cond      2772 non-null   object \n",
            " 66  Paved Drive      2931 non-null   object \n",
            " 67  Wood Deck SF     2931 non-null   int64  \n",
            " 68  Open Porch SF    2931 non-null   int64  \n",
            " 69  Enclosed Porch   2931 non-null   int64  \n",
            " 70  3Ssn Porch       2931 non-null   int64  \n",
            " 71  Screen Porch     2931 non-null   int64  \n",
            " 72  Pool Area        2931 non-null   int64  \n",
            " 73  Pool QC          13 non-null     object \n",
            " 74  Fence            572 non-null    object \n",
            " 75  Misc Feature     106 non-null    object \n",
            " 76  Misc Val         2931 non-null   int64  \n",
            " 77  Mo Sold          2931 non-null   int64  \n",
            " 78  Yr Sold          2931 non-null   int64  \n",
            " 79  Sale Type        2931 non-null   object \n",
            " 80  Sale Condition   2931 non-null   object \n",
            " 81  SalePrice        2931 non-null   int64  \n",
            "dtypes: float64(10), int64(28), object(44)\n",
            "memory usage: 1.8+ MB\n",
            "(2931,)\n"
          ]
        }
      ],
      "source": [
        "housing.dropna(subset=[\"Lot Frontage\"])\n",
        "print(housing.shape)\n",
        "housing.info()\n",
        "print(housing[\"Lot Frontage\"].shape)"
      ]
    },
    {
      "cell_type": "markdown",
      "metadata": {
        "id": "w6c235uVKscL"
      },
      "source": [
        "Using this method, all the rows, containing null values in 'Lot Frontage' feature, for example, will be dropped.\n"
      ]
    },
    {
      "cell_type": "markdown",
      "metadata": {
        "id": "ksLa79HvKscN"
      },
      "source": [
        "2.  We can drop the whole attribute (column), that contains missing values, using the `drop()` method.\n"
      ]
    },
    {
      "cell_type": "code",
      "execution_count": null,
      "metadata": {
        "colab": {
          "base_uri": "https://localhost:8080/",
          "height": 505
        },
        "id": "ruvK0x1jKscO",
        "outputId": "f0f03670-3971-4b7f-8616-9517ba9af75d"
      },
      "outputs": [
        {
          "data": {
            "text/html": [
              "\n",
              "  <div id=\"df-d57442d6-23be-4ded-abf3-89eb309908a6\">\n",
              "    <div class=\"colab-df-container\">\n",
              "      <div>\n",
              "<style scoped>\n",
              "    .dataframe tbody tr th:only-of-type {\n",
              "        vertical-align: middle;\n",
              "    }\n",
              "\n",
              "    .dataframe tbody tr th {\n",
              "        vertical-align: top;\n",
              "    }\n",
              "\n",
              "    .dataframe thead th {\n",
              "        text-align: right;\n",
              "    }\n",
              "</style>\n",
              "<table border=\"1\" class=\"dataframe\">\n",
              "  <thead>\n",
              "    <tr style=\"text-align: right;\">\n",
              "      <th></th>\n",
              "      <th>Order</th>\n",
              "      <th>PID</th>\n",
              "      <th>MS SubClass</th>\n",
              "      <th>MS Zoning</th>\n",
              "      <th>Lot Area</th>\n",
              "      <th>Street</th>\n",
              "      <th>Alley</th>\n",
              "      <th>Lot Shape</th>\n",
              "      <th>Land Contour</th>\n",
              "      <th>Utilities</th>\n",
              "      <th>...</th>\n",
              "      <th>Pool Area</th>\n",
              "      <th>Pool QC</th>\n",
              "      <th>Fence</th>\n",
              "      <th>Misc Feature</th>\n",
              "      <th>Misc Val</th>\n",
              "      <th>Mo Sold</th>\n",
              "      <th>Yr Sold</th>\n",
              "      <th>Sale Type</th>\n",
              "      <th>Sale Condition</th>\n",
              "      <th>SalePrice</th>\n",
              "    </tr>\n",
              "  </thead>\n",
              "  <tbody>\n",
              "    <tr>\n",
              "      <th>0</th>\n",
              "      <td>1</td>\n",
              "      <td>526301100</td>\n",
              "      <td>20</td>\n",
              "      <td>RL</td>\n",
              "      <td>31770</td>\n",
              "      <td>Pave</td>\n",
              "      <td>NaN</td>\n",
              "      <td>IR1</td>\n",
              "      <td>Lvl</td>\n",
              "      <td>AllPub</td>\n",
              "      <td>...</td>\n",
              "      <td>0</td>\n",
              "      <td>NaN</td>\n",
              "      <td>NaN</td>\n",
              "      <td>NaN</td>\n",
              "      <td>0</td>\n",
              "      <td>5</td>\n",
              "      <td>2010</td>\n",
              "      <td>WD</td>\n",
              "      <td>Normal</td>\n",
              "      <td>215000</td>\n",
              "    </tr>\n",
              "    <tr>\n",
              "      <th>1</th>\n",
              "      <td>1</td>\n",
              "      <td>526301100</td>\n",
              "      <td>20</td>\n",
              "      <td>RL</td>\n",
              "      <td>31770</td>\n",
              "      <td>Pave</td>\n",
              "      <td>NaN</td>\n",
              "      <td>IR1</td>\n",
              "      <td>Lvl</td>\n",
              "      <td>AllPub</td>\n",
              "      <td>...</td>\n",
              "      <td>0</td>\n",
              "      <td>NaN</td>\n",
              "      <td>NaN</td>\n",
              "      <td>NaN</td>\n",
              "      <td>0</td>\n",
              "      <td>5</td>\n",
              "      <td>2010</td>\n",
              "      <td>WD</td>\n",
              "      <td>Normal</td>\n",
              "      <td>215000</td>\n",
              "    </tr>\n",
              "    <tr>\n",
              "      <th>2</th>\n",
              "      <td>2</td>\n",
              "      <td>526350040</td>\n",
              "      <td>20</td>\n",
              "      <td>RH</td>\n",
              "      <td>11622</td>\n",
              "      <td>Pave</td>\n",
              "      <td>NaN</td>\n",
              "      <td>Reg</td>\n",
              "      <td>Lvl</td>\n",
              "      <td>AllPub</td>\n",
              "      <td>...</td>\n",
              "      <td>0</td>\n",
              "      <td>NaN</td>\n",
              "      <td>MnPrv</td>\n",
              "      <td>NaN</td>\n",
              "      <td>0</td>\n",
              "      <td>6</td>\n",
              "      <td>2010</td>\n",
              "      <td>WD</td>\n",
              "      <td>Normal</td>\n",
              "      <td>105000</td>\n",
              "    </tr>\n",
              "    <tr>\n",
              "      <th>3</th>\n",
              "      <td>3</td>\n",
              "      <td>526351010</td>\n",
              "      <td>20</td>\n",
              "      <td>RL</td>\n",
              "      <td>14267</td>\n",
              "      <td>Pave</td>\n",
              "      <td>NaN</td>\n",
              "      <td>IR1</td>\n",
              "      <td>Lvl</td>\n",
              "      <td>AllPub</td>\n",
              "      <td>...</td>\n",
              "      <td>0</td>\n",
              "      <td>NaN</td>\n",
              "      <td>NaN</td>\n",
              "      <td>Gar2</td>\n",
              "      <td>12500</td>\n",
              "      <td>6</td>\n",
              "      <td>2010</td>\n",
              "      <td>WD</td>\n",
              "      <td>Normal</td>\n",
              "      <td>172000</td>\n",
              "    </tr>\n",
              "    <tr>\n",
              "      <th>4</th>\n",
              "      <td>4</td>\n",
              "      <td>526353030</td>\n",
              "      <td>20</td>\n",
              "      <td>RL</td>\n",
              "      <td>11160</td>\n",
              "      <td>Pave</td>\n",
              "      <td>NaN</td>\n",
              "      <td>Reg</td>\n",
              "      <td>Lvl</td>\n",
              "      <td>AllPub</td>\n",
              "      <td>...</td>\n",
              "      <td>0</td>\n",
              "      <td>NaN</td>\n",
              "      <td>NaN</td>\n",
              "      <td>NaN</td>\n",
              "      <td>0</td>\n",
              "      <td>4</td>\n",
              "      <td>2010</td>\n",
              "      <td>WD</td>\n",
              "      <td>Normal</td>\n",
              "      <td>244000</td>\n",
              "    </tr>\n",
              "    <tr>\n",
              "      <th>...</th>\n",
              "      <td>...</td>\n",
              "      <td>...</td>\n",
              "      <td>...</td>\n",
              "      <td>...</td>\n",
              "      <td>...</td>\n",
              "      <td>...</td>\n",
              "      <td>...</td>\n",
              "      <td>...</td>\n",
              "      <td>...</td>\n",
              "      <td>...</td>\n",
              "      <td>...</td>\n",
              "      <td>...</td>\n",
              "      <td>...</td>\n",
              "      <td>...</td>\n",
              "      <td>...</td>\n",
              "      <td>...</td>\n",
              "      <td>...</td>\n",
              "      <td>...</td>\n",
              "      <td>...</td>\n",
              "      <td>...</td>\n",
              "      <td>...</td>\n",
              "    </tr>\n",
              "    <tr>\n",
              "      <th>2926</th>\n",
              "      <td>2926</td>\n",
              "      <td>923275080</td>\n",
              "      <td>80</td>\n",
              "      <td>RL</td>\n",
              "      <td>7937</td>\n",
              "      <td>Pave</td>\n",
              "      <td>NaN</td>\n",
              "      <td>IR1</td>\n",
              "      <td>Lvl</td>\n",
              "      <td>AllPub</td>\n",
              "      <td>...</td>\n",
              "      <td>0</td>\n",
              "      <td>NaN</td>\n",
              "      <td>GdPrv</td>\n",
              "      <td>NaN</td>\n",
              "      <td>0</td>\n",
              "      <td>3</td>\n",
              "      <td>2006</td>\n",
              "      <td>WD</td>\n",
              "      <td>Normal</td>\n",
              "      <td>142500</td>\n",
              "    </tr>\n",
              "    <tr>\n",
              "      <th>2927</th>\n",
              "      <td>2927</td>\n",
              "      <td>923276100</td>\n",
              "      <td>20</td>\n",
              "      <td>RL</td>\n",
              "      <td>8885</td>\n",
              "      <td>Pave</td>\n",
              "      <td>NaN</td>\n",
              "      <td>IR1</td>\n",
              "      <td>Low</td>\n",
              "      <td>AllPub</td>\n",
              "      <td>...</td>\n",
              "      <td>0</td>\n",
              "      <td>NaN</td>\n",
              "      <td>MnPrv</td>\n",
              "      <td>NaN</td>\n",
              "      <td>0</td>\n",
              "      <td>6</td>\n",
              "      <td>2006</td>\n",
              "      <td>WD</td>\n",
              "      <td>Normal</td>\n",
              "      <td>131000</td>\n",
              "    </tr>\n",
              "    <tr>\n",
              "      <th>2928</th>\n",
              "      <td>2928</td>\n",
              "      <td>923400125</td>\n",
              "      <td>85</td>\n",
              "      <td>RL</td>\n",
              "      <td>10441</td>\n",
              "      <td>Pave</td>\n",
              "      <td>NaN</td>\n",
              "      <td>Reg</td>\n",
              "      <td>Lvl</td>\n",
              "      <td>AllPub</td>\n",
              "      <td>...</td>\n",
              "      <td>0</td>\n",
              "      <td>NaN</td>\n",
              "      <td>MnPrv</td>\n",
              "      <td>Shed</td>\n",
              "      <td>700</td>\n",
              "      <td>7</td>\n",
              "      <td>2006</td>\n",
              "      <td>WD</td>\n",
              "      <td>Normal</td>\n",
              "      <td>132000</td>\n",
              "    </tr>\n",
              "    <tr>\n",
              "      <th>2929</th>\n",
              "      <td>2929</td>\n",
              "      <td>924100070</td>\n",
              "      <td>20</td>\n",
              "      <td>RL</td>\n",
              "      <td>10010</td>\n",
              "      <td>Pave</td>\n",
              "      <td>NaN</td>\n",
              "      <td>Reg</td>\n",
              "      <td>Lvl</td>\n",
              "      <td>AllPub</td>\n",
              "      <td>...</td>\n",
              "      <td>0</td>\n",
              "      <td>NaN</td>\n",
              "      <td>NaN</td>\n",
              "      <td>NaN</td>\n",
              "      <td>0</td>\n",
              "      <td>4</td>\n",
              "      <td>2006</td>\n",
              "      <td>WD</td>\n",
              "      <td>Normal</td>\n",
              "      <td>170000</td>\n",
              "    </tr>\n",
              "    <tr>\n",
              "      <th>2930</th>\n",
              "      <td>2930</td>\n",
              "      <td>924151050</td>\n",
              "      <td>60</td>\n",
              "      <td>RL</td>\n",
              "      <td>9627</td>\n",
              "      <td>Pave</td>\n",
              "      <td>NaN</td>\n",
              "      <td>Reg</td>\n",
              "      <td>Lvl</td>\n",
              "      <td>AllPub</td>\n",
              "      <td>...</td>\n",
              "      <td>0</td>\n",
              "      <td>NaN</td>\n",
              "      <td>NaN</td>\n",
              "      <td>NaN</td>\n",
              "      <td>0</td>\n",
              "      <td>11</td>\n",
              "      <td>2006</td>\n",
              "      <td>WD</td>\n",
              "      <td>Normal</td>\n",
              "      <td>188000</td>\n",
              "    </tr>\n",
              "  </tbody>\n",
              "</table>\n",
              "<p>2931 rows × 81 columns</p>\n",
              "</div>\n",
              "      <button class=\"colab-df-convert\" onclick=\"convertToInteractive('df-d57442d6-23be-4ded-abf3-89eb309908a6')\"\n",
              "              title=\"Convert this dataframe to an interactive table.\"\n",
              "              style=\"display:none;\">\n",
              "        \n",
              "  <svg xmlns=\"http://www.w3.org/2000/svg\" height=\"24px\"viewBox=\"0 0 24 24\"\n",
              "       width=\"24px\">\n",
              "    <path d=\"M0 0h24v24H0V0z\" fill=\"none\"/>\n",
              "    <path d=\"M18.56 5.44l.94 2.06.94-2.06 2.06-.94-2.06-.94-.94-2.06-.94 2.06-2.06.94zm-11 1L8.5 8.5l.94-2.06 2.06-.94-2.06-.94L8.5 2.5l-.94 2.06-2.06.94zm10 10l.94 2.06.94-2.06 2.06-.94-2.06-.94-.94-2.06-.94 2.06-2.06.94z\"/><path d=\"M17.41 7.96l-1.37-1.37c-.4-.4-.92-.59-1.43-.59-.52 0-1.04.2-1.43.59L10.3 9.45l-7.72 7.72c-.78.78-.78 2.05 0 2.83L4 21.41c.39.39.9.59 1.41.59.51 0 1.02-.2 1.41-.59l7.78-7.78 2.81-2.81c.8-.78.8-2.07 0-2.86zM5.41 20L4 18.59l7.72-7.72 1.47 1.35L5.41 20z\"/>\n",
              "  </svg>\n",
              "      </button>\n",
              "      \n",
              "  <style>\n",
              "    .colab-df-container {\n",
              "      display:flex;\n",
              "      flex-wrap:wrap;\n",
              "      gap: 12px;\n",
              "    }\n",
              "\n",
              "    .colab-df-convert {\n",
              "      background-color: #E8F0FE;\n",
              "      border: none;\n",
              "      border-radius: 50%;\n",
              "      cursor: pointer;\n",
              "      display: none;\n",
              "      fill: #1967D2;\n",
              "      height: 32px;\n",
              "      padding: 0 0 0 0;\n",
              "      width: 32px;\n",
              "    }\n",
              "\n",
              "    .colab-df-convert:hover {\n",
              "      background-color: #E2EBFA;\n",
              "      box-shadow: 0px 1px 2px rgba(60, 64, 67, 0.3), 0px 1px 3px 1px rgba(60, 64, 67, 0.15);\n",
              "      fill: #174EA6;\n",
              "    }\n",
              "\n",
              "    [theme=dark] .colab-df-convert {\n",
              "      background-color: #3B4455;\n",
              "      fill: #D2E3FC;\n",
              "    }\n",
              "\n",
              "    [theme=dark] .colab-df-convert:hover {\n",
              "      background-color: #434B5C;\n",
              "      box-shadow: 0px 1px 3px 1px rgba(0, 0, 0, 0.15);\n",
              "      filter: drop-shadow(0px 1px 2px rgba(0, 0, 0, 0.3));\n",
              "      fill: #FFFFFF;\n",
              "    }\n",
              "  </style>\n",
              "\n",
              "      <script>\n",
              "        const buttonEl =\n",
              "          document.querySelector('#df-d57442d6-23be-4ded-abf3-89eb309908a6 button.colab-df-convert');\n",
              "        buttonEl.style.display =\n",
              "          google.colab.kernel.accessAllowed ? 'block' : 'none';\n",
              "\n",
              "        async function convertToInteractive(key) {\n",
              "          const element = document.querySelector('#df-d57442d6-23be-4ded-abf3-89eb309908a6');\n",
              "          const dataTable =\n",
              "            await google.colab.kernel.invokeFunction('convertToInteractive',\n",
              "                                                     [key], {});\n",
              "          if (!dataTable) return;\n",
              "\n",
              "          const docLinkHtml = 'Like what you see? Visit the ' +\n",
              "            '<a target=\"_blank\" href=https://colab.research.google.com/notebooks/data_table.ipynb>data table notebook</a>'\n",
              "            + ' to learn more about interactive tables.';\n",
              "          element.innerHTML = '';\n",
              "          dataTable['output_type'] = 'display_data';\n",
              "          await google.colab.output.renderOutput(dataTable, element);\n",
              "          const docLink = document.createElement('div');\n",
              "          docLink.innerHTML = docLinkHtml;\n",
              "          element.appendChild(docLink);\n",
              "        }\n",
              "      </script>\n",
              "    </div>\n",
              "  </div>\n",
              "  "
            ],
            "text/plain": [
              "      Order        PID  MS SubClass MS Zoning  Lot Area Street Alley  \\\n",
              "0         1  526301100           20        RL     31770   Pave   NaN   \n",
              "1         1  526301100           20        RL     31770   Pave   NaN   \n",
              "2         2  526350040           20        RH     11622   Pave   NaN   \n",
              "3         3  526351010           20        RL     14267   Pave   NaN   \n",
              "4         4  526353030           20        RL     11160   Pave   NaN   \n",
              "...     ...        ...          ...       ...       ...    ...   ...   \n",
              "2926   2926  923275080           80        RL      7937   Pave   NaN   \n",
              "2927   2927  923276100           20        RL      8885   Pave   NaN   \n",
              "2928   2928  923400125           85        RL     10441   Pave   NaN   \n",
              "2929   2929  924100070           20        RL     10010   Pave   NaN   \n",
              "2930   2930  924151050           60        RL      9627   Pave   NaN   \n",
              "\n",
              "     Lot Shape Land Contour Utilities  ... Pool Area Pool QC  Fence  \\\n",
              "0          IR1          Lvl    AllPub  ...         0     NaN    NaN   \n",
              "1          IR1          Lvl    AllPub  ...         0     NaN    NaN   \n",
              "2          Reg          Lvl    AllPub  ...         0     NaN  MnPrv   \n",
              "3          IR1          Lvl    AllPub  ...         0     NaN    NaN   \n",
              "4          Reg          Lvl    AllPub  ...         0     NaN    NaN   \n",
              "...        ...          ...       ...  ...       ...     ...    ...   \n",
              "2926       IR1          Lvl    AllPub  ...         0     NaN  GdPrv   \n",
              "2927       IR1          Low    AllPub  ...         0     NaN  MnPrv   \n",
              "2928       Reg          Lvl    AllPub  ...         0     NaN  MnPrv   \n",
              "2929       Reg          Lvl    AllPub  ...         0     NaN    NaN   \n",
              "2930       Reg          Lvl    AllPub  ...         0     NaN    NaN   \n",
              "\n",
              "     Misc Feature Misc Val Mo Sold Yr Sold  Sale Type  Sale Condition  \\\n",
              "0             NaN        0       5    2010        WD           Normal   \n",
              "1             NaN        0       5    2010        WD           Normal   \n",
              "2             NaN        0       6    2010        WD           Normal   \n",
              "3            Gar2    12500       6    2010        WD           Normal   \n",
              "4             NaN        0       4    2010        WD           Normal   \n",
              "...           ...      ...     ...     ...        ...             ...   \n",
              "2926          NaN        0       3    2006        WD           Normal   \n",
              "2927          NaN        0       6    2006        WD           Normal   \n",
              "2928         Shed      700       7    2006        WD           Normal   \n",
              "2929          NaN        0       4    2006        WD           Normal   \n",
              "2930          NaN        0      11    2006        WD           Normal   \n",
              "\n",
              "      SalePrice  \n",
              "0        215000  \n",
              "1        215000  \n",
              "2        105000  \n",
              "3        172000  \n",
              "4        244000  \n",
              "...         ...  \n",
              "2926     142500  \n",
              "2927     131000  \n",
              "2928     132000  \n",
              "2929     170000  \n",
              "2930     188000  \n",
              "\n",
              "[2931 rows x 81 columns]"
            ]
          },
          "execution_count": 64,
          "metadata": {},
          "output_type": "execute_result"
        }
      ],
      "source": [
        "housing.drop(\"Lot Frontage\",axis=1)"
      ]
    },
    {
      "cell_type": "markdown",
      "metadata": {
        "id": "hmnqNtufKscP"
      },
      "source": [
        "Using this method, the entire column containing the null values will be dropped.\n"
      ]
    },
    {
      "cell_type": "markdown",
      "metadata": {
        "id": "Rw_nKIJrKscR"
      },
      "source": [
        "3.  We can replace the missing values (zero, the mean, the median, etc.), using `fillna()` method.\n"
      ]
    },
    {
      "cell_type": "code",
      "execution_count": null,
      "metadata": {
        "colab": {
          "base_uri": "https://localhost:8080/"
        },
        "id": "CPV8nComKscS",
        "outputId": "603b6fe4-c6db-4933-b1f6-e124beeb122d"
      },
      "outputs": [
        {
          "data": {
            "text/plain": [
              "68.0"
            ]
          },
          "execution_count": 38,
          "metadata": {},
          "output_type": "execute_result"
        }
      ],
      "source": [
        "median = housing[\"Lot Frontage\"].median()\n",
        "median"
      ]
    },
    {
      "cell_type": "code",
      "execution_count": null,
      "metadata": {
        "id": "uVr-XBmsKscT"
      },
      "outputs": [],
      "source": [
        "housing[\"Lot Frontage\"].fillna(median, inplace = True)"
      ]
    },
    {
      "cell_type": "code",
      "execution_count": null,
      "metadata": {
        "colab": {
          "base_uri": "https://localhost:8080/",
          "height": 317
        },
        "id": "xdbXsa4uKscV",
        "outputId": "955cf1b1-24f3-4858-a688-64f118a38cd0"
      },
      "outputs": [
        {
          "data": {
            "text/html": [
              "\n",
              "  <div id=\"df-c4d45830-cba1-4d7c-90a1-2432e302d792\">\n",
              "    <div class=\"colab-df-container\">\n",
              "      <div>\n",
              "<style scoped>\n",
              "    .dataframe tbody tr th:only-of-type {\n",
              "        vertical-align: middle;\n",
              "    }\n",
              "\n",
              "    .dataframe tbody tr th {\n",
              "        vertical-align: top;\n",
              "    }\n",
              "\n",
              "    .dataframe thead th {\n",
              "        text-align: right;\n",
              "    }\n",
              "</style>\n",
              "<table border=\"1\" class=\"dataframe\">\n",
              "  <thead>\n",
              "    <tr style=\"text-align: right;\">\n",
              "      <th></th>\n",
              "      <th>Order</th>\n",
              "      <th>PID</th>\n",
              "      <th>MS SubClass</th>\n",
              "      <th>MS Zoning</th>\n",
              "      <th>Lot Frontage</th>\n",
              "      <th>Lot Area</th>\n",
              "      <th>Street</th>\n",
              "      <th>Alley</th>\n",
              "      <th>Lot Shape</th>\n",
              "      <th>Land Contour</th>\n",
              "      <th>...</th>\n",
              "      <th>Pool Area</th>\n",
              "      <th>Pool QC</th>\n",
              "      <th>Fence</th>\n",
              "      <th>Misc Feature</th>\n",
              "      <th>Misc Val</th>\n",
              "      <th>Mo Sold</th>\n",
              "      <th>Yr Sold</th>\n",
              "      <th>Sale Type</th>\n",
              "      <th>Sale Condition</th>\n",
              "      <th>SalePrice</th>\n",
              "    </tr>\n",
              "  </thead>\n",
              "  <tbody>\n",
              "    <tr>\n",
              "      <th>2926</th>\n",
              "      <td>2926</td>\n",
              "      <td>923275080</td>\n",
              "      <td>80</td>\n",
              "      <td>RL</td>\n",
              "      <td>37.0</td>\n",
              "      <td>7937</td>\n",
              "      <td>Pave</td>\n",
              "      <td>NaN</td>\n",
              "      <td>IR1</td>\n",
              "      <td>Lvl</td>\n",
              "      <td>...</td>\n",
              "      <td>0</td>\n",
              "      <td>NaN</td>\n",
              "      <td>GdPrv</td>\n",
              "      <td>NaN</td>\n",
              "      <td>0</td>\n",
              "      <td>3</td>\n",
              "      <td>2006</td>\n",
              "      <td>WD</td>\n",
              "      <td>Normal</td>\n",
              "      <td>142500</td>\n",
              "    </tr>\n",
              "    <tr>\n",
              "      <th>2927</th>\n",
              "      <td>2927</td>\n",
              "      <td>923276100</td>\n",
              "      <td>20</td>\n",
              "      <td>RL</td>\n",
              "      <td>68.0</td>\n",
              "      <td>8885</td>\n",
              "      <td>Pave</td>\n",
              "      <td>NaN</td>\n",
              "      <td>IR1</td>\n",
              "      <td>Low</td>\n",
              "      <td>...</td>\n",
              "      <td>0</td>\n",
              "      <td>NaN</td>\n",
              "      <td>MnPrv</td>\n",
              "      <td>NaN</td>\n",
              "      <td>0</td>\n",
              "      <td>6</td>\n",
              "      <td>2006</td>\n",
              "      <td>WD</td>\n",
              "      <td>Normal</td>\n",
              "      <td>131000</td>\n",
              "    </tr>\n",
              "    <tr>\n",
              "      <th>2928</th>\n",
              "      <td>2928</td>\n",
              "      <td>923400125</td>\n",
              "      <td>85</td>\n",
              "      <td>RL</td>\n",
              "      <td>62.0</td>\n",
              "      <td>10441</td>\n",
              "      <td>Pave</td>\n",
              "      <td>NaN</td>\n",
              "      <td>Reg</td>\n",
              "      <td>Lvl</td>\n",
              "      <td>...</td>\n",
              "      <td>0</td>\n",
              "      <td>NaN</td>\n",
              "      <td>MnPrv</td>\n",
              "      <td>Shed</td>\n",
              "      <td>700</td>\n",
              "      <td>7</td>\n",
              "      <td>2006</td>\n",
              "      <td>WD</td>\n",
              "      <td>Normal</td>\n",
              "      <td>132000</td>\n",
              "    </tr>\n",
              "    <tr>\n",
              "      <th>2929</th>\n",
              "      <td>2929</td>\n",
              "      <td>924100070</td>\n",
              "      <td>20</td>\n",
              "      <td>RL</td>\n",
              "      <td>77.0</td>\n",
              "      <td>10010</td>\n",
              "      <td>Pave</td>\n",
              "      <td>NaN</td>\n",
              "      <td>Reg</td>\n",
              "      <td>Lvl</td>\n",
              "      <td>...</td>\n",
              "      <td>0</td>\n",
              "      <td>NaN</td>\n",
              "      <td>NaN</td>\n",
              "      <td>NaN</td>\n",
              "      <td>0</td>\n",
              "      <td>4</td>\n",
              "      <td>2006</td>\n",
              "      <td>WD</td>\n",
              "      <td>Normal</td>\n",
              "      <td>170000</td>\n",
              "    </tr>\n",
              "    <tr>\n",
              "      <th>2930</th>\n",
              "      <td>2930</td>\n",
              "      <td>924151050</td>\n",
              "      <td>60</td>\n",
              "      <td>RL</td>\n",
              "      <td>74.0</td>\n",
              "      <td>9627</td>\n",
              "      <td>Pave</td>\n",
              "      <td>NaN</td>\n",
              "      <td>Reg</td>\n",
              "      <td>Lvl</td>\n",
              "      <td>...</td>\n",
              "      <td>0</td>\n",
              "      <td>NaN</td>\n",
              "      <td>NaN</td>\n",
              "      <td>NaN</td>\n",
              "      <td>0</td>\n",
              "      <td>11</td>\n",
              "      <td>2006</td>\n",
              "      <td>WD</td>\n",
              "      <td>Normal</td>\n",
              "      <td>188000</td>\n",
              "    </tr>\n",
              "  </tbody>\n",
              "</table>\n",
              "<p>5 rows × 82 columns</p>\n",
              "</div>\n",
              "      <button class=\"colab-df-convert\" onclick=\"convertToInteractive('df-c4d45830-cba1-4d7c-90a1-2432e302d792')\"\n",
              "              title=\"Convert this dataframe to an interactive table.\"\n",
              "              style=\"display:none;\">\n",
              "        \n",
              "  <svg xmlns=\"http://www.w3.org/2000/svg\" height=\"24px\"viewBox=\"0 0 24 24\"\n",
              "       width=\"24px\">\n",
              "    <path d=\"M0 0h24v24H0V0z\" fill=\"none\"/>\n",
              "    <path d=\"M18.56 5.44l.94 2.06.94-2.06 2.06-.94-2.06-.94-.94-2.06-.94 2.06-2.06.94zm-11 1L8.5 8.5l.94-2.06 2.06-.94-2.06-.94L8.5 2.5l-.94 2.06-2.06.94zm10 10l.94 2.06.94-2.06 2.06-.94-2.06-.94-.94-2.06-.94 2.06-2.06.94z\"/><path d=\"M17.41 7.96l-1.37-1.37c-.4-.4-.92-.59-1.43-.59-.52 0-1.04.2-1.43.59L10.3 9.45l-7.72 7.72c-.78.78-.78 2.05 0 2.83L4 21.41c.39.39.9.59 1.41.59.51 0 1.02-.2 1.41-.59l7.78-7.78 2.81-2.81c.8-.78.8-2.07 0-2.86zM5.41 20L4 18.59l7.72-7.72 1.47 1.35L5.41 20z\"/>\n",
              "  </svg>\n",
              "      </button>\n",
              "      \n",
              "  <style>\n",
              "    .colab-df-container {\n",
              "      display:flex;\n",
              "      flex-wrap:wrap;\n",
              "      gap: 12px;\n",
              "    }\n",
              "\n",
              "    .colab-df-convert {\n",
              "      background-color: #E8F0FE;\n",
              "      border: none;\n",
              "      border-radius: 50%;\n",
              "      cursor: pointer;\n",
              "      display: none;\n",
              "      fill: #1967D2;\n",
              "      height: 32px;\n",
              "      padding: 0 0 0 0;\n",
              "      width: 32px;\n",
              "    }\n",
              "\n",
              "    .colab-df-convert:hover {\n",
              "      background-color: #E2EBFA;\n",
              "      box-shadow: 0px 1px 2px rgba(60, 64, 67, 0.3), 0px 1px 3px 1px rgba(60, 64, 67, 0.15);\n",
              "      fill: #174EA6;\n",
              "    }\n",
              "\n",
              "    [theme=dark] .colab-df-convert {\n",
              "      background-color: #3B4455;\n",
              "      fill: #D2E3FC;\n",
              "    }\n",
              "\n",
              "    [theme=dark] .colab-df-convert:hover {\n",
              "      background-color: #434B5C;\n",
              "      box-shadow: 0px 1px 3px 1px rgba(0, 0, 0, 0.15);\n",
              "      filter: drop-shadow(0px 1px 2px rgba(0, 0, 0, 0.3));\n",
              "      fill: #FFFFFF;\n",
              "    }\n",
              "  </style>\n",
              "\n",
              "      <script>\n",
              "        const buttonEl =\n",
              "          document.querySelector('#df-c4d45830-cba1-4d7c-90a1-2432e302d792 button.colab-df-convert');\n",
              "        buttonEl.style.display =\n",
              "          google.colab.kernel.accessAllowed ? 'block' : 'none';\n",
              "\n",
              "        async function convertToInteractive(key) {\n",
              "          const element = document.querySelector('#df-c4d45830-cba1-4d7c-90a1-2432e302d792');\n",
              "          const dataTable =\n",
              "            await google.colab.kernel.invokeFunction('convertToInteractive',\n",
              "                                                     [key], {});\n",
              "          if (!dataTable) return;\n",
              "\n",
              "          const docLinkHtml = 'Like what you see? Visit the ' +\n",
              "            '<a target=\"_blank\" href=https://colab.research.google.com/notebooks/data_table.ipynb>data table notebook</a>'\n",
              "            + ' to learn more about interactive tables.';\n",
              "          element.innerHTML = '';\n",
              "          dataTable['output_type'] = 'display_data';\n",
              "          await google.colab.output.renderOutput(dataTable, element);\n",
              "          const docLink = document.createElement('div');\n",
              "          docLink.innerHTML = docLinkHtml;\n",
              "          element.appendChild(docLink);\n",
              "        }\n",
              "      </script>\n",
              "    </div>\n",
              "  </div>\n",
              "  "
            ],
            "text/plain": [
              "      Order        PID  MS SubClass MS Zoning  Lot Frontage  Lot Area Street  \\\n",
              "2926   2926  923275080           80        RL          37.0      7937   Pave   \n",
              "2927   2927  923276100           20        RL          68.0      8885   Pave   \n",
              "2928   2928  923400125           85        RL          62.0     10441   Pave   \n",
              "2929   2929  924100070           20        RL          77.0     10010   Pave   \n",
              "2930   2930  924151050           60        RL          74.0      9627   Pave   \n",
              "\n",
              "     Alley Lot Shape Land Contour  ... Pool Area Pool QC  Fence Misc Feature  \\\n",
              "2926   NaN       IR1          Lvl  ...         0     NaN  GdPrv          NaN   \n",
              "2927   NaN       IR1          Low  ...         0     NaN  MnPrv          NaN   \n",
              "2928   NaN       Reg          Lvl  ...         0     NaN  MnPrv         Shed   \n",
              "2929   NaN       Reg          Lvl  ...         0     NaN    NaN          NaN   \n",
              "2930   NaN       Reg          Lvl  ...         0     NaN    NaN          NaN   \n",
              "\n",
              "     Misc Val Mo Sold Yr Sold Sale Type  Sale Condition  SalePrice  \n",
              "2926        0       3    2006       WD           Normal     142500  \n",
              "2927        0       6    2006       WD           Normal     131000  \n",
              "2928      700       7    2006       WD           Normal     132000  \n",
              "2929        0       4    2006       WD           Normal     170000  \n",
              "2930        0      11    2006       WD           Normal     188000  \n",
              "\n",
              "[5 rows x 82 columns]"
            ]
          },
          "execution_count": 74,
          "metadata": {},
          "output_type": "execute_result"
        }
      ],
      "source": [
        "housing.tail()"
      ]
    },
    {
      "cell_type": "code",
      "execution_count": null,
      "metadata": {
        "colab": {
          "base_uri": "https://localhost:8080/",
          "height": 991
        },
        "id": "qjLDg8C2sCXx",
        "outputId": "5e3fb224-8576-46c2-a424-7cbc1efeb0eb"
      },
      "outputs": [
        {
          "output_type": "error",
          "ename": "ValueError",
          "evalue": "ignored",
          "traceback": [
            "\u001b[0;31m---------------------------------------------------------------------------\u001b[0m",
            "\u001b[0;31mValueError\u001b[0m                                Traceback (most recent call last)",
            "\u001b[0;32m<ipython-input-58-51d461634a4b>\u001b[0m in \u001b[0;36m<cell line: 6>\u001b[0;34m()\u001b[0m\n\u001b[1;32m      4\u001b[0m \u001b[0mhouse\u001b[0m\u001b[0;34m=\u001b[0m\u001b[0mhousing\u001b[0m\u001b[0;34m.\u001b[0m\u001b[0mselect_dtypes\u001b[0m\u001b[0;34m(\u001b[0m\u001b[0minclude\u001b[0m \u001b[0;34m=\u001b[0m \u001b[0;34m[\u001b[0m\u001b[0;34m'float64'\u001b[0m\u001b[0;34m,\u001b[0m \u001b[0;34m'int64'\u001b[0m\u001b[0;34m]\u001b[0m\u001b[0;34m)\u001b[0m\u001b[0;34m\u001b[0m\u001b[0;34m\u001b[0m\u001b[0m\n\u001b[1;32m      5\u001b[0m \u001b[0mimp\u001b[0m\u001b[0;34m=\u001b[0m\u001b[0mSimpleImputer\u001b[0m\u001b[0;34m(\u001b[0m\u001b[0mmissing_values\u001b[0m\u001b[0;34m=\u001b[0m\u001b[0;34m'NaN'\u001b[0m\u001b[0;34m,\u001b[0m\u001b[0mstrategy\u001b[0m \u001b[0;34m=\u001b[0m\u001b[0;34m'median'\u001b[0m\u001b[0;34m)\u001b[0m\u001b[0;34m\u001b[0m\u001b[0;34m\u001b[0m\u001b[0m\n\u001b[0;32m----> 6\u001b[0;31m \u001b[0mimp\u001b[0m\u001b[0;34m=\u001b[0m\u001b[0mimp\u001b[0m\u001b[0;34m.\u001b[0m\u001b[0mfit\u001b[0m\u001b[0;34m(\u001b[0m\u001b[0mhouse\u001b[0m\u001b[0;34m)\u001b[0m\u001b[0;34m\u001b[0m\u001b[0;34m\u001b[0m\u001b[0m\n\u001b[0m\u001b[1;32m      7\u001b[0m \u001b[0mlos\u001b[0m\u001b[0;34m=\u001b[0m\u001b[0mimp\u001b[0m\u001b[0;34m.\u001b[0m\u001b[0mtransform\u001b[0m \u001b[0;34m(\u001b[0m\u001b[0mhouse\u001b[0m\u001b[0;34m)\u001b[0m\u001b[0;34m\u001b[0m\u001b[0;34m\u001b[0m\u001b[0m\n\u001b[1;32m      8\u001b[0m \u001b[0;34m\u001b[0m\u001b[0m\n",
            "\u001b[0;32m/usr/local/lib/python3.10/dist-packages/sklearn/impute/_base.py\u001b[0m in \u001b[0;36mfit\u001b[0;34m(self, X, y)\u001b[0m\n\u001b[1;32m    388\u001b[0m             )\n\u001b[1;32m    389\u001b[0m \u001b[0;34m\u001b[0m\u001b[0m\n\u001b[0;32m--> 390\u001b[0;31m         \u001b[0mX\u001b[0m \u001b[0;34m=\u001b[0m \u001b[0mself\u001b[0m\u001b[0;34m.\u001b[0m\u001b[0m_validate_input\u001b[0m\u001b[0;34m(\u001b[0m\u001b[0mX\u001b[0m\u001b[0;34m,\u001b[0m \u001b[0min_fit\u001b[0m\u001b[0;34m=\u001b[0m\u001b[0;32mTrue\u001b[0m\u001b[0;34m)\u001b[0m\u001b[0;34m\u001b[0m\u001b[0;34m\u001b[0m\u001b[0m\n\u001b[0m\u001b[1;32m    391\u001b[0m \u001b[0;34m\u001b[0m\u001b[0m\n\u001b[1;32m    392\u001b[0m         \u001b[0;31m# default fill_value is 0 for numerical input and \"missing_value\"\u001b[0m\u001b[0;34m\u001b[0m\u001b[0;34m\u001b[0m\u001b[0m\n",
            "\u001b[0;32m/usr/local/lib/python3.10/dist-packages/sklearn/impute/_base.py\u001b[0m in \u001b[0;36m_validate_input\u001b[0;34m(self, X, in_fit)\u001b[0m\n\u001b[1;32m    342\u001b[0m                 \u001b[0;32mraise\u001b[0m \u001b[0mnew_ve\u001b[0m \u001b[0;32mfrom\u001b[0m \u001b[0;32mNone\u001b[0m\u001b[0;34m\u001b[0m\u001b[0;34m\u001b[0m\u001b[0m\n\u001b[1;32m    343\u001b[0m             \u001b[0;32melse\u001b[0m\u001b[0;34m:\u001b[0m\u001b[0;34m\u001b[0m\u001b[0;34m\u001b[0m\u001b[0m\n\u001b[0;32m--> 344\u001b[0;31m                 \u001b[0;32mraise\u001b[0m \u001b[0mve\u001b[0m\u001b[0;34m\u001b[0m\u001b[0;34m\u001b[0m\u001b[0m\n\u001b[0m\u001b[1;32m    345\u001b[0m \u001b[0;34m\u001b[0m\u001b[0m\n\u001b[1;32m    346\u001b[0m         \u001b[0;32mif\u001b[0m \u001b[0min_fit\u001b[0m\u001b[0;34m:\u001b[0m\u001b[0;34m\u001b[0m\u001b[0;34m\u001b[0m\u001b[0m\n",
            "\u001b[0;32m/usr/local/lib/python3.10/dist-packages/sklearn/impute/_base.py\u001b[0m in \u001b[0;36m_validate_input\u001b[0;34m(self, X, in_fit)\u001b[0m\n\u001b[1;32m    325\u001b[0m \u001b[0;34m\u001b[0m\u001b[0m\n\u001b[1;32m    326\u001b[0m         \u001b[0;32mtry\u001b[0m\u001b[0;34m:\u001b[0m\u001b[0;34m\u001b[0m\u001b[0;34m\u001b[0m\u001b[0m\n\u001b[0;32m--> 327\u001b[0;31m             X = self._validate_data(\n\u001b[0m\u001b[1;32m    328\u001b[0m                 \u001b[0mX\u001b[0m\u001b[0;34m,\u001b[0m\u001b[0;34m\u001b[0m\u001b[0;34m\u001b[0m\u001b[0m\n\u001b[1;32m    329\u001b[0m                 \u001b[0mreset\u001b[0m\u001b[0;34m=\u001b[0m\u001b[0min_fit\u001b[0m\u001b[0;34m,\u001b[0m\u001b[0;34m\u001b[0m\u001b[0;34m\u001b[0m\u001b[0m\n",
            "\u001b[0;32m/usr/local/lib/python3.10/dist-packages/sklearn/base.py\u001b[0m in \u001b[0;36m_validate_data\u001b[0;34m(self, X, y, reset, validate_separately, **check_params)\u001b[0m\n\u001b[1;32m    563\u001b[0m             \u001b[0;32mraise\u001b[0m \u001b[0mValueError\u001b[0m\u001b[0;34m(\u001b[0m\u001b[0;34m\"Validation should be done on X, y or both.\"\u001b[0m\u001b[0;34m)\u001b[0m\u001b[0;34m\u001b[0m\u001b[0;34m\u001b[0m\u001b[0m\n\u001b[1;32m    564\u001b[0m         \u001b[0;32melif\u001b[0m \u001b[0;32mnot\u001b[0m \u001b[0mno_val_X\u001b[0m \u001b[0;32mand\u001b[0m \u001b[0mno_val_y\u001b[0m\u001b[0;34m:\u001b[0m\u001b[0;34m\u001b[0m\u001b[0;34m\u001b[0m\u001b[0m\n\u001b[0;32m--> 565\u001b[0;31m             \u001b[0mX\u001b[0m \u001b[0;34m=\u001b[0m \u001b[0mcheck_array\u001b[0m\u001b[0;34m(\u001b[0m\u001b[0mX\u001b[0m\u001b[0;34m,\u001b[0m \u001b[0minput_name\u001b[0m\u001b[0;34m=\u001b[0m\u001b[0;34m\"X\"\u001b[0m\u001b[0;34m,\u001b[0m \u001b[0;34m**\u001b[0m\u001b[0mcheck_params\u001b[0m\u001b[0;34m)\u001b[0m\u001b[0;34m\u001b[0m\u001b[0;34m\u001b[0m\u001b[0m\n\u001b[0m\u001b[1;32m    566\u001b[0m             \u001b[0mout\u001b[0m \u001b[0;34m=\u001b[0m \u001b[0mX\u001b[0m\u001b[0;34m\u001b[0m\u001b[0;34m\u001b[0m\u001b[0m\n\u001b[1;32m    567\u001b[0m         \u001b[0;32melif\u001b[0m \u001b[0mno_val_X\u001b[0m \u001b[0;32mand\u001b[0m \u001b[0;32mnot\u001b[0m \u001b[0mno_val_y\u001b[0m\u001b[0;34m:\u001b[0m\u001b[0;34m\u001b[0m\u001b[0;34m\u001b[0m\u001b[0m\n",
            "\u001b[0;32m/usr/local/lib/python3.10/dist-packages/sklearn/utils/validation.py\u001b[0m in \u001b[0;36mcheck_array\u001b[0;34m(array, accept_sparse, accept_large_sparse, dtype, order, copy, force_all_finite, ensure_2d, allow_nd, ensure_min_samples, ensure_min_features, estimator, input_name)\u001b[0m\n\u001b[1;32m    919\u001b[0m \u001b[0;34m\u001b[0m\u001b[0m\n\u001b[1;32m    920\u001b[0m         \u001b[0;32mif\u001b[0m \u001b[0mforce_all_finite\u001b[0m\u001b[0;34m:\u001b[0m\u001b[0;34m\u001b[0m\u001b[0;34m\u001b[0m\u001b[0m\n\u001b[0;32m--> 921\u001b[0;31m             _assert_all_finite(\n\u001b[0m\u001b[1;32m    922\u001b[0m                 \u001b[0marray\u001b[0m\u001b[0;34m,\u001b[0m\u001b[0;34m\u001b[0m\u001b[0;34m\u001b[0m\u001b[0m\n\u001b[1;32m    923\u001b[0m                 \u001b[0minput_name\u001b[0m\u001b[0;34m=\u001b[0m\u001b[0minput_name\u001b[0m\u001b[0;34m,\u001b[0m\u001b[0;34m\u001b[0m\u001b[0;34m\u001b[0m\u001b[0m\n",
            "\u001b[0;32m/usr/local/lib/python3.10/dist-packages/sklearn/utils/validation.py\u001b[0m in \u001b[0;36m_assert_all_finite\u001b[0;34m(X, allow_nan, msg_dtype, estimator_name, input_name)\u001b[0m\n\u001b[1;32m    159\u001b[0m                 \u001b[0;34m\"#estimators-that-handle-nan-values\"\u001b[0m\u001b[0;34m\u001b[0m\u001b[0;34m\u001b[0m\u001b[0m\n\u001b[1;32m    160\u001b[0m             )\n\u001b[0;32m--> 161\u001b[0;31m         \u001b[0;32mraise\u001b[0m \u001b[0mValueError\u001b[0m\u001b[0;34m(\u001b[0m\u001b[0mmsg_err\u001b[0m\u001b[0;34m)\u001b[0m\u001b[0;34m\u001b[0m\u001b[0;34m\u001b[0m\u001b[0m\n\u001b[0m\u001b[1;32m    162\u001b[0m \u001b[0;34m\u001b[0m\u001b[0m\n\u001b[1;32m    163\u001b[0m \u001b[0;34m\u001b[0m\u001b[0m\n",
            "\u001b[0;31mValueError\u001b[0m: Input X contains NaN.\nSimpleImputer does not accept missing values encoded as NaN natively. For supervised learning, you might want to consider sklearn.ensemble.HistGradientBoostingClassifier and Regressor which accept missing values encoded as NaNs natively. Alternatively, it is possible to preprocess the data, for instance by using an imputer transformer in a pipeline or drop samples with missing values. See https://scikit-learn.org/stable/modules/impute.html You can find a list of all estimators that handle NaN values at the following page: https://scikit-learn.org/stable/modules/impute.html#estimators-that-handle-nan-values"
          ]
        }
      ],
      "source": [
        "\n",
        "\n",
        "\n",
        "from sklearn.impute import SimpleImputer\n",
        "#imp = SimpleImputer(missing_values='NAN', strategy='constant', fill_value=\"work-from-home\")\n",
        "#imp = SimpleImputer(missing_values='NAN', strategy='median', fill_value=None)\n",
        "house=housing.select_dtypes(include = ['float64', 'int64'])\n",
        "imp=SimpleImputer(missing_values='NaN',strategy ='median')\n",
        "imp=imp.fit(house)\n",
        "los=imp.transform (house)\n",
        "\n",
        "#imp = SimpleImputer(missing_values='NAN', strategy='median', fill_value=None)"
      ]
    },
    {
      "cell_type": "markdown",
      "metadata": {
        "id": "ac7e1-X2KscW"
      },
      "source": [
        "Index# 2927, containing a missing value in the \"Lot Frontage\", now has been replaced with the median value.\n"
      ]
    },
    {
      "cell_type": "markdown",
      "metadata": {
        "id": "UCJzKvhjKscY"
      },
      "source": [
        "## Exercise 4\n"
      ]
    },
    {
      "cell_type": "markdown",
      "metadata": {
        "id": "VLi7imbAKscZ"
      },
      "source": [
        "In this exercise, let's look at 'Mas Vnr Area' feature and replace the missing values with the mean value of that column.\n"
      ]
    },
    {
      "cell_type": "code",
      "execution_count": null,
      "metadata": {
        "id": "wFb4xAaDKsca"
      },
      "outputs": [],
      "source": [
        "# Enter your code and run the cell\n",
        "mean=housing['Mas Vnr Area'].mean\n",
        "housing['Mas Vnr Area'].fillna(mean,inplace =True)"
      ]
    },
    {
      "cell_type": "markdown",
      "metadata": {
        "id": "Ja2r5twZKscc"
      },
      "source": [
        "<details>\n",
        "<summary><strong>Solution</strong> (Click Here)</summary>\n",
        "    &emsp; &emsp; <code>\n",
        "mean = housing[\"Mas Vnr Area\"].mean()\n",
        "housing[\"Mas Vnr Area\"].fillna(mean, inplace = True)   \n",
        "</code>\n",
        "</details>\n"
      ]
    },
    {
      "cell_type": "markdown",
      "metadata": {
        "id": "vuhyxqLbKscd"
      },
      "source": [
        "## **Feature Scaling**\n"
      ]
    },
    {
      "cell_type": "markdown",
      "metadata": {
        "id": "G8hnSEqqKscf"
      },
      "source": [
        "One of the most important transformations we need to apply to our data is feature scaling.  There are two common ways to get all attributes to have the same scale: min-max scaling and standardization.\n",
        "\n",
        "Min-max scaling (or normalization) is the simplest: values are shifted and rescaled so they end up ranging from 0 to 1. This is done by subtracting the min value and dividing by the max minus min.\n",
        "\n",
        "Standardization is different: first it subtracts the mean value (so standardized values always have a zero mean), and then it divides by the standard deviation, so that the resulting distribution has unit variance.\n"
      ]
    },
    {
      "cell_type": "markdown",
      "metadata": {
        "id": "xNkUcYsaKscg"
      },
      "source": [
        "Scikit-learn library provides `MinMaxScaler` for normalization and `StandardScaler` for standardization needs. For more information on `scikit-learn` [`MinMaxScaler`](https://scikit-learn.org/stable/modules/generated/sklearn.preprocessing.MinMaxScaler.html?utm_medium=Exinfluencer&utm_source=Exinfluencer&utm_content=000026UJ&utm_term=10006555&utm_id=NA-SkillsNetwork-Channel-SkillsNetworkCoursesIBMML0232ENSkillsNetwork30654641-2022-01-01) and [`StandardScaler`](https://scikit-learn.org/stable/modules/generated/sklearn.preprocessing.StandardScaler.html?utm_medium=Exinfluencer&utm_source=Exinfluencer&utm_content=000026UJ&utm_term=10006555&utm_id=NA-SkillsNetwork-Channel-SkillsNetworkCoursesIBMML0232ENSkillsNetwork30654641-2022-01-01) please visit their respective documentation websites.\n"
      ]
    },
    {
      "cell_type": "markdown",
      "metadata": {
        "id": "pX2lJ-VQKsci"
      },
      "source": [
        "First, we will normalize our data.\n"
      ]
    },
    {
      "cell_type": "code",
      "execution_count": null,
      "metadata": {
        "colab": {
          "base_uri": "https://localhost:8080/"
        },
        "id": "liL3GUb4Kscj",
        "outputId": "78c3d518-6fba-491a-c797-d2465a115432"
      },
      "outputs": [
        {
          "data": {
            "text/plain": [
              "array([[0.00000000e+00, 0.00000000e+00, 0.00000000e+00, ...,\n",
              "        3.63636364e-01, 1.00000000e+00, 2.72444089e-01],\n",
              "       [0.00000000e+00, 0.00000000e+00, 0.00000000e+00, ...,\n",
              "        3.63636364e-01, 1.00000000e+00, 2.72444089e-01],\n",
              "       [3.41413452e-04, 1.01788895e-04, 0.00000000e+00, ...,\n",
              "        4.54545455e-01, 1.00000000e+00, 1.24238256e-01],\n",
              "       ...,\n",
              "       [9.99317173e-01, 8.25914814e-01, 3.82352941e-01, ...,\n",
              "        5.45454545e-01, 0.00000000e+00, 1.60616051e-01],\n",
              "       [9.99658587e-01, 8.27370610e-01, 0.00000000e+00, ...,\n",
              "        2.72727273e-01, 0.00000000e+00, 2.11814430e-01],\n",
              "       [1.00000000e+00, 8.27476641e-01, 2.35294118e-01, ...,\n",
              "        9.09090909e-01, 0.00000000e+00, 2.36066294e-01]])"
            ]
          },
          "execution_count": 59,
          "metadata": {},
          "output_type": "execute_result"
        }
      ],
      "source": [
        "norm_data = MinMaxScaler().fit_transform(hous_num)\n",
        "norm_data"
      ]
    },
    {
      "cell_type": "markdown",
      "metadata": {
        "id": "W3cdR_U7Kscl"
      },
      "source": [
        "Note the data is now a `ndarray`\n"
      ]
    },
    {
      "cell_type": "markdown",
      "metadata": {
        "id": "QiDFQiZCKscm"
      },
      "source": [
        "we can also standardize our data.\n"
      ]
    },
    {
      "cell_type": "code",
      "execution_count": null,
      "metadata": {
        "colab": {
          "base_uri": "https://localhost:8080/"
        },
        "id": "qagp_5vcKscn",
        "outputId": "b2278223-2994-4bda-934f-2cd5ba9b164e"
      },
      "outputs": [
        {
          "data": {
            "text/plain": [
              "array([[-1.73027969, -0.99682434, -0.87674019, ..., -0.44796566,\n",
              "         1.67740664,  0.4281423 ],\n",
              "       [-1.73027969, -0.99682434, -0.87674019, ..., -0.44796566,\n",
              "         1.67740664,  0.4281423 ],\n",
              "       [-1.72909781, -0.99656498, -0.87674019, ..., -0.07945953,\n",
              "         1.67740664, -0.94923488],\n",
              "       ...,\n",
              "       [ 1.729097  ,  1.10758639,  0.64804102, ...,  0.2890466 ,\n",
              "        -1.36026952, -0.61115139],\n",
              "       [ 1.73027889,  1.11129572, -0.87674019, ..., -0.81647179,\n",
              "        -1.36026952, -0.13533019],\n",
              "       [ 1.73146077,  1.11156589,  0.06158671, ...,  1.76307112,\n",
              "        -1.36026952,  0.09005881]])"
            ]
          },
          "execution_count": 60,
          "metadata": {},
          "output_type": "execute_result"
        }
      ],
      "source": [
        "scaled_data = StandardScaler().fit_transform(hous_num)\n",
        "scaled_data"
      ]
    },
    {
      "cell_type": "markdown",
      "metadata": {
        "id": "GmA9bILEKsco"
      },
      "source": [
        "## Exercise 5\n"
      ]
    },
    {
      "cell_type": "markdown",
      "metadata": {
        "id": "QZzBjOuAKscp"
      },
      "source": [
        "In this exercise, use `StandardScaler()` and `fit_transform()` functions to standardize the 'SalePrice' feature only.\n"
      ]
    },
    {
      "cell_type": "code",
      "execution_count": null,
      "metadata": {
        "id": "W2Fgt1QaKscq"
      },
      "outputs": [],
      "source": [
        "# Enter your code and run the cell"
      ]
    },
    {
      "cell_type": "markdown",
      "metadata": {
        "id": "kk65DSD1Kscs"
      },
      "source": [
        "<details>\n",
        "<summary><strong>Solution</strong> (Click Here)</summary>\n",
        "    &emsp; &emsp; <code>\n",
        "scaled_sprice = StandardScaler().fit_transform(housing['SalePrice'][:,np.newaxis])\n",
        "scaled_sprice\n",
        "</code>\n",
        "</details>\n"
      ]
    },
    {
      "cell_type": "markdown",
      "metadata": {
        "id": "FEWdeTjZKsct"
      },
      "source": [
        "## **Handling the Outliers**\n"
      ]
    },
    {
      "cell_type": "markdown",
      "metadata": {
        "id": "0quQ0cftKscu"
      },
      "source": [
        "### Finding the Outliers\n"
      ]
    },
    {
      "cell_type": "markdown",
      "metadata": {
        "id": "Dlfx-d4NKscv"
      },
      "source": [
        "In statistics, an outlier is an observation point that is distant from other observations. An outlier can be due to some mistakes in data collection or recording, or due to natural high variability of data points. How to treat an outlier highly depends on our data or the type of analysis to be performed. Outliers can markedly affect our models and can be a valuable source of information, providing us insights about specific behaviours.\n",
        "\n",
        "There are many ways to discover outliers in our data. We can do Uni-variate analysis (using one variable analysis) or Multi-variate analysis (using two or more variables). One of the simplest ways to detect an outlier is to inspect the data visually, by making box plots or scatter plots.\n"
      ]
    },
    {
      "cell_type": "markdown",
      "metadata": {
        "id": "65_SRJ--Kscw"
      },
      "source": [
        "### Uni-variate Analysis\n"
      ]
    },
    {
      "cell_type": "markdown",
      "metadata": {
        "id": "fLKrP9GSKscx"
      },
      "source": [
        "A box plot is a method for graphically depicting groups of numerical data through their quartiles. Box plots may also have lines extending vertically from the boxes (whiskers) indicating variability outside the upper and lower quartiles. Outliers may be plotted as individual points. To learn more about box plots please click [here](https://pandas.pydata.org/docs/reference/api/pandas.DataFrame.boxplot.html?utm_medium=Exinfluencer&utm_source=Exinfluencer&utm_content=000026UJ&utm_term=10006555&utm_id=NA-SkillsNetwork-Channel-SkillsNetworkCoursesIBMML0232ENSkillsNetwork30654641-2022-01-01).\n"
      ]
    },
    {
      "cell_type": "markdown",
      "metadata": {
        "id": "7PzCUlq1Kscz"
      },
      "source": [
        "Here, we will use a box plot for the 'Lot Area' and the 'SalePrice' features.\n"
      ]
    },
    {
      "cell_type": "code",
      "execution_count": null,
      "metadata": {
        "colab": {
          "base_uri": "https://localhost:8080/",
          "height": 273
        },
        "id": "qA0bBndLKsc0",
        "outputId": "33176fd7-6409-4abb-f3da-d5a941b35094"
      },
      "outputs": [
        {
          "data": {
            "text/plain": [
              "<matplotlib.axes._subplots.AxesSubplot at 0x7fbf75c6c1d0>"
            ]
          },
          "execution_count": 61,
          "metadata": {},
          "output_type": "execute_result"
        },
        {
          "data": {
            "image/png": "[encoded data removed]",
            "text/plain": [
              "<Figure size 432x288 with 1 Axes>"
            ]
          },
          "metadata": {},
          "output_type": "display_data"
        }
      ],
      "source": [
        "sns.boxplot(x=housing['Lot Area'])"
      ]
    },
    {
      "cell_type": "code",
      "execution_count": null,
      "metadata": {
        "colab": {
          "base_uri": "https://localhost:8080/",
          "height": 273
        },
        "id": "zHxgNHloKsc1",
        "outputId": "be1ed056-ff66-408b-d89c-ac67e27daed0"
      },
      "outputs": [
        {
          "data": {
            "text/plain": [
              "<matplotlib.axes._subplots.AxesSubplot at 0x7fbf75f7be10>"
            ]
          },
          "execution_count": 62,
          "metadata": {},
          "output_type": "execute_result"
        },
        {
          "data": {
            "image/png": "[encoded data removed]",
            "text/plain": [
              "<Figure size 432x288 with 1 Axes>"
            ]
          },
          "metadata": {},
          "output_type": "display_data"
        }
      ],
      "source": [
        "sns.boxplot(x=housing['SalePrice'])"
      ]
    },
    {
      "cell_type": "markdown",
      "metadata": {
        "id": "BaaMoaFAKsc3"
      },
      "source": [
        "As we can see from these two plots, we have some points that are plotted outside the box plot area and that greatly deviate from the rest of the population. Whether to remove or keep them will greatly depend on the understanding of our data and the type of analysis to be performed. In this case, the points that are outside of our box plots in the 'Lot Area' and the 'Sale Price' might be the actual true data points and do not need to be removed.\n"
      ]
    },
    {
      "cell_type": "markdown",
      "metadata": {
        "id": "XoNjEeZwKsc4"
      },
      "source": [
        "### Bi-variate Analysis\n"
      ]
    },
    {
      "cell_type": "markdown",
      "metadata": {
        "id": "iKVFCz6bKsc5"
      },
      "source": [
        "Next, we will look at the bi-variate analysis of the two features, the sale price, 'SalePrice', and the ground living area, 'GrLivArea', and plot the scatter plot of the relationship between these two parameters.\n"
      ]
    },
    {
      "cell_type": "code",
      "execution_count": null,
      "metadata": {
        "colab": {
          "base_uri": "https://localhost:8080/",
          "height": 225
        },
        "id": "BeHw8zudKsc6",
        "outputId": "2341d8f2-983c-445f-f93b-66983d074c2f"
      },
      "outputs": [
        {
          "data": {
            "image/png": "[encoded data removed]",
            "text/plain": [
              "<Figure size 432x288 with 1 Axes>"
            ]
          },
          "metadata": {},
          "output_type": "display_data"
        }
      ],
      "source": [
        "price_area = housing.plot.scatter(x='Gr Liv Area',\n",
        "                      y='SalePrice')"
      ]
    },
    {
      "cell_type": "markdown",
      "metadata": {
        "id": "hlK6sETaKsc7"
      },
      "source": [
        "From the above graph, there are two values above 5000 sq. ft. living area that deviate from the rest of the population and do not seem to follow the trend. It can be speculated why this is happening but for the purpose of this lab we can delete them.\n",
        "\n",
        "The other two observations on the top are also deviating from the rest of the points but they also seem to be following the trend, so, perhaps, they can be kept.\n"
      ]
    },
    {
      "cell_type": "markdown",
      "metadata": {
        "id": "6hwJJRziKsc8"
      },
      "source": [
        "### Deleting the Outliers\n"
      ]
    },
    {
      "cell_type": "markdown",
      "metadata": {
        "id": "n2CRh9R7Ksc-"
      },
      "source": [
        "First, we will sort all of our 'Gr Liv Area' values and select only the last two.\n"
      ]
    },
    {
      "cell_type": "code",
      "execution_count": null,
      "metadata": {
        "colab": {
          "base_uri": "https://localhost:8080/",
          "height": 223
        },
        "id": "qyEYJca5Ksc_",
        "outputId": "afe1a813-528f-4244-dd26-23da70472e4f"
      },
      "outputs": [
        {
          "data": {
            "text/html": [
              "\n",
              "  <div id=\"df-08aa0d02-446d-4db7-b64d-97746bcb3293\">\n",
              "    <div class=\"colab-df-container\">\n",
              "      <div>\n",
              "<style scoped>\n",
              "    .dataframe tbody tr th:only-of-type {\n",
              "        vertical-align: middle;\n",
              "    }\n",
              "\n",
              "    .dataframe tbody tr th {\n",
              "        vertical-align: top;\n",
              "    }\n",
              "\n",
              "    .dataframe thead th {\n",
              "        text-align: right;\n",
              "    }\n",
              "</style>\n",
              "<table border=\"1\" class=\"dataframe\">\n",
              "  <thead>\n",
              "    <tr style=\"text-align: right;\">\n",
              "      <th></th>\n",
              "      <th>Order</th>\n",
              "      <th>PID</th>\n",
              "      <th>MS SubClass</th>\n",
              "      <th>MS Zoning</th>\n",
              "      <th>Lot Frontage</th>\n",
              "      <th>Lot Area</th>\n",
              "      <th>Street</th>\n",
              "      <th>Alley</th>\n",
              "      <th>Lot Shape</th>\n",
              "      <th>Land Contour</th>\n",
              "      <th>...</th>\n",
              "      <th>Pool Area</th>\n",
              "      <th>Pool QC</th>\n",
              "      <th>Fence</th>\n",
              "      <th>Misc Feature</th>\n",
              "      <th>Misc Val</th>\n",
              "      <th>Mo Sold</th>\n",
              "      <th>Yr Sold</th>\n",
              "      <th>Sale Type</th>\n",
              "      <th>Sale Condition</th>\n",
              "      <th>SalePrice</th>\n",
              "    </tr>\n",
              "  </thead>\n",
              "  <tbody>\n",
              "    <tr>\n",
              "      <th>1499</th>\n",
              "      <td>1499</td>\n",
              "      <td>908154235</td>\n",
              "      <td>60</td>\n",
              "      <td>RL</td>\n",
              "      <td>313.0</td>\n",
              "      <td>63887</td>\n",
              "      <td>Pave</td>\n",
              "      <td>NaN</td>\n",
              "      <td>IR3</td>\n",
              "      <td>Bnk</td>\n",
              "      <td>...</td>\n",
              "      <td>480</td>\n",
              "      <td>Gd</td>\n",
              "      <td>NaN</td>\n",
              "      <td>NaN</td>\n",
              "      <td>0</td>\n",
              "      <td>1</td>\n",
              "      <td>2008</td>\n",
              "      <td>New</td>\n",
              "      <td>Partial</td>\n",
              "      <td>160000</td>\n",
              "    </tr>\n",
              "    <tr>\n",
              "      <th>2181</th>\n",
              "      <td>2181</td>\n",
              "      <td>908154195</td>\n",
              "      <td>20</td>\n",
              "      <td>RL</td>\n",
              "      <td>128.0</td>\n",
              "      <td>39290</td>\n",
              "      <td>Pave</td>\n",
              "      <td>NaN</td>\n",
              "      <td>IR1</td>\n",
              "      <td>Bnk</td>\n",
              "      <td>...</td>\n",
              "      <td>0</td>\n",
              "      <td>NaN</td>\n",
              "      <td>NaN</td>\n",
              "      <td>Elev</td>\n",
              "      <td>17000</td>\n",
              "      <td>10</td>\n",
              "      <td>2007</td>\n",
              "      <td>New</td>\n",
              "      <td>Partial</td>\n",
              "      <td>183850</td>\n",
              "    </tr>\n",
              "  </tbody>\n",
              "</table>\n",
              "<p>2 rows × 82 columns</p>\n",
              "</div>\n",
              "      <button class=\"colab-df-convert\" onclick=\"convertToInteractive('df-08aa0d02-446d-4db7-b64d-97746bcb3293')\"\n",
              "              title=\"Convert this dataframe to an interactive table.\"\n",
              "              style=\"display:none;\">\n",
              "        \n",
              "  <svg xmlns=\"http://www.w3.org/2000/svg\" height=\"24px\"viewBox=\"0 0 24 24\"\n",
              "       width=\"24px\">\n",
              "    <path d=\"M0 0h24v24H0V0z\" fill=\"none\"/>\n",
              "    <path d=\"M18.56 5.44l.94 2.06.94-2.06 2.06-.94-2.06-.94-.94-2.06-.94 2.06-2.06.94zm-11 1L8.5 8.5l.94-2.06 2.06-.94-2.06-.94L8.5 2.5l-.94 2.06-2.06.94zm10 10l.94 2.06.94-2.06 2.06-.94-2.06-.94-.94-2.06-.94 2.06-2.06.94z\"/><path d=\"M17.41 7.96l-1.37-1.37c-.4-.4-.92-.59-1.43-.59-.52 0-1.04.2-1.43.59L10.3 9.45l-7.72 7.72c-.78.78-.78 2.05 0 2.83L4 21.41c.39.39.9.59 1.41.59.51 0 1.02-.2 1.41-.59l7.78-7.78 2.81-2.81c.8-.78.8-2.07 0-2.86zM5.41 20L4 18.59l7.72-7.72 1.47 1.35L5.41 20z\"/>\n",
              "  </svg>\n",
              "      </button>\n",
              "      \n",
              "  <style>\n",
              "    .colab-df-container {\n",
              "      display:flex;\n",
              "      flex-wrap:wrap;\n",
              "      gap: 12px;\n",
              "    }\n",
              "\n",
              "    .colab-df-convert {\n",
              "      background-color: #E8F0FE;\n",
              "      border: none;\n",
              "      border-radius: 50%;\n",
              "      cursor: pointer;\n",
              "      display: none;\n",
              "      fill: #1967D2;\n",
              "      height: 32px;\n",
              "      padding: 0 0 0 0;\n",
              "      width: 32px;\n",
              "    }\n",
              "\n",
              "    .colab-df-convert:hover {\n",
              "      background-color: #E2EBFA;\n",
              "      box-shadow: 0px 1px 2px rgba(60, 64, 67, 0.3), 0px 1px 3px 1px rgba(60, 64, 67, 0.15);\n",
              "      fill: #174EA6;\n",
              "    }\n",
              "\n",
              "    [theme=dark] .colab-df-convert {\n",
              "      background-color: #3B4455;\n",
              "      fill: #D2E3FC;\n",
              "    }\n",
              "\n",
              "    [theme=dark] .colab-df-convert:hover {\n",
              "      background-color: #434B5C;\n",
              "      box-shadow: 0px 1px 3px 1px rgba(0, 0, 0, 0.15);\n",
              "      filter: drop-shadow(0px 1px 2px rgba(0, 0, 0, 0.3));\n",
              "      fill: #FFFFFF;\n",
              "    }\n",
              "  </style>\n",
              "\n",
              "      <script>\n",
              "        const buttonEl =\n",
              "          document.querySelector('#df-08aa0d02-446d-4db7-b64d-97746bcb3293 button.colab-df-convert');\n",
              "        buttonEl.style.display =\n",
              "          google.colab.kernel.accessAllowed ? 'block' : 'none';\n",
              "\n",
              "        async function convertToInteractive(key) {\n",
              "          const element = document.querySelector('#df-08aa0d02-446d-4db7-b64d-97746bcb3293');\n",
              "          const dataTable =\n",
              "            await google.colab.kernel.invokeFunction('convertToInteractive',\n",
              "                                                     [key], {});\n",
              "          if (!dataTable) return;\n",
              "\n",
              "          const docLinkHtml = 'Like what you see? Visit the ' +\n",
              "            '<a target=\"_blank\" href=https://colab.research.google.com/notebooks/data_table.ipynb>data table notebook</a>'\n",
              "            + ' to learn more about interactive tables.';\n",
              "          element.innerHTML = '';\n",
              "          dataTable['output_type'] = 'display_data';\n",
              "          await google.colab.output.renderOutput(dataTable, element);\n",
              "          const docLink = document.createElement('div');\n",
              "          docLink.innerHTML = docLinkHtml;\n",
              "          element.appendChild(docLink);\n",
              "        }\n",
              "      </script>\n",
              "    </div>\n",
              "  </div>\n",
              "  "
            ],
            "text/plain": [
              "      Order        PID  MS SubClass MS Zoning  Lot Frontage  Lot Area Street  \\\n",
              "1499   1499  908154235           60        RL         313.0     63887   Pave   \n",
              "2181   2181  908154195           20        RL         128.0     39290   Pave   \n",
              "\n",
              "     Alley Lot Shape Land Contour  ... Pool Area Pool QC Fence Misc Feature  \\\n",
              "1499   NaN       IR3          Bnk  ...       480      Gd   NaN          NaN   \n",
              "2181   NaN       IR1          Bnk  ...         0     NaN   NaN         Elev   \n",
              "\n",
              "     Misc Val Mo Sold Yr Sold Sale Type  Sale Condition  SalePrice  \n",
              "1499        0       1    2008       New         Partial     160000  \n",
              "2181    17000      10    2007       New         Partial     183850  \n",
              "\n",
              "[2 rows x 82 columns]"
            ]
          },
          "execution_count": 77,
          "metadata": {},
          "output_type": "execute_result"
        }
      ],
      "source": [
        "housing.sort_values(by = 'Gr Liv Area', ascending = False)[:2]"
      ]
    },
    {
      "cell_type": "markdown",
      "metadata": {
        "id": "n9_CfLqDKsdA"
      },
      "source": [
        "Now we will use the pandas `drop()` function to remove these two rows.\n"
      ]
    },
    {
      "cell_type": "code",
      "execution_count": null,
      "metadata": {
        "id": "CC2ktBkwKsdB"
      },
      "outputs": [],
      "source": [
        "outliers_dropped = housing.drop(housing.index[[1499,2181]])"
      ]
    },
    {
      "cell_type": "code",
      "execution_count": null,
      "metadata": {
        "colab": {
          "base_uri": "https://localhost:8080/",
          "height": 191
        },
        "id": "RXwMvTBxKsdC",
        "outputId": "b8c3840b-b95f-4903-bc7a-3e497d3dff4e"
      },
      "outputs": [
        {
          "data": {
            "image/png": "[encoded data removed]",
            "text/plain": [
              "<Figure size 432x288 with 1 Axes>"
            ]
          },
          "metadata": {},
          "output_type": "display_data"
        }
      ],
      "source": [
        "new_plot = outliers_dropped.plot.scatter(x='Gr Liv Area',\n",
        "                                         y='SalePrice')"
      ]
    },
    {
      "cell_type": "markdown",
      "metadata": {
        "id": "KaWfs4iVKsdE"
      },
      "source": [
        "As you can see, we do not have the last two points of the 'Gr Liv Area' anymore.\n"
      ]
    },
    {
      "cell_type": "markdown",
      "metadata": {
        "id": "q7KEZ_dsKsdF"
      },
      "source": [
        "## Exercise 6\n"
      ]
    },
    {
      "cell_type": "markdown",
      "metadata": {
        "id": "1I0r0sF7KsdG"
      },
      "source": [
        "In this exercise, determine whether there are any outliers in the 'Lot Area' feature. You can either plot the box plot for the 'Lot Area', perform a bi-variate analysis by making a scatter plot between the 'SalePrice' and the 'Lot Area', or use the Z-score analysis. If there re any outliers, remove them from the dataset.\n"
      ]
    },
    {
      "cell_type": "code",
      "execution_count": null,
      "metadata": {
        "colab": {
          "base_uri": "https://localhost:8080/",
          "height": 465
        },
        "id": "1WSlQIuQKsdI",
        "outputId": "e6b5eb4e-63a5-464d-f44e-35ccbe35e2da"
      },
      "outputs": [
        {
          "data": {
            "image/png": "[encoded data removed]",
            "text/plain": [
              "<Figure size 432x288 with 1 Axes>"
            ]
          },
          "metadata": {},
          "output_type": "display_data"
        },
        {
          "data": {
            "image/png": "[encoded data removed]",
            "text/plain": [
              "<Figure size 432x288 with 1 Axes>"
            ]
          },
          "metadata": {},
          "output_type": "display_data"
        }
      ],
      "source": [
        "# Enter your code and run the cell\n",
        "sns.boxplot(x=housing['Lot Area'])\n",
        "price_lot = housing.plot.scatter(x='Lot Area', y='SalePrice')\n",
        "housing['Lot_Area_Stats'] = stats.zscore(housing['Lot Area'])\n",
        "housing[['Lot Area','Lot_Area_Stats']].describe().round(3)\n",
        "housing.sort_values(by = 'Lot Area', ascending = False)[:1]\n",
        "lot_area_rem = housing.drop(housing.index[[957]])"
      ]
    },
    {
      "cell_type": "markdown",
      "metadata": {
        "id": "UfWmW4jmKsdJ"
      },
      "source": [
        "<details>\n",
        "<summary><strong>Solution</strong> (Click Here)</summary>\n",
        "    &emsp; &emsp; <code>\n",
        "sns.boxplot(x=housing['Lot Area'])\n",
        "price_lot = housing.plot.scatter(x='Lot Area', y='SalePrice')   \n",
        "housing['Lot_Area_Stats'] = stats.zscore(housing['Lot Area'])\n",
        "housing[['Lot Area','Lot_Area_Stats']].describe().round(3)\n",
        "housing.sort_values(by = 'Lot Area', ascending = False)[:1]\n",
        "lot_area_rem = housing.drop(housing.index[[957]])\n",
        "</code>\n",
        "</details>\n"
      ]
    },
    {
      "cell_type": "markdown",
      "metadata": {
        "id": "2_ET47ioKsdL"
      },
      "source": [
        "<details>\n",
        "<summary><strong>Answer</strong> (Click Here)</summary>\n",
        "    &emsp; &emsp; <code>\n",
        "There seems to be one outlier, the very last point in the 'Lot Area' is too far from the rest of the group. Also, according to the Z-score, the standard deviation of that point exceeds the threshhold of 3.\n",
        "</code>\n",
        "</details>\n"
      ]
    },
    {
      "cell_type": "markdown",
      "metadata": {
        "id": "Fjy7hjoDKsdM"
      },
      "source": [
        "## Z-score Analysis\n"
      ]
    },
    {
      "cell_type": "markdown",
      "metadata": {
        "id": "D79hbRNCKsdN"
      },
      "source": [
        "Z-score is another way to identify outliers mathematically. Z-score is the signed number of standard deviations by which the value of an observation or data point is above the mean value of what is being observed or measured. In another words, Z-score is the value that quantifies relationship between a data point and a standard deviation and mean values of a group of points. Data points which are too far from zero will be treated as the outliers. In most of the cases, a threshold of 3 or -3 is used. For example, if the Z-score value is greater than or less than 3 or -3 standard deviations respectively, that data point will be identified as a outlier.\n",
        "\n",
        "To learn more about Z-score, please visit this [Wikipedia](https://en.wikipedia.org/wiki/Standard_score?utm_medium=Exinfluencer&utm_source=Exinfluencer&utm_content=000026UJ&utm_term=10006555&utm_id=NA-SkillsNetwork-Channel-SkillsNetworkCoursesIBMML0232ENSkillsNetwork30654641-2022-01-01) site.\n"
      ]
    },
    {
      "cell_type": "markdown",
      "metadata": {
        "id": "1awP6iGeKsdO"
      },
      "source": [
        "Below, we are using Z-score function from `scipy` library to detect the outliers in our 'Low Qual Fin SF' parameter. To learn more about `scipy.stats`, please visit this [link](https://docs.scipy.org/doc/scipy/reference/tutorial/stats.html?utm_medium=Exinfluencer&utm_source=Exinfluencer&utm_content=000026UJ&utm_term=10006555&utm_id=NA-SkillsNetwork-Channel-SkillsNetworkCoursesIBMML0232ENSkillsNetwork30654641-2022-01-01).\n"
      ]
    },
    {
      "cell_type": "code",
      "execution_count": null,
      "metadata": {
        "colab": {
          "base_uri": "https://localhost:8080/",
          "height": 344
        },
        "id": "yESmK6D3KsdQ",
        "outputId": "7cf32d22-6d1b-4cc9-d16a-2916294c4380"
      },
      "outputs": [
        {
          "data": {
            "text/html": [
              "\n",
              "  <div id=\"df-7fb75ac3-5734-460f-b433-af9d7c758743\">\n",
              "    <div class=\"colab-df-container\">\n",
              "      <div>\n",
              "<style scoped>\n",
              "    .dataframe tbody tr th:only-of-type {\n",
              "        vertical-align: middle;\n",
              "    }\n",
              "\n",
              "    .dataframe tbody tr th {\n",
              "        vertical-align: top;\n",
              "    }\n",
              "\n",
              "    .dataframe thead th {\n",
              "        text-align: right;\n",
              "    }\n",
              "</style>\n",
              "<table border=\"1\" class=\"dataframe\">\n",
              "  <thead>\n",
              "    <tr style=\"text-align: right;\">\n",
              "      <th></th>\n",
              "      <th>Low Qual Fin SF</th>\n",
              "      <th>LQFSF_Stats</th>\n",
              "    </tr>\n",
              "  </thead>\n",
              "  <tbody>\n",
              "    <tr>\n",
              "      <th>count</th>\n",
              "      <td>2931.000</td>\n",
              "      <td>2931.000</td>\n",
              "    </tr>\n",
              "    <tr>\n",
              "      <th>mean</th>\n",
              "      <td>4.675</td>\n",
              "      <td>-0.000</td>\n",
              "    </tr>\n",
              "    <tr>\n",
              "      <th>std</th>\n",
              "      <td>46.303</td>\n",
              "      <td>1.000</td>\n",
              "    </tr>\n",
              "    <tr>\n",
              "      <th>min</th>\n",
              "      <td>0.000</td>\n",
              "      <td>-0.101</td>\n",
              "    </tr>\n",
              "    <tr>\n",
              "      <th>25%</th>\n",
              "      <td>0.000</td>\n",
              "      <td>-0.101</td>\n",
              "    </tr>\n",
              "    <tr>\n",
              "      <th>50%</th>\n",
              "      <td>0.000</td>\n",
              "      <td>-0.101</td>\n",
              "    </tr>\n",
              "    <tr>\n",
              "      <th>75%</th>\n",
              "      <td>0.000</td>\n",
              "      <td>-0.101</td>\n",
              "    </tr>\n",
              "    <tr>\n",
              "      <th>max</th>\n",
              "      <td>1064.000</td>\n",
              "      <td>22.882</td>\n",
              "    </tr>\n",
              "  </tbody>\n",
              "</table>\n",
              "</div>\n",
              "      <button class=\"colab-df-convert\" onclick=\"convertToInteractive('df-7fb75ac3-5734-460f-b433-af9d7c758743')\"\n",
              "              title=\"Convert this dataframe to an interactive table.\"\n",
              "              style=\"display:none;\">\n",
              "        \n",
              "  <svg xmlns=\"http://www.w3.org/2000/svg\" height=\"24px\"viewBox=\"0 0 24 24\"\n",
              "       width=\"24px\">\n",
              "    <path d=\"M0 0h24v24H0V0z\" fill=\"none\"/>\n",
              "    <path d=\"M18.56 5.44l.94 2.06.94-2.06 2.06-.94-2.06-.94-.94-2.06-.94 2.06-2.06.94zm-11 1L8.5 8.5l.94-2.06 2.06-.94-2.06-.94L8.5 2.5l-.94 2.06-2.06.94zm10 10l.94 2.06.94-2.06 2.06-.94-2.06-.94-.94-2.06-.94 2.06-2.06.94z\"/><path d=\"M17.41 7.96l-1.37-1.37c-.4-.4-.92-.59-1.43-.59-.52 0-1.04.2-1.43.59L10.3 9.45l-7.72 7.72c-.78.78-.78 2.05 0 2.83L4 21.41c.39.39.9.59 1.41.59.51 0 1.02-.2 1.41-.59l7.78-7.78 2.81-2.81c.8-.78.8-2.07 0-2.86zM5.41 20L4 18.59l7.72-7.72 1.47 1.35L5.41 20z\"/>\n",
              "  </svg>\n",
              "      </button>\n",
              "      \n",
              "  <style>\n",
              "    .colab-df-container {\n",
              "      display:flex;\n",
              "      flex-wrap:wrap;\n",
              "      gap: 12px;\n",
              "    }\n",
              "\n",
              "    .colab-df-convert {\n",
              "      background-color: #E8F0FE;\n",
              "      border: none;\n",
              "      border-radius: 50%;\n",
              "      cursor: pointer;\n",
              "      display: none;\n",
              "      fill: #1967D2;\n",
              "      height: 32px;\n",
              "      padding: 0 0 0 0;\n",
              "      width: 32px;\n",
              "    }\n",
              "\n",
              "    .colab-df-convert:hover {\n",
              "      background-color: #E2EBFA;\n",
              "      box-shadow: 0px 1px 2px rgba(60, 64, 67, 0.3), 0px 1px 3px 1px rgba(60, 64, 67, 0.15);\n",
              "      fill: #174EA6;\n",
              "    }\n",
              "\n",
              "    [theme=dark] .colab-df-convert {\n",
              "      background-color: #3B4455;\n",
              "      fill: #D2E3FC;\n",
              "    }\n",
              "\n",
              "    [theme=dark] .colab-df-convert:hover {\n",
              "      background-color: #434B5C;\n",
              "      box-shadow: 0px 1px 3px 1px rgba(0, 0, 0, 0.15);\n",
              "      filter: drop-shadow(0px 1px 2px rgba(0, 0, 0, 0.3));\n",
              "      fill: #FFFFFF;\n",
              "    }\n",
              "  </style>\n",
              "\n",
              "      <script>\n",
              "        const buttonEl =\n",
              "          document.querySelector('#df-7fb75ac3-5734-460f-b433-af9d7c758743 button.colab-df-convert');\n",
              "        buttonEl.style.display =\n",
              "          google.colab.kernel.accessAllowed ? 'block' : 'none';\n",
              "\n",
              "        async function convertToInteractive(key) {\n",
              "          const element = document.querySelector('#df-7fb75ac3-5734-460f-b433-af9d7c758743');\n",
              "          const dataTable =\n",
              "            await google.colab.kernel.invokeFunction('convertToInteractive',\n",
              "                                                     [key], {});\n",
              "          if (!dataTable) return;\n",
              "\n",
              "          const docLinkHtml = 'Like what you see? Visit the ' +\n",
              "            '<a target=\"_blank\" href=https://colab.research.google.com/notebooks/data_table.ipynb>data table notebook</a>'\n",
              "            + ' to learn more about interactive tables.';\n",
              "          element.innerHTML = '';\n",
              "          dataTable['output_type'] = 'display_data';\n",
              "          await google.colab.output.renderOutput(dataTable, element);\n",
              "          const docLink = document.createElement('div');\n",
              "          docLink.innerHTML = docLinkHtml;\n",
              "          element.appendChild(docLink);\n",
              "        }\n",
              "      </script>\n",
              "    </div>\n",
              "  </div>\n",
              "  "
            ],
            "text/plain": [
              "       Low Qual Fin SF  LQFSF_Stats\n",
              "count         2931.000     2931.000\n",
              "mean             4.675       -0.000\n",
              "std             46.303        1.000\n",
              "min              0.000       -0.101\n",
              "25%              0.000       -0.101\n",
              "50%              0.000       -0.101\n",
              "75%              0.000       -0.101\n",
              "max           1064.000       22.882"
            ]
          },
          "execution_count": 81,
          "metadata": {},
          "output_type": "execute_result"
        }
      ],
      "source": [
        "housing['LQFSF_Stats'] = stats.zscore(housing['Low Qual Fin SF'])\n",
        "housing[['Low Qual Fin SF','LQFSF_Stats']].describe().round(3)"
      ]
    },
    {
      "cell_type": "markdown",
      "metadata": {
        "id": "RTQMsW3CKsdR"
      },
      "source": [
        "The scaled results show a mean of 0.000 and a standard deviation of 1.000, indicating that the transformed values fit the z-scale model. The max value of 22.882 is further proof of the presence of outliers, as it falls well above the z-score limit of +3.\n"
      ]
    },
    {
      "cell_type": "markdown",
      "metadata": {
        "id": "UF1agiIfKsdS"
      },
      "source": [
        "# Congratulations! - You have completed the lab\n"
      ]
    },
    {
      "cell_type": "markdown",
      "metadata": {
        "id": "3JekV0ciKsdT"
      },
      "source": [
        "## Author\n"
      ]
    },
    {
      "cell_type": "markdown",
      "metadata": {
        "id": "q6pCR3S8KsdV"
      },
      "source": [
        "[Svitlana Kramar](https://www.linkedin.com/in/svitlana-kramar?utm_medium=Exinfluencer&utm_source=Exinfluencer&utm_content=000026UJ&utm_term=10006555&utm_id=NA-SkillsNetwork-Channel-SkillsNetworkCoursesIBMML0232ENSkillsNetwork30654641-2022-01-01)\n"
      ]
    },
    {
      "cell_type": "markdown",
      "metadata": {
        "id": "PXrlcqtaKsdW"
      },
      "source": [
        "## Change Log\n"
      ]
    },
    {
      "cell_type": "code",
      "execution_count": null,
      "metadata": {
        "colab": {
          "base_uri": "https://localhost:8080/",
          "height": 766
        },
        "id": "WJYtRqsZMHBs",
        "outputId": "da4d810b-d0ce-4ef2-f897-d1ed90289530"
      },
      "outputs": [
        {
          "ename": "AttributeError",
          "evalue": "ignored",
          "output_type": "error",
          "traceback": [
            "\u001b[0;31m---------------------------------------------------------------------------\u001b[0m",
            "\u001b[0;31mAttributeError\u001b[0m                            Traceback (most recent call last)",
            "\u001b[0;32m<ipython-input-6-db0aa89e0c7a>\u001b[0m in \u001b[0;36m<module>\u001b[0;34m\u001b[0m\n\u001b[1;32m      6\u001b[0m \u001b[0mdata\u001b[0m \u001b[0;34m=\u001b[0m \u001b[0mpd\u001b[0m\u001b[0;34m.\u001b[0m\u001b[0mDataFrame\u001b[0m\u001b[0;34m(\u001b[0m\u001b[0mdata\u001b[0m\u001b[0;34m,\u001b[0m \u001b[0mcolumns\u001b[0m\u001b[0;34m=\u001b[0m\u001b[0;34m[\u001b[0m\u001b[0;34m'x'\u001b[0m\u001b[0;34m,\u001b[0m \u001b[0;34m'y'\u001b[0m\u001b[0;34m]\u001b[0m\u001b[0;34m)\u001b[0m\u001b[0;34m\u001b[0m\u001b[0;34m\u001b[0m\u001b[0m\n\u001b[1;32m      7\u001b[0m \u001b[0;32mfor\u001b[0m \u001b[0mcol\u001b[0m \u001b[0;32min\u001b[0m \u001b[0;34m'xy'\u001b[0m\u001b[0;34m:\u001b[0m\u001b[0;34m\u001b[0m\u001b[0;34m\u001b[0m\u001b[0m\n\u001b[0;32m----> 8\u001b[0;31m     \u001b[0mplt\u001b[0m\u001b[0;34m.\u001b[0m\u001b[0mhist\u001b[0m\u001b[0;34m(\u001b[0m\u001b[0mdata\u001b[0m\u001b[0;34m[\u001b[0m\u001b[0mcol\u001b[0m\u001b[0;34m]\u001b[0m\u001b[0;34m,\u001b[0m \u001b[0mnormed\u001b[0m\u001b[0;34m=\u001b[0m\u001b[0;32mTrue\u001b[0m\u001b[0;34m,\u001b[0m \u001b[0malpha\u001b[0m\u001b[0;34m=\u001b[0m\u001b[0;36m1\u001b[0m\u001b[0;34m)\u001b[0m\u001b[0;34m\u001b[0m\u001b[0;34m\u001b[0m\u001b[0m\n\u001b[0m",
            "\u001b[0;32m/usr/local/lib/python3.7/dist-packages/matplotlib/pyplot.py\u001b[0m in \u001b[0;36mhist\u001b[0;34m(x, bins, range, density, weights, cumulative, bottom, histtype, align, orientation, rwidth, log, color, label, stacked, data, **kwargs)\u001b[0m\n\u001b[1;32m   2608\u001b[0m         \u001b[0malign\u001b[0m\u001b[0;34m=\u001b[0m\u001b[0malign\u001b[0m\u001b[0;34m,\u001b[0m \u001b[0morientation\u001b[0m\u001b[0;34m=\u001b[0m\u001b[0morientation\u001b[0m\u001b[0;34m,\u001b[0m \u001b[0mrwidth\u001b[0m\u001b[0;34m=\u001b[0m\u001b[0mrwidth\u001b[0m\u001b[0;34m,\u001b[0m \u001b[0mlog\u001b[0m\u001b[0;34m=\u001b[0m\u001b[0mlog\u001b[0m\u001b[0;34m,\u001b[0m\u001b[0;34m\u001b[0m\u001b[0;34m\u001b[0m\u001b[0m\n\u001b[1;32m   2609\u001b[0m         color=color, label=label, stacked=stacked, **({\"data\": data}\n\u001b[0;32m-> 2610\u001b[0;31m         if data is not None else {}), **kwargs)\n\u001b[0m\u001b[1;32m   2611\u001b[0m \u001b[0;34m\u001b[0m\u001b[0m\n\u001b[1;32m   2612\u001b[0m \u001b[0;34m\u001b[0m\u001b[0m\n",
            "\u001b[0;32m/usr/local/lib/python3.7/dist-packages/matplotlib/__init__.py\u001b[0m in \u001b[0;36minner\u001b[0;34m(ax, data, *args, **kwargs)\u001b[0m\n\u001b[1;32m   1563\u001b[0m     \u001b[0;32mdef\u001b[0m \u001b[0minner\u001b[0m\u001b[0;34m(\u001b[0m\u001b[0max\u001b[0m\u001b[0;34m,\u001b[0m \u001b[0;34m*\u001b[0m\u001b[0margs\u001b[0m\u001b[0;34m,\u001b[0m \u001b[0mdata\u001b[0m\u001b[0;34m=\u001b[0m\u001b[0;32mNone\u001b[0m\u001b[0;34m,\u001b[0m \u001b[0;34m**\u001b[0m\u001b[0mkwargs\u001b[0m\u001b[0;34m)\u001b[0m\u001b[0;34m:\u001b[0m\u001b[0;34m\u001b[0m\u001b[0;34m\u001b[0m\u001b[0m\n\u001b[1;32m   1564\u001b[0m         \u001b[0;32mif\u001b[0m \u001b[0mdata\u001b[0m \u001b[0;32mis\u001b[0m \u001b[0;32mNone\u001b[0m\u001b[0;34m:\u001b[0m\u001b[0;34m\u001b[0m\u001b[0;34m\u001b[0m\u001b[0m\n\u001b[0;32m-> 1565\u001b[0;31m             \u001b[0;32mreturn\u001b[0m \u001b[0mfunc\u001b[0m\u001b[0;34m(\u001b[0m\u001b[0max\u001b[0m\u001b[0;34m,\u001b[0m \u001b[0;34m*\u001b[0m\u001b[0mmap\u001b[0m\u001b[0;34m(\u001b[0m\u001b[0msanitize_sequence\u001b[0m\u001b[0;34m,\u001b[0m \u001b[0margs\u001b[0m\u001b[0;34m)\u001b[0m\u001b[0;34m,\u001b[0m \u001b[0;34m**\u001b[0m\u001b[0mkwargs\u001b[0m\u001b[0;34m)\u001b[0m\u001b[0;34m\u001b[0m\u001b[0;34m\u001b[0m\u001b[0m\n\u001b[0m\u001b[1;32m   1566\u001b[0m \u001b[0;34m\u001b[0m\u001b[0m\n\u001b[1;32m   1567\u001b[0m         \u001b[0mbound\u001b[0m \u001b[0;34m=\u001b[0m \u001b[0mnew_sig\u001b[0m\u001b[0;34m.\u001b[0m\u001b[0mbind\u001b[0m\u001b[0;34m(\u001b[0m\u001b[0max\u001b[0m\u001b[0;34m,\u001b[0m \u001b[0;34m*\u001b[0m\u001b[0margs\u001b[0m\u001b[0;34m,\u001b[0m \u001b[0;34m**\u001b[0m\u001b[0mkwargs\u001b[0m\u001b[0;34m)\u001b[0m\u001b[0;34m\u001b[0m\u001b[0;34m\u001b[0m\u001b[0m\n",
            "\u001b[0;32m/usr/local/lib/python3.7/dist-packages/matplotlib/axes/_axes.py\u001b[0m in \u001b[0;36mhist\u001b[0;34m(self, x, bins, range, density, weights, cumulative, bottom, histtype, align, orientation, rwidth, log, color, label, stacked, **kwargs)\u001b[0m\n\u001b[1;32m   6817\u001b[0m             \u001b[0;32mif\u001b[0m \u001b[0mpatch\u001b[0m\u001b[0;34m:\u001b[0m\u001b[0;34m\u001b[0m\u001b[0;34m\u001b[0m\u001b[0m\n\u001b[1;32m   6818\u001b[0m                 \u001b[0mp\u001b[0m \u001b[0;34m=\u001b[0m \u001b[0mpatch\u001b[0m\u001b[0;34m[\u001b[0m\u001b[0;36m0\u001b[0m\u001b[0;34m]\u001b[0m\u001b[0;34m\u001b[0m\u001b[0;34m\u001b[0m\u001b[0m\n\u001b[0;32m-> 6819\u001b[0;31m                 \u001b[0mp\u001b[0m\u001b[0;34m.\u001b[0m\u001b[0mupdate\u001b[0m\u001b[0;34m(\u001b[0m\u001b[0mkwargs\u001b[0m\u001b[0;34m)\u001b[0m\u001b[0;34m\u001b[0m\u001b[0;34m\u001b[0m\u001b[0m\n\u001b[0m\u001b[1;32m   6820\u001b[0m                 \u001b[0;32mif\u001b[0m \u001b[0mlbl\u001b[0m \u001b[0;32mis\u001b[0m \u001b[0;32mnot\u001b[0m \u001b[0;32mNone\u001b[0m\u001b[0;34m:\u001b[0m\u001b[0;34m\u001b[0m\u001b[0;34m\u001b[0m\u001b[0m\n\u001b[1;32m   6821\u001b[0m                     \u001b[0mp\u001b[0m\u001b[0;34m.\u001b[0m\u001b[0mset_label\u001b[0m\u001b[0;34m(\u001b[0m\u001b[0mlbl\u001b[0m\u001b[0;34m)\u001b[0m\u001b[0;34m\u001b[0m\u001b[0;34m\u001b[0m\u001b[0m\n",
            "\u001b[0;32m/usr/local/lib/python3.7/dist-packages/matplotlib/artist.py\u001b[0m in \u001b[0;36mupdate\u001b[0;34m(self, props)\u001b[0m\n\u001b[1;32m   1004\u001b[0m \u001b[0;34m\u001b[0m\u001b[0m\n\u001b[1;32m   1005\u001b[0m         \u001b[0;32mwith\u001b[0m \u001b[0mcbook\u001b[0m\u001b[0;34m.\u001b[0m\u001b[0m_setattr_cm\u001b[0m\u001b[0;34m(\u001b[0m\u001b[0mself\u001b[0m\u001b[0;34m,\u001b[0m \u001b[0meventson\u001b[0m\u001b[0;34m=\u001b[0m\u001b[0;32mFalse\u001b[0m\u001b[0;34m)\u001b[0m\u001b[0;34m:\u001b[0m\u001b[0;34m\u001b[0m\u001b[0;34m\u001b[0m\u001b[0m\n\u001b[0;32m-> 1006\u001b[0;31m             \u001b[0mret\u001b[0m \u001b[0;34m=\u001b[0m \u001b[0;34m[\u001b[0m\u001b[0m_update_property\u001b[0m\u001b[0;34m(\u001b[0m\u001b[0mself\u001b[0m\u001b[0;34m,\u001b[0m \u001b[0mk\u001b[0m\u001b[0;34m,\u001b[0m \u001b[0mv\u001b[0m\u001b[0;34m)\u001b[0m \u001b[0;32mfor\u001b[0m \u001b[0mk\u001b[0m\u001b[0;34m,\u001b[0m \u001b[0mv\u001b[0m \u001b[0;32min\u001b[0m \u001b[0mprops\u001b[0m\u001b[0;34m.\u001b[0m\u001b[0mitems\u001b[0m\u001b[0;34m(\u001b[0m\u001b[0;34m)\u001b[0m\u001b[0;34m]\u001b[0m\u001b[0;34m\u001b[0m\u001b[0;34m\u001b[0m\u001b[0m\n\u001b[0m\u001b[1;32m   1007\u001b[0m \u001b[0;34m\u001b[0m\u001b[0m\n\u001b[1;32m   1008\u001b[0m         \u001b[0;32mif\u001b[0m \u001b[0mlen\u001b[0m\u001b[0;34m(\u001b[0m\u001b[0mret\u001b[0m\u001b[0;34m)\u001b[0m\u001b[0;34m:\u001b[0m\u001b[0;34m\u001b[0m\u001b[0;34m\u001b[0m\u001b[0m\n",
            "\u001b[0;32m/usr/local/lib/python3.7/dist-packages/matplotlib/artist.py\u001b[0m in \u001b[0;36m<listcomp>\u001b[0;34m(.0)\u001b[0m\n\u001b[1;32m   1004\u001b[0m \u001b[0;34m\u001b[0m\u001b[0m\n\u001b[1;32m   1005\u001b[0m         \u001b[0;32mwith\u001b[0m \u001b[0mcbook\u001b[0m\u001b[0;34m.\u001b[0m\u001b[0m_setattr_cm\u001b[0m\u001b[0;34m(\u001b[0m\u001b[0mself\u001b[0m\u001b[0;34m,\u001b[0m \u001b[0meventson\u001b[0m\u001b[0;34m=\u001b[0m\u001b[0;32mFalse\u001b[0m\u001b[0;34m)\u001b[0m\u001b[0;34m:\u001b[0m\u001b[0;34m\u001b[0m\u001b[0;34m\u001b[0m\u001b[0m\n\u001b[0;32m-> 1006\u001b[0;31m             \u001b[0mret\u001b[0m \u001b[0;34m=\u001b[0m \u001b[0;34m[\u001b[0m\u001b[0m_update_property\u001b[0m\u001b[0;34m(\u001b[0m\u001b[0mself\u001b[0m\u001b[0;34m,\u001b[0m \u001b[0mk\u001b[0m\u001b[0;34m,\u001b[0m \u001b[0mv\u001b[0m\u001b[0;34m)\u001b[0m \u001b[0;32mfor\u001b[0m \u001b[0mk\u001b[0m\u001b[0;34m,\u001b[0m \u001b[0mv\u001b[0m \u001b[0;32min\u001b[0m \u001b[0mprops\u001b[0m\u001b[0;34m.\u001b[0m\u001b[0mitems\u001b[0m\u001b[0;34m(\u001b[0m\u001b[0;34m)\u001b[0m\u001b[0;34m]\u001b[0m\u001b[0;34m\u001b[0m\u001b[0;34m\u001b[0m\u001b[0m\n\u001b[0m\u001b[1;32m   1007\u001b[0m \u001b[0;34m\u001b[0m\u001b[0m\n\u001b[1;32m   1008\u001b[0m         \u001b[0;32mif\u001b[0m \u001b[0mlen\u001b[0m\u001b[0;34m(\u001b[0m\u001b[0mret\u001b[0m\u001b[0;34m)\u001b[0m\u001b[0;34m:\u001b[0m\u001b[0;34m\u001b[0m\u001b[0;34m\u001b[0m\u001b[0m\n",
            "\u001b[0;32m/usr/local/lib/python3.7/dist-packages/matplotlib/artist.py\u001b[0m in \u001b[0;36m_update_property\u001b[0;34m(self, k, v)\u001b[0m\n\u001b[1;32m   1000\u001b[0m                 \u001b[0;32mif\u001b[0m \u001b[0;32mnot\u001b[0m \u001b[0mcallable\u001b[0m\u001b[0;34m(\u001b[0m\u001b[0mfunc\u001b[0m\u001b[0;34m)\u001b[0m\u001b[0;34m:\u001b[0m\u001b[0;34m\u001b[0m\u001b[0;34m\u001b[0m\u001b[0m\n\u001b[1;32m   1001\u001b[0m                     raise AttributeError('{!r} object has no property {!r}'\n\u001b[0;32m-> 1002\u001b[0;31m                                          .format(type(self).__name__, k))\n\u001b[0m\u001b[1;32m   1003\u001b[0m                 \u001b[0;32mreturn\u001b[0m \u001b[0mfunc\u001b[0m\u001b[0;34m(\u001b[0m\u001b[0mv\u001b[0m\u001b[0;34m)\u001b[0m\u001b[0;34m\u001b[0m\u001b[0;34m\u001b[0m\u001b[0m\n\u001b[1;32m   1004\u001b[0m \u001b[0;34m\u001b[0m\u001b[0m\n",
            "\u001b[0;31mAttributeError\u001b[0m: 'Rectangle' object has no property 'normed'"
          ]
        },
        {
          "data": {
            "image/png": "[encoded data removed]",
            "text/plain": [
              "<Figure size 432x288 with 1 Axes>"
            ]
          },
          "metadata": {},
          "output_type": "display_data"
        }
      ],
      "source": [
        "\n",
        "import matplotlib.pyplot as plt\n",
        "import pandas as pd\n",
        "import numpy as np\n",
        "\n",
        "data = np.random.multivariate_normal([0, 0], [[5, 2], [2, 2]], size=2000)\n",
        "data = pd.DataFrame(data, columns=['x', 'y'])\n",
        "for col in 'xy':\n",
        "    plt.hist(data[col], normed=True, alpha=1)"
      ]
    },
    {
      "cell_type": "code",
      "execution_count": null,
      "metadata": {
        "id": "oMyXWZr_MIpT"
      },
      "outputs": [],
      "source": []
    },
    {
      "cell_type": "markdown",
      "metadata": {
        "id": "GOlw3z9CKsdX"
      },
      "source": [
        "| Date (YYYY-MM-DD) | Version | Changed By | Change Description                   |\n",
        "| ----------------- | ------- | ---------- | ------------------------------------ |\n",
        "| 2021-11-30        | 0.1     | Svitlana   | Added the Log Transformation section |\n",
        "| 2022-01-18        | 0.2     | Svitlana   | Added the Introduction               |\n"
      ]
    }
  ],
  "metadata": {
    "colab": {
      "provenance": [],
      "include_colab_link": true
    },
    "kernelspec": {
      "display_name": "Python",
      "language": "python",
      "name": "conda-env-python-py"
    },
    "language_info": {
      "codemirror_mode": {
        "name": "ipython",
        "version": 3
      },
      "file_extension": ".py",
      "mimetype": "text/x-python",
      "name": "python",
      "nbconvert_exporter": "python",
      "pygments_lexer": "ipython3",
      "version": "3.7.12"
    }
  },
  "nbformat": 4,
  "nbformat_minor": 0
}